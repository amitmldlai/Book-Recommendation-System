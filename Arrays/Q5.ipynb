{
  "nbformat": 4,
  "nbformat_minor": 0,
  "metadata": {
    "colab": {
      "provenance": [],
      "collapsed_sections": [],
      "authorship_tag": "ABX9TyPdKewuyIkLEkLd/++blyU+",
      "include_colab_link": true
    },
    "kernelspec": {
      "name": "python3",
      "display_name": "Python 3"
    },
    "language_info": {
      "name": "python"
    }
  },
  "cells": [
    {
      "cell_type": "markdown",
      "metadata": {
        "id": "view-in-github",
        "colab_type": "text"
      },
      "source": [
        "<a href=\"https://colab.research.google.com/github/amitmldlai/Book-Recommendation-System/blob/main/Arrays/Q5.ipynb\" target=\"_parent\"><img src=\"https://colab.research.google.com/assets/colab-badge.svg\" alt=\"Open In Colab\"/></a>"
      ]
    },
    {
      "cell_type": "markdown",
      "source": [
        "Given a sorted array of n distinct elements.\n",
        "\n",
        "Find any 2 elements(a, b) such that a+b>k \n",
        "\n",
        "If no such elements return null\n"
      ],
      "metadata": {
        "id": "ElwkXkhqLTSK"
      }
    },
    {
      "cell_type": "markdown",
      "source": [
        "Sol:\n",
        "\n",
        "Since the array is sorted we can take advantage of it."
      ],
      "metadata": {
        "id": "lMdqj0RsQAxM"
      }
    },
    {
      "cell_type": "code",
      "execution_count": 1,
      "metadata": {
        "id": "wpZVAMGuLSwO"
      },
      "outputs": [],
      "source": [
        "def find_elements(arr, start, end, k):\n",
        "  if arr[end]+arr[end-1]>k:\n",
        "    return arr[end-1], arr[end]\n",
        "  else:\n",
        "    return 'Null'"
      ]
    },
    {
      "cell_type": "code",
      "source": [
        "arr = [-1, 3, 4, 5, 6, 7, 8]\n",
        "end = len(arr)-1\n",
        "find_elements(arr, start=0, end=end, k=16)"
      ],
      "metadata": {
        "colab": {
          "base_uri": "https://localhost:8080/",
          "height": 36
        },
        "id": "3vmUzURgM189",
        "outputId": "33447143-9ee8-48de-87ce-1b606eb93bc0"
      },
      "execution_count": 2,
      "outputs": [
        {
          "output_type": "execute_result",
          "data": {
            "text/plain": [
              "'Null'"
            ],
            "application/vnd.google.colaboratory.intrinsic+json": {
              "type": "string"
            }
          },
          "metadata": {},
          "execution_count": 2
        }
      ]
    },
    {
      "cell_type": "code",
      "source": [
        "arr = [-1, 3, 4, 5, 6, 7, 8]\n",
        "end = len(arr)-1\n",
        "find_elements(arr, start=0, end=end, k=7)"
      ],
      "metadata": {
        "colab": {
          "base_uri": "https://localhost:8080/"
        },
        "id": "iQLZwJwMRuMI",
        "outputId": "fbfef7b3-dd6f-404d-fd3a-96432bca8bb9"
      },
      "execution_count": 3,
      "outputs": [
        {
          "output_type": "execute_result",
          "data": {
            "text/plain": [
              "(7, 8)"
            ]
          },
          "metadata": {},
          "execution_count": 3
        }
      ]
    },
    {
      "cell_type": "code",
      "source": [
        "arr = [-1, 3, 4, 5, 6, 7, 8]\n",
        "end = len(arr)-1\n",
        "find_elements(arr, start=0, end=end, k=10)"
      ],
      "metadata": {
        "colab": {
          "base_uri": "https://localhost:8080/"
        },
        "id": "gK5N-wyCR8bv",
        "outputId": "803742e6-6774-43eb-a564-41ba20497543"
      },
      "execution_count": 4,
      "outputs": [
        {
          "output_type": "execute_result",
          "data": {
            "text/plain": [
              "(7, 8)"
            ]
          },
          "metadata": {},
          "execution_count": 4
        }
      ]
    },
    {
      "cell_type": "markdown",
      "source": [
        "\n",
        "\n",
        "* Time complexity = O(1), space compelxity = O(1)\n",
        "\n",
        "\n"
      ],
      "metadata": {
        "id": "EkOLub76UtEF"
      }
    }
  ]
}