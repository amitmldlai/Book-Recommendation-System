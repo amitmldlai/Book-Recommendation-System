{
  "cells": [
    {
      "cell_type": "markdown",
      "metadata": {
        "id": "qP1ZDcEMAiTK"
      },
      "source": [
        "## **Imports**"
      ]
    },
    {
      "cell_type": "code",
      "execution_count": 2,
      "metadata": {
        "id": "aNq3Z7wIBfkl"
      },
      "outputs": [],
      "source": [
        "import pandas as pd\n",
        "import numpy as np\n",
        "import matplotlib.pyplot as plt\n",
        "import seaborn as sns\n",
        "import warnings\n",
        "warnings.filterwarnings('ignore')\n",
        "import gzip\n",
        "import json\n",
        "import re\n",
        "import os\n",
        "from tqdm import tqdm\n",
        "import requests\n",
        "from io import BytesIO\n",
        "from pickle import dump, load\n",
        "from bs4 import BeautifulSoup\n",
        "from sklearn.feature_extraction.text import TfidfVectorizer\n",
        "from sklearn.metrics.pairwise import cosine_similarity\n",
        "from sklearn.preprocessing import MinMaxScaler\n",
        "from sklearn.linear_model import LogisticRegression\n",
        "from sklearn.tree import DecisionTreeClassifier, DecisionTreeRegressor\n",
        "from sklearn.ensemble import RandomForestClassifier\n",
        "from sklearn.multiclass import OneVsRestClassifier\n",
        "from sklearn.model_selection import GridSearchCV\n",
        "from sklearn.metrics import precision_score, mean_squared_error\n",
        "from sklearn.model_selection import train_test_split\n",
        "from sklearn.metrics import plot_confusion_matrix\n",
        "from sklearn import preprocessing\n",
        "from sklearn.metrics import pairwise_distances\n",
        "import scipy.sparse\n",
        "from scipy.sparse import hstack\n",
        "from scipy import stats\n",
        "from scipy.sparse import coo_matrix\n",
        "from surprise import Reader, Dataset\n",
        "from surprise import SVD, model_selection, accuracy\n",
        "from PIL import Image\n",
        "from tensorflow.keras.preprocessing.image import load_img\n",
        "from tensorflow.keras.preprocessing.image import img_to_array\n",
        "from tensorflow.keras.applications.vgg16 import preprocess_input\n",
        "from tensorflow.keras.applications.vgg16 import VGG16\n",
        "from tensorflow.keras.models import Model"
      ]
    },
    {
      "cell_type": "markdown",
      "metadata": {
        "id": "f7UfPIveYOnd"
      },
      "source": [
        "## **Data content in user and book .gz file**"
      ]
    },
    {
      "cell_type": "code",
      "execution_count": null,
      "metadata": {
        "colab": {
          "base_uri": "https://localhost:8080/"
        },
        "id": "Ie_u88IPW1zy",
        "outputId": "6fc2ab11-ea0c-4d18-e8a4-9cc0333cf46f"
      },
      "outputs": [
        {
          "data": {
            "text/plain": [
              "{'book_id': '24375664',\n",
              " 'date_added': 'Fri Aug 25 13:55:02 -0700 2017',\n",
              " 'date_updated': 'Mon Oct 09 08:55:59 -0700 2017',\n",
              " 'n_comments': 0,\n",
              " 'n_votes': 16,\n",
              " 'rating': 5,\n",
              " 'read_at': 'Sat Oct 07 00:00:00 -0700 2017',\n",
              " 'review_id': '5cd416f3efc3f944fce4ce2db2290d5e',\n",
              " 'review_text': \"Mind blowingly cool. Best science fiction I've read in some time. I just loved all the descriptions of the society of the future - how they lived in trees, the notion of owning property or even getting married was gone. How every surface was a screen. \\n The undulations of how society responds to the Trisolaran threat seem surprising to me. Maybe its more the Chinese perspective, but I wouldn't have thought the ETO would exist in book 1, and I wouldn't have thought people would get so over-confident in our primitive fleet's chances given you have to think that with superior science they would have weapons - and defenses - that would just be as rifles to arrows once were. \\n But the moment when Luo Ji won as a wallfacer was just too cool. I may have actually done a fist pump. Though by the way, if the Dark Forest theory is right - and I see no reason why it wouldn't be - we as a society should probably stop broadcasting so much signal out into the universe.\",\n",
              " 'started_at': 'Sat Aug 26 00:00:00 -0700 2017',\n",
              " 'user_id': '8842281e1d1347389f2ab93d60773d4d'}"
            ]
          },
          "execution_count": 6,
          "metadata": {},
          "output_type": "execute_result"
        }
      ],
      "source": [
        "with gzip.open('/content/goodreads_reviews_dedup.json.gz') as f:\n",
        "  line = f.readline()\n",
        "json.loads(line)  "
      ]
    },
    {
      "cell_type": "code",
      "execution_count": null,
      "metadata": {
        "colab": {
          "base_uri": "https://localhost:8080/"
        },
        "id": "bsEB6ZBBL9k5",
        "outputId": "0d105595-864a-402a-85e1-c91e39c0a61e"
      },
      "outputs": [
        {
          "data": {
            "text/plain": [
              "{'asin': '',\n",
              " 'authors': [{'author_id': '604031', 'role': ''}],\n",
              " 'average_rating': '4.00',\n",
              " 'book_id': '5333265',\n",
              " 'country_code': 'US',\n",
              " 'description': '',\n",
              " 'edition_information': '',\n",
              " 'format': 'Paperback',\n",
              " 'image_url': 'https://images.gr-assets.com/books/1310220028m/5333265.jpg',\n",
              " 'is_ebook': 'false',\n",
              " 'isbn': '0312853122',\n",
              " 'isbn13': '9780312853129',\n",
              " 'kindle_asin': '',\n",
              " 'language_code': '',\n",
              " 'link': 'https://www.goodreads.com/book/show/5333265-w-c-fields',\n",
              " 'num_pages': '256',\n",
              " 'popular_shelves': [{'count': '3', 'name': 'to-read'},\n",
              "  {'count': '1', 'name': 'p'},\n",
              "  {'count': '1', 'name': 'collection'},\n",
              "  {'count': '1', 'name': 'w-c-fields'},\n",
              "  {'count': '1', 'name': 'biography'}],\n",
              " 'publication_day': '1',\n",
              " 'publication_month': '9',\n",
              " 'publication_year': '1984',\n",
              " 'publisher': \"St. Martin's Press\",\n",
              " 'ratings_count': '3',\n",
              " 'series': [],\n",
              " 'similar_books': [],\n",
              " 'text_reviews_count': '1',\n",
              " 'title': 'W.C. Fields: A Life on Film',\n",
              " 'title_without_series': 'W.C. Fields: A Life on Film',\n",
              " 'url': 'https://www.goodreads.com/book/show/5333265-w-c-fields',\n",
              " 'work_id': '5400751'}"
            ]
          },
          "execution_count": 7,
          "metadata": {},
          "output_type": "execute_result"
        }
      ],
      "source": [
        "with gzip.open('/content/goodreads_books.json.gz', 'r') as f:\n",
        "  line = f.readline()\n",
        "json.loads(line)  "
      ]
    },
    {
      "cell_type": "markdown",
      "metadata": {
        "id": "uascNgh74N5y"
      },
      "source": [
        "## **Parsers**"
      ]
    },
    {
      "cell_type": "code",
      "execution_count": null,
      "metadata": {
        "id": "8fgipLoIMTM6"
      },
      "outputs": [],
      "source": [
        "def user_parser(line):\n",
        "  data = {\n",
        "      'book_id': line['book_id'],\n",
        "      'user_id': line['user_id'],\n",
        "      'review_text': line['review_text'],\n",
        "      'n_votes': line['n_votes'],\n",
        "      'user_rating': line['rating']\n",
        "  } \n",
        "  return data\n",
        "\n",
        "def book_parser(line):\n",
        "  data = {\n",
        "      'book_id': line['book_id'],\n",
        "      'title_without_series': line['title_without_series'],\n",
        "      'book_description': line['description'],\n",
        "      'publication_year': line['publication_year'],\n",
        "      'publisher': line['publisher'],\n",
        "      'ratings_count': line['ratings_count'],\n",
        "      'book_average_rating': line['average_rating'],\n",
        "      'cover_page': line['image_url'],\n",
        "      'book_url': line['url'],\n",
        "      'is_ebook': line['is_ebook'],\n",
        "      'num_pages': line['num_pages'],\n",
        "  }\n",
        "  return data"
      ]
    },
    {
      "cell_type": "markdown",
      "metadata": {
        "id": "HC_Zha8e4Tva"
      },
      "source": [
        "## **Books csv**"
      ]
    },
    {
      "cell_type": "code",
      "execution_count": null,
      "metadata": {
        "id": "tCo70FW10CYC"
      },
      "outputs": [],
      "source": [
        "books = list()\n",
        "with gzip.open('/content/goodreads_books.json.gz', 'r') as f:\n",
        "  while True:\n",
        "    line = f.readline()\n",
        "    if not line:\n",
        "      break\n",
        "    book = book_parser(json.loads(line))\n",
        "    try:\n",
        "      if int(book['ratings_count'])>15:\n",
        "        books.append(book)\n",
        "    except Exception:\n",
        "      continue    \n",
        "\n",
        "df_books = pd.DataFrame.from_dict(books)\n",
        "df_books.to_csv('df_books.csv.gz', index=False, compression='gzip')      "
      ]
    },
    {
      "cell_type": "code",
      "execution_count": null,
      "metadata": {
        "colab": {
          "base_uri": "https://localhost:8080/"
        },
        "id": "FrF3hLn8cACe",
        "outputId": "d2810d92-acdc-453b-b501-dad1acf43c47"
      },
      "outputs": [
        {
          "output_type": "execute_result",
          "data": {
            "text/plain": [
              "   book_id                               title_without_series  \\\n",
              "0  7327624  The Unschooled Wizard (Sun Wolf and Starhawk, ...   \n",
              "1  6066819                               Best Friends Forever   \n",
              "2   287141                      The Aeneid for Boys and Girls   \n",
              "\n",
              "                                    book_description  publication_year  \\\n",
              "0  Omnibus book club edition containing the Ladie...            1987.0   \n",
              "1  Addie Downs and Valerie Adler were eight when ...            2009.0   \n",
              "2  Relates in vigorous prose the tale of Aeneas, ...            2006.0   \n",
              "\n",
              "                publisher  ratings_count  book_average_rating  \\\n",
              "0  Nelson Doubleday, Inc.            140                 4.03   \n",
              "1             Atria Books          51184                 3.49   \n",
              "2    Yesterday's Classics             46                 4.13   \n",
              "\n",
              "                                          cover_page  \\\n",
              "0  https://images.gr-assets.com/books/1304100136m...   \n",
              "1  https://s.gr-assets.com/assets/nophoto/book/11...   \n",
              "2  https://s.gr-assets.com/assets/nophoto/book/11...   \n",
              "\n",
              "                                            book_url  is_ebook  num_pages  \n",
              "0  https://www.goodreads.com/book/show/7327624-th...     False      600.0  \n",
              "1  https://www.goodreads.com/book/show/6066819-be...     False      368.0  \n",
              "2  https://www.goodreads.com/book/show/287141.The...     False      162.0  "
            ],
            "text/html": [
              "\n",
              "  <div id=\"df-af7cc852-2c4d-4f68-9783-6f68e6141e32\">\n",
              "    <div class=\"colab-df-container\">\n",
              "      <div>\n",
              "<style scoped>\n",
              "    .dataframe tbody tr th:only-of-type {\n",
              "        vertical-align: middle;\n",
              "    }\n",
              "\n",
              "    .dataframe tbody tr th {\n",
              "        vertical-align: top;\n",
              "    }\n",
              "\n",
              "    .dataframe thead th {\n",
              "        text-align: right;\n",
              "    }\n",
              "</style>\n",
              "<table border=\"1\" class=\"dataframe\">\n",
              "  <thead>\n",
              "    <tr style=\"text-align: right;\">\n",
              "      <th></th>\n",
              "      <th>book_id</th>\n",
              "      <th>title_without_series</th>\n",
              "      <th>book_description</th>\n",
              "      <th>publication_year</th>\n",
              "      <th>publisher</th>\n",
              "      <th>ratings_count</th>\n",
              "      <th>book_average_rating</th>\n",
              "      <th>cover_page</th>\n",
              "      <th>book_url</th>\n",
              "      <th>is_ebook</th>\n",
              "      <th>num_pages</th>\n",
              "    </tr>\n",
              "  </thead>\n",
              "  <tbody>\n",
              "    <tr>\n",
              "      <th>0</th>\n",
              "      <td>7327624</td>\n",
              "      <td>The Unschooled Wizard (Sun Wolf and Starhawk, ...</td>\n",
              "      <td>Omnibus book club edition containing the Ladie...</td>\n",
              "      <td>1987.0</td>\n",
              "      <td>Nelson Doubleday, Inc.</td>\n",
              "      <td>140</td>\n",
              "      <td>4.03</td>\n",
              "      <td>https://images.gr-assets.com/books/1304100136m...</td>\n",
              "      <td>https://www.goodreads.com/book/show/7327624-th...</td>\n",
              "      <td>False</td>\n",
              "      <td>600.0</td>\n",
              "    </tr>\n",
              "    <tr>\n",
              "      <th>1</th>\n",
              "      <td>6066819</td>\n",
              "      <td>Best Friends Forever</td>\n",
              "      <td>Addie Downs and Valerie Adler were eight when ...</td>\n",
              "      <td>2009.0</td>\n",
              "      <td>Atria Books</td>\n",
              "      <td>51184</td>\n",
              "      <td>3.49</td>\n",
              "      <td>https://s.gr-assets.com/assets/nophoto/book/11...</td>\n",
              "      <td>https://www.goodreads.com/book/show/6066819-be...</td>\n",
              "      <td>False</td>\n",
              "      <td>368.0</td>\n",
              "    </tr>\n",
              "    <tr>\n",
              "      <th>2</th>\n",
              "      <td>287141</td>\n",
              "      <td>The Aeneid for Boys and Girls</td>\n",
              "      <td>Relates in vigorous prose the tale of Aeneas, ...</td>\n",
              "      <td>2006.0</td>\n",
              "      <td>Yesterday's Classics</td>\n",
              "      <td>46</td>\n",
              "      <td>4.13</td>\n",
              "      <td>https://s.gr-assets.com/assets/nophoto/book/11...</td>\n",
              "      <td>https://www.goodreads.com/book/show/287141.The...</td>\n",
              "      <td>False</td>\n",
              "      <td>162.0</td>\n",
              "    </tr>\n",
              "  </tbody>\n",
              "</table>\n",
              "</div>\n",
              "      <button class=\"colab-df-convert\" onclick=\"convertToInteractive('df-af7cc852-2c4d-4f68-9783-6f68e6141e32')\"\n",
              "              title=\"Convert this dataframe to an interactive table.\"\n",
              "              style=\"display:none;\">\n",
              "        \n",
              "  <svg xmlns=\"http://www.w3.org/2000/svg\" height=\"24px\"viewBox=\"0 0 24 24\"\n",
              "       width=\"24px\">\n",
              "    <path d=\"M0 0h24v24H0V0z\" fill=\"none\"/>\n",
              "    <path d=\"M18.56 5.44l.94 2.06.94-2.06 2.06-.94-2.06-.94-.94-2.06-.94 2.06-2.06.94zm-11 1L8.5 8.5l.94-2.06 2.06-.94-2.06-.94L8.5 2.5l-.94 2.06-2.06.94zm10 10l.94 2.06.94-2.06 2.06-.94-2.06-.94-.94-2.06-.94 2.06-2.06.94z\"/><path d=\"M17.41 7.96l-1.37-1.37c-.4-.4-.92-.59-1.43-.59-.52 0-1.04.2-1.43.59L10.3 9.45l-7.72 7.72c-.78.78-.78 2.05 0 2.83L4 21.41c.39.39.9.59 1.41.59.51 0 1.02-.2 1.41-.59l7.78-7.78 2.81-2.81c.8-.78.8-2.07 0-2.86zM5.41 20L4 18.59l7.72-7.72 1.47 1.35L5.41 20z\"/>\n",
              "  </svg>\n",
              "      </button>\n",
              "      \n",
              "  <style>\n",
              "    .colab-df-container {\n",
              "      display:flex;\n",
              "      flex-wrap:wrap;\n",
              "      gap: 12px;\n",
              "    }\n",
              "\n",
              "    .colab-df-convert {\n",
              "      background-color: #E8F0FE;\n",
              "      border: none;\n",
              "      border-radius: 50%;\n",
              "      cursor: pointer;\n",
              "      display: none;\n",
              "      fill: #1967D2;\n",
              "      height: 32px;\n",
              "      padding: 0 0 0 0;\n",
              "      width: 32px;\n",
              "    }\n",
              "\n",
              "    .colab-df-convert:hover {\n",
              "      background-color: #E2EBFA;\n",
              "      box-shadow: 0px 1px 2px rgba(60, 64, 67, 0.3), 0px 1px 3px 1px rgba(60, 64, 67, 0.15);\n",
              "      fill: #174EA6;\n",
              "    }\n",
              "\n",
              "    [theme=dark] .colab-df-convert {\n",
              "      background-color: #3B4455;\n",
              "      fill: #D2E3FC;\n",
              "    }\n",
              "\n",
              "    [theme=dark] .colab-df-convert:hover {\n",
              "      background-color: #434B5C;\n",
              "      box-shadow: 0px 1px 3px 1px rgba(0, 0, 0, 0.15);\n",
              "      filter: drop-shadow(0px 1px 2px rgba(0, 0, 0, 0.3));\n",
              "      fill: #FFFFFF;\n",
              "    }\n",
              "  </style>\n",
              "\n",
              "      <script>\n",
              "        const buttonEl =\n",
              "          document.querySelector('#df-af7cc852-2c4d-4f68-9783-6f68e6141e32 button.colab-df-convert');\n",
              "        buttonEl.style.display =\n",
              "          google.colab.kernel.accessAllowed ? 'block' : 'none';\n",
              "\n",
              "        async function convertToInteractive(key) {\n",
              "          const element = document.querySelector('#df-af7cc852-2c4d-4f68-9783-6f68e6141e32');\n",
              "          const dataTable =\n",
              "            await google.colab.kernel.invokeFunction('convertToInteractive',\n",
              "                                                     [key], {});\n",
              "          if (!dataTable) return;\n",
              "\n",
              "          const docLinkHtml = 'Like what you see? Visit the ' +\n",
              "            '<a target=\"_blank\" href=https://colab.research.google.com/notebooks/data_table.ipynb>data table notebook</a>'\n",
              "            + ' to learn more about interactive tables.';\n",
              "          element.innerHTML = '';\n",
              "          dataTable['output_type'] = 'display_data';\n",
              "          await google.colab.output.renderOutput(dataTable, element);\n",
              "          const docLink = document.createElement('div');\n",
              "          docLink.innerHTML = docLinkHtml;\n",
              "          element.appendChild(docLink);\n",
              "        }\n",
              "      </script>\n",
              "    </div>\n",
              "  </div>\n",
              "  "
            ]
          },
          "metadata": {},
          "execution_count": 2
        }
      ],
      "source": [
        "df_books = pd.read_csv('/content/df_books.csv.gz')\n",
        "df_books.head(3)"
      ]
    },
    {
      "cell_type": "markdown",
      "metadata": {
        "id": "PSkI_ZXP2Avm"
      },
      "source": [
        "## **Users csv**"
      ]
    },
    {
      "cell_type": "code",
      "execution_count": null,
      "metadata": {
        "id": "B5gU08O21K1H"
      },
      "outputs": [],
      "source": [
        "users = list()\n",
        "with gzip.open('/content/goodreads_reviews_dedup.json.gz', 'r') as f:\n",
        "  while True:\n",
        "    line = f.readline()\n",
        "    if not line:\n",
        "      break\n",
        "    user = user_parser(json.loads(line))\n",
        "    users.append(user)\n",
        "\n",
        "df_users = pd.DataFrame.from_dict(users)\n",
        "df_users.to_csv('df_users.csv.gz', index=False, compression='gzip')"
      ]
    },
    {
      "cell_type": "code",
      "execution_count": null,
      "metadata": {
        "colab": {
          "base_uri": "https://localhost:8080/"
        },
        "id": "yJ5NnekBdOX_",
        "outputId": "c4425f45-b1c4-4d20-ffec-bc1e800d2b9f"
      },
      "outputs": [
        {
          "output_type": "execute_result",
          "data": {
            "text/plain": [
              "    book_id                           user_id  \\\n",
              "0  24375664  8842281e1d1347389f2ab93d60773d4d   \n",
              "1  18245960  8842281e1d1347389f2ab93d60773d4d   \n",
              "2   6392944  8842281e1d1347389f2ab93d60773d4d   \n",
              "\n",
              "                                         review_text  n_votes  user_rating  \n",
              "0  Mind blowingly cool. Best science fiction I've...       16            5  \n",
              "1  This is a special book. It started slow for ab...       28            5  \n",
              "2  I haven't read a fun mystery book in a while a...        6            3  "
            ],
            "text/html": [
              "\n",
              "  <div id=\"df-17a7d37f-40e8-4d55-9faf-3c1f60c104a0\">\n",
              "    <div class=\"colab-df-container\">\n",
              "      <div>\n",
              "<style scoped>\n",
              "    .dataframe tbody tr th:only-of-type {\n",
              "        vertical-align: middle;\n",
              "    }\n",
              "\n",
              "    .dataframe tbody tr th {\n",
              "        vertical-align: top;\n",
              "    }\n",
              "\n",
              "    .dataframe thead th {\n",
              "        text-align: right;\n",
              "    }\n",
              "</style>\n",
              "<table border=\"1\" class=\"dataframe\">\n",
              "  <thead>\n",
              "    <tr style=\"text-align: right;\">\n",
              "      <th></th>\n",
              "      <th>book_id</th>\n",
              "      <th>user_id</th>\n",
              "      <th>review_text</th>\n",
              "      <th>n_votes</th>\n",
              "      <th>user_rating</th>\n",
              "    </tr>\n",
              "  </thead>\n",
              "  <tbody>\n",
              "    <tr>\n",
              "      <th>0</th>\n",
              "      <td>24375664</td>\n",
              "      <td>8842281e1d1347389f2ab93d60773d4d</td>\n",
              "      <td>Mind blowingly cool. Best science fiction I've...</td>\n",
              "      <td>16</td>\n",
              "      <td>5</td>\n",
              "    </tr>\n",
              "    <tr>\n",
              "      <th>1</th>\n",
              "      <td>18245960</td>\n",
              "      <td>8842281e1d1347389f2ab93d60773d4d</td>\n",
              "      <td>This is a special book. It started slow for ab...</td>\n",
              "      <td>28</td>\n",
              "      <td>5</td>\n",
              "    </tr>\n",
              "    <tr>\n",
              "      <th>2</th>\n",
              "      <td>6392944</td>\n",
              "      <td>8842281e1d1347389f2ab93d60773d4d</td>\n",
              "      <td>I haven't read a fun mystery book in a while a...</td>\n",
              "      <td>6</td>\n",
              "      <td>3</td>\n",
              "    </tr>\n",
              "  </tbody>\n",
              "</table>\n",
              "</div>\n",
              "      <button class=\"colab-df-convert\" onclick=\"convertToInteractive('df-17a7d37f-40e8-4d55-9faf-3c1f60c104a0')\"\n",
              "              title=\"Convert this dataframe to an interactive table.\"\n",
              "              style=\"display:none;\">\n",
              "        \n",
              "  <svg xmlns=\"http://www.w3.org/2000/svg\" height=\"24px\"viewBox=\"0 0 24 24\"\n",
              "       width=\"24px\">\n",
              "    <path d=\"M0 0h24v24H0V0z\" fill=\"none\"/>\n",
              "    <path d=\"M18.56 5.44l.94 2.06.94-2.06 2.06-.94-2.06-.94-.94-2.06-.94 2.06-2.06.94zm-11 1L8.5 8.5l.94-2.06 2.06-.94-2.06-.94L8.5 2.5l-.94 2.06-2.06.94zm10 10l.94 2.06.94-2.06 2.06-.94-2.06-.94-.94-2.06-.94 2.06-2.06.94z\"/><path d=\"M17.41 7.96l-1.37-1.37c-.4-.4-.92-.59-1.43-.59-.52 0-1.04.2-1.43.59L10.3 9.45l-7.72 7.72c-.78.78-.78 2.05 0 2.83L4 21.41c.39.39.9.59 1.41.59.51 0 1.02-.2 1.41-.59l7.78-7.78 2.81-2.81c.8-.78.8-2.07 0-2.86zM5.41 20L4 18.59l7.72-7.72 1.47 1.35L5.41 20z\"/>\n",
              "  </svg>\n",
              "      </button>\n",
              "      \n",
              "  <style>\n",
              "    .colab-df-container {\n",
              "      display:flex;\n",
              "      flex-wrap:wrap;\n",
              "      gap: 12px;\n",
              "    }\n",
              "\n",
              "    .colab-df-convert {\n",
              "      background-color: #E8F0FE;\n",
              "      border: none;\n",
              "      border-radius: 50%;\n",
              "      cursor: pointer;\n",
              "      display: none;\n",
              "      fill: #1967D2;\n",
              "      height: 32px;\n",
              "      padding: 0 0 0 0;\n",
              "      width: 32px;\n",
              "    }\n",
              "\n",
              "    .colab-df-convert:hover {\n",
              "      background-color: #E2EBFA;\n",
              "      box-shadow: 0px 1px 2px rgba(60, 64, 67, 0.3), 0px 1px 3px 1px rgba(60, 64, 67, 0.15);\n",
              "      fill: #174EA6;\n",
              "    }\n",
              "\n",
              "    [theme=dark] .colab-df-convert {\n",
              "      background-color: #3B4455;\n",
              "      fill: #D2E3FC;\n",
              "    }\n",
              "\n",
              "    [theme=dark] .colab-df-convert:hover {\n",
              "      background-color: #434B5C;\n",
              "      box-shadow: 0px 1px 3px 1px rgba(0, 0, 0, 0.15);\n",
              "      filter: drop-shadow(0px 1px 2px rgba(0, 0, 0, 0.3));\n",
              "      fill: #FFFFFF;\n",
              "    }\n",
              "  </style>\n",
              "\n",
              "      <script>\n",
              "        const buttonEl =\n",
              "          document.querySelector('#df-17a7d37f-40e8-4d55-9faf-3c1f60c104a0 button.colab-df-convert');\n",
              "        buttonEl.style.display =\n",
              "          google.colab.kernel.accessAllowed ? 'block' : 'none';\n",
              "\n",
              "        async function convertToInteractive(key) {\n",
              "          const element = document.querySelector('#df-17a7d37f-40e8-4d55-9faf-3c1f60c104a0');\n",
              "          const dataTable =\n",
              "            await google.colab.kernel.invokeFunction('convertToInteractive',\n",
              "                                                     [key], {});\n",
              "          if (!dataTable) return;\n",
              "\n",
              "          const docLinkHtml = 'Like what you see? Visit the ' +\n",
              "            '<a target=\"_blank\" href=https://colab.research.google.com/notebooks/data_table.ipynb>data table notebook</a>'\n",
              "            + ' to learn more about interactive tables.';\n",
              "          element.innerHTML = '';\n",
              "          dataTable['output_type'] = 'display_data';\n",
              "          await google.colab.output.renderOutput(dataTable, element);\n",
              "          const docLink = document.createElement('div');\n",
              "          docLink.innerHTML = docLinkHtml;\n",
              "          element.appendChild(docLink);\n",
              "        }\n",
              "      </script>\n",
              "    </div>\n",
              "  </div>\n",
              "  "
            ]
          },
          "metadata": {},
          "execution_count": 4
        }
      ],
      "source": [
        "df_users = pd.read_csv('/content/df_users.csv.gz')\n",
        "df_users.head(3)"
      ]
    },
    {
      "cell_type": "markdown",
      "metadata": {
        "id": "q296Z8Tvrgml"
      },
      "source": [
        "## **Preprocessing**"
      ]
    },
    {
      "cell_type": "code",
      "execution_count": null,
      "metadata": {
        "id": "D3k7IzhIrcl4"
      },
      "outputs": [],
      "source": [
        "stopwords= set(['br', 'the', 'i', 'me', 'my', 'myself', 'we', 'our', 'ours', 'ourselves', 'you', \"you're\", \"you've\",\\\n",
        "            \"you'll\", \"you'd\", 'your', 'yours', 'yourself', 'yourselves', 'he', 'him', 'his', 'himself', \\\n",
        "            'she', \"she's\", 'her', 'hers', 'herself', 'it', \"it's\", 'its', 'itself', 'they', 'them', 'their',\\\n",
        "            'theirs', 'themselves', 'what', 'which', 'who', 'whom', 'this', 'that', \"that'll\", 'these', 'those', \\\n",
        "            'am', 'is', 'are', 'was', 'were', 'be', 'been', 'being', 'have', 'has', 'had', 'having', 'do', 'does', \\\n",
        "            'did', 'doing', 'a', 'an', 'the', 'and', 'but', 'if', 'or', 'because', 'as', 'until', 'while', 'of', \\\n",
        "            'at', 'by', 'for', 'with', 'about', 'against', 'between', 'into', 'through', 'during', 'before', 'after',\\\n",
        "            'above', 'below', 'to', 'from', 'up', 'down', 'in', 'out', 'on', 'off', 'over', 'under', 'again', 'further',\\\n",
        "            'then', 'once', 'here', 'there', 'when', 'where', 'why', 'how', 'all', 'any', 'both', 'each', 'few', 'more',\\\n",
        "            'most', 'other', 'some', 'such', 'only', 'own', 'same', 'so', 'than', 'too', 'very', \\\n",
        "            's', 't', 'can', 'will', 'just', 'don', \"don't\", 'should', \"should've\", 'now', 'd', 'll', 'm', 'o', 're', \\\n",
        "            've', 'y', 'ain', 'aren', \"aren't\", 'couldn', \"couldn't\", 'didn', \"didn't\", 'doesn', \"doesn't\", 'hadn',\\\n",
        "            \"hadn't\", 'hasn', \"hasn't\", 'haven', \"haven't\", 'isn', \"isn't\", 'ma', 'mightn', \"mightn't\", 'mustn',\\\n",
        "            \"mustn't\", 'needn', \"needn't\", 'shan', \"shan't\", 'shouldn', \"shouldn't\", 'wasn', \"wasn't\", 'weren', \"weren't\", \\\n",
        "            'won', \"won't\", 'wouldn', \"wouldn't\"])\n",
        "\n",
        "def decontracted(phrase):\n",
        "    # specific\n",
        "    phrase = re.sub(r\"won't\", \"will not\", phrase)\n",
        "    phrase = re.sub(r\"can\\'t\", \"can not\", phrase)\n",
        "\n",
        "    # general\n",
        "    phrase = re.sub(r\"n\\'t\", \" not\", phrase)\n",
        "    phrase = re.sub(r\"\\'re\", \" are\", phrase)\n",
        "    phrase = re.sub(r\"\\'s\", \" is\", phrase)\n",
        "    phrase = re.sub(r\"\\'d\", \" would\", phrase)\n",
        "    phrase = re.sub(r\"\\'ll\", \" will\", phrase)\n",
        "    phrase = re.sub(r\"\\'t\", \" not\", phrase)\n",
        "    phrase = re.sub(r\"\\'ve\", \" have\", phrase)\n",
        "    phrase = re.sub(r\"\\'m\", \" am\", phrase)\n",
        "    return phrase\n",
        "\n",
        "def preprocess_numeric_data(dataframe, df_name):\n",
        "  if df_name == 'df_books_copy':\n",
        "    dataframe[\"book_average_rating\"] = pd.to_numeric(dataframe[\"book_average_rating\"])\n",
        "    dataframe[\"publication_year\"] = pd.to_numeric(dataframe[\"publication_year\"])\n",
        "    dataframe[\"ratings_count\"] = dataframe[\"ratings_count\"].astype(int)\n",
        "    dataframe[\"num_pages\"] = pd.to_numeric(dataframe[\"num_pages\"])\n",
        "    dataframe[\"is_ebook\"] = dataframe[\"is_ebook\"].map({True:1, False:0})\n",
        "  else:\n",
        "    dataframe[\"user_rating\"] = dataframe[\"user_rating\"].astype(int)\n",
        "    dataframe[\"book_id\"] = dataframe[\"book_id\"].astype(int)\n",
        "    dataframe[\"n_votes\"] = dataframe[\"n_votes\"].astype(int)\n",
        "  return dataframe\n",
        "\n",
        "def preprocess_text_data(dataframe, df_name):\n",
        "  dataframe[\"book_id\"] = dataframe[\"book_id\"].astype(str)\n",
        "  if df_name == 'df_books_numeric_mod':\n",
        "    dataframe[\"mod_title\"] = dataframe[\"title_without_series\"].astype(str).apply(decontracted)\n",
        "    dataframe[\"mod_title\"] = dataframe[\"mod_title\"].str.replace(\"[^a-zA-Z0-9 ]\", \"\", regex=True)\n",
        "    dataframe[\"mod_title\"] = dataframe[\"mod_title\"].astype(str).apply(lambda sentence: ' '.join(e.lower() for e in sentence.split() if e.lower() not in stopwords and len(e.lower())>1))\n",
        "    dataframe[\"mod_title\"] = dataframe[\"mod_title\"].str.replace(\"\\s+\", \" \", regex=True)\n",
        "    dataframe = dataframe[dataframe[\"mod_title\"].str.len() > 0]\n",
        "\n",
        "    dataframe[\"book_description\"] = dataframe[\"book_description\"].str.replace(\"[^a-zA-Z0-9 ]\", \"\", regex=True)\n",
        "    dataframe[\"book_description\"] = dataframe[\"book_description\"].str.lower()\n",
        "    dataframe[\"book_description\"] = dataframe[\"book_description\"].str.replace(\"\\s+\", \" \", regex=True)\n",
        "    dataframe = dataframe[dataframe[\"book_description\"].str.len() > 0]\n",
        "\n",
        "    dataframe[\"publisher\"] = dataframe[\"publisher\"].str.replace(\"[^a-zA-Z0-9 ]\", \"\", regex=True)\n",
        "    dataframe[\"publisher\"] = dataframe[\"publisher\"].str.lower()\n",
        "    dataframe[\"publisher\"] = dataframe[\"publisher\"].str.replace(\"\\s+\", \" \", regex=True)\n",
        "    dataframe = dataframe[dataframe[\"publisher\"].str.len() > 0]\n",
        "  else:\n",
        "    dataframe[\"user_id\"] = dataframe[\"user_id\"].astype(str)\n",
        "\n",
        "  return dataframe  "
      ]
    },
    {
      "cell_type": "markdown",
      "metadata": {
        "id": "9JLN5wNh8AUh"
      },
      "source": [
        "***Creating copy and calling above functions***"
      ]
    },
    {
      "cell_type": "code",
      "execution_count": null,
      "metadata": {
        "id": "FX_fl_hzSRN_"
      },
      "outputs": [],
      "source": [
        "df_books_copy = df_books.copy()\n",
        "\n",
        "df_books_numeric_mod = preprocess_numeric_data(df_books_copy, 'df_books_copy')\n",
        "df_books_processed = preprocess_text_data(df_books_numeric_mod, 'df_books_numeric_mod')\n",
        "df_users_numeric_mod = preprocess_numeric_data(df_users, 'df_users')\n",
        "df_users_processed = preprocess_text_data(df_users_numeric_mod, 'df_users_numeric_mod')"
      ]
    },
    {
      "cell_type": "markdown",
      "metadata": {
        "id": "zhZjmz7RmtS4"
      },
      "source": [
        "***Finding duplicates in df_books_processed***"
      ]
    },
    {
      "cell_type": "code",
      "execution_count": null,
      "metadata": {
        "colab": {
          "base_uri": "https://localhost:8080/"
        },
        "id": "HNz8nLJ9lwjG",
        "outputId": "95001b82-52cd-41ca-f874-f0ceb2496e01"
      },
      "outputs": [
        {
          "output_type": "execute_result",
          "data": {
            "text/plain": [
              "177097"
            ]
          },
          "metadata": {},
          "execution_count": 7
        }
      ],
      "source": [
        "df_books_processed[['mod_title', 'book_average_rating']].duplicated().sum()"
      ]
    },
    {
      "cell_type": "markdown",
      "metadata": {
        "id": "_y4Kc7bgm2j8"
      },
      "source": [
        "***Removing duplicate entries***"
      ]
    },
    {
      "cell_type": "code",
      "source": [
        "df_books_processed.drop_duplicates(subset=['mod_title', 'book_average_rating'], keep='first', inplace=True)\n",
        "df_books_processed.shape"
      ],
      "metadata": {
        "colab": {
          "base_uri": "https://localhost:8080/"
        },
        "id": "ZSUCcsYhxcoU",
        "outputId": "0dd3e955-93df-4678-c722-489e80b65cf2"
      },
      "execution_count": null,
      "outputs": [
        {
          "output_type": "execute_result",
          "data": {
            "text/plain": [
              "(678274, 12)"
            ]
          },
          "metadata": {},
          "execution_count": 8
        }
      ]
    },
    {
      "cell_type": "markdown",
      "metadata": {
        "id": "gdo-G8EUnvkV"
      },
      "source": [
        "***Finding duplicates in df_users_processed***"
      ]
    },
    {
      "cell_type": "code",
      "execution_count": null,
      "metadata": {
        "colab": {
          "base_uri": "https://localhost:8080/"
        },
        "id": "amQ9hQuvm6Mc",
        "outputId": "8f0f4aca-5db8-41fd-d985-fb6c2c575580"
      },
      "outputs": [
        {
          "output_type": "execute_result",
          "data": {
            "text/plain": [
              "0"
            ]
          },
          "metadata": {},
          "execution_count": 9
        }
      ],
      "source": [
        "df_users_processed[['user_id','book_id','user_rating']].duplicated().sum()"
      ]
    },
    {
      "cell_type": "markdown",
      "metadata": {
        "id": "glFMAvXU27cr"
      },
      "source": [
        "***Finding features with null entries in df_books_processed and processing them***"
      ]
    },
    {
      "cell_type": "code",
      "execution_count": null,
      "metadata": {
        "colab": {
          "base_uri": "https://localhost:8080/"
        },
        "id": "2mQRJ_0_dtBW",
        "outputId": "7da53bda-437d-4fb5-e1fd-331308e75345"
      },
      "outputs": [
        {
          "output_type": "execute_result",
          "data": {
            "text/plain": [
              "book_id                 False\n",
              "title_without_series    False\n",
              "book_description        False\n",
              "publication_year         True\n",
              "publisher               False\n",
              "ratings_count           False\n",
              "book_average_rating     False\n",
              "cover_page              False\n",
              "book_url                False\n",
              "is_ebook                False\n",
              "num_pages                True\n",
              "mod_title               False\n",
              "dtype: bool"
            ]
          },
          "metadata": {},
          "execution_count": 10
        }
      ],
      "source": [
        "df_books_processed.isnull().any(axis=0)"
      ]
    },
    {
      "cell_type": "markdown",
      "metadata": {
        "id": "GuvsS5Fx2zXs"
      },
      "source": [
        "We cannot drop the missing values row directly as feature values fall in useful domain "
      ]
    },
    {
      "cell_type": "code",
      "execution_count": null,
      "metadata": {
        "colab": {
          "base_uri": "https://localhost:8080/"
        },
        "id": "JofxBdGr2sfr",
        "outputId": "be8fd4f3-ee68-4ec7-98be-60853c079ab9"
      },
      "outputs": [
        {
          "output_type": "execute_result",
          "data": {
            "text/plain": [
              "       ratings_count  book_average_rating\n",
              "count   69462.000000         69462.000000\n",
              "mean      212.365034             3.901471\n",
              "std      2188.212652             0.388506\n",
              "min        16.000000             1.280000\n",
              "25%        25.000000             3.670000\n",
              "50%        46.000000             3.920000\n",
              "75%       110.000000             4.170000\n",
              "max    265189.000000             5.000000"
            ],
            "text/html": [
              "\n",
              "  <div id=\"df-6b67d023-4522-4512-ae20-c873a63afeca\">\n",
              "    <div class=\"colab-df-container\">\n",
              "      <div>\n",
              "<style scoped>\n",
              "    .dataframe tbody tr th:only-of-type {\n",
              "        vertical-align: middle;\n",
              "    }\n",
              "\n",
              "    .dataframe tbody tr th {\n",
              "        vertical-align: top;\n",
              "    }\n",
              "\n",
              "    .dataframe thead th {\n",
              "        text-align: right;\n",
              "    }\n",
              "</style>\n",
              "<table border=\"1\" class=\"dataframe\">\n",
              "  <thead>\n",
              "    <tr style=\"text-align: right;\">\n",
              "      <th></th>\n",
              "      <th>ratings_count</th>\n",
              "      <th>book_average_rating</th>\n",
              "    </tr>\n",
              "  </thead>\n",
              "  <tbody>\n",
              "    <tr>\n",
              "      <th>count</th>\n",
              "      <td>69462.000000</td>\n",
              "      <td>69462.000000</td>\n",
              "    </tr>\n",
              "    <tr>\n",
              "      <th>mean</th>\n",
              "      <td>212.365034</td>\n",
              "      <td>3.901471</td>\n",
              "    </tr>\n",
              "    <tr>\n",
              "      <th>std</th>\n",
              "      <td>2188.212652</td>\n",
              "      <td>0.388506</td>\n",
              "    </tr>\n",
              "    <tr>\n",
              "      <th>min</th>\n",
              "      <td>16.000000</td>\n",
              "      <td>1.280000</td>\n",
              "    </tr>\n",
              "    <tr>\n",
              "      <th>25%</th>\n",
              "      <td>25.000000</td>\n",
              "      <td>3.670000</td>\n",
              "    </tr>\n",
              "    <tr>\n",
              "      <th>50%</th>\n",
              "      <td>46.000000</td>\n",
              "      <td>3.920000</td>\n",
              "    </tr>\n",
              "    <tr>\n",
              "      <th>75%</th>\n",
              "      <td>110.000000</td>\n",
              "      <td>4.170000</td>\n",
              "    </tr>\n",
              "    <tr>\n",
              "      <th>max</th>\n",
              "      <td>265189.000000</td>\n",
              "      <td>5.000000</td>\n",
              "    </tr>\n",
              "  </tbody>\n",
              "</table>\n",
              "</div>\n",
              "      <button class=\"colab-df-convert\" onclick=\"convertToInteractive('df-6b67d023-4522-4512-ae20-c873a63afeca')\"\n",
              "              title=\"Convert this dataframe to an interactive table.\"\n",
              "              style=\"display:none;\">\n",
              "        \n",
              "  <svg xmlns=\"http://www.w3.org/2000/svg\" height=\"24px\"viewBox=\"0 0 24 24\"\n",
              "       width=\"24px\">\n",
              "    <path d=\"M0 0h24v24H0V0z\" fill=\"none\"/>\n",
              "    <path d=\"M18.56 5.44l.94 2.06.94-2.06 2.06-.94-2.06-.94-.94-2.06-.94 2.06-2.06.94zm-11 1L8.5 8.5l.94-2.06 2.06-.94-2.06-.94L8.5 2.5l-.94 2.06-2.06.94zm10 10l.94 2.06.94-2.06 2.06-.94-2.06-.94-.94-2.06-.94 2.06-2.06.94z\"/><path d=\"M17.41 7.96l-1.37-1.37c-.4-.4-.92-.59-1.43-.59-.52 0-1.04.2-1.43.59L10.3 9.45l-7.72 7.72c-.78.78-.78 2.05 0 2.83L4 21.41c.39.39.9.59 1.41.59.51 0 1.02-.2 1.41-.59l7.78-7.78 2.81-2.81c.8-.78.8-2.07 0-2.86zM5.41 20L4 18.59l7.72-7.72 1.47 1.35L5.41 20z\"/>\n",
              "  </svg>\n",
              "      </button>\n",
              "      \n",
              "  <style>\n",
              "    .colab-df-container {\n",
              "      display:flex;\n",
              "      flex-wrap:wrap;\n",
              "      gap: 12px;\n",
              "    }\n",
              "\n",
              "    .colab-df-convert {\n",
              "      background-color: #E8F0FE;\n",
              "      border: none;\n",
              "      border-radius: 50%;\n",
              "      cursor: pointer;\n",
              "      display: none;\n",
              "      fill: #1967D2;\n",
              "      height: 32px;\n",
              "      padding: 0 0 0 0;\n",
              "      width: 32px;\n",
              "    }\n",
              "\n",
              "    .colab-df-convert:hover {\n",
              "      background-color: #E2EBFA;\n",
              "      box-shadow: 0px 1px 2px rgba(60, 64, 67, 0.3), 0px 1px 3px 1px rgba(60, 64, 67, 0.15);\n",
              "      fill: #174EA6;\n",
              "    }\n",
              "\n",
              "    [theme=dark] .colab-df-convert {\n",
              "      background-color: #3B4455;\n",
              "      fill: #D2E3FC;\n",
              "    }\n",
              "\n",
              "    [theme=dark] .colab-df-convert:hover {\n",
              "      background-color: #434B5C;\n",
              "      box-shadow: 0px 1px 3px 1px rgba(0, 0, 0, 0.15);\n",
              "      filter: drop-shadow(0px 1px 2px rgba(0, 0, 0, 0.3));\n",
              "      fill: #FFFFFF;\n",
              "    }\n",
              "  </style>\n",
              "\n",
              "      <script>\n",
              "        const buttonEl =\n",
              "          document.querySelector('#df-6b67d023-4522-4512-ae20-c873a63afeca button.colab-df-convert');\n",
              "        buttonEl.style.display =\n",
              "          google.colab.kernel.accessAllowed ? 'block' : 'none';\n",
              "\n",
              "        async function convertToInteractive(key) {\n",
              "          const element = document.querySelector('#df-6b67d023-4522-4512-ae20-c873a63afeca');\n",
              "          const dataTable =\n",
              "            await google.colab.kernel.invokeFunction('convertToInteractive',\n",
              "                                                     [key], {});\n",
              "          if (!dataTable) return;\n",
              "\n",
              "          const docLinkHtml = 'Like what you see? Visit the ' +\n",
              "            '<a target=\"_blank\" href=https://colab.research.google.com/notebooks/data_table.ipynb>data table notebook</a>'\n",
              "            + ' to learn more about interactive tables.';\n",
              "          element.innerHTML = '';\n",
              "          dataTable['output_type'] = 'display_data';\n",
              "          await google.colab.output.renderOutput(dataTable, element);\n",
              "          const docLink = document.createElement('div');\n",
              "          docLink.innerHTML = docLinkHtml;\n",
              "          element.appendChild(docLink);\n",
              "        }\n",
              "      </script>\n",
              "    </div>\n",
              "  </div>\n",
              "  "
            ]
          },
          "metadata": {},
          "execution_count": 11
        }
      ],
      "source": [
        "df_books_processed[df_books_processed.isnull().any(axis=1)][['ratings_count', 'book_average_rating']].describe()"
      ]
    },
    {
      "cell_type": "markdown",
      "source": [
        "***Filling the missing values in features with median values of their column, medians are resistant to outlier***"
      ],
      "metadata": {
        "id": "U3NN34hV_SgW"
      }
    },
    {
      "cell_type": "code",
      "execution_count": null,
      "metadata": {
        "id": "LMioQLlieAbY"
      },
      "outputs": [],
      "source": [
        "df_books_processed['publication_year'] = df_books_processed['publication_year'].fillna(df_books_processed['publication_year'].median())\n",
        "df_books_processed['num_pages'] = df_books_processed['num_pages'].fillna(df_books_processed['num_pages'].median())"
      ]
    },
    {
      "cell_type": "code",
      "execution_count": null,
      "metadata": {
        "colab": {
          "base_uri": "https://localhost:8080/"
        },
        "id": "6k-6fCVJgqhr",
        "outputId": "c192d2d3-46ac-4642-fee7-11c0d1b0a1ca"
      },
      "outputs": [
        {
          "output_type": "execute_result",
          "data": {
            "text/plain": [
              "book_id                 False\n",
              "title_without_series    False\n",
              "book_description        False\n",
              "publication_year        False\n",
              "publisher               False\n",
              "ratings_count           False\n",
              "book_average_rating     False\n",
              "cover_page              False\n",
              "book_url                False\n",
              "is_ebook                False\n",
              "num_pages               False\n",
              "mod_title               False\n",
              "dtype: bool"
            ]
          },
          "metadata": {},
          "execution_count": 13
        }
      ],
      "source": [
        "df_books_processed.isnull().any(axis=0)"
      ]
    },
    {
      "cell_type": "markdown",
      "source": [
        "***Finding features with null entries in df_users_processed and processing them***"
      ],
      "metadata": {
        "id": "AQEUjoE4H6Pv"
      }
    },
    {
      "cell_type": "code",
      "source": [
        "df_users_processed.isnull().any(axis=0)"
      ],
      "metadata": {
        "colab": {
          "base_uri": "https://localhost:8080/"
        },
        "id": "V76FW2SWGSqY",
        "outputId": "e5f205b3-2e22-40a7-db20-7b34a69d0673"
      },
      "execution_count": null,
      "outputs": [
        {
          "output_type": "execute_result",
          "data": {
            "text/plain": [
              "book_id        False\n",
              "user_id        False\n",
              "review_text     True\n",
              "n_votes        False\n",
              "user_rating    False\n",
              "dtype: bool"
            ]
          },
          "metadata": {},
          "execution_count": 14
        }
      ]
    },
    {
      "cell_type": "markdown",
      "source": [
        "***Removing the missing values in review_text***"
      ],
      "metadata": {
        "id": "F1UgtvDp_pu5"
      }
    },
    {
      "cell_type": "code",
      "source": [
        "df_users_processed.dropna(axis=0, inplace=True)"
      ],
      "metadata": {
        "id": "AW6Bu2ONHNic"
      },
      "execution_count": null,
      "outputs": []
    },
    {
      "cell_type": "code",
      "source": [
        "df_users_processed.isnull().any(axis=0)"
      ],
      "metadata": {
        "colab": {
          "base_uri": "https://localhost:8080/"
        },
        "id": "sUhQE2YVHX1Z",
        "outputId": "b3fe13a3-7ee7-44e2-dabf-7e22458909a9"
      },
      "execution_count": null,
      "outputs": [
        {
          "output_type": "execute_result",
          "data": {
            "text/plain": [
              "book_id        False\n",
              "user_id        False\n",
              "review_text    False\n",
              "n_votes        False\n",
              "user_rating    False\n",
              "dtype: bool"
            ]
          },
          "metadata": {},
          "execution_count": 20
        }
      ]
    },
    {
      "cell_type": "markdown",
      "source": [
        "***Visualizing the remaining features with their shapes in each dataframe***"
      ],
      "metadata": {
        "id": "-u3HBG1p_4kn"
      }
    },
    {
      "cell_type": "code",
      "execution_count": null,
      "metadata": {
        "colab": {
          "base_uri": "https://localhost:8080/"
        },
        "id": "iBY2mBN-iG-q",
        "outputId": "1368804a-4674-44c4-d2b1-29a9e8460335"
      },
      "outputs": [
        {
          "output_type": "stream",
          "name": "stdout",
          "text": [
            "df_users_processed features:  ['book_id', 'user_id', 'review_text', 'n_votes', 'user_rating']\n",
            "df_books_processed features:  ['book_id', 'title_without_series', 'book_description', 'publication_year', 'publisher', 'ratings_count', 'book_average_rating', 'cover_page', 'book_url', 'is_ebook', 'num_pages', 'mod_title']\n"
          ]
        }
      ],
      "source": [
        "print('df_users_processed features: ', list(df_users_processed.columns))\n",
        "print('df_books_processed features: ', list(df_books_processed.columns))"
      ]
    },
    {
      "cell_type": "code",
      "execution_count": null,
      "metadata": {
        "colab": {
          "base_uri": "https://localhost:8080/"
        },
        "id": "BS2Lw264rSjI",
        "outputId": "4ce769c1-f87c-490c-b0fa-5d36cfa318c6"
      },
      "outputs": [
        {
          "output_type": "stream",
          "name": "stdout",
          "text": [
            "df_users_processed shape:  (15732899, 5)\n",
            "df_books_processed shape:  (678274, 12)\n"
          ]
        }
      ],
      "source": [
        "print('df_users_processed shape: ', df_users_processed.shape)\n",
        "print('df_books_processed shape: ', df_books_processed.shape)"
      ]
    },
    {
      "cell_type": "markdown",
      "metadata": {
        "id": "s2UQ8xrfoUsd"
      },
      "source": [
        "Observation:\n",
        "\n",
        "\n",
        "*   After removing duplicate and null entries from df_users_processed, we have 1,57,32,899 entries present\n",
        "*   After removing duplicate and null entries from df_books_processed, we have 6,78,274 entries present\n"
      ]
    },
    {
      "cell_type": "markdown",
      "metadata": {
        "id": "01NvGrCVppKv"
      },
      "source": [
        "***Saving processed files***"
      ]
    },
    {
      "cell_type": "code",
      "execution_count": null,
      "metadata": {
        "id": "SLsqRaJAptWf"
      },
      "outputs": [],
      "source": [
        "df_books_processed.to_csv('df_books_processed.csv.gz', index=False, compression='gzip')\n",
        "df_users_processed.to_csv('df_users_processed.csv.gz', index=False, compression='gzip')"
      ]
    },
    {
      "cell_type": "markdown",
      "metadata": {
        "id": "IidScafeS_62"
      },
      "source": [
        "*Merging* **df_books_processed and df_users_processed** "
      ]
    },
    {
      "cell_type": "code",
      "execution_count": null,
      "metadata": {
        "id": "LNoSYbJ4pY4j"
      },
      "outputs": [],
      "source": [
        "df_books_users = pd.merge(df_books_processed, df_users_processed, on='book_id', how='inner')"
      ]
    },
    {
      "cell_type": "markdown",
      "metadata": {
        "id": "ZFYRENVQg8NO"
      },
      "source": [
        "***Checking for any features with null entries after merge operation***"
      ]
    },
    {
      "cell_type": "code",
      "source": [
        "df_books_users.isnull().any()"
      ],
      "metadata": {
        "colab": {
          "base_uri": "https://localhost:8080/"
        },
        "id": "gtxKFgkWT57I",
        "outputId": "829a028f-bba4-4267-96c0-4b2f28c64a45"
      },
      "execution_count": null,
      "outputs": [
        {
          "output_type": "execute_result",
          "data": {
            "text/plain": [
              "book_id                 False\n",
              "title_without_series    False\n",
              "book_description        False\n",
              "publication_year        False\n",
              "publisher               False\n",
              "ratings_count           False\n",
              "book_average_rating     False\n",
              "cover_page              False\n",
              "book_url                False\n",
              "is_ebook                False\n",
              "num_pages               False\n",
              "mod_title               False\n",
              "user_id                 False\n",
              "review_text             False\n",
              "n_votes                 False\n",
              "user_rating             False\n",
              "dtype: bool"
            ]
          },
          "metadata": {},
          "execution_count": 29
        }
      ]
    },
    {
      "cell_type": "markdown",
      "metadata": {
        "id": "qMvtSHHxGATm"
      },
      "source": [
        "***Function for user interface***"
      ]
    },
    {
      "cell_type": "code",
      "execution_count": 7,
      "metadata": {
        "id": "OWbFldBaF_du"
      },
      "outputs": [],
      "source": [
        "def make_clickable(val):\n",
        "    return '<a target=\"_blank\" href=\"{}\">Goodreads</a>'.format(val, val)\n",
        "\n",
        "def show_image(val):\n",
        "    return '<a href=\"{}\"><img src=\"{}\" width=60></img></a>'.format(val, val)"
      ]
    },
    {
      "cell_type": "markdown",
      "metadata": {
        "id": "Cs-BMSMb76eI"
      },
      "source": [
        "## **EDA**"
      ]
    },
    {
      "cell_type": "markdown",
      "metadata": {
        "id": "f71EWUrdNpzs"
      },
      "source": [
        "### ***n_votes***"
      ]
    },
    {
      "cell_type": "code",
      "execution_count": null,
      "metadata": {
        "colab": {
          "base_uri": "https://localhost:8080/"
        },
        "id": "5yGjMroENBwR",
        "outputId": "59fd08cc-c5ce-4290-b72e-0ab30de0500f"
      },
      "outputs": [
        {
          "output_type": "stream",
          "name": "stdout",
          "text": [
            "0th percentile is -3.0\n",
            "10th percentile is 0.0\n",
            "20th percentile is 0.0\n",
            "30th percentile is 0.0\n",
            "40th percentile is 0.0\n",
            "50th percentile is 0.0\n",
            "60th percentile is 0.0\n",
            "70th percentile is 0.0\n",
            "80th percentile is 1.0\n",
            "90th percentile is 2.0\n",
            "100th percentile is 1464.0\n"
          ]
        }
      ],
      "source": [
        "for i in range(0, 110, 10):\n",
        "  print(f'{i}th percentile is', np.percentile(df_books_users['n_votes'], i))"
      ]
    },
    {
      "cell_type": "code",
      "execution_count": null,
      "metadata": {
        "colab": {
          "base_uri": "https://localhost:8080/"
        },
        "id": "CL9Fd_I8NLJU",
        "outputId": "9439057b-a0b9-4910-d0be-ebbc9cc3081e"
      },
      "outputs": [
        {
          "output_type": "display_data",
          "data": {
            "text/plain": [
              "<Figure size 1800x576 with 2 Axes>"
            ],
            "image/png": "[encoded data removed]"
          },
          "metadata": {
            "needs_background": "light"
          }
        }
      ],
      "source": [
        "figure, axes = plt.subplots(1, 2, figsize=(25,8))\n",
        "sns.distplot(df_books_users['n_votes'], ax=axes[0], color='green')\n",
        "sns.boxplot(y= 'n_votes', data=df_books_users, ax=axes[1],  x='user_rating')\n",
        "plt.show()"
      ]
    },
    {
      "cell_type": "code",
      "execution_count": null,
      "metadata": {
        "id": "S7DhN-TEPH9w"
      },
      "outputs": [],
      "source": [
        "df_books_users.drop(columns=['n_votes'], inplace=True)"
      ]
    },
    {
      "cell_type": "markdown",
      "metadata": {
        "id": "NpdAUmVmNs4q"
      },
      "source": [
        "Observation:\n",
        "\n",
        "*   We can see that 90% of the data has less than 2 votes, most the books got 0 votes. \n",
        "*   Same could be visualized from distplot and boxplot, this feature is not useful, we will drop it.\n",
        "\n"
      ]
    },
    {
      "cell_type": "markdown",
      "metadata": {
        "id": "_mN1PCbMcIs5"
      },
      "source": [
        "### ***num_pages***"
      ]
    },
    {
      "cell_type": "code",
      "execution_count": null,
      "metadata": {
        "colab": {
          "base_uri": "https://localhost:8080/"
        },
        "id": "nGa0uXGdcf6Z",
        "outputId": "1699a4be-bc3c-486c-bec2-a2f44d97d707"
      },
      "outputs": [
        {
          "output_type": "stream",
          "name": "stdout",
          "text": [
            "0th percentile is 0.0\n",
            "10th percentile is 100.0\n",
            "20th percentile is 176.0\n",
            "30th percentile is 224.0\n",
            "40th percentile is 256.0\n",
            "50th percentile is 281.0\n",
            "60th percentile is 311.0\n",
            "70th percentile is 341.0\n",
            "80th percentile is 382.0\n",
            "90th percentile is 440.0\n",
            "100th percentile is 945077.0\n"
          ]
        }
      ],
      "source": [
        "for i in range(0, 110, 10):\n",
        "  print(f'{i}th percentile is', np.percentile(df_books_users['num_pages'], i))"
      ]
    },
    {
      "cell_type": "code",
      "execution_count": null,
      "metadata": {
        "colab": {
          "base_uri": "https://localhost:8080/"
        },
        "id": "IXv0hEV1ebbI",
        "outputId": "047c2e26-767a-4586-fb8b-b32db91e25b7"
      },
      "outputs": [
        {
          "output_type": "stream",
          "name": "stdout",
          "text": [
            "0th percentile is 0.0\n",
            "1th percentile is 24.0\n",
            "2th percentile is 32.0\n",
            "3th percentile is 32.0\n",
            "4th percentile is 36.0\n",
            "5th percentile is 40.0\n",
            "6th percentile is 48.0\n",
            "7th percentile is 63.0\n",
            "8th percentile is 76.0\n",
            "9th percentile is 90.0\n",
            "10th percentile is 100.0\n"
          ]
        }
      ],
      "source": [
        "for i in range(0, 11, 1):\n",
        "  print(f'{i}th percentile is', np.percentile(df_books_users['num_pages'], i))"
      ]
    },
    {
      "cell_type": "code",
      "execution_count": null,
      "metadata": {
        "colab": {
          "base_uri": "https://localhost:8080/"
        },
        "id": "i4WPj_rbeRw1",
        "outputId": "1caac471-1df5-417c-c82f-a3695804d9ad"
      },
      "outputs": [
        {
          "output_type": "stream",
          "name": "stdout",
          "text": [
            "90th percentile is 440.0\n",
            "91th percentile is 448.0\n",
            "92th percentile is 464.0\n",
            "93th percentile is 476.0\n",
            "94th percentile is 494.0\n",
            "95th percentile is 512.0\n",
            "96th percentile is 544.0\n",
            "97th percentile is 590.0\n",
            "98th percentile is 660.0\n",
            "99th percentile is 767.0\n",
            "100th percentile is 945077.0\n"
          ]
        }
      ],
      "source": [
        "for i in range(90, 101, 1):\n",
        "  print(f'{i}th percentile is', np.percentile(df_books_users['num_pages'], i))"
      ]
    },
    {
      "cell_type": "code",
      "execution_count": null,
      "metadata": {
        "colab": {
          "base_uri": "https://localhost:8080/"
        },
        "id": "IzK0aGpNf9Zu",
        "outputId": "8f6438e9-1fcd-4375-967a-665adb3d2b91"
      },
      "outputs": [
        {
          "output_type": "stream",
          "name": "stdout",
          "text": [
            "num_pages >=55000 :-    4\n",
            "num_pages <=4 :-        11349\n"
          ]
        }
      ],
      "source": [
        "print('num_pages >=55000 :-   ', df_books_users[df_books_users['num_pages']>=55000.0]['num_pages'].count())\n",
        "print('num_pages <=4 :-       ', df_books_users[(df_books_users['num_pages']<=4)]['num_pages'].count())"
      ]
    },
    {
      "cell_type": "code",
      "execution_count": null,
      "metadata": {
        "id": "xQIv4sa2ehvG"
      },
      "outputs": [],
      "source": [
        "df_books_users = df_books_users[df_books_users['num_pages']>4]"
      ]
    },
    {
      "cell_type": "code",
      "execution_count": null,
      "metadata": {
        "colab": {
          "base_uri": "https://localhost:8080/"
        },
        "id": "paJOdIIcjqUl",
        "outputId": "c57379f1-02a3-4a9e-91a1-451f278b958c"
      },
      "outputs": [
        {
          "output_type": "display_data",
          "data": {
            "text/plain": [
              "<Figure size 1800x576 with 2 Axes>"
            ],
            "image/png": "[encoded data removed]"
          },
          "metadata": {
            "needs_background": "light"
          }
        }
      ],
      "source": [
        "figure, axes = plt.subplots(1, 2, figsize=(25,8))\n",
        "filter_data = df_books_users[df_books_users['num_pages']<=800.0]\n",
        "sns.distplot(filter_data['num_pages'], ax=axes[0], color='grey')\n",
        "sns.boxplot(y= 'num_pages', data=filter_data[(filter_data['book_average_rating']>2.6) & (filter_data['book_average_rating']<4.8)] , ax=axes[1],  x='user_rating')\n",
        "plt.show()"
      ]
    },
    {
      "cell_type": "markdown",
      "metadata": {
        "id": "FBZX6cwy9i6D"
      },
      "source": [
        "Observation:\n",
        "\n",
        "\n",
        "*   99% of the books have less than 767 pages.\n",
        "*   There are 4 books which have >= 55000 pages, they are the oxford dictionary, wikipedia translated books.They could have those number of pages, we cannot drop them.\n",
        "*   There are nearly 11349 books which have <=4 pages, this is absurd.These are outliers we will drop them.\n",
        "\n"
      ]
    },
    {
      "cell_type": "markdown",
      "metadata": {
        "id": "wMnxBIYEWnMY"
      },
      "source": [
        "### ***publication_year***"
      ]
    },
    {
      "cell_type": "code",
      "execution_count": null,
      "metadata": {
        "colab": {
          "base_uri": "https://localhost:8080/"
        },
        "id": "7hncPC7pWllP",
        "outputId": "f9962ceb-a8e8-4993-90a3-bdc0287e4e33"
      },
      "outputs": [
        {
          "output_type": "stream",
          "name": "stdout",
          "text": [
            "0th percentile is 1.0\n",
            "10th percentile is 2002.0\n",
            "20th percentile is 2007.0\n",
            "30th percentile is 2009.0\n",
            "40th percentile is 2011.0\n",
            "50th percentile is 2012.0\n",
            "60th percentile is 2013.0\n",
            "70th percentile is 2014.0\n",
            "80th percentile is 2015.0\n",
            "90th percentile is 2016.0\n",
            "100th percentile is 21016.0\n"
          ]
        }
      ],
      "source": [
        "for i in range(0, 110, 10):\n",
        "  print(f'{i}th percentile is', np.percentile(df_books_users['publication_year'], i))"
      ]
    },
    {
      "cell_type": "code",
      "execution_count": null,
      "metadata": {
        "colab": {
          "base_uri": "https://localhost:8080/"
        },
        "id": "hvO0xnmwXOQh",
        "outputId": "946ec395-354e-44a9-9c39-67bb51240118"
      },
      "outputs": [
        {
          "output_type": "stream",
          "name": "stdout",
          "text": [
            "90th percentile is 2016.0\n",
            "91th percentile is 2016.0\n",
            "92th percentile is 2016.0\n",
            "93th percentile is 2016.0\n",
            "94th percentile is 2016.0\n",
            "95th percentile is 2016.0\n",
            "96th percentile is 2017.0\n",
            "97th percentile is 2017.0\n",
            "98th percentile is 2017.0\n",
            "99th percentile is 2017.0\n",
            "100th percentile is 21016.0\n"
          ]
        }
      ],
      "source": [
        "for i in range(90, 101, 1):\n",
        "  print(f'{i}th percentile is', np.percentile(df_books_users['publication_year'], i))"
      ]
    },
    {
      "cell_type": "code",
      "execution_count": null,
      "metadata": {
        "colab": {
          "base_uri": "https://localhost:8080/"
        },
        "id": "oO9oF3XJYuNl",
        "outputId": "e026f516-a6b1-4ccd-d0f0-82b98df8bb2c"
      },
      "outputs": [
        {
          "output_type": "stream",
          "name": "stdout",
          "text": [
            "0th percentile is 1.0\n",
            "1th percentile is 1982.0\n",
            "2th percentile is 1989.0\n",
            "3th percentile is 1992.0\n",
            "4th percentile is 1995.0\n",
            "5th percentile is 1997.0\n",
            "6th percentile is 1998.0\n",
            "7th percentile is 1999.0\n",
            "8th percentile is 2000.0\n",
            "9th percentile is 2001.0\n",
            "10th percentile is 2002.0\n"
          ]
        }
      ],
      "source": [
        "for i in range(0, 11, 1):\n",
        "  print(f'{i}th percentile is', np.percentile(df_books_users['publication_year'], i))"
      ]
    },
    {
      "cell_type": "code",
      "execution_count": null,
      "metadata": {
        "colab": {
          "base_uri": "https://localhost:8080/"
        },
        "id": "SlKX5UHqZK1Q",
        "outputId": "f82e87db-db34-40e7-990e-d45f8da0afa9"
      },
      "outputs": [
        {
          "output_type": "stream",
          "name": "stdout",
          "text": [
            "publication_year <1850.0 :-    683\n",
            "publication_year >2022.0 :-    370\n"
          ]
        }
      ],
      "source": [
        "print('publication_year <1850.0 :-   ', df_books_users[df_books_users['publication_year']<1850.0]['publication_year'].count())\n",
        "print('publication_year >2022.0 :-   ', df_books_users[df_books_users['publication_year']>2022.0]['publication_year'].count())"
      ]
    },
    {
      "cell_type": "code",
      "execution_count": null,
      "metadata": {
        "id": "qzIDPXKUXXY2"
      },
      "outputs": [],
      "source": [
        "df_books_users = df_books_users[(df_books_users['publication_year']>=1850.0)]\n",
        "df_books_users = df_books_users[(df_books_users['publication_year']<=2022.0)]"
      ]
    },
    {
      "cell_type": "code",
      "execution_count": null,
      "metadata": {
        "colab": {
          "base_uri": "https://localhost:8080/"
        },
        "id": "El6jlcPTWzXk",
        "outputId": "765dfcdc-ce9b-4b46-ba2f-f2e9bf32fb2e"
      },
      "outputs": [
        {
          "output_type": "display_data",
          "data": {
            "text/plain": [
              "<Figure size 1800x576 with 2 Axes>"
            ],
            "image/png": "[encoded data removed]"
          },
          "metadata": {
            "needs_background": "light"
          }
        }
      ],
      "source": [
        "figure, axes = plt.subplots(1, 2, figsize=(25,8))\n",
        "sns.distplot(df_books_users['publication_year'], ax=axes[0], color='red')\n",
        "sns.boxplot(y= 'publication_year', data=df_books_users[(df_books_users['book_average_rating']>2.6) & (df_books_users['book_average_rating']<4.8)] , ax=axes[1],  x='user_rating')\n",
        "plt.show()"
      ]
    },
    {
      "cell_type": "markdown",
      "metadata": {
        "id": "I1DIvVNwciDT"
      },
      "source": [
        "Observation:\n",
        "\n",
        "\n",
        "*   There were some outliers, publication_year for some books was >2022 and there were some books where publication year<1850.\n",
        "*   We removed the outlier data points from our dataset.\n",
        "\n"
      ]
    },
    {
      "cell_type": "markdown",
      "metadata": {
        "id": "CJTvBwodPZ8d"
      },
      "source": [
        "### ***book_average_rating***"
      ]
    },
    {
      "cell_type": "code",
      "execution_count": null,
      "metadata": {
        "colab": {
          "base_uri": "https://localhost:8080/"
        },
        "id": "J2pBSpF66EaS",
        "outputId": "0fa118ff-0aa1-409f-9275-48c4bb535d0f"
      },
      "outputs": [
        {
          "output_type": "stream",
          "name": "stdout",
          "text": [
            "0th percentile is 1.0\n",
            "10th percentile is 3.49\n",
            "20th percentile is 3.65\n",
            "30th percentile is 3.76\n",
            "40th percentile is 3.85\n",
            "50th percentile is 3.93\n",
            "60th percentile is 4.0\n",
            "70th percentile is 4.09\n",
            "80th percentile is 4.18\n",
            "90th percentile is 4.3\n",
            "100th percentile is 5.0\n"
          ]
        }
      ],
      "source": [
        "for i in range(0, 110, 10):\n",
        "  print(f'{i}th percentile is', np.percentile(df_books_users['book_average_rating'], i))"
      ]
    },
    {
      "cell_type": "code",
      "execution_count": null,
      "metadata": {
        "colab": {
          "base_uri": "https://localhost:8080/"
        },
        "id": "mcSJ-mha7NYz",
        "outputId": "23354076-abd6-4c7a-fac7-c7fe2ecdd221"
      },
      "outputs": [
        {
          "output_type": "display_data",
          "data": {
            "text/plain": [
              "<Figure size 1800x576 with 2 Axes>"
            ],
            "image/png": "[encoded data removed]"
          },
          "metadata": {
            "needs_background": "light"
          }
        }
      ],
      "source": [
        "figure, axes = plt.subplots(1, 2, figsize=(25,8))\n",
        "sns.distplot(df_books_users['book_average_rating'], ax=axes[0], color='orange')\n",
        "sns.boxplot(y= 'book_average_rating', data=df_books_users, ax=axes[1],  x='user_rating')\n",
        "plt.show()"
      ]
    },
    {
      "cell_type": "markdown",
      "metadata": {
        "id": "9WP6DRTz7B77"
      },
      "source": [
        "Onservation:\n",
        "\n",
        "*   We can see that majority of books have got average rating of 3.8 and there are very few books which has very high and low average-rating, which is expected.\n",
        "*   We cannot drop the books in any range on this feature.\n"
      ]
    },
    {
      "cell_type": "markdown",
      "metadata": {
        "id": "-Og8o4ZzP617"
      },
      "source": [
        "### ***is_ebook***"
      ]
    },
    {
      "cell_type": "code",
      "execution_count": null,
      "metadata": {
        "colab": {
          "base_uri": "https://localhost:8080/"
        },
        "id": "oA9J6oq-ReH4",
        "outputId": "4fab7c39-d32c-4b3e-870b-dfbd2197bda7"
      },
      "outputs": [
        {
          "output_type": "stream",
          "name": "stdout",
          "text": [
            "0th percentile is 0.0\n",
            "10th percentile is 0.0\n",
            "20th percentile is 0.0\n",
            "30th percentile is 0.0\n",
            "40th percentile is 0.0\n",
            "50th percentile is 0.0\n",
            "60th percentile is 0.0\n",
            "70th percentile is 0.0\n",
            "80th percentile is 0.0\n",
            "90th percentile is 1.0\n",
            "100th percentile is 1.0\n"
          ]
        }
      ],
      "source": [
        "for i in range(0, 110, 10):\n",
        "  print(f'{i}th percentile is', np.percentile(df_books_users['is_ebook'], i))"
      ]
    },
    {
      "cell_type": "code",
      "execution_count": null,
      "metadata": {
        "colab": {
          "base_uri": "https://localhost:8080/"
        },
        "id": "tVJgnnjsRybe",
        "outputId": "a39bfb93-0b83-4ce0-8d5f-b067f4dc4e5e"
      },
      "outputs": [
        {
          "output_type": "display_data",
          "data": {
            "text/plain": [
              "<Figure size 1800x576 with 2 Axes>"
            ],
            "image/png": "[encoded data removed]"
          },
          "metadata": {
            "needs_background": "light"
          }
        }
      ],
      "source": [
        "figure, axes = plt.subplots(1, 2, figsize=(25,8))\n",
        "sns.distplot(df_books_users['is_ebook'], ax=axes[0], color='blue')\n",
        "sns.boxplot(y= 'is_ebook', data=df_books_users[(df_books_users['book_average_rating']>2.6) & (df_books_users['book_average_rating']<4.8)], ax=axes[1],  x='user_rating')\n",
        "plt.show()"
      ]
    },
    {
      "cell_type": "markdown",
      "metadata": {
        "id": "3U6tFBqtSHZu"
      },
      "source": [
        "Observation:\n",
        "\n",
        "\n",
        "*   We can see that 80% of books are paper books and only 20% paper books.\n",
        "*   is_ebook seems to be useful feature as it has distribution of 80-20 over two different categories, probably it will help.\n",
        "\n"
      ]
    },
    {
      "cell_type": "markdown",
      "metadata": {
        "id": "d-nBf1jCTtBw"
      },
      "source": [
        "### ***ratings_count***"
      ]
    },
    {
      "cell_type": "code",
      "execution_count": null,
      "metadata": {
        "colab": {
          "base_uri": "https://localhost:8080/"
        },
        "id": "IQ7Nl21-TxhU",
        "outputId": "652402d6-f2cf-4c71-eee5-35b7324cb2fa"
      },
      "outputs": [
        {
          "output_type": "stream",
          "name": "stdout",
          "text": [
            "0th percentile is 16.0\n",
            "10th percentile is 42.0\n",
            "20th percentile is 88.0\n",
            "30th percentile is 174.0\n",
            "40th percentile is 332.0\n",
            "50th percentile is 624.0\n",
            "60th percentile is 1190.0\n",
            "70th percentile is 2384.0\n",
            "80th percentile is 5474.0\n",
            "90th percentile is 17746.0\n",
            "100th percentile is 748926.0\n"
          ]
        }
      ],
      "source": [
        "for i in range(0, 110, 10):\n",
        "  print(f'{i}th percentile is', np.percentile(df_books_users['ratings_count'], i))"
      ]
    },
    {
      "cell_type": "code",
      "execution_count": null,
      "metadata": {
        "colab": {
          "base_uri": "https://localhost:8080/"
        },
        "id": "tO8HlrVoT21_",
        "outputId": "b0dc2be2-1cec-4536-9413-6bf175dbb6ee"
      },
      "outputs": [
        {
          "output_type": "display_data",
          "data": {
            "text/plain": [
              "<Figure size 1800x576 with 2 Axes>"
            ],
            "image/png": "[encoded data removed]"
          },
          "metadata": {
            "needs_background": "light"
          }
        }
      ],
      "source": [
        "figure, axes = plt.subplots(1, 2, figsize=(25,8))\n",
        "filter_data = df_books_users[df_books_users['ratings_count']<=18935.0]\n",
        "sns.distplot(filter_data['ratings_count'], ax=axes[0], color='yellow')\n",
        "sns.boxplot(y= 'ratings_count', data=filter_data[(filter_data['book_average_rating']>2.6) & (filter_data['book_average_rating']<4.8)] , ax=axes[1],  x='user_rating')\n",
        "plt.show()"
      ]
    },
    {
      "cell_type": "markdown",
      "metadata": {
        "id": "kczxn6kHV281"
      },
      "source": [
        "Observation:\n",
        "\n",
        "\n",
        "*   90% of books has been rated by less than 17746 users.\n",
        "*   Data is distributed across all user_rating, we will keep it.\n",
        "\n"
      ]
    },
    {
      "cell_type": "markdown",
      "metadata": {
        "id": "WK-pdGyjGluX"
      },
      "source": [
        "### ***Distplots and Countplots Analysis/ Conclusion***"
      ]
    },
    {
      "cell_type": "markdown",
      "metadata": {
        "id": "f5mF7pXI2DGE"
      },
      "source": [
        "***Distplot***"
      ]
    },
    {
      "cell_type": "code",
      "execution_count": null,
      "metadata": {
        "colab": {
          "base_uri": "https://localhost:8080/"
        },
        "id": "iL0XcunkvRmS",
        "outputId": "4f173f67-7a31-4850-a568-bd3adceef36a"
      },
      "outputs": [
        {
          "output_type": "display_data",
          "data": {
            "text/plain": [
              "<Figure size 2160x720 with 4 Axes>"
            ],
            "image/png": "[encoded data removed]"
          },
          "metadata": {
            "needs_background": "light"
          }
        }
      ],
      "source": [
        "filtered_dataset = df_books_processed[(df_books_processed['book_average_rating']>4.0) & (df_books_processed['ratings_count']>8000) & (df_books_processed['publication_year']>1950)]\n",
        "\n",
        "\n",
        "figure, axes = plt.subplots(2, 2, figsize=(30,10))\n",
        "sns.distplot(filtered_dataset['book_average_rating'], ax=axes[0,0], label='Average Rating on Books', color='orange')\n",
        "sns.distplot(filtered_dataset['num_pages'], ax=axes[0,1], label='Number of Pages in Books',color=\"green\")\n",
        "sns.distplot(filtered_dataset['publication_year'], ax=axes[1,0], label='Publication Year of Books',color=\"blue\")\n",
        "sns.distplot(filtered_dataset['is_ebook'], ax=axes[1,1], label='E-Book/Paper Book',color=\"black\")\n",
        "plt.show()"
      ]
    },
    {
      "cell_type": "markdown",
      "metadata": {
        "id": "BayUB-7N2JZq"
      },
      "source": [
        "***Countplots***"
      ]
    },
    {
      "cell_type": "code",
      "execution_count": null,
      "metadata": {
        "colab": {
          "base_uri": "https://localhost:8080/"
        },
        "id": "We700h8q8c48",
        "outputId": "ea1e7be4-a9f1-4e02-ce8b-fe4c1b0577b6"
      },
      "outputs": [
        {
          "output_type": "display_data",
          "data": {
            "text/plain": [
              "<Figure size 864x360 with 1 Axes>"
            ],
            "image/png": "[encoded data removed]"
          },
          "metadata": {}
        }
      ],
      "source": [
        "plt.style.use('ggplot')\n",
        "plt.figure(figsize=(12, 5))\n",
        "sns.countplot(data = df_books_users, x= 'user_rating', palette='Set2')\n",
        "plt.show()"
      ]
    },
    {
      "cell_type": "code",
      "execution_count": null,
      "metadata": {
        "colab": {
          "base_uri": "https://localhost:8080/"
        },
        "id": "iIwjZndB3Ut2",
        "outputId": "f8f988f0-caed-477f-a4b3-97097e655897"
      },
      "outputs": [
        {
          "output_type": "display_data",
          "data": {
            "text/plain": [
              "<Figure size 2304x576 with 1 Axes>"
            ],
            "image/png": "[encoded data removed]"
          },
          "metadata": {}
        }
      ],
      "source": [
        "plt.style.use('ggplot')\n",
        "plt.figure(figsize=(32, 8))\n",
        "sns.countplot(data=filtered_dataset[filtered_dataset['num_pages']<=100] , x='num_pages', palette='husl')\n",
        "plt.show()"
      ]
    },
    {
      "cell_type": "code",
      "execution_count": null,
      "metadata": {
        "colab": {
          "base_uri": "https://localhost:8080/"
        },
        "id": "dKiCa97l4HId",
        "outputId": "e7d109b6-79e3-4b46-ffa4-4c64cb3fa734"
      },
      "outputs": [
        {
          "output_type": "display_data",
          "data": {
            "text/plain": [
              "<Figure size 2304x576 with 1 Axes>"
            ],
            "image/png": "[encoded data removed]"
          },
          "metadata": {}
        }
      ],
      "source": [
        "plt.style.use('fivethirtyeight')\n",
        "plt.figure(figsize=(32, 8))\n",
        "sns.countplot(data=filtered_dataset[filtered_dataset['publication_year']>2000] , x='publication_year', palette='pastel')\n",
        "plt.show()"
      ]
    },
    {
      "cell_type": "markdown",
      "metadata": {
        "id": "7fmh9rVXYKCg"
      },
      "source": [
        "### ***Correlation Analysis between each numeric feature***"
      ]
    },
    {
      "cell_type": "code",
      "execution_count": null,
      "metadata": {
        "colab": {
          "base_uri": "https://localhost:8080/",
          "height": 653
        },
        "id": "NsSVPOnOSjI8",
        "outputId": "3809f4f9-1206-48bf-88d0-db61c860d995"
      },
      "outputs": [
        {
          "output_type": "display_data",
          "data": {
            "text/plain": [
              "<Figure size 864x576 with 2 Axes>"
            ],
            "image/png": "[encoded data removed]"
          },
          "metadata": {}
        }
      ],
      "source": [
        "cormat = df_books_users[['publication_year', 'ratings_count', 'book_average_rating', 'num_pages', 'user_rating']].corr()\n",
        "round(cormat,2)\n",
        "plt.figure(figsize=(12, 8))\n",
        "sns.heatmap(cormat, cmap='cividis', annot=True, linewidths=2)\n",
        "plt.show()"
      ]
    },
    {
      "cell_type": "markdown",
      "metadata": {
        "id": "OxPKnsAsYShB"
      },
      "source": [
        "Observation:\n",
        "\n",
        "\n",
        "*   If we look w.r.t to user-rating(target feature), we see that book-average is next highly correlated feature followed by publication_year, rating_count and then at last it's least correlated with num_pages in books \n",
        "\n"
      ]
    },
    {
      "cell_type": "markdown",
      "metadata": {
        "id": "goGrB6Q0IH7i"
      },
      "source": [
        "***Saving df_books_users_processed dataframe***"
      ]
    },
    {
      "cell_type": "code",
      "execution_count": null,
      "metadata": {
        "id": "z_aXUVwMHz9h"
      },
      "outputs": [],
      "source": [
        "df_books_users_processed = df_books_users\n",
        "df_books_users_processed.to_csv('df_books_users_processed.csv.gz', index=False, compression='gzip')"
      ]
    },
    {
      "cell_type": "code",
      "execution_count": null,
      "metadata": {
        "colab": {
          "base_uri": "https://localhost:8080/"
        },
        "id": "OSVkOJsQI6NA",
        "outputId": "dbdd7c01-7208-4ac7-86d4-039fad4da88e"
      },
      "outputs": [
        {
          "output_type": "execute_result",
          "data": {
            "text/plain": [
              "book_id                 False\n",
              "title_without_series    False\n",
              "book_description        False\n",
              "publication_year        False\n",
              "publisher               False\n",
              "ratings_count           False\n",
              "book_average_rating     False\n",
              "cover_page              False\n",
              "book_url                False\n",
              "is_ebook                False\n",
              "num_pages               False\n",
              "mod_title               False\n",
              "user_id                 False\n",
              "review_text             False\n",
              "user_rating             False\n",
              "book_id_mapped          False\n",
              "publisher_mapped        False\n",
              "is_ebook_mapped         False\n",
              "user_id_mapped          False\n",
              "dtype: bool"
            ]
          },
          "metadata": {},
          "execution_count": 4
        }
      ],
      "source": [
        "df_books_users_processed.isnull().any()"
      ]
    },
    {
      "cell_type": "code",
      "execution_count": 6,
      "metadata": {
        "id": "2Q4hEJji1TiD"
      },
      "outputs": [],
      "source": [
        "df_books_processed = pd.read_csv('/content/df_books_processed.csv.gz')\n",
        "df_books_users_processed = pd.read_csv('/content/df_books_users_processed.csv.gz')"
      ]
    },
    {
      "cell_type": "code",
      "execution_count": 22,
      "metadata": {
        "id": "JVJKP6y-Iget"
      },
      "outputs": [],
      "source": [
        "df_books_users_processed = df_books_users_processed.dropna(axis=0)\n",
        "df_books_processed = df_books_processed[df_books_processed['mod_title'].notnull()]"
      ]
    },
    {
      "cell_type": "markdown",
      "metadata": {
        "id": "YEWTxQGhrP2B"
      },
      "source": [
        "Conclusion:\n",
        "\n",
        "*   There are 2079758 books in df_users_processed and 678274 books in df_books_processed.We merged the two dataframes on 'book_id', by making inner merge.After merge operation we are remaining with only books for which we have information in  both df_books and df_users dataframe.\n",
        "*   We have 3,28,596 users remaining in final dataframe, df_books_users.\n",
        "*   We have 6,59,411 books in final dataframe, df_books_users.\n",
        "*   We have 54,67,457  data points (users rating on books) with  15 features avaialble.\n",
        "\n",
        "Features are: \n",
        "\n",
        "1.   book_id\n",
        "2.   title_without_series\n",
        "3.   book_description\n",
        "4.   publication_year\n",
        "5.   publisher\n",
        "6.   ratings_count\n",
        "7.   book_average_rating\n",
        "8.   cover_page\n",
        "9.   book_url\n",
        "10.  is_ebook\n",
        "11.  num_pages\n",
        "12.  user_id\n",
        "13.  mod_title\n",
        "14.  user_rating\n",
        "15.  review_text\n",
        "\n",
        "\n",
        "\n",
        "\n",
        "\n",
        "\n",
        "\n",
        "\n"
      ]
    },
    {
      "cell_type": "markdown",
      "metadata": {
        "id": "rojt4MxTTHDm"
      },
      "source": [
        "## **First Cut Solution**"
      ]
    },
    {
      "cell_type": "markdown",
      "metadata": {
        "id": "jFaHNHcc0tPN"
      },
      "source": [
        "### Top 50 books with best book_average_rating"
      ]
    },
    {
      "cell_type": "markdown",
      "metadata": {
        "id": "4wT3TQffXCb0"
      },
      "source": [
        "*Ratings_count*"
      ]
    },
    {
      "cell_type": "code",
      "execution_count": null,
      "metadata": {
        "colab": {
          "base_uri": "https://localhost:8080/"
        },
        "id": "oGIeP0gvIbLd",
        "outputId": "c798f4a4-6c80-4795-9e06-c1470c1b0aa6"
      },
      "outputs": [
        {
          "output_type": "stream",
          "name": "stdout",
          "text": [
            "0th percentile is 16.0\n",
            "10th percentile is 20.0\n",
            "20th percentile is 26.0\n",
            "30th percentile is 34.0\n",
            "40th percentile is 45.0\n",
            "50th percentile is 61.0\n",
            "60th percentile is 86.0\n",
            "70th percentile is 131.0\n",
            "80th percentile is 226.0\n",
            "90th percentile is 529.0\n",
            "100th percentile is 748926.0\n"
          ]
        }
      ],
      "source": [
        "for i in range(0, 110, 10):\n",
        "  print(f'{i}th percentile is', np.percentile(df_books_processed['ratings_count'], i))"
      ]
    },
    {
      "cell_type": "code",
      "execution_count": null,
      "metadata": {
        "colab": {
          "base_uri": "https://localhost:8080/"
        },
        "id": "Z-xBy4pxUT6M",
        "outputId": "131d58d9-1925-4c31-b2da-fde2c42c836f"
      },
      "outputs": [
        {
          "output_type": "stream",
          "name": "stdout",
          "text": [
            "90th percentile is 638.0\n",
            "91th percentile is 729.0\n",
            "92th percentile is 843.0\n",
            "93th percentile is 992.0\n",
            "94th percentile is 1193.0\n",
            "95th percentile is 1481.0\n",
            "96th percentile is 1911.7600000000093\n",
            "97th percentile is 2650.0\n",
            "98th percentile is 4138.0\n",
            "99th percentile is 8469.0\n",
            "100th percentile is 4899965.0\n"
          ]
        }
      ],
      "source": [
        "for i in range(90, 101):\n",
        "  print(f'{i}th percentile is', np.percentile(df_books['ratings_count'], i))"
      ]
    },
    {
      "cell_type": "markdown",
      "metadata": {
        "id": "y3ci0U7HXMTZ"
      },
      "source": [
        "\n",
        "\n",
        "*   *On average 50% of books are rated by 61 users*\n",
        "\n"
      ]
    },
    {
      "cell_type": "markdown",
      "metadata": {
        "id": "SBLi3KEhIWe1"
      },
      "source": [
        "*These are highest rated books in among top 3% highly rated movies by users*"
      ]
    },
    {
      "cell_type": "code",
      "execution_count": 85,
      "metadata": {
        "colab": {
          "base_uri": "https://localhost:8080/",
          "height": 511
        },
        "id": "wsT6riaZWiCD",
        "outputId": "a114a9ef-9755-43b9-97ec-2117426315b9"
      },
      "outputs": [
        {
          "output_type": "execute_result",
          "data": {
            "text/plain": [
              "<pandas.io.formats.style.Styler at 0x7f2aea7bf1d0>"
            ],
            "text/html": [
              "<style type=\"text/css\">\n",
              "</style>\n",
              "<table id=\"T_519e7_\" class=\"dataframe\">\n",
              "  <thead>\n",
              "    <tr>\n",
              "      <th class=\"blank level0\" >&nbsp;</th>\n",
              "      <th class=\"col_heading level0 col0\" >book_id</th>\n",
              "      <th class=\"col_heading level0 col1\" >title_without_series</th>\n",
              "      <th class=\"col_heading level0 col2\" >book_average_rating</th>\n",
              "      <th class=\"col_heading level0 col3\" >book_url</th>\n",
              "      <th class=\"col_heading level0 col4\" >cover_page</th>\n",
              "    </tr>\n",
              "  </thead>\n",
              "  <tbody>\n",
              "    <tr>\n",
              "      <th id=\"T_519e7_level0_row0\" class=\"row_heading level0 row0\" >452488</th>\n",
              "      <td id=\"T_519e7_row0_col0\" class=\"data row0 col0\" >11221285</td>\n",
              "      <td id=\"T_519e7_row0_col1\" class=\"data row0 col1\" >The Way of Kings, Part 2 (The Stormlight Archive #1.2)</td>\n",
              "      <td id=\"T_519e7_row0_col2\" class=\"data row0 col2\" >4.780000</td>\n",
              "      <td id=\"T_519e7_row0_col3\" class=\"data row0 col3\" ><a target=\"_blank\" href=\"https://www.goodreads.com/book/show/11221285-the-way-of-kings-part-2\">Goodreads</a></td>\n",
              "      <td id=\"T_519e7_row0_col4\" class=\"data row0 col4\" ><a href=\"https://images.gr-assets.com/books/1314602075m/11221285.jpg\"><img src=\"https://images.gr-assets.com/books/1314602075m/11221285.jpg\" width=60></img></a></td>\n",
              "    </tr>\n",
              "    <tr>\n",
              "      <th id=\"T_519e7_level0_row1\" class=\"row_heading level0 row1\" >671973</th>\n",
              "      <td id=\"T_519e7_row1_col0\" class=\"data row1 col0\" >8</td>\n",
              "      <td id=\"T_519e7_row1_col1\" class=\"data row1 col1\" >Harry Potter Boxed Set, Books 1-5 (Harry Potter, #1-5)</td>\n",
              "      <td id=\"T_519e7_row1_col2\" class=\"data row1 col2\" >4.770000</td>\n",
              "      <td id=\"T_519e7_row1_col3\" class=\"data row1 col3\" ><a target=\"_blank\" href=\"https://www.goodreads.com/book/show/8.Harry_Potter_Boxed_Set_Books_1_5\">Goodreads</a></td>\n",
              "      <td id=\"T_519e7_row1_col4\" class=\"data row1 col4\" ><a href=\"https://s.gr-assets.com/assets/nophoto/book/111x148-bcc042a9c91a29c1d680899eff700a03.png\"><img src=\"https://s.gr-assets.com/assets/nophoto/book/111x148-bcc042a9c91a29c1d680899eff700a03.png\" width=60></img></a></td>\n",
              "    </tr>\n",
              "    <tr>\n",
              "      <th id=\"T_519e7_level0_row2\" class=\"row_heading level0 row2\" >199975</th>\n",
              "      <td id=\"T_519e7_row2_col0\" class=\"data row2 col0\" >165068</td>\n",
              "      <td id=\"T_519e7_row2_col1\" class=\"data row2 col1\" >The Jesus Storybook Bible: Every Story Whispers His Name</td>\n",
              "      <td id=\"T_519e7_row2_col2\" class=\"data row2 col2\" >4.750000</td>\n",
              "      <td id=\"T_519e7_row2_col3\" class=\"data row2 col3\" ><a target=\"_blank\" href=\"https://www.goodreads.com/book/show/165068.The_Jesus_Storybook_Bible\">Goodreads</a></td>\n",
              "      <td id=\"T_519e7_row2_col4\" class=\"data row2 col4\" ><a href=\"https://images.gr-assets.com/books/1344715720m/165068.jpg\"><img src=\"https://images.gr-assets.com/books/1344715720m/165068.jpg\" width=60></img></a></td>\n",
              "    </tr>\n",
              "    <tr>\n",
              "      <th id=\"T_519e7_level0_row3\" class=\"row_heading level0 row3\" >605767</th>\n",
              "      <td id=\"T_519e7_row3_col0\" class=\"data row3 col0\" >24814</td>\n",
              "      <td id=\"T_519e7_row3_col1\" class=\"data row3 col1\" >It's a Magical World: A Calvin and Hobbes Collection</td>\n",
              "      <td id=\"T_519e7_row3_col2\" class=\"data row3 col2\" >4.750000</td>\n",
              "      <td id=\"T_519e7_row3_col3\" class=\"data row3 col3\" ><a target=\"_blank\" href=\"https://www.goodreads.com/book/show/24814.It_s_a_Magical_World\">Goodreads</a></td>\n",
              "      <td id=\"T_519e7_row3_col4\" class=\"data row3 col4\" ><a href=\"https://images.gr-assets.com/books/1437420710m/24814.jpg\"><img src=\"https://images.gr-assets.com/books/1437420710m/24814.jpg\" width=60></img></a></td>\n",
              "    </tr>\n",
              "    <tr>\n",
              "      <th id=\"T_519e7_level0_row4\" class=\"row_heading level0 row4\" >231170</th>\n",
              "      <td id=\"T_519e7_row4_col0\" class=\"data row4 col0\" >70489</td>\n",
              "      <td id=\"T_519e7_row4_col1\" class=\"data row4 col1\" >There's Treasure Everywhere: A Calvin and Hobbes Collection</td>\n",
              "      <td id=\"T_519e7_row4_col2\" class=\"data row4 col2\" >4.740000</td>\n",
              "      <td id=\"T_519e7_row4_col3\" class=\"data row4 col3\" ><a target=\"_blank\" href=\"https://www.goodreads.com/book/show/70489.There_s_Treasure_Everywhere\">Goodreads</a></td>\n",
              "      <td id=\"T_519e7_row4_col4\" class=\"data row4 col4\" ><a href=\"https://s.gr-assets.com/assets/nophoto/book/111x148-bcc042a9c91a29c1d680899eff700a03.png\"><img src=\"https://s.gr-assets.com/assets/nophoto/book/111x148-bcc042a9c91a29c1d680899eff700a03.png\" width=60></img></a></td>\n",
              "    </tr>\n",
              "  </tbody>\n",
              "</table>\n"
            ]
          },
          "metadata": {},
          "execution_count": 85
        }
      ],
      "source": [
        "def top_book_average_rating():\n",
        "  top50_highest_rated_books = df_books_processed[(df_books_processed['book_average_rating']>=4.50) & (df_books_processed['ratings_count']>3000.0)].sort_values(by='book_average_rating', ascending=False)\n",
        "  top50_highest_rated_books[:50].to_csv('top50_highest_rated_books.csv', index=False)\n",
        "  return top50_highest_rated_books[['book_id', 'title_without_series', 'book_average_rating', 'book_url', 'cover_page']].head(5).style.format({'book_url': make_clickable, 'cover_page': show_image})\n",
        "\n",
        "top_book_average_rating()"
      ]
    },
    {
      "cell_type": "markdown",
      "metadata": {
        "id": "DkbbUQ10J9_a"
      },
      "source": [
        "###Top 50 concised books\n"
      ]
    },
    {
      "cell_type": "code",
      "execution_count": null,
      "metadata": {
        "colab": {
          "base_uri": "https://localhost:8080/"
        },
        "id": "5d-il1ZhuqE2",
        "outputId": "0a4c199e-deb1-42b4-fee9-9c4ae771f654"
      },
      "outputs": [
        {
          "output_type": "execute_result",
          "data": {
            "text/plain": [
              "count    937378.000000\n",
              "mean        280.252306\n",
              "std        1002.116670\n",
              "min           0.000000\n",
              "25%         170.000000\n",
              "50%         263.000000\n",
              "75%         356.000000\n",
              "max      945077.000000\n",
              "Name: num_pages, dtype: float64"
            ]
          },
          "metadata": {},
          "execution_count": 76
        }
      ],
      "source": [
        "df_books['num_pages'].describe()"
      ]
    },
    {
      "cell_type": "code",
      "execution_count": 86,
      "metadata": {
        "colab": {
          "base_uri": "https://localhost:8080/",
          "height": 473
        },
        "id": "c-bbgqrKxVpY",
        "outputId": "19d44388-e2e1-4844-faa9-c241527b0b76"
      },
      "outputs": [
        {
          "output_type": "execute_result",
          "data": {
            "text/plain": [
              "<pandas.io.formats.style.Styler at 0x7f2ada434c90>"
            ],
            "text/html": [
              "<style type=\"text/css\">\n",
              "</style>\n",
              "<table id=\"T_7f098_\" class=\"dataframe\">\n",
              "  <thead>\n",
              "    <tr>\n",
              "      <th class=\"blank level0\" >&nbsp;</th>\n",
              "      <th class=\"col_heading level0 col0\" >book_id</th>\n",
              "      <th class=\"col_heading level0 col1\" >title_without_series</th>\n",
              "      <th class=\"col_heading level0 col2\" >num_pages</th>\n",
              "      <th class=\"col_heading level0 col3\" >book_average_rating</th>\n",
              "      <th class=\"col_heading level0 col4\" >book_url</th>\n",
              "      <th class=\"col_heading level0 col5\" >cover_page</th>\n",
              "    </tr>\n",
              "  </thead>\n",
              "  <tbody>\n",
              "    <tr>\n",
              "      <th id=\"T_7f098_level0_row0\" class=\"row_heading level0 row0\" >605767</th>\n",
              "      <td id=\"T_7f098_row0_col0\" class=\"data row0 col0\" >24814</td>\n",
              "      <td id=\"T_7f098_row0_col1\" class=\"data row0 col1\" >It's a Magical World: A Calvin and Hobbes Collection</td>\n",
              "      <td id=\"T_7f098_row0_col2\" class=\"data row0 col2\" >176.000000</td>\n",
              "      <td id=\"T_7f098_row0_col3\" class=\"data row0 col3\" >4.750000</td>\n",
              "      <td id=\"T_7f098_row0_col4\" class=\"data row0 col4\" ><a target=\"_blank\" href=\"https://www.goodreads.com/book/show/24814.It_s_a_Magical_World\">Goodreads</a></td>\n",
              "      <td id=\"T_7f098_row0_col5\" class=\"data row0 col5\" ><a href=\"https://images.gr-assets.com/books/1437420710m/24814.jpg\"><img src=\"https://images.gr-assets.com/books/1437420710m/24814.jpg\" width=60></img></a></td>\n",
              "    </tr>\n",
              "    <tr>\n",
              "      <th id=\"T_7f098_level0_row1\" class=\"row_heading level0 row1\" >231170</th>\n",
              "      <td id=\"T_7f098_row1_col0\" class=\"data row1 col0\" >70489</td>\n",
              "      <td id=\"T_7f098_row1_col1\" class=\"data row1 col1\" >There's Treasure Everywhere: A Calvin and Hobbes Collection</td>\n",
              "      <td id=\"T_7f098_row1_col2\" class=\"data row1 col2\" >176.000000</td>\n",
              "      <td id=\"T_7f098_row1_col3\" class=\"data row1 col3\" >4.740000</td>\n",
              "      <td id=\"T_7f098_row1_col4\" class=\"data row1 col4\" ><a target=\"_blank\" href=\"https://www.goodreads.com/book/show/70489.There_s_Treasure_Everywhere\">Goodreads</a></td>\n",
              "      <td id=\"T_7f098_row1_col5\" class=\"data row1 col5\" ><a href=\"https://s.gr-assets.com/assets/nophoto/book/111x148-bcc042a9c91a29c1d680899eff700a03.png\"><img src=\"https://s.gr-assets.com/assets/nophoto/book/111x148-bcc042a9c91a29c1d680899eff700a03.png\" width=60></img></a></td>\n",
              "    </tr>\n",
              "    <tr>\n",
              "      <th id=\"T_7f098_level0_row2\" class=\"row_heading level0 row2\" >605768</th>\n",
              "      <td id=\"T_7f098_row2_col0\" class=\"data row2 col0\" >24815</td>\n",
              "      <td id=\"T_7f098_row2_col1\" class=\"data row2 col1\" >The Indispensable Calvin and Hobbes</td>\n",
              "      <td id=\"T_7f098_row2_col2\" class=\"data row2 col2\" >255.000000</td>\n",
              "      <td id=\"T_7f098_row2_col3\" class=\"data row2 col3\" >4.730000</td>\n",
              "      <td id=\"T_7f098_row2_col4\" class=\"data row2 col4\" ><a target=\"_blank\" href=\"https://www.goodreads.com/book/show/24815.The_Indispensable_Calvin_and_Hobbes\">Goodreads</a></td>\n",
              "      <td id=\"T_7f098_row2_col5\" class=\"data row2 col5\" ><a href=\"https://s.gr-assets.com/assets/nophoto/book/111x148-bcc042a9c91a29c1d680899eff700a03.png\"><img src=\"https://s.gr-assets.com/assets/nophoto/book/111x148-bcc042a9c91a29c1d680899eff700a03.png\" width=60></img></a></td>\n",
              "    </tr>\n",
              "    <tr>\n",
              "      <th id=\"T_7f098_level0_row3\" class=\"row_heading level0 row3\" >231171</th>\n",
              "      <td id=\"T_7f098_row3_col0\" class=\"data row3 col0\" >70487</td>\n",
              "      <td id=\"T_7f098_row3_col1\" class=\"data row3 col1\" >Attack of the Deranged Mutant Killer Monster Snow Goons</td>\n",
              "      <td id=\"T_7f098_row3_col2\" class=\"data row3 col2\" >127.000000</td>\n",
              "      <td id=\"T_7f098_row3_col3\" class=\"data row3 col3\" >4.720000</td>\n",
              "      <td id=\"T_7f098_row3_col4\" class=\"data row3 col4\" ><a target=\"_blank\" href=\"https://www.goodreads.com/book/show/70487.Attack_of_the_Deranged_Mutant_Killer_Monster_Snow_Goons\">Goodreads</a></td>\n",
              "      <td id=\"T_7f098_row3_col5\" class=\"data row3 col5\" ><a href=\"https://images.gr-assets.com/books/1384735429m/70487.jpg\"><img src=\"https://images.gr-assets.com/books/1384735429m/70487.jpg\" width=60></img></a></td>\n",
              "    </tr>\n",
              "    <tr>\n",
              "      <th id=\"T_7f098_level0_row4\" class=\"row_heading level0 row4\" >107090</th>\n",
              "      <td id=\"T_7f098_row4_col0\" class=\"data row4 col0\" >121792</td>\n",
              "      <td id=\"T_7f098_row4_col1\" class=\"data row4 col1\" >The Revenge of the Baby-Sat</td>\n",
              "      <td id=\"T_7f098_row4_col2\" class=\"data row4 col2\" >128.000000</td>\n",
              "      <td id=\"T_7f098_row4_col3\" class=\"data row4 col3\" >4.710000</td>\n",
              "      <td id=\"T_7f098_row4_col4\" class=\"data row4 col4\" ><a target=\"_blank\" href=\"https://www.goodreads.com/book/show/121792.The_Revenge_of_the_Baby_Sat\">Goodreads</a></td>\n",
              "      <td id=\"T_7f098_row4_col5\" class=\"data row4 col5\" ><a href=\"https://images.gr-assets.com/books/1384734025m/121792.jpg\"><img src=\"https://images.gr-assets.com/books/1384734025m/121792.jpg\" width=60></img></a></td>\n",
              "    </tr>\n",
              "  </tbody>\n",
              "</table>\n"
            ]
          },
          "metadata": {},
          "execution_count": 86
        }
      ],
      "source": [
        "def top_concised_books():\n",
        "  top_50_concised_books = df_books_processed[(df_books_processed['num_pages']<=300)& (df_books_processed['ratings_count']>3000.0)&(df_books_processed['book_average_rating']>=4.50)].sort_values(by='book_average_rating', ascending=False)\n",
        "  top_50_concised_books.to_csv('top_50_concised_books.csv', index=False)\n",
        "  return top_50_concised_books[['book_id', 'title_without_series', 'num_pages', 'book_average_rating', 'book_url', 'cover_page']].head(5).style.format({'book_url': make_clickable, 'cover_page': show_image})\n",
        "\n",
        "top_concised_books()"
      ]
    },
    {
      "cell_type": "markdown",
      "metadata": {
        "id": "BQSJ-MiTy0cQ"
      },
      "source": [
        "### Top 50 e-books"
      ]
    },
    {
      "cell_type": "markdown",
      "metadata": {
        "id": "1QO6FXNYvTeS"
      },
      "source": [
        "*We can see that 'is_ebook' is useful feature, as among highly rated books it books that are not e-book has more percentage*"
      ]
    },
    {
      "cell_type": "code",
      "execution_count": 87,
      "metadata": {
        "colab": {
          "base_uri": "https://localhost:8080/",
          "height": 511
        },
        "id": "oZvfq6rOtZAl",
        "outputId": "6b009223-2ecc-48f2-93d9-176dc26534c2"
      },
      "outputs": [
        {
          "output_type": "execute_result",
          "data": {
            "text/plain": [
              "<pandas.io.formats.style.Styler at 0x7f2ad85f9e10>"
            ],
            "text/html": [
              "<style type=\"text/css\">\n",
              "</style>\n",
              "<table id=\"T_dc6c7_\" class=\"dataframe\">\n",
              "  <thead>\n",
              "    <tr>\n",
              "      <th class=\"blank level0\" >&nbsp;</th>\n",
              "      <th class=\"col_heading level0 col0\" >book_id</th>\n",
              "      <th class=\"col_heading level0 col1\" >title_without_series</th>\n",
              "      <th class=\"col_heading level0 col2\" >book_average_rating</th>\n",
              "      <th class=\"col_heading level0 col3\" >book_url</th>\n",
              "      <th class=\"col_heading level0 col4\" >cover_page</th>\n",
              "    </tr>\n",
              "  </thead>\n",
              "  <tbody>\n",
              "    <tr>\n",
              "      <th id=\"T_dc6c7_level0_row0\" class=\"row_heading level0 row0\" >452488</th>\n",
              "      <td id=\"T_dc6c7_row0_col0\" class=\"data row0 col0\" >11221285</td>\n",
              "      <td id=\"T_dc6c7_row0_col1\" class=\"data row0 col1\" >The Way of Kings, Part 2 (The Stormlight Archive #1.2)</td>\n",
              "      <td id=\"T_dc6c7_row0_col2\" class=\"data row0 col2\" >4.780000</td>\n",
              "      <td id=\"T_dc6c7_row0_col3\" class=\"data row0 col3\" ><a target=\"_blank\" href=\"https://www.goodreads.com/book/show/11221285-the-way-of-kings-part-2\">Goodreads</a></td>\n",
              "      <td id=\"T_dc6c7_row0_col4\" class=\"data row0 col4\" ><a href=\"https://images.gr-assets.com/books/1314602075m/11221285.jpg\"><img src=\"https://images.gr-assets.com/books/1314602075m/11221285.jpg\" width=60></img></a></td>\n",
              "    </tr>\n",
              "    <tr>\n",
              "      <th id=\"T_dc6c7_level0_row1\" class=\"row_heading level0 row1\" >671973</th>\n",
              "      <td id=\"T_dc6c7_row1_col0\" class=\"data row1 col0\" >8</td>\n",
              "      <td id=\"T_dc6c7_row1_col1\" class=\"data row1 col1\" >Harry Potter Boxed Set, Books 1-5 (Harry Potter, #1-5)</td>\n",
              "      <td id=\"T_dc6c7_row1_col2\" class=\"data row1 col2\" >4.770000</td>\n",
              "      <td id=\"T_dc6c7_row1_col3\" class=\"data row1 col3\" ><a target=\"_blank\" href=\"https://www.goodreads.com/book/show/8.Harry_Potter_Boxed_Set_Books_1_5\">Goodreads</a></td>\n",
              "      <td id=\"T_dc6c7_row1_col4\" class=\"data row1 col4\" ><a href=\"https://s.gr-assets.com/assets/nophoto/book/111x148-bcc042a9c91a29c1d680899eff700a03.png\"><img src=\"https://s.gr-assets.com/assets/nophoto/book/111x148-bcc042a9c91a29c1d680899eff700a03.png\" width=60></img></a></td>\n",
              "    </tr>\n",
              "    <tr>\n",
              "      <th id=\"T_dc6c7_level0_row2\" class=\"row_heading level0 row2\" >199975</th>\n",
              "      <td id=\"T_dc6c7_row2_col0\" class=\"data row2 col0\" >165068</td>\n",
              "      <td id=\"T_dc6c7_row2_col1\" class=\"data row2 col1\" >The Jesus Storybook Bible: Every Story Whispers His Name</td>\n",
              "      <td id=\"T_dc6c7_row2_col2\" class=\"data row2 col2\" >4.750000</td>\n",
              "      <td id=\"T_dc6c7_row2_col3\" class=\"data row2 col3\" ><a target=\"_blank\" href=\"https://www.goodreads.com/book/show/165068.The_Jesus_Storybook_Bible\">Goodreads</a></td>\n",
              "      <td id=\"T_dc6c7_row2_col4\" class=\"data row2 col4\" ><a href=\"https://images.gr-assets.com/books/1344715720m/165068.jpg\"><img src=\"https://images.gr-assets.com/books/1344715720m/165068.jpg\" width=60></img></a></td>\n",
              "    </tr>\n",
              "    <tr>\n",
              "      <th id=\"T_dc6c7_level0_row3\" class=\"row_heading level0 row3\" >605767</th>\n",
              "      <td id=\"T_dc6c7_row3_col0\" class=\"data row3 col0\" >24814</td>\n",
              "      <td id=\"T_dc6c7_row3_col1\" class=\"data row3 col1\" >It's a Magical World: A Calvin and Hobbes Collection</td>\n",
              "      <td id=\"T_dc6c7_row3_col2\" class=\"data row3 col2\" >4.750000</td>\n",
              "      <td id=\"T_dc6c7_row3_col3\" class=\"data row3 col3\" ><a target=\"_blank\" href=\"https://www.goodreads.com/book/show/24814.It_s_a_Magical_World\">Goodreads</a></td>\n",
              "      <td id=\"T_dc6c7_row3_col4\" class=\"data row3 col4\" ><a href=\"https://images.gr-assets.com/books/1437420710m/24814.jpg\"><img src=\"https://images.gr-assets.com/books/1437420710m/24814.jpg\" width=60></img></a></td>\n",
              "    </tr>\n",
              "    <tr>\n",
              "      <th id=\"T_dc6c7_level0_row4\" class=\"row_heading level0 row4\" >231170</th>\n",
              "      <td id=\"T_dc6c7_row4_col0\" class=\"data row4 col0\" >70489</td>\n",
              "      <td id=\"T_dc6c7_row4_col1\" class=\"data row4 col1\" >There's Treasure Everywhere: A Calvin and Hobbes Collection</td>\n",
              "      <td id=\"T_dc6c7_row4_col2\" class=\"data row4 col2\" >4.740000</td>\n",
              "      <td id=\"T_dc6c7_row4_col3\" class=\"data row4 col3\" ><a target=\"_blank\" href=\"https://www.goodreads.com/book/show/70489.There_s_Treasure_Everywhere\">Goodreads</a></td>\n",
              "      <td id=\"T_dc6c7_row4_col4\" class=\"data row4 col4\" ><a href=\"https://s.gr-assets.com/assets/nophoto/book/111x148-bcc042a9c91a29c1d680899eff700a03.png\"><img src=\"https://s.gr-assets.com/assets/nophoto/book/111x148-bcc042a9c91a29c1d680899eff700a03.png\" width=60></img></a></td>\n",
              "    </tr>\n",
              "  </tbody>\n",
              "</table>\n"
            ]
          },
          "metadata": {},
          "execution_count": 87
        }
      ],
      "source": [
        "def top_50_paper_books():\n",
        "  df_ebook = df_books_processed[(df_books_processed['book_average_rating']>=4.5) & (df_books_processed['ratings_count']>3000.0)].sort_values(by='book_average_rating', ascending=False)\n",
        "  top_50_paper_books = df_ebook[df_ebook['is_ebook']==False]\n",
        "  top_50_paper_books.to_csv('top_50_paper_books.csv', index=False)\n",
        "  return top_50_paper_books[['book_id', 'title_without_series', 'book_average_rating', 'book_url', 'cover_page']].head(5).style.format({'book_url': make_clickable, 'cover_page': show_image})\n",
        "\n",
        "top_50_paper_books()"
      ]
    },
    {
      "cell_type": "markdown",
      "metadata": {
        "id": "L6vXi9IHo8-4"
      },
      "source": [
        "###  Books having similar book title "
      ]
    },
    {
      "cell_type": "code",
      "execution_count": null,
      "metadata": {
        "id": "OnMc-q3XpEJD"
      },
      "outputs": [],
      "source": [
        "vectorizer_title_fc = TfidfVectorizer()\n",
        "tfidf_title_fc = vectorizer_title_fc.fit_transform(df_books_processed[\"mod_title\"])"
      ]
    },
    {
      "cell_type": "code",
      "execution_count": null,
      "metadata": {
        "id": "wPKbf5faKSJY"
      },
      "outputs": [],
      "source": [
        "with open('/content/vectorizer_title.pkl', 'wb') as p:\n",
        "    dump(vectorizer_title_fc, p)\n",
        "\n",
        "with open('/content/tfidf_title.pkl', 'wb') as p:\n",
        "    dump(tfidf_title_fc, p)    \n",
        "\n",
        "with open(\"/content/vectorizer_title.pkl\", \"rb\") as p:\n",
        "    vectorizer_title_fc = load(p)    \n",
        "\n",
        "with open(\"/content/tfidf_title.pkl\", \"rb\") as p:\n",
        "    tfidf_title_fc = load(p)       "
      ]
    },
    {
      "cell_type": "code",
      "execution_count": null,
      "metadata": {
        "colab": {
          "base_uri": "https://localhost:8080/"
        },
        "id": "jfJL4nnerCli",
        "outputId": "f3dd9214-ce95-4384-a5dc-dc15ad9a459a"
      },
      "outputs": [
        {
          "name": "stdout",
          "output_type": "stream",
          "text": [
            "Enter book title: Ms. Marvel\n"
          ]
        },
        {
          "output_type": "execute_result",
          "data": {
            "text/plain": [
              "<pandas.io.formats.style.Styler at 0x7faf835dba10>"
            ],
            "text/html": [
              "<style type=\"text/css\">\n",
              "</style>\n",
              "<table id=\"T_5aaa1_\" class=\"dataframe\">\n",
              "  <thead>\n",
              "    <tr>\n",
              "      <th class=\"blank level0\" >&nbsp;</th>\n",
              "      <th class=\"col_heading level0 col0\" >book_id</th>\n",
              "      <th class=\"col_heading level0 col1\" >title_without_series</th>\n",
              "      <th class=\"col_heading level0 col2\" >book_average_rating</th>\n",
              "      <th class=\"col_heading level0 col3\" >book_url</th>\n",
              "      <th class=\"col_heading level0 col4\" >cover_page</th>\n",
              "    </tr>\n",
              "  </thead>\n",
              "  <tbody>\n",
              "    <tr>\n",
              "      <th id=\"T_5aaa1_level0_row0\" class=\"row_heading level0 row0\" >489373</th>\n",
              "      <td id=\"T_5aaa1_row0_col0\" class=\"data row0 col0\" >25747529</td>\n",
              "      <td id=\"T_5aaa1_row0_col1\" class=\"data row0 col1\" >Ms. Marvel, #16: Last Days, Part I</td>\n",
              "      <td id=\"T_5aaa1_row0_col2\" class=\"data row0 col2\" >4.350000</td>\n",
              "      <td id=\"T_5aaa1_row0_col3\" class=\"data row0 col3\" ><a target=\"_blank\" href=\"https://www.goodreads.com/book/show/25747529-ms-marvel-16\">Goodreads</a></td>\n",
              "      <td id=\"T_5aaa1_row0_col4\" class=\"data row0 col4\" ><a href=\"https://images.gr-assets.com/books/1439566764m/25747529.jpg\"><img src=\"https://images.gr-assets.com/books/1439566764m/25747529.jpg\" width=60></img></a></td>\n",
              "    </tr>\n",
              "    <tr>\n",
              "      <th id=\"T_5aaa1_level0_row1\" class=\"row_heading level0 row1\" >1307103</th>\n",
              "      <td id=\"T_5aaa1_row1_col0\" class=\"data row1 col0\" >31835461</td>\n",
              "      <td id=\"T_5aaa1_row1_col1\" class=\"data row1 col1\" >Ms. Marvel, #13: Election Day</td>\n",
              "      <td id=\"T_5aaa1_row1_col2\" class=\"data row1 col2\" >3.810000</td>\n",
              "      <td id=\"T_5aaa1_row1_col3\" class=\"data row1 col3\" ><a target=\"_blank\" href=\"https://www.goodreads.com/book/show/31835461-ms-marvel-13\">Goodreads</a></td>\n",
              "      <td id=\"T_5aaa1_row1_col4\" class=\"data row1 col4\" ><a href=\"https://images.gr-assets.com/books/1482779454m/31835461.jpg\"><img src=\"https://images.gr-assets.com/books/1482779454m/31835461.jpg\" width=60></img></a></td>\n",
              "    </tr>\n",
              "    <tr>\n",
              "      <th id=\"T_5aaa1_level0_row2\" class=\"row_heading level0 row2\" >710722</th>\n",
              "      <td id=\"T_5aaa1_row2_col0\" class=\"data row2 col0\" >30734747</td>\n",
              "      <td id=\"T_5aaa1_row2_col1\" class=\"data row2 col1\" >Ms. Marvel, #11: Civil War II</td>\n",
              "      <td id=\"T_5aaa1_row2_col2\" class=\"data row2 col2\" >4.370000</td>\n",
              "      <td id=\"T_5aaa1_row2_col3\" class=\"data row2 col3\" ><a target=\"_blank\" href=\"https://www.goodreads.com/book/show/30734747-ms-marvel-11\">Goodreads</a></td>\n",
              "      <td id=\"T_5aaa1_row2_col4\" class=\"data row2 col4\" ><a href=\"https://images.gr-assets.com/books/1475089348m/30734747.jpg\"><img src=\"https://images.gr-assets.com/books/1475089348m/30734747.jpg\" width=60></img></a></td>\n",
              "    </tr>\n",
              "    <tr>\n",
              "      <th id=\"T_5aaa1_level0_row3\" class=\"row_heading level0 row3\" >1106921</th>\n",
              "      <td id=\"T_5aaa1_row3_col0\" class=\"data row3 col0\" >27862864</td>\n",
              "      <td id=\"T_5aaa1_row3_col1\" class=\"data row3 col1\" >Ms. Marvel, #3: Super Famous, Part 3</td>\n",
              "      <td id=\"T_5aaa1_row3_col2\" class=\"data row3 col2\" >4.260000</td>\n",
              "      <td id=\"T_5aaa1_row3_col3\" class=\"data row3 col3\" ><a target=\"_blank\" href=\"https://www.goodreads.com/book/show/27862864-ms-marvel-3\">Goodreads</a></td>\n",
              "      <td id=\"T_5aaa1_row3_col4\" class=\"data row3 col4\" ><a href=\"https://images.gr-assets.com/books/1453330789m/27862864.jpg\"><img src=\"https://images.gr-assets.com/books/1453330789m/27862864.jpg\" width=60></img></a></td>\n",
              "    </tr>\n",
              "    <tr>\n",
              "      <th id=\"T_5aaa1_level0_row4\" class=\"row_heading level0 row4\" >361167</th>\n",
              "      <td id=\"T_5aaa1_row4_col0\" class=\"data row4 col0\" >26129284</td>\n",
              "      <td id=\"T_5aaa1_row4_col1\" class=\"data row4 col1\" >Ms. Marvel, #1: Super Famous, Part 1</td>\n",
              "      <td id=\"T_5aaa1_row4_col2\" class=\"data row4 col2\" >4.250000</td>\n",
              "      <td id=\"T_5aaa1_row4_col3\" class=\"data row4 col3\" ><a target=\"_blank\" href=\"https://www.goodreads.com/book/show/26129284-ms-marvel-1\">Goodreads</a></td>\n",
              "      <td id=\"T_5aaa1_row4_col4\" class=\"data row4 col4\" ><a href=\"https://images.gr-assets.com/books/1447978345m/26129284.jpg\"><img src=\"https://images.gr-assets.com/books/1447978345m/26129284.jpg\" width=60></img></a></td>\n",
              "    </tr>\n",
              "  </tbody>\n",
              "</table>\n"
            ]
          },
          "metadata": {},
          "execution_count": 133
        }
      ],
      "source": [
        "def top_50_similar_title_books(vectorizer):\n",
        "  query = str(input('Enter book title: '))\n",
        "  processed = re.sub(\"[^a-zA-Z0-9 ]\", \"\", query.lower())\n",
        "  query_vec = vectorizer.transform([query])\n",
        "  similarity = cosine_similarity(query_vec, tfidf_title_fc).flatten()\n",
        "  indices = np.argpartition(similarity, -50)[-50:]\n",
        "  results = df_books_processed.iloc[indices]\n",
        "  return results[['book_id', 'title_without_series', 'book_average_rating', 'book_url', 'cover_page']].head(5).style.format({'book_url': make_clickable, 'cover_page': show_image})\n",
        "\n",
        "top_50_similar_title_books(vectorizer_title_fc) "
      ]
    },
    {
      "cell_type": "markdown",
      "metadata": {
        "id": "KRT6HbO5GFTy"
      },
      "source": [
        "### Books having similar description"
      ]
    },
    {
      "cell_type": "code",
      "execution_count": null,
      "metadata": {
        "id": "lT2lzs4fGH_J"
      },
      "outputs": [],
      "source": [
        "vectorizer_description = TfidfVectorizer()\n",
        "tfidf_description = vectorizer_description.fit_transform(df_books_processed[\"book_description\"])"
      ]
    },
    {
      "cell_type": "code",
      "execution_count": null,
      "metadata": {
        "id": "uqZ-jeo2IGCN"
      },
      "outputs": [],
      "source": [
        "with open('/content/vectorizer_description.pkl', 'wb') as p:\n",
        "    dump(vectorizer_description, p)\n",
        "\n",
        "with open('/content/tfidf_description.pkl', 'wb') as p:\n",
        "    dump(tfidf_description, p)    \n",
        "\n",
        "with open(\"/content/vectorizer_description.pkl\", \"rb\") as p:\n",
        "    vectorizer_description = load(p)    \n",
        "\n",
        "with open(\"/content/tfidf_description.pkl\", \"rb\") as p:\n",
        "    tfidf_description = load(p)"
      ]
    },
    {
      "cell_type": "code",
      "execution_count": null,
      "metadata": {
        "colab": {
          "base_uri": "https://localhost:8080/"
        },
        "id": "ftl7oFu2GKX6",
        "outputId": "c80c68ff-f34e-40a2-c4c7-6779635ff451"
      },
      "outputs": [
        {
          "name": "stdout",
          "output_type": "stream",
          "text": [
            "Enter the Description: who is the inventor and what does he want with the allnew ms marvel and all her friends maybe wolverine can help if kamala can stop fangirling out about meeting her favorite super hero that is then kamala crosses paths with inhumanity by meeting the royal dog lockjaw but why is lockjaw really with kamala as ms marvel discovers more about her past the inventor continues to threaten her future kamala bands together with some unlikely heroes to stop the maniacal villain before he does real damage but has she taken on more than she can handle and how much longer can ms marvels life take over kamala khans kamala khan continues to prove why shes the best and most adorable new super hero there iscollecting ms marvel2014 611\n"
          ]
        },
        {
          "output_type": "execute_result",
          "data": {
            "text/plain": [
              "<pandas.io.formats.style.Styler at 0x7faf836feed0>"
            ],
            "text/html": [
              "<style type=\"text/css\">\n",
              "</style>\n",
              "<table id=\"T_2c24a_\" class=\"dataframe\">\n",
              "  <thead>\n",
              "    <tr>\n",
              "      <th class=\"blank level0\" >&nbsp;</th>\n",
              "      <th class=\"col_heading level0 col0\" >book_id</th>\n",
              "      <th class=\"col_heading level0 col1\" >title_without_series</th>\n",
              "      <th class=\"col_heading level0 col2\" >book_average_rating</th>\n",
              "      <th class=\"col_heading level0 col3\" >book_url</th>\n",
              "      <th class=\"col_heading level0 col4\" >cover_page</th>\n",
              "    </tr>\n",
              "  </thead>\n",
              "  <tbody>\n",
              "    <tr>\n",
              "      <th id=\"T_2c24a_level0_row0\" class=\"row_heading level0 row0\" >812935</th>\n",
              "      <td id=\"T_2c24a_row0_col0\" class=\"data row0 col0\" >18485268</td>\n",
              "      <td id=\"T_2c24a_row0_col1\" class=\"data row0 col1\" >Wages of Love</td>\n",
              "      <td id=\"T_2c24a_row0_col2\" class=\"data row0 col2\" >4.160000</td>\n",
              "      <td id=\"T_2c24a_row0_col3\" class=\"data row0 col3\" ><a target=\"_blank\" href=\"https://www.goodreads.com/book/show/18485268-wages-of-love\">Goodreads</a></td>\n",
              "      <td id=\"T_2c24a_row0_col4\" class=\"data row0 col4\" ><a href=\"https://images.gr-assets.com/books/1379055668m/18485268.jpg\"><img src=\"https://images.gr-assets.com/books/1379055668m/18485268.jpg\" width=60></img></a></td>\n",
              "    </tr>\n",
              "    <tr>\n",
              "      <th id=\"T_2c24a_level0_row1\" class=\"row_heading level0 row1\" >344792</th>\n",
              "      <td id=\"T_2c24a_row1_col0\" class=\"data row1 col0\" >1329445</td>\n",
              "      <td id=\"T_2c24a_row1_col1\" class=\"data row1 col1\" >Ms. Marvel, Volume 3: Operation Lightning Storm</td>\n",
              "      <td id=\"T_2c24a_row1_col2\" class=\"data row1 col2\" >3.550000</td>\n",
              "      <td id=\"T_2c24a_row1_col3\" class=\"data row1 col3\" ><a target=\"_blank\" href=\"https://www.goodreads.com/book/show/1329445.Ms_Marvel_Volume_3\">Goodreads</a></td>\n",
              "      <td id=\"T_2c24a_row1_col4\" class=\"data row1 col4\" ><a href=\"https://s.gr-assets.com/assets/nophoto/book/111x148-bcc042a9c91a29c1d680899eff700a03.png\"><img src=\"https://s.gr-assets.com/assets/nophoto/book/111x148-bcc042a9c91a29c1d680899eff700a03.png\" width=60></img></a></td>\n",
              "    </tr>\n",
              "    <tr>\n",
              "      <th id=\"T_2c24a_level0_row2\" class=\"row_heading level0 row2\" >1069146</th>\n",
              "      <td id=\"T_2c24a_row2_col0\" class=\"data row2 col0\" >1104246</td>\n",
              "      <td id=\"T_2c24a_row2_col1\" class=\"data row2 col1\" >Naming Maya</td>\n",
              "      <td id=\"T_2c24a_row2_col2\" class=\"data row2 col2\" >3.470000</td>\n",
              "      <td id=\"T_2c24a_row2_col3\" class=\"data row2 col3\" ><a target=\"_blank\" href=\"https://www.goodreads.com/book/show/1104246.Naming_Maya\">Goodreads</a></td>\n",
              "      <td id=\"T_2c24a_row2_col4\" class=\"data row2 col4\" ><a href=\"https://images.gr-assets.com/books/1316729126m/1104246.jpg\"><img src=\"https://images.gr-assets.com/books/1316729126m/1104246.jpg\" width=60></img></a></td>\n",
              "    </tr>\n",
              "    <tr>\n",
              "      <th id=\"T_2c24a_level0_row3\" class=\"row_heading level0 row3\" >655167</th>\n",
              "      <td id=\"T_2c24a_row3_col0\" class=\"data row3 col0\" >34612997</td>\n",
              "      <td id=\"T_2c24a_row3_col1\" class=\"data row3 col1\" >Ms. Marvel, Vol. 3: Apaixonada</td>\n",
              "      <td id=\"T_2c24a_row3_col2\" class=\"data row3 col2\" >4.210000</td>\n",
              "      <td id=\"T_2c24a_row3_col3\" class=\"data row3 col3\" ><a target=\"_blank\" href=\"https://www.goodreads.com/book/show/34612997-ms-marvel-vol-3\">Goodreads</a></td>\n",
              "      <td id=\"T_2c24a_row3_col4\" class=\"data row3 col4\" ><a href=\"https://images.gr-assets.com/books/1494080948m/34612997.jpg\"><img src=\"https://images.gr-assets.com/books/1494080948m/34612997.jpg\" width=60></img></a></td>\n",
              "    </tr>\n",
              "    <tr>\n",
              "      <th id=\"T_2c24a_level0_row4\" class=\"row_heading level0 row4\" >828991</th>\n",
              "      <td id=\"T_2c24a_row4_col0\" class=\"data row4 col0\" >26030938</td>\n",
              "      <td id=\"T_2c24a_row4_col1\" class=\"data row4 col1\" >A-Force Presents Vol. 3</td>\n",
              "      <td id=\"T_2c24a_row4_col2\" class=\"data row4 col2\" >3.670000</td>\n",
              "      <td id=\"T_2c24a_row4_col3\" class=\"data row4 col3\" ><a target=\"_blank\" href=\"https://www.goodreads.com/book/show/26030938-a-force-presents-vol-3\">Goodreads</a></td>\n",
              "      <td id=\"T_2c24a_row4_col4\" class=\"data row4 col4\" ><a href=\"https://images.gr-assets.com/books/1453056638m/26030938.jpg\"><img src=\"https://images.gr-assets.com/books/1453056638m/26030938.jpg\" width=60></img></a></td>\n",
              "    </tr>\n",
              "  </tbody>\n",
              "</table>\n"
            ]
          },
          "metadata": {},
          "execution_count": 130
        }
      ],
      "source": [
        "def search(vectorizer):\n",
        "  query = str(input('Enter the Description: '))\n",
        "  processed = re.sub(\"[^a-zA-Z0-9 ]\", \"\", query.lower())\n",
        "  query_vec = vectorizer.transform([query])\n",
        "  similarity = cosine_similarity(query_vec, tfidf_description).flatten()\n",
        "  indices = np.argpartition(similarity, -50)[-50:]\n",
        "  results = df_books_processed.iloc[indices]\n",
        "  return results[['book_id', 'title_without_series', 'book_average_rating', 'book_url', 'cover_page']].head(5).style.format({'book_url': make_clickable, 'cover_page': show_image})\n",
        "  \n",
        "search(vectorizer_description) "
      ]
    },
    {
      "cell_type": "markdown",
      "source": [
        "### Books that got similar review"
      ],
      "metadata": {
        "id": "2BM0qYmx8FqX"
      }
    },
    {
      "cell_type": "code",
      "source": [
        "data = list()\n",
        "for book_id, df in tqdm(df_users[['book_id', 'review_text']].groupby('book_id')):\n",
        "  data.append((book_id, list(df['review_text'])))\n",
        "\n",
        "df_book_id_review = pd.DataFrame(data, columns =['book_id', 'list_review_text'])\n",
        "df_book_id_review  "
      ],
      "metadata": {
        "id": "Ej_q3jgC8Lu4",
        "colab": {
          "base_uri": "https://localhost:8080/",
          "height": 441
        },
        "outputId": "b7df1611-dc9d-4eac-8859-ea5779d15473"
      },
      "execution_count": null,
      "outputs": [
        {
          "output_type": "stream",
          "name": "stderr",
          "text": [
            "100%|██████████| 2079758/2079758 [03:41<00:00, 9399.52it/s] \n"
          ]
        },
        {
          "output_type": "execute_result",
          "data": {
            "text/plain": [
              "         book_id                                   list_review_text\n",
              "0              1  [One of the best books in the series I think.,...\n",
              "1             10  [good read, LOVED the Harry Potter books!, Har...\n",
              "2            100         [Some ideas were pretty fun and original!]\n",
              "3           1000  [There's a lot in this book that I enjoyed, be...\n",
              "4          10000  [This has not aged well. Of course I have only...\n",
              "...          ...                                                ...\n",
              "2079753  9999954  [Dat zo'n Dijkshoorn op tv nog te pruimen is, ...\n",
              "2079754  9999969  [Over all a fun read. Every one of the stories...\n",
              "2079755  9999986  [Picking up \"Walking to the Stars,\" I didn't k...\n",
              "2079756   999999                                        [Fantastic]\n",
              "2079757  9999995  [A man and a woman get married and have a baby...\n",
              "\n",
              "[2079758 rows x 2 columns]"
            ],
            "text/html": [
              "\n",
              "  <div id=\"df-9e329580-fa66-4ab1-a0b4-1d6205ff77b8\">\n",
              "    <div class=\"colab-df-container\">\n",
              "      <div>\n",
              "<style scoped>\n",
              "    .dataframe tbody tr th:only-of-type {\n",
              "        vertical-align: middle;\n",
              "    }\n",
              "\n",
              "    .dataframe tbody tr th {\n",
              "        vertical-align: top;\n",
              "    }\n",
              "\n",
              "    .dataframe thead th {\n",
              "        text-align: right;\n",
              "    }\n",
              "</style>\n",
              "<table border=\"1\" class=\"dataframe\">\n",
              "  <thead>\n",
              "    <tr style=\"text-align: right;\">\n",
              "      <th></th>\n",
              "      <th>book_id</th>\n",
              "      <th>list_review_text</th>\n",
              "    </tr>\n",
              "  </thead>\n",
              "  <tbody>\n",
              "    <tr>\n",
              "      <th>0</th>\n",
              "      <td>1</td>\n",
              "      <td>[One of the best books in the series I think.,...</td>\n",
              "    </tr>\n",
              "    <tr>\n",
              "      <th>1</th>\n",
              "      <td>10</td>\n",
              "      <td>[good read, LOVED the Harry Potter books!, Har...</td>\n",
              "    </tr>\n",
              "    <tr>\n",
              "      <th>2</th>\n",
              "      <td>100</td>\n",
              "      <td>[Some ideas were pretty fun and original!]</td>\n",
              "    </tr>\n",
              "    <tr>\n",
              "      <th>3</th>\n",
              "      <td>1000</td>\n",
              "      <td>[There's a lot in this book that I enjoyed, be...</td>\n",
              "    </tr>\n",
              "    <tr>\n",
              "      <th>4</th>\n",
              "      <td>10000</td>\n",
              "      <td>[This has not aged well. Of course I have only...</td>\n",
              "    </tr>\n",
              "    <tr>\n",
              "      <th>...</th>\n",
              "      <td>...</td>\n",
              "      <td>...</td>\n",
              "    </tr>\n",
              "    <tr>\n",
              "      <th>2079753</th>\n",
              "      <td>9999954</td>\n",
              "      <td>[Dat zo'n Dijkshoorn op tv nog te pruimen is, ...</td>\n",
              "    </tr>\n",
              "    <tr>\n",
              "      <th>2079754</th>\n",
              "      <td>9999969</td>\n",
              "      <td>[Over all a fun read. Every one of the stories...</td>\n",
              "    </tr>\n",
              "    <tr>\n",
              "      <th>2079755</th>\n",
              "      <td>9999986</td>\n",
              "      <td>[Picking up \"Walking to the Stars,\" I didn't k...</td>\n",
              "    </tr>\n",
              "    <tr>\n",
              "      <th>2079756</th>\n",
              "      <td>999999</td>\n",
              "      <td>[Fantastic]</td>\n",
              "    </tr>\n",
              "    <tr>\n",
              "      <th>2079757</th>\n",
              "      <td>9999995</td>\n",
              "      <td>[A man and a woman get married and have a baby...</td>\n",
              "    </tr>\n",
              "  </tbody>\n",
              "</table>\n",
              "<p>2079758 rows × 2 columns</p>\n",
              "</div>\n",
              "      <button class=\"colab-df-convert\" onclick=\"convertToInteractive('df-9e329580-fa66-4ab1-a0b4-1d6205ff77b8')\"\n",
              "              title=\"Convert this dataframe to an interactive table.\"\n",
              "              style=\"display:none;\">\n",
              "        \n",
              "  <svg xmlns=\"http://www.w3.org/2000/svg\" height=\"24px\"viewBox=\"0 0 24 24\"\n",
              "       width=\"24px\">\n",
              "    <path d=\"M0 0h24v24H0V0z\" fill=\"none\"/>\n",
              "    <path d=\"M18.56 5.44l.94 2.06.94-2.06 2.06-.94-2.06-.94-.94-2.06-.94 2.06-2.06.94zm-11 1L8.5 8.5l.94-2.06 2.06-.94-2.06-.94L8.5 2.5l-.94 2.06-2.06.94zm10 10l.94 2.06.94-2.06 2.06-.94-2.06-.94-.94-2.06-.94 2.06-2.06.94z\"/><path d=\"M17.41 7.96l-1.37-1.37c-.4-.4-.92-.59-1.43-.59-.52 0-1.04.2-1.43.59L10.3 9.45l-7.72 7.72c-.78.78-.78 2.05 0 2.83L4 21.41c.39.39.9.59 1.41.59.51 0 1.02-.2 1.41-.59l7.78-7.78 2.81-2.81c.8-.78.8-2.07 0-2.86zM5.41 20L4 18.59l7.72-7.72 1.47 1.35L5.41 20z\"/>\n",
              "  </svg>\n",
              "      </button>\n",
              "      \n",
              "  <style>\n",
              "    .colab-df-container {\n",
              "      display:flex;\n",
              "      flex-wrap:wrap;\n",
              "      gap: 12px;\n",
              "    }\n",
              "\n",
              "    .colab-df-convert {\n",
              "      background-color: #E8F0FE;\n",
              "      border: none;\n",
              "      border-radius: 50%;\n",
              "      cursor: pointer;\n",
              "      display: none;\n",
              "      fill: #1967D2;\n",
              "      height: 32px;\n",
              "      padding: 0 0 0 0;\n",
              "      width: 32px;\n",
              "    }\n",
              "\n",
              "    .colab-df-convert:hover {\n",
              "      background-color: #E2EBFA;\n",
              "      box-shadow: 0px 1px 2px rgba(60, 64, 67, 0.3), 0px 1px 3px 1px rgba(60, 64, 67, 0.15);\n",
              "      fill: #174EA6;\n",
              "    }\n",
              "\n",
              "    [theme=dark] .colab-df-convert {\n",
              "      background-color: #3B4455;\n",
              "      fill: #D2E3FC;\n",
              "    }\n",
              "\n",
              "    [theme=dark] .colab-df-convert:hover {\n",
              "      background-color: #434B5C;\n",
              "      box-shadow: 0px 1px 3px 1px rgba(0, 0, 0, 0.15);\n",
              "      filter: drop-shadow(0px 1px 2px rgba(0, 0, 0, 0.3));\n",
              "      fill: #FFFFFF;\n",
              "    }\n",
              "  </style>\n",
              "\n",
              "      <script>\n",
              "        const buttonEl =\n",
              "          document.querySelector('#df-9e329580-fa66-4ab1-a0b4-1d6205ff77b8 button.colab-df-convert');\n",
              "        buttonEl.style.display =\n",
              "          google.colab.kernel.accessAllowed ? 'block' : 'none';\n",
              "\n",
              "        async function convertToInteractive(key) {\n",
              "          const element = document.querySelector('#df-9e329580-fa66-4ab1-a0b4-1d6205ff77b8');\n",
              "          const dataTable =\n",
              "            await google.colab.kernel.invokeFunction('convertToInteractive',\n",
              "                                                     [key], {});\n",
              "          if (!dataTable) return;\n",
              "\n",
              "          const docLinkHtml = 'Like what you see? Visit the ' +\n",
              "            '<a target=\"_blank\" href=https://colab.research.google.com/notebooks/data_table.ipynb>data table notebook</a>'\n",
              "            + ' to learn more about interactive tables.';\n",
              "          element.innerHTML = '';\n",
              "          dataTable['output_type'] = 'display_data';\n",
              "          await google.colab.output.renderOutput(dataTable, element);\n",
              "          const docLink = document.createElement('div');\n",
              "          docLink.innerHTML = docLinkHtml;\n",
              "          element.appendChild(docLink);\n",
              "        }\n",
              "      </script>\n",
              "    </div>\n",
              "  </div>\n",
              "  "
            ]
          },
          "metadata": {},
          "execution_count": 88
        }
      ]
    },
    {
      "cell_type": "code",
      "source": [
        "df_final_review = df_book_id_review[df_book_id_review['book_id'].isin(set(df_books_processed['book_id']))]\n",
        "df_final_review.reset_index(drop=True, inplace=True)"
      ],
      "metadata": {
        "id": "oo9H_9s88TRN"
      },
      "execution_count": null,
      "outputs": []
    },
    {
      "cell_type": "code",
      "source": [
        "stopwords= set(['br', 'the', 'i', 'me', 'my', 'myself', 'we', 'our', 'ours', 'ourselves', 'you', \"you're\", \"you've\",\\\n",
        "            \"you'll\", \"you'd\", 'your', 'yours', 'yourself', 'yourselves', 'he', 'him', 'his', 'himself', \\\n",
        "            'she', \"she's\", 'her', 'hers', 'herself', 'it', \"it's\", 'its', 'itself', 'they', 'them', 'their',\\\n",
        "            'theirs', 'themselves', 'what', 'which', 'who', 'whom', 'this', 'that', \"that'll\", 'these', 'those', \\\n",
        "            'am', 'is', 'are', 'was', 'were', 'be', 'been', 'being', 'have', 'has', 'had', 'having', 'do', 'does', \\\n",
        "            'did', 'doing', 'a', 'an', 'the', 'and', 'but', 'if', 'or', 'because', 'as', 'until', 'while', 'of', \\\n",
        "            'at', 'by', 'for', 'with', 'about', 'against', 'between', 'into', 'through', 'during', 'before', 'after',\\\n",
        "            'above', 'below', 'to', 'from', 'up', 'down', 'in', 'out', 'on', 'off', 'over', 'under', 'again', 'further',\\\n",
        "            'then', 'once', 'here', 'there', 'when', 'where', 'why', 'how', 'all', 'any', 'both', 'each', 'few', 'more',\\\n",
        "            'most', 'other', 'some', 'such', 'only', 'own', 'same', 'so', 'than', 'too', 'very', \\\n",
        "            's', 't', 'can', 'will', 'just', 'don', \"don't\", 'should', \"should've\", 'now', 'd', 'll', 'm', 'o', 're', \\\n",
        "            've', 'y', 'ain', 'aren', \"aren't\", 'couldn', \"couldn't\", 'didn', \"didn't\", 'doesn', \"doesn't\", 'hadn',\\\n",
        "            \"hadn't\", 'hasn', \"hasn't\", 'haven', \"haven't\", 'isn', \"isn't\", 'ma', 'mightn', \"mightn't\", 'mustn',\\\n",
        "            \"mustn't\", 'needn', \"needn't\", 'shan', \"shan't\", 'shouldn', \"shouldn't\", 'wasn', \"wasn't\", 'weren', \"weren't\", \\\n",
        "            'won', \"won't\", 'wouldn', \"wouldn't\"])\n",
        "\n",
        "\n",
        "def decontracted(phrase):\n",
        "    # specific\n",
        "    phrase = re.sub(r\"won't\", \"will not\", phrase)\n",
        "    phrase = re.sub(r\"can\\'t\", \"can not\", phrase)\n",
        "\n",
        "    # general\n",
        "    phrase = re.sub(r\"n\\'t\", \" not\", phrase)\n",
        "    phrase = re.sub(r\"\\'re\", \" are\", phrase)\n",
        "    phrase = re.sub(r\"\\'s\", \" is\", phrase)\n",
        "    phrase = re.sub(r\"\\'d\", \" would\", phrase)\n",
        "    phrase = re.sub(r\"\\'ll\", \" will\", phrase)\n",
        "    phrase = re.sub(r\"\\'t\", \" not\", phrase)\n",
        "    phrase = re.sub(r\"\\'ve\", \" have\", phrase)\n",
        "    phrase = re.sub(r\"\\'m\", \" am\", phrase)\n",
        "    return phrase"
      ],
      "metadata": {
        "id": "hohq3qX_8ajE"
      },
      "execution_count": null,
      "outputs": []
    },
    {
      "cell_type": "code",
      "source": [
        "preprocessed_reviews = list()\n",
        "for sentences in tqdm(df_final_review['list_review_text'].values):\n",
        "  mod_sentences = list()\n",
        "  for sentence in sentences:\n",
        "    try:\n",
        "      sentence = re.sub(r\"http\\S+\", \"\", sentence)\n",
        "      sentence = decontracted(sentence)\n",
        "      sentence = re.sub('[^A-Za-z]+', ' ', sentence[:500])\n",
        "      sentence = BeautifulSoup(sentence, 'lxml').get_text()\n",
        "     \n",
        "      sentence = re.sub(\"\\S*\\d\\S*\", \"\", sentence).strip()\n",
        "      sentence = ' '.join(e.lower() for e in sentence.split() if e.lower() not in stopwords)\n",
        "      mod_sentences.append(sentence.strip()) \n",
        "    except Exception:\n",
        "      pass \n",
        "  preprocessed_reviews.append(mod_sentences)     "
      ],
      "metadata": {
        "id": "dar7vFul8coX",
        "colab": {
          "base_uri": "https://localhost:8080/"
        },
        "outputId": "a42e881f-54e9-4554-8220-0544f15483f9"
      },
      "execution_count": null,
      "outputs": [
        {
          "output_type": "stream",
          "name": "stderr",
          "text": [
            "100%|██████████| 662171/662171 [28:39<00:00, 385.17it/s]\n"
          ]
        }
      ]
    },
    {
      "cell_type": "code",
      "source": [
        "review = [' '.join(lst) for lst in tqdm(preprocessed_reviews)]"
      ],
      "metadata": {
        "id": "x0ubuccy9Jp4",
        "colab": {
          "base_uri": "https://localhost:8080/"
        },
        "outputId": "0ae6554a-eadd-42ab-a30f-07d12abafdec"
      },
      "execution_count": null,
      "outputs": [
        {
          "output_type": "stream",
          "name": "stderr",
          "text": [
            "100%|██████████| 662171/662171 [00:02<00:00, 297996.63it/s]\n"
          ]
        }
      ]
    },
    {
      "cell_type": "code",
      "source": [
        "df_final_review['combined_processed_review'] = review\n",
        "df_final_review['preprocessed_reviews'] = preprocessed_reviews"
      ],
      "metadata": {
        "id": "dSgzWOtD86b_"
      },
      "execution_count": null,
      "outputs": []
    },
    {
      "cell_type": "code",
      "source": [
        "vectorizer_review = TfidfVectorizer()\n",
        "tfidf_review = vectorizer_review.fit_transform(df_final_review['combined_processed_review'])"
      ],
      "metadata": {
        "id": "nyxHqib99aKR"
      },
      "execution_count": null,
      "outputs": []
    },
    {
      "cell_type": "code",
      "source": [
        "with open('/content/vectorizer_review.pkl', 'wb') as p:\n",
        "    dump(vectorizer_review, p)\n",
        "\n",
        "with open('/content/tfidf_review.pkl', 'wb') as p:\n",
        "    dump(tfidf_review, p)    \n",
        "\n",
        "with open(\"/content/vectorizer_review.pkl\", \"rb\") as p:\n",
        "    vectorizer_review = load(p)    \n",
        "\n",
        "with open(\"/content/tfidf_review.pkl\", \"rb\") as p:\n",
        "    tfidf_review = load(p)"
      ],
      "metadata": {
        "id": "lz0J1gq-9cZR"
      },
      "execution_count": null,
      "outputs": []
    },
    {
      "cell_type": "code",
      "source": [
        "df_final_review.to_csv('df_final_review.csv.gz', compression='gzip', index=False)"
      ],
      "metadata": {
        "id": "T39nh-POg23r"
      },
      "execution_count": null,
      "outputs": []
    },
    {
      "cell_type": "code",
      "source": [
        "def review_similarity():\n",
        "  book_id = (input('Enter the book_id: '))\n",
        "  index = df_final_review[df_final_review['book_id']== book_id].index\n",
        "  similarity = cosine_similarity(tfidf_review[index], tfidf_review).flatten()\n",
        "  indices = np.argpartition(similarity, -50)[-50:]\n",
        "  book_ids = set(df_final_review.iloc[indices]['book_id'])\n",
        "  score = [(score, book) for score, book in enumerate(book_ids)]\n",
        "  df_score = pd.DataFrame(score, columns =['score', 'book_id'])\n",
        "  results = (df_books_processed[df_books_processed['book_id'].isin(book_ids)].merge(df_score, on='book_id')).sort_values(by='score')\n",
        "  print('Entered book title: ', str(df_books_processed[df_books_processed['book_id']==(book_id)]['title_without_series'].values[0]).strip())\n",
        "  return results[['book_id', 'title_without_series', 'book_average_rating', 'book_url', 'cover_page', 'ratings_count']].head(5).style.format({'book_url': make_clickable, 'cover_page': show_image})\n",
        "  \n",
        "review_similarity() "
      ],
      "metadata": {
        "id": "rDmPzC4b9egX",
        "colab": {
          "base_uri": "https://localhost:8080/",
          "height": 624
        },
        "outputId": "27ef81fb-ca72-4bca-8c3d-da08a62fd6f5"
      },
      "execution_count": null,
      "outputs": [
        {
          "output_type": "stream",
          "name": "stdout",
          "text": [
            "Enter the book_id: 23017947\n",
            "Entered book title:  Ms. Marvel, Vol. 2: Generation Why\n"
          ]
        },
        {
          "output_type": "execute_result",
          "data": {
            "text/plain": [
              "<pandas.io.formats.style.Styler at 0x7faf83702550>"
            ],
            "text/html": [
              "<style type=\"text/css\">\n",
              "</style>\n",
              "<table id=\"T_381b0_\" class=\"dataframe\">\n",
              "  <thead>\n",
              "    <tr>\n",
              "      <th class=\"blank level0\" >&nbsp;</th>\n",
              "      <th class=\"col_heading level0 col0\" >book_id</th>\n",
              "      <th class=\"col_heading level0 col1\" >title_without_series</th>\n",
              "      <th class=\"col_heading level0 col2\" >book_average_rating</th>\n",
              "      <th class=\"col_heading level0 col3\" >book_url</th>\n",
              "      <th class=\"col_heading level0 col4\" >cover_page</th>\n",
              "      <th class=\"col_heading level0 col5\" >ratings_count</th>\n",
              "    </tr>\n",
              "  </thead>\n",
              "  <tbody>\n",
              "    <tr>\n",
              "      <th id=\"T_381b0_level0_row0\" class=\"row_heading level0 row0\" >7</th>\n",
              "      <td id=\"T_381b0_row0_col0\" class=\"data row0 col0\" >24501973</td>\n",
              "      <td id=\"T_381b0_row0_col1\" class=\"data row0 col1\" >S.H.I.E.L.D. #2</td>\n",
              "      <td id=\"T_381b0_row0_col2\" class=\"data row0 col2\" >3.860000</td>\n",
              "      <td id=\"T_381b0_row0_col3\" class=\"data row0 col3\" ><a target=\"_blank\" href=\"https://www.goodreads.com/book/show/24501973-s-h-i-e-l-d-2\">Goodreads</a></td>\n",
              "      <td id=\"T_381b0_row0_col4\" class=\"data row0 col4\" ><a href=\"https://images.gr-assets.com/books/1421275081m/24501973.jpg\"><img src=\"https://images.gr-assets.com/books/1421275081m/24501973.jpg\" width=60></img></a></td>\n",
              "      <td id=\"T_381b0_row0_col5\" class=\"data row0 col5\" >102</td>\n",
              "    </tr>\n",
              "    <tr>\n",
              "      <th id=\"T_381b0_level0_row1\" class=\"row_heading level0 row1\" >13</th>\n",
              "      <td id=\"T_381b0_row1_col0\" class=\"data row1 col0\" >22558777</td>\n",
              "      <td id=\"T_381b0_row1_col1\" class=\"data row1 col1\" >Ms. Marvel, #8: Generation Why</td>\n",
              "      <td id=\"T_381b0_row1_col2\" class=\"data row1 col2\" >4.360000</td>\n",
              "      <td id=\"T_381b0_row1_col3\" class=\"data row1 col3\" ><a target=\"_blank\" href=\"https://www.goodreads.com/book/show/22558777-ms-marvel-8\">Goodreads</a></td>\n",
              "      <td id=\"T_381b0_row1_col4\" class=\"data row1 col4\" ><a href=\"https://images.gr-assets.com/books/1410795267m/22558777.jpg\"><img src=\"https://images.gr-assets.com/books/1410795267m/22558777.jpg\" width=60></img></a></td>\n",
              "      <td id=\"T_381b0_row1_col5\" class=\"data row1 col5\" >761</td>\n",
              "    </tr>\n",
              "    <tr>\n",
              "      <th id=\"T_381b0_level0_row2\" class=\"row_heading level0 row2\" >25</th>\n",
              "      <td id=\"T_381b0_row2_col0\" class=\"data row2 col0\" >31279293</td>\n",
              "      <td id=\"T_381b0_row2_col1\" class=\"data row2 col1\" >Ms. Marvel, #12: The Road to War</td>\n",
              "      <td id=\"T_381b0_row2_col2\" class=\"data row2 col2\" >4.340000</td>\n",
              "      <td id=\"T_381b0_row2_col3\" class=\"data row2 col3\" ><a target=\"_blank\" href=\"https://www.goodreads.com/book/show/31279293-ms-marvel-12\">Goodreads</a></td>\n",
              "      <td id=\"T_381b0_row2_col4\" class=\"data row2 col4\" ><a href=\"https://images.gr-assets.com/books/1477598398m/31279293.jpg\"><img src=\"https://images.gr-assets.com/books/1477598398m/31279293.jpg\" width=60></img></a></td>\n",
              "      <td id=\"T_381b0_row2_col5\" class=\"data row2 col5\" >100</td>\n",
              "    </tr>\n",
              "    <tr>\n",
              "      <th id=\"T_381b0_level0_row3\" class=\"row_heading level0 row3\" >16</th>\n",
              "      <td id=\"T_381b0_row3_col0\" class=\"data row3 col0\" >305771</td>\n",
              "      <td id=\"T_381b0_row3_col1\" class=\"data row3 col1\" >Essential Wolverine, Vol. 2</td>\n",
              "      <td id=\"T_381b0_row3_col2\" class=\"data row3 col2\" >4.130000</td>\n",
              "      <td id=\"T_381b0_row3_col3\" class=\"data row3 col3\" ><a target=\"_blank\" href=\"https://www.goodreads.com/book/show/305771.Essential_Wolverine_Vol_2\">Goodreads</a></td>\n",
              "      <td id=\"T_381b0_row3_col4\" class=\"data row3 col4\" ><a href=\"https://s.gr-assets.com/assets/nophoto/book/111x148-bcc042a9c91a29c1d680899eff700a03.png\"><img src=\"https://s.gr-assets.com/assets/nophoto/book/111x148-bcc042a9c91a29c1d680899eff700a03.png\" width=60></img></a></td>\n",
              "      <td id=\"T_381b0_row3_col5\" class=\"data row3 col5\" >315</td>\n",
              "    </tr>\n",
              "    <tr>\n",
              "      <th id=\"T_381b0_level0_row4\" class=\"row_heading level0 row4\" >15</th>\n",
              "      <td id=\"T_381b0_row4_col0\" class=\"data row4 col0\" >26129284</td>\n",
              "      <td id=\"T_381b0_row4_col1\" class=\"data row4 col1\" >Ms. Marvel, #1: Super Famous, Part 1</td>\n",
              "      <td id=\"T_381b0_row4_col2\" class=\"data row4 col2\" >4.250000</td>\n",
              "      <td id=\"T_381b0_row4_col3\" class=\"data row4 col3\" ><a target=\"_blank\" href=\"https://www.goodreads.com/book/show/26129284-ms-marvel-1\">Goodreads</a></td>\n",
              "      <td id=\"T_381b0_row4_col4\" class=\"data row4 col4\" ><a href=\"https://images.gr-assets.com/books/1447978345m/26129284.jpg\"><img src=\"https://images.gr-assets.com/books/1447978345m/26129284.jpg\" width=60></img></a></td>\n",
              "      <td id=\"T_381b0_row4_col5\" class=\"data row4 col5\" >443</td>\n",
              "    </tr>\n",
              "  </tbody>\n",
              "</table>\n"
            ]
          },
          "metadata": {},
          "execution_count": 173
        }
      ]
    },
    {
      "cell_type": "markdown",
      "metadata": {
        "id": "haAeEMtTXtrx"
      },
      "source": [
        "### Books where user choice's match"
      ]
    },
    {
      "cell_type": "code",
      "execution_count": null,
      "metadata": {
        "colab": {
          "base_uri": "https://localhost:8080/"
        },
        "id": "0FDErbs5Yh9Q",
        "outputId": "10cadcd3-9daf-4262-8a11-1ee0b0ee2d9d"
      },
      "outputs": [
        {
          "name": "stdout",
          "output_type": "stream",
          "text": [
            "Enter the user_id: fcddf0227aafbf744a7714ac4409d373\n"
          ]
        },
        {
          "output_type": "execute_result",
          "data": {
            "text/plain": [
              "<pandas.io.formats.style.Styler at 0x7faf79714810>"
            ],
            "text/html": [
              "<style type=\"text/css\">\n",
              "</style>\n",
              "<table id=\"T_5a640_\" class=\"dataframe\">\n",
              "  <thead>\n",
              "    <tr>\n",
              "      <th class=\"blank level0\" >&nbsp;</th>\n",
              "      <th class=\"col_heading level0 col0\" >book_id</th>\n",
              "      <th class=\"col_heading level0 col1\" >title_without_series</th>\n",
              "      <th class=\"col_heading level0 col2\" >book_average_rating</th>\n",
              "      <th class=\"col_heading level0 col3\" >book_url</th>\n",
              "      <th class=\"col_heading level0 col4\" >cover_page</th>\n",
              "      <th class=\"col_heading level0 col5\" >ratings_count</th>\n",
              "    </tr>\n",
              "  </thead>\n",
              "  <tbody>\n",
              "    <tr>\n",
              "      <th id=\"T_5a640_level0_row0\" class=\"row_heading level0 row0\" >653</th>\n",
              "      <td id=\"T_5a640_row0_col0\" class=\"data row0 col0\" >23017947</td>\n",
              "      <td id=\"T_5a640_row0_col1\" class=\"data row0 col1\" >Ms. Marvel, Vol. 2: Generation Why</td>\n",
              "      <td id=\"T_5a640_row0_col2\" class=\"data row0 col2\" >4.140000</td>\n",
              "      <td id=\"T_5a640_row0_col3\" class=\"data row0 col3\" ><a target=\"_blank\" href=\"https://www.goodreads.com/book/show/23017947-ms-marvel-vol-2\">Goodreads</a></td>\n",
              "      <td id=\"T_5a640_row0_col4\" class=\"data row0 col4\" ><a href=\"https://images.gr-assets.com/books/1427559332m/23017947.jpg\"><img src=\"https://images.gr-assets.com/books/1427559332m/23017947.jpg\" width=60></img></a></td>\n",
              "      <td id=\"T_5a640_row0_col5\" class=\"data row0 col5\" >17597</td>\n",
              "    </tr>\n",
              "    <tr>\n",
              "      <th id=\"T_5a640_level0_row1\" class=\"row_heading level0 row1\" >1200</th>\n",
              "      <td id=\"T_5a640_row1_col0\" class=\"data row1 col0\" >23546843</td>\n",
              "      <td id=\"T_5a640_row1_col1\" class=\"data row1 col1\" >Ms. Marvel, Vol. 3: Crushed</td>\n",
              "      <td id=\"T_5a640_row1_col2\" class=\"data row1 col2\" >4.210000</td>\n",
              "      <td id=\"T_5a640_row1_col3\" class=\"data row1 col3\" ><a target=\"_blank\" href=\"https://www.goodreads.com/book/show/23546843-ms-marvel-vol-3\">Goodreads</a></td>\n",
              "      <td id=\"T_5a640_row1_col4\" class=\"data row1 col4\" ><a href=\"https://images.gr-assets.com/books/1435625362m/23546843.jpg\"><img src=\"https://images.gr-assets.com/books/1435625362m/23546843.jpg\" width=60></img></a></td>\n",
              "      <td id=\"T_5a640_row1_col5\" class=\"data row1 col5\" >13311</td>\n",
              "    </tr>\n",
              "    <tr>\n",
              "      <th id=\"T_5a640_level0_row2\" class=\"row_heading level0 row2\" >1738</th>\n",
              "      <td id=\"T_5a640_row2_col0\" class=\"data row2 col0\" >25066780</td>\n",
              "      <td id=\"T_5a640_row2_col1\" class=\"data row2 col1\" >Ms. Marvel, Vol. 4: Last Days</td>\n",
              "      <td id=\"T_5a640_row2_col2\" class=\"data row2 col2\" >4.250000</td>\n",
              "      <td id=\"T_5a640_row2_col3\" class=\"data row2 col3\" ><a target=\"_blank\" href=\"https://www.goodreads.com/book/show/25066780-ms-marvel-vol-4\">Goodreads</a></td>\n",
              "      <td id=\"T_5a640_row2_col4\" class=\"data row2 col4\" ><a href=\"https://images.gr-assets.com/books/1445556603m/25066780.jpg\"><img src=\"https://images.gr-assets.com/books/1445556603m/25066780.jpg\" width=60></img></a></td>\n",
              "      <td id=\"T_5a640_row2_col5\" class=\"data row2 col5\" >9604</td>\n",
              "    </tr>\n",
              "    <tr>\n",
              "      <th id=\"T_5a640_level0_row3\" class=\"row_heading level0 row3\" >35604</th>\n",
              "      <td id=\"T_5a640_row3_col0\" class=\"data row3 col0\" >16002160</td>\n",
              "      <td id=\"T_5a640_row3_col1\" class=\"data row3 col1\" >Marvel Masterworks: Captain Marvel - Volume 1</td>\n",
              "      <td id=\"T_5a640_row3_col2\" class=\"data row3 col2\" >3.230000</td>\n",
              "      <td id=\"T_5a640_row3_col3\" class=\"data row3 col3\" ><a target=\"_blank\" href=\"https://www.goodreads.com/book/show/16002160-marvel-masterworks\">Goodreads</a></td>\n",
              "      <td id=\"T_5a640_row3_col4\" class=\"data row3 col4\" ><a href=\"https://s.gr-assets.com/assets/nophoto/book/111x148-bcc042a9c91a29c1d680899eff700a03.png\"><img src=\"https://s.gr-assets.com/assets/nophoto/book/111x148-bcc042a9c91a29c1d680899eff700a03.png\" width=60></img></a></td>\n",
              "      <td id=\"T_5a640_row3_col5\" class=\"data row3 col5\" >16</td>\n",
              "    </tr>\n",
              "    <tr>\n",
              "      <th id=\"T_5a640_level0_row4\" class=\"row_heading level0 row4\" >2419</th>\n",
              "      <td id=\"T_5a640_row4_col0\" class=\"data row4 col0\" >27163013</td>\n",
              "      <td id=\"T_5a640_row4_col1\" class=\"data row4 col1\" >Ms. Marvel, Vol. 5: Super Famous</td>\n",
              "      <td id=\"T_5a640_row4_col2\" class=\"data row4 col2\" >4.240000</td>\n",
              "      <td id=\"T_5a640_row4_col3\" class=\"data row4 col3\" ><a target=\"_blank\" href=\"https://www.goodreads.com/book/show/27163013-ms-marvel-vol-5\">Goodreads</a></td>\n",
              "      <td id=\"T_5a640_row4_col4\" class=\"data row4 col4\" ><a href=\"https://images.gr-assets.com/books/1466479965m/27163013.jpg\"><img src=\"https://images.gr-assets.com/books/1466479965m/27163013.jpg\" width=60></img></a></td>\n",
              "      <td id=\"T_5a640_row4_col5\" class=\"data row4 col5\" >6471</td>\n",
              "    </tr>\n",
              "  </tbody>\n",
              "</table>\n"
            ]
          },
          "metadata": {},
          "execution_count": 172
        }
      ],
      "source": [
        "def similar_user_df(df_books_users):\n",
        "  user_id = str(input(\"Enter the user_id: \"))\n",
        "  df_liked_books = df_books_users[df_books_users['user_id']==user_id]\n",
        "  liked_books = set(df_liked_books['book_id'])\n",
        "  top_5_liked_books = df_liked_books.sort_values(by='user_rating', ascending=False)['book_id'][:5]\n",
        "  similar_user = df_books_users[(df_books_users['book_id'].isin(top_5_liked_books))& (df_books_users['user_rating']>4)]['user_id']\n",
        "  data = df_books_users[(df_books_users['user_id'].isin(similar_user))][['user_id', 'book_id', 'user_rating', 'ratings_count','title_without_series', 'book_average_rating', 'book_url', 'cover_page']]\n",
        "  return data, liked_books        \n",
        "\n",
        "def popular_recommendation(recs, liked_books):\n",
        "  all_recs = recs[\"book_id\"].value_counts()\n",
        "  all_recs = all_recs.to_frame().reset_index()\n",
        "  all_recs.columns = [\"book_id\", \"book_count\"]\n",
        "  all_recs = all_recs.merge(recs, how=\"inner\", on=\"book_id\")\n",
        "  all_recs[\"score\"] = all_recs[\"book_count\"] * (all_recs[\"book_count\"] / all_recs[\"ratings_count\"])\n",
        "  popular_recs = all_recs.sort_values(\"score\", ascending=False)\n",
        "  popular_recs_unbiased = popular_recs[~popular_recs[\"book_id\"].isin(liked_books)].drop_duplicates(subset=['title_without_series'])\n",
        "  popular_recs_unbiased.to_csv('popular_recs.csv', index=False)\n",
        "  return popular_recs_unbiased[['book_id', 'title_without_series', 'book_average_rating', 'book_url', 'cover_page', 'ratings_count']].head(5).style.format({'book_url': make_clickable, 'cover_page': show_image})\n",
        "\n",
        "recs, liked_books = similar_user_df(df_books_users)\n",
        "popular_recommendation(recs, liked_books)"
      ]
    },
    {
      "cell_type": "markdown",
      "source": [
        "## **Similiar Cover-Image of Books**"
      ],
      "metadata": {
        "id": "aHz1BP9G6KC_"
      }
    },
    {
      "cell_type": "markdown",
      "source": [
        "***Filtering out books that have missing cover pages***"
      ],
      "metadata": {
        "id": "MqycC2Kr61kG"
      }
    },
    {
      "cell_type": "code",
      "source": [
        "df_books_with_cover_page = df_books_processed[~df_books_processed['cover_page'].str.contains(\"https://s.gr-assets.com/assets/nophoto\")]"
      ],
      "metadata": {
        "id": "GnBxuREb6z-H"
      },
      "execution_count": null,
      "outputs": []
    },
    {
      "cell_type": "markdown",
      "source": [
        "***Saving images from provided book's cover page url***"
      ],
      "metadata": {
        "id": "_fGM26PX65I4"
      }
    },
    {
      "cell_type": "code",
      "source": [
        "def firstprocess():\n",
        "  for index, row in (df_books_with_cover_page[:59601].iterrows()):\n",
        "    url = row['cover_page']\n",
        "    try:\n",
        "        response = requests.get(url)\n",
        "        img = Image.open(BytesIO(response.content))\n",
        "        if img.mode != 'RGB':\n",
        "          img = img.convert('RGB')\n",
        "        img.save('/content/folderone_image/'+ str(row['book_id'])+'.jpeg')\n",
        "    except Exception:\n",
        "      pass\n",
        "      \n",
        "def secondprocess():\n",
        "  for index, row in (df_books_with_cover_page[59601:119202].iterrows()):\n",
        "    url = row['cover_page']\n",
        "    try:\n",
        "        response = requests.get(url)\n",
        "        img = Image.open(BytesIO(response.content))\n",
        "        if img.mode != 'RGB':\n",
        "          img = img.convert('RGB')\n",
        "        img.save('/content/foldertwo_image/'+ str(row['book_id'])+'.jpeg')\n",
        "    except Exception:\n",
        "      pass\n",
        "        \n",
        "def thirdprocess():\n",
        "  for index, row in (df_books_with_cover_page[119202:178803].iterrows()):\n",
        "    url = row['cover_page']\n",
        "    try:\n",
        "        response = requests.get(url)\n",
        "        img = Image.open(BytesIO(response.content))\n",
        "        if img.mode != 'RGB':\n",
        "          img = img.convert('RGB')\n",
        "        img.save('/content/folderthree_image/'+ str(row['book_id'])+'.jpeg') \n",
        "    except Exception:\n",
        "      pass\n",
        "\n",
        "def fourthprocess():\n",
        "  for index, row in (df_books_with_cover_page[178803:238404].iterrows()):\n",
        "    url = row['cover_page']\n",
        "    try:\n",
        "        response = requests.get(url)\n",
        "        img = Image.open(BytesIO(response.content))\n",
        "        if img.mode != 'RGB':\n",
        "          img = img.convert('RGB')\n",
        "        img.save('/content/folderfour_image/'+ str(row['book_id'])+'.jpeg')\n",
        "    except Exception:\n",
        "      pass\n",
        "     \n",
        "def fifthprocess():\n",
        "  for index, row in (df_books_with_cover_page[238404:298005].iterrows()):\n",
        "    url = row['cover_page']\n",
        "    try:\n",
        "        response = requests.get(url)\n",
        "        img = Image.open(BytesIO(response.content))\n",
        "        if img.mode != 'RGB':\n",
        "          img = img.convert('RGB')\n",
        "        img.save('/content/folderfive_image/'+ str(row['book_id'])+'.jpeg') \n",
        "    except Exception:\n",
        "      pass\n",
        "     \n",
        "def sixthprocess():\n",
        "  for index, row in (df_books_with_cover_page[298005:357606].iterrows()):\n",
        "    url = row['cover_page']\n",
        "    try:\n",
        "        response = requests.get(url)\n",
        "        img = Image.open(BytesIO(response.content))\n",
        "        if img.mode != 'RGB':\n",
        "          img = img.convert('RGB')\n",
        "        img.save('/content/foldersix_image/'+ str(row['book_id'])+'.jpeg')\n",
        "    except Exception:\n",
        "      pass\n",
        "      \n",
        "def seventhprocess():\n",
        "  for index, row in (df_books_with_cover_page[357606:417207].iterrows()):\n",
        "    url = row['cover_page']\n",
        "    try:\n",
        "        response = requests.get(url)\n",
        "        img = Image.open(BytesIO(response.content))\n",
        "        if img.mode != 'RGB':\n",
        "          img = img.convert('RGB')\n",
        "        img.save('/content/folderseven_image/'+ str(row['book_id'])+'.jpeg')\n",
        "    except Exception:\n",
        "      pass      \n",
        "\n",
        "def eigthprocess():\n",
        "  for index, row in (df_books_with_cover_page[417207:476815].iterrows()):\n",
        "    url = row['cover_page']\n",
        "    try:\n",
        "        response = requests.get(url)\n",
        "        img = Image.open(BytesIO(response.content))\n",
        "        if img.mode != 'RGB':\n",
        "          img = img.convert('RGB')\n",
        "        img.save('/content/foldereight_image/'+ str(row['book_id'])+'.jpeg') \n",
        "    except Exception:\n",
        "      pass                                     "
      ],
      "metadata": {
        "id": "NZkiQpbe7ARX"
      },
      "execution_count": null,
      "outputs": []
    },
    {
      "cell_type": "markdown",
      "source": [
        "***Multiprocessing for parallelizing jobs***"
      ],
      "metadata": {
        "id": "DKvP0xrE7C1B"
      }
    },
    {
      "cell_type": "code",
      "source": [
        "from multiprocessing import Process\n",
        "\n",
        "def main():\t\n",
        "    p1=Process(target=firstprocess)\n",
        "    p2=Process(target=secondprocess)\n",
        "    p3=Process(target=thirdprocess)\n",
        "    p4=Process(target=fourthprocess)\n",
        "    p5=Process(target=fifthprocess)\n",
        "    p6=Process(target=sixthprocess)\n",
        "    p7=Process(target=seventhprocess)\n",
        "    p8=Process(target=eigthprocess)\n",
        "    #p1.start() is used to start the thread execution\n",
        "    p1.start()\n",
        "    p2.start()\n",
        "    p3.start()\n",
        "    p4.start()\n",
        "    p5.start()\n",
        "    p6.start()\n",
        "    p7.start()\n",
        "    p8.start()\n",
        "    #After completion all the threads are joined\n",
        "    p1.join()\n",
        "    p2.join()\n",
        "    p3.join()\n",
        "    p4.join()\n",
        "    p5.join()\n",
        "    p6.join()\n",
        "    p7.join()\n",
        "    p8.join()\n",
        "\n",
        "if __name__==\"__main__\":\n",
        "    main()"
      ],
      "metadata": {
        "id": "WcxrsMwF7GVt"
      },
      "execution_count": null,
      "outputs": []
    },
    {
      "cell_type": "markdown",
      "source": [
        "Observation:\n",
        "\n",
        "\n",
        "*   Above code took nearly 90 minutes on TPU\n",
        "\n"
      ],
      "metadata": {
        "id": "SFWlC9H7NshQ"
      }
    },
    {
      "cell_type": "markdown",
      "source": [
        "***Transfer Learning(VGG16): Extracting feature vectors from saved cover page of books***"
      ],
      "metadata": {
        "id": "xlZeBFoM7TEc"
      }
    },
    {
      "cell_type": "code",
      "source": [
        "model_vgg16 = VGG16(weights='imagenet', include_top=False, input_shape=(95, 140, 3))\n",
        "model_new = Model(model_vgg16.input, model_vgg16.layers[-1].output)\n",
        "\n",
        "def firstprocess():\n",
        "  mapper = dict()\n",
        "  folderone_image = os.listdir('/content/folderone_image')\n",
        "  for image_path in tqdm(folderone_image):\n",
        "    image = load_img('/content/folderone_image/'+image_path, target_size=(95, 140))\n",
        "    image = img_to_array(image)\n",
        "    image = preprocess_input(image)\n",
        "    bottleneck_features_train = np.array(model_new(np.expand_dims(image, axis=0))).flatten()\n",
        "    mapper[int(image_path.split('.')[0])] = bottleneck_features_train\n",
        "  with open('/content/folderone_image.pkl', 'wb') as p:\n",
        "      dump(mapper, p)  \n",
        "\n",
        "def secondprocess():\n",
        "  mapper = dict()\n",
        "  foldertwo_image = os.listdir('/content/foldertwo_image')\n",
        "  for image_path in tqdm(foldertwo_image):\n",
        "    image = load_img('/content/foldertwo_image/'+image_path, target_size=(95, 140))\n",
        "    image = img_to_array(image)\n",
        "    image = preprocess_input(image)\n",
        "    bottleneck_features_train = np.array(model_new(np.expand_dims(image, axis=0))).flatten()\n",
        "    mapper[image_path.split('.')[0]] = bottleneck_features_train\n",
        "\n",
        "  with open('/content/foldertwo_image.pkl', 'wb') as p:\n",
        "      dump(mapper, p)\n",
        "\n",
        "def thirdprocess():\n",
        "  mapper = dict()\n",
        "  folderthree_image = os.listdir('/content/folderthree_image')\n",
        "  for image_path in tqdm(folderthree_image):\n",
        "    image = load_img('/content/folderthree_image/'+image_path, target_size=(95, 140))\n",
        "    image = img_to_array(image)\n",
        "    image = preprocess_input(image)\n",
        "    bottleneck_features_train = np.array(model_new(np.expand_dims(image, axis=0))).flatten()\n",
        "    mapper[image_path.split('.')[0]] = bottleneck_features_train\n",
        "\n",
        "  with open('/content/folderthree_image.pkl', 'wb') as p:\n",
        "      dump(mapper, p)\n",
        "\n",
        "def fourthprocess():\n",
        "  mapper = dict()\n",
        "  folderfour_image = os.listdir('/content/folderfour_image')\n",
        "  for image_path in tqdm(folderfour_image):\n",
        "    image = load_img('/content/folderfour_image/'+image_path, target_size=(95, 140))\n",
        "    image = img_to_array(image)\n",
        "    image = preprocess_input(image)\n",
        "    bottleneck_features_train = np.array(model_new(np.expand_dims(image, axis=0))).flatten()\n",
        "    mapper[image_path.split('.')[0]] = bottleneck_features_train\n",
        "\n",
        "  with open('/content/folderfour_image.pkl', 'wb') as p:\n",
        "      dump(mapper, p)\n",
        "\n",
        "def fifthprocess():\n",
        "  mapper = dict()\n",
        "  folderfive_image = os.listdir('/content/folderfive_image')\n",
        "  for image_path in tqdm(folderfive_image):\n",
        "    image = load_img('/content/folderfive_image/'+image_path, target_size=(95, 140))\n",
        "    image = img_to_array(image)\n",
        "    image = preprocess_input(image)\n",
        "    bottleneck_features_train = np.array(model_new(np.expand_dims(image, axis=0))).flatten()\n",
        "    mapper[image_path.split('.')[0]] = bottleneck_features_train\n",
        "\n",
        "  with open('/content/folderfive_image.pkl', 'wb') as p:\n",
        "      dump(mapper, p)\n",
        "\n",
        "\n",
        "def sixthprocess():\n",
        "  mapper = dict()\n",
        "  foldersix_image = os.listdir('/content/foldersix_image')\n",
        "  for image_path in tqdm(foldersix_image):\n",
        "    image = load_img('/content/foldersix_image/'+image_path, target_size=(95, 140))\n",
        "    image = img_to_array(image)\n",
        "    image = preprocess_input(image)\n",
        "    bottleneck_features_train = np.array(model_new(np.expand_dims(image, axis=0))).flatten()\n",
        "    mapper[image_path.split('.')[0]] = bottleneck_features_train\n",
        "\n",
        "  with open('/content/foldersix_image.pkl', 'wb') as p:\n",
        "      dump(mapper, p)\n",
        "\n",
        "\n",
        "def seventhprocess():\n",
        "  mapper = dict()\n",
        "  folderseven_image = os.listdir('/content/folderseven_image')\n",
        "  for image_path in tqdm(folderseven_image):\n",
        "    image = load_img('/content/folderseven_image/'+image_path, target_size=(95, 140))\n",
        "    image = img_to_array(image)\n",
        "    image = preprocess_input(image)\n",
        "    bottleneck_features_train = np.array(model_new(np.expand_dims(image, axis=0))).flatten()\n",
        "    mapper[image_path.split('.')[0]] = bottleneck_features_train\n",
        "\n",
        "  with open('/content/folderseven_image.pkl', 'wb') as p:\n",
        "      dump(mapper, p)\n",
        "\n",
        "\n",
        "def eigthprocess():\n",
        "  mapper = dict()\n",
        "  foldereight_image = os.listdir('/content/foldereight_image')\n",
        "  for image_path in tqdm(foldereight_image):\n",
        "    image = load_img('/content/foldereight_image/'+image_path, target_size=(95, 140))\n",
        "    image = img_to_array(image)\n",
        "    image = preprocess_input(image)\n",
        "    bottleneck_features_train = np.array(model_new(np.expand_dims(image, axis=0))).flatten()\n",
        "    mapper[image_path.split('.')[0]] = bottleneck_features_train\n",
        "\n",
        "  with open('/content/foldereight_image.pkl', 'wb') as p:\n",
        "      dump(mapper, p)\n",
        "\n",
        "firstprocess()\n",
        "secondprocess()\n",
        "thirdprocess()\n",
        "fourthprocess()\n",
        "fifthprocess()\n",
        "sixthprocess()\n",
        "seventhprocess()\n",
        "eigthprocess()      "
      ],
      "metadata": {
        "id": "x-YHz-j27U6p"
      },
      "execution_count": null,
      "outputs": []
    },
    {
      "cell_type": "markdown",
      "source": [
        "Observation:\n",
        "\n",
        "\n",
        "*   Each function created above took nearly 6 min on GPU(6*8=48 minutes)\n",
        "\n"
      ],
      "metadata": {
        "id": "sm8oC8k3NGEm"
      }
    },
    {
      "cell_type": "markdown",
      "source": [
        "***Loading saved features***"
      ],
      "metadata": {
        "id": "_eN7kUOy7ZGU"
      }
    },
    {
      "cell_type": "code",
      "source": [
        "mapper1 = load(open(\"/content/folderone_image.pkl\", \"rb\"))\n",
        "mapper2 = load(open(\"/content/foldertwo_image.pkl\", \"rb\"))\n",
        "mapper3 = load(open(\"/content/folderthree_image.pkl\", \"rb\"))\n",
        "mapper4 = load(open(\"/content/folderfour_image.pkl\", \"rb\"))\n",
        "mapper5 = load(open(\"/content/folderfive_image.pkl\", \"rb\"))\n",
        "mapper6 = load(open(\"/content/foldersix_image.pkl\", \"rb\"))\n",
        "mapper7 = load(open(\"/content/folderseven_image.pkl\", \"rb\"))\n",
        "mapper8 = load(open(\"/content/foldereight_image.pkl\", \"rb\"))"
      ],
      "metadata": {
        "id": "5iXE0Edw7bAu"
      },
      "execution_count": null,
      "outputs": []
    },
    {
      "cell_type": "markdown",
      "source": [
        "***Translating features vector dimensions***\n",
        "\n",
        "\n",
        "\n",
        "*   Note: This part can be taken care while extracting features through Transfer Learning"
      ],
      "metadata": {
        "id": "kOS5b_PQ7hSq"
      }
    },
    {
      "cell_type": "code",
      "source": [
        "mapper1 = dict(map(lambda x: (x[0], x[1].reshape(1, -1)), mapper1.items()))\n",
        "mapper2 = dict(map(lambda x: (x[0], x[1].reshape(1, -1)), mapper2.items()))\n",
        "mapper3 = dict(map(lambda x: (x[0], x[1].reshape(1, -1)), mapper3.items()))\n",
        "mapper4 = dict(map(lambda x: (x[0], x[1].reshape(1, -1)), mapper4.items()))\n",
        "mapper5 = dict(map(lambda x: (x[0], x[1].reshape(1, -1)), mapper5.items()))\n",
        "mapper6 = dict(map(lambda x: (x[0], x[1].reshape(1, -1)), mapper6.items()))\n",
        "mapper7 = dict(map(lambda x: (x[0], x[1].reshape(1, -1)), mapper7.items()))\n",
        "mapper8 = dict(map(lambda x: (x[0], x[1].reshape(1, -1)), mapper8.items()))"
      ],
      "metadata": {
        "id": "Ydu7rsDO7phR"
      },
      "execution_count": null,
      "outputs": []
    },
    {
      "cell_type": "markdown",
      "source": [
        "***Merging all dictionaries, creating dataframe***"
      ],
      "metadata": {
        "id": "SY5OPvQI7rl2"
      }
    },
    {
      "cell_type": "code",
      "source": [
        "merge = {**mapper1, **mapper2, **mapper3, **mapper4, **mapper5, **mapper6, **mapper7, **mapper8}\n",
        "df_image = pd.DataFrame(list(merge.items()), columns=['book_id', 'features'])\n",
        "features = np.squeeze(np.array(list(df_image['features'])), axis=1)\n",
        "df_image['book_id'] = df_image['book_id'].astype(int)"
      ],
      "metadata": {
        "id": "_F7p3EW37tWm"
      },
      "execution_count": null,
      "outputs": []
    },
    {
      "cell_type": "code",
      "source": [
        "def get_similar_books_cnn():\n",
        "  book_id = int(input('Enter the book_id: '))\n",
        "  index = df_image[df_image['book_id']== book_id].index\n",
        "  pairwise_dist = pairwise_distances(features, features[index].reshape(1,-1), metric='cosine')\n",
        "  indices = list(np.argsort(pairwise_dist.flatten())[0:5])\n",
        "  book_ids = list(df_image.loc[indices]['book_id'])\n",
        "  score = [(score, book) for score, book in enumerate(book_ids)]\n",
        "  df_score = pd.DataFrame(score, columns =['score', 'book_id'])\n",
        "  similar_books= (df_books_processed[df_books_processed['book_id'].isin(book_ids)].merge(df_score, on='book_id')).sort_values(by='score')\n",
        "  print('Entered book title: ', str(df_books_processed[df_books_processed['book_id']==int(book_id)]['title_without_series'].values[0]).strip())\n",
        "  return similar_books[['book_id', 'title_without_series', 'book_average_rating', 'book_url', 'cover_page']].head(5).style.format({'book_url': make_clickable, 'cover_page': show_image})\n",
        "\n",
        "get_similar_books_cnn()"
      ],
      "metadata": {
        "id": "XKY44LzW7vio",
        "colab": {
          "base_uri": "https://localhost:8080/"
        },
        "outputId": "aace0016-f25f-4646-bc27-62153ac99cfd"
      },
      "execution_count": null,
      "outputs": [
        {
          "output_type": "stream",
          "name": "stdout",
          "text": [
            "Enter the book_id: 23017947\n",
            "Entered book title:  Ms. Marvel, Vol. 2: Generation Why\n"
          ]
        },
        {
          "output_type": "execute_result",
          "data": {
            "text/plain": [
              "<pandas.io.formats.style.Styler at 0x7fd04e9da950>"
            ],
            "text/html": [
              "<style type=\"text/css\">\n",
              "</style>\n",
              "<table id=\"T_f8b6b_\" class=\"dataframe\">\n",
              "  <thead>\n",
              "    <tr>\n",
              "      <th class=\"blank level0\" >&nbsp;</th>\n",
              "      <th class=\"col_heading level0 col0\" >book_id</th>\n",
              "      <th class=\"col_heading level0 col1\" >title_without_series</th>\n",
              "      <th class=\"col_heading level0 col2\" >book_average_rating</th>\n",
              "      <th class=\"col_heading level0 col3\" >book_url</th>\n",
              "      <th class=\"col_heading level0 col4\" >cover_page</th>\n",
              "    </tr>\n",
              "  </thead>\n",
              "  <tbody>\n",
              "    <tr>\n",
              "      <th id=\"T_f8b6b_level0_row0\" class=\"row_heading level0 row0\" >2</th>\n",
              "      <td id=\"T_f8b6b_row0_col0\" class=\"data row0 col0\" >23017947</td>\n",
              "      <td id=\"T_f8b6b_row0_col1\" class=\"data row0 col1\" >Ms. Marvel, Vol. 2: Generation Why</td>\n",
              "      <td id=\"T_f8b6b_row0_col2\" class=\"data row0 col2\" >4.140000</td>\n",
              "      <td id=\"T_f8b6b_row0_col3\" class=\"data row0 col3\" ><a target=\"_blank\" href=\"https://www.goodreads.com/book/show/23017947-ms-marvel-vol-2\">Goodreads</a></td>\n",
              "      <td id=\"T_f8b6b_row0_col4\" class=\"data row0 col4\" ><a href=\"https://images.gr-assets.com/books/1427559332m/23017947.jpg\"><img src=\"https://images.gr-assets.com/books/1427559332m/23017947.jpg\" width=60></img></a></td>\n",
              "    </tr>\n",
              "    <tr>\n",
              "      <th id=\"T_f8b6b_level0_row1\" class=\"row_heading level0 row1\" >0</th>\n",
              "      <td id=\"T_f8b6b_row1_col0\" class=\"data row1 col0\" >27251104</td>\n",
              "      <td id=\"T_f8b6b_row1_col1\" class=\"data row1 col1\" >Ms. Marvel, Vol. 2: Génération Y</td>\n",
              "      <td id=\"T_f8b6b_row1_col2\" class=\"data row1 col2\" >4.140000</td>\n",
              "      <td id=\"T_f8b6b_row1_col3\" class=\"data row1 col3\" ><a target=\"_blank\" href=\"https://www.goodreads.com/book/show/27251104-ms-marvel-vol-2\">Goodreads</a></td>\n",
              "      <td id=\"T_f8b6b_row1_col4\" class=\"data row1 col4\" ><a href=\"https://images.gr-assets.com/books/1445461694m/27251104.jpg\"><img src=\"https://images.gr-assets.com/books/1445461694m/27251104.jpg\" width=60></img></a></td>\n",
              "    </tr>\n",
              "    <tr>\n",
              "      <th id=\"T_f8b6b_level0_row2\" class=\"row_heading level0 row2\" >1</th>\n",
              "      <td id=\"T_f8b6b_row2_col0\" class=\"data row2 col0\" >22558726</td>\n",
              "      <td id=\"T_f8b6b_row2_col1\" class=\"data row2 col1\" >Ms. Marvel, #6: Healing Factor</td>\n",
              "      <td id=\"T_f8b6b_row2_col2\" class=\"data row2 col2\" >4.440000</td>\n",
              "      <td id=\"T_f8b6b_row2_col3\" class=\"data row2 col3\" ><a target=\"_blank\" href=\"https://www.goodreads.com/book/show/22558726-ms-marvel-6\">Goodreads</a></td>\n",
              "      <td id=\"T_f8b6b_row2_col4\" class=\"data row2 col4\" ><a href=\"https://images.gr-assets.com/books/1405546048m/22558726.jpg\"><img src=\"https://images.gr-assets.com/books/1405546048m/22558726.jpg\" width=60></img></a></td>\n",
              "    </tr>\n",
              "    <tr>\n",
              "      <th id=\"T_f8b6b_level0_row3\" class=\"row_heading level0 row3\" >3</th>\n",
              "      <td id=\"T_f8b6b_row3_col0\" class=\"data row3 col0\" >31121362</td>\n",
              "      <td id=\"T_f8b6b_row3_col1\" class=\"data row3 col1\" >Ms. Marvel, Vol. 2: Questões Mil</td>\n",
              "      <td id=\"T_f8b6b_row3_col2\" class=\"data row3 col2\" >4.140000</td>\n",
              "      <td id=\"T_f8b6b_row3_col3\" class=\"data row3 col3\" ><a target=\"_blank\" href=\"https://www.goodreads.com/book/show/31121362-ms-marvel-vol-2\">Goodreads</a></td>\n",
              "      <td id=\"T_f8b6b_row3_col4\" class=\"data row3 col4\" ><a href=\"https://images.gr-assets.com/books/1468512801m/31121362.jpg\"><img src=\"https://images.gr-assets.com/books/1468512801m/31121362.jpg\" width=60></img></a></td>\n",
              "    </tr>\n",
              "    <tr>\n",
              "      <th id=\"T_f8b6b_level0_row4\" class=\"row_heading level0 row4\" >4</th>\n",
              "      <td id=\"T_f8b6b_row4_col0\" class=\"data row4 col0\" >5071490</td>\n",
              "      <td id=\"T_f8b6b_row4_col1\" class=\"data row4 col1\" >Fairy Tail, Vol. 06 (Fairy Tail, #6)</td>\n",
              "      <td id=\"T_f8b6b_row4_col2\" class=\"data row4 col2\" >4.450000</td>\n",
              "      <td id=\"T_f8b6b_row4_col3\" class=\"data row4 col3\" ><a target=\"_blank\" href=\"https://www.goodreads.com/book/show/5071490-fairy-tail-vol-06\">Goodreads</a></td>\n",
              "      <td id=\"T_f8b6b_row4_col4\" class=\"data row4 col4\" ><a href=\"https://images.gr-assets.com/books/1320520990m/5071490.jpg\"><img src=\"https://images.gr-assets.com/books/1320520990m/5071490.jpg\" width=60></img></a></td>\n",
              "    </tr>\n",
              "  </tbody>\n",
              "</table>\n"
            ]
          },
          "metadata": {},
          "execution_count": 8
        }
      ]
    },
    {
      "cell_type": "markdown",
      "metadata": {
        "id": "vDKxb-p8L9rJ"
      },
      "source": [
        "## **Correlation-Based Recommendation**"
      ]
    },
    {
      "cell_type": "code",
      "execution_count": null,
      "metadata": {
        "id": "a2DalFgINBd7"
      },
      "outputs": [],
      "source": [
        "user = df_books_users_processed['user_id'].value_counts().to_frame().reset_index()\n",
        "user.columns = ['user_id', 'user_rating_count']\n",
        "highly_active_users = user[user['user_rating_count']>300]['user_id']\n",
        "highly_rated_books = df_books_processed[df_books_processed['ratings_count']>3000]['book_id']"
      ]
    },
    {
      "cell_type": "code",
      "execution_count": null,
      "metadata": {
        "colab": {
          "base_uri": "https://localhost:8080/"
        },
        "id": "0Z9uDlRWPNZc",
        "outputId": "a3e0111d-a00a-4d96-8899-7d2fe1207525"
      },
      "outputs": [
        {
          "output_type": "stream",
          "name": "stdout",
          "text": [
            "Enter the book_id: 23017947\n",
            "Title of book given by customer: Ms. Marvel, Vol. 2: Generation Why\n"
          ]
        },
        {
          "output_type": "execute_result",
          "data": {
            "text/plain": [
              "<pandas.io.formats.style.Styler at 0x7f7403e63a90>"
            ],
            "text/html": [
              "<style type=\"text/css\">\n",
              "</style>\n",
              "<table id=\"T_50591_\" class=\"dataframe\">\n",
              "  <thead>\n",
              "    <tr>\n",
              "      <th class=\"blank level0\" >&nbsp;</th>\n",
              "      <th class=\"col_heading level0 col0\" >book_id</th>\n",
              "      <th class=\"col_heading level0 col1\" >title_without_series</th>\n",
              "      <th class=\"col_heading level0 col2\" >book_average_rating</th>\n",
              "      <th class=\"col_heading level0 col3\" >book_url</th>\n",
              "      <th class=\"col_heading level0 col4\" >cover_page</th>\n",
              "    </tr>\n",
              "  </thead>\n",
              "  <tbody>\n",
              "    <tr>\n",
              "      <th id=\"T_50591_level0_row0\" class=\"row_heading level0 row0\" >755</th>\n",
              "      <td id=\"T_50591_row0_col0\" class=\"data row0 col0\" >148875</td>\n",
              "      <td id=\"T_50591_row0_col1\" class=\"data row0 col1\" >The Rising Force (Star Wars: Jedi Apprentice, #1)</td>\n",
              "      <td id=\"T_50591_row0_col2\" class=\"data row0 col2\" >3.850000</td>\n",
              "      <td id=\"T_50591_row0_col3\" class=\"data row0 col3\" ><a target=\"_blank\" href=\"https://www.goodreads.com/book/show/148875.The_Rising_Force\">Goodreads</a></td>\n",
              "      <td id=\"T_50591_row0_col4\" class=\"data row0 col4\" ><a href=\"https://images.gr-assets.com/books/1375602232m/148875.jpg\"><img src=\"https://images.gr-assets.com/books/1375602232m/148875.jpg\" width=60></img></a></td>\n",
              "    </tr>\n",
              "    <tr>\n",
              "      <th id=\"T_50591_level0_row1\" class=\"row_heading level0 row1\" >576</th>\n",
              "      <td id=\"T_50591_row1_col0\" class=\"data row1 col0\" >9647908</td>\n",
              "      <td id=\"T_50591_row1_col1\" class=\"data row1 col1\" >The Ideal Man (Buchanan-Renard, #9)</td>\n",
              "      <td id=\"T_50591_row1_col2\" class=\"data row1 col2\" >3.920000</td>\n",
              "      <td id=\"T_50591_row1_col3\" class=\"data row1 col3\" ><a target=\"_blank\" href=\"https://www.goodreads.com/book/show/9647908-the-ideal-man\">Goodreads</a></td>\n",
              "      <td id=\"T_50591_row1_col4\" class=\"data row1 col4\" ><a href=\"https://s.gr-assets.com/assets/nophoto/book/111x148-bcc042a9c91a29c1d680899eff700a03.png\"><img src=\"https://s.gr-assets.com/assets/nophoto/book/111x148-bcc042a9c91a29c1d680899eff700a03.png\" width=60></img></a></td>\n",
              "    </tr>\n",
              "    <tr>\n",
              "      <th id=\"T_50591_level0_row2\" class=\"row_heading level0 row2\" >541</th>\n",
              "      <td id=\"T_50591_row2_col0\" class=\"data row2 col0\" >11889938</td>\n",
              "      <td id=\"T_50591_row2_col1\" class=\"data row2 col1\" >Taken (Elvis Cole, #15; Joe Pike, #4)</td>\n",
              "      <td id=\"T_50591_row2_col2\" class=\"data row2 col2\" >4.170000</td>\n",
              "      <td id=\"T_50591_row2_col3\" class=\"data row2 col3\" ><a target=\"_blank\" href=\"https://www.goodreads.com/book/show/11889938-taken\">Goodreads</a></td>\n",
              "      <td id=\"T_50591_row2_col4\" class=\"data row2 col4\" ><a href=\"https://images.gr-assets.com/books/1315773532m/11889938.jpg\"><img src=\"https://images.gr-assets.com/books/1315773532m/11889938.jpg\" width=60></img></a></td>\n",
              "    </tr>\n",
              "    <tr>\n",
              "      <th id=\"T_50591_level0_row3\" class=\"row_heading level0 row3\" >530</th>\n",
              "      <td id=\"T_50591_row3_col0\" class=\"data row3 col0\" >3710603</td>\n",
              "      <td id=\"T_50591_row3_col1\" class=\"data row3 col1\" >Y: The Last Man - The Deluxe Edition Book One</td>\n",
              "      <td id=\"T_50591_row3_col2\" class=\"data row3 col2\" >4.360000</td>\n",
              "      <td id=\"T_50591_row3_col3\" class=\"data row3 col3\" ><a target=\"_blank\" href=\"https://www.goodreads.com/book/show/3710603-y\">Goodreads</a></td>\n",
              "      <td id=\"T_50591_row3_col4\" class=\"data row3 col4\" ><a href=\"https://images.gr-assets.com/books/1288024278m/3710603.jpg\"><img src=\"https://images.gr-assets.com/books/1288024278m/3710603.jpg\" width=60></img></a></td>\n",
              "    </tr>\n",
              "    <tr>\n",
              "      <th id=\"T_50591_level0_row4\" class=\"row_heading level0 row4\" >528</th>\n",
              "      <td id=\"T_50591_row4_col0\" class=\"data row4 col0\" >16061340</td>\n",
              "      <td id=\"T_50591_row4_col1\" class=\"data row4 col1\" >The Colossus Rises (Seven Wonders, #1)</td>\n",
              "      <td id=\"T_50591_row4_col2\" class=\"data row4 col2\" >3.840000</td>\n",
              "      <td id=\"T_50591_row4_col3\" class=\"data row4 col3\" ><a target=\"_blank\" href=\"https://www.goodreads.com/book/show/16061340-the-colossus-rises\">Goodreads</a></td>\n",
              "      <td id=\"T_50591_row4_col4\" class=\"data row4 col4\" ><a href=\"https://images.gr-assets.com/books/1349467850m/16061340.jpg\"><img src=\"https://images.gr-assets.com/books/1349467850m/16061340.jpg\" width=60></img></a></td>\n",
              "    </tr>\n",
              "  </tbody>\n",
              "</table>\n"
            ]
          },
          "metadata": {},
          "execution_count": 47
        }
      ],
      "source": [
        "def correlation_recommendation():\n",
        "  confined_df_users_books = df_books_users_processed[(df_books_users_processed['user_id'].isin(highly_active_users)) & (df_books_users_processed['book_id'].isin(highly_rated_books))]\n",
        "  confined_df_users_books_limited  = confined_df_users_books[['user_id', 'book_id', 'user_rating']]\n",
        "  pivot_books = confined_df_users_books_limited.pivot(index='user_id', columns='book_id').user_rating\n",
        "  book_id = int(input('Enter the book_id: '))\n",
        "  pivot_book_id = pivot_books[book_id]\n",
        "  scores = pivot_books.corrwith(pivot_book_id).to_frame().reset_index()\n",
        "  scores.columns = ['book_id', 'pearson_score']\n",
        "  scores.dropna(inplace=True)\n",
        "  similar_books_to_given_book = (df_books_processed[df_books_processed['book_id'].isin(scores[scores['pearson_score']>0.0]['book_id'])].merge(scores[scores['pearson_score']>0.0], on='book_id')).sort_values(by='pearson_score', ascending=False)\n",
        "  print('Title of book given by customer:', str(df_books_processed[df_books_processed['book_id']==book_id]['title_without_series'].values[0]).strip())\n",
        "  return similar_books_to_given_book[['book_id', 'title_without_series', 'book_average_rating', 'book_url', 'cover_page']].head(5).style.format({'book_url': make_clickable, 'cover_page': show_image})\n",
        "\n",
        "correlation_recommendation()  "
      ]
    },
    {
      "cell_type": "markdown",
      "metadata": {
        "id": "G0gE7uh0vuXG"
      },
      "source": [
        "\n",
        "## **Content Based Filtering** "
      ]
    },
    {
      "cell_type": "markdown",
      "metadata": {
        "id": "BvcMb3iPE4dL"
      },
      "source": [
        "*Finding Tf-idf score for mod_title*"
      ]
    },
    {
      "cell_type": "code",
      "execution_count": 25,
      "metadata": {
        "colab": {
          "base_uri": "https://localhost:8080/",
          "height": 0
        },
        "id": "JohMByhihPut",
        "outputId": "989e9967-429c-437f-a85d-59bcea1e33ce"
      },
      "outputs": [
        {
          "output_type": "execute_result",
          "data": {
            "text/plain": [
              "(5422294, 3808)"
            ]
          },
          "metadata": {},
          "execution_count": 25
        }
      ],
      "source": [
        "vectorizer_title = TfidfVectorizer(max_df= 659408, min_df= 100,  stop_words='english')\n",
        "vectorizer_title.fit(df_books_processed[\"mod_title\"])\n",
        "tfidf_title = vectorizer_title.transform(df_books_users_processed['mod_title'])\n",
        "tfidf_title.shape"
      ]
    },
    {
      "cell_type": "markdown",
      "source": [
        "*Cleaning review_text data*"
      ],
      "metadata": {
        "id": "vKFNE1L0Hmzv"
      }
    },
    {
      "cell_type": "code",
      "source": [
        "def processing(review):\n",
        "  sentence = re.sub(r\"http\\S+\", \"\", review)\n",
        "  sentence = decontracted(sentence)\n",
        "  sentence = re.sub('[^A-Za-z]+', ' ', sentence[:500])\n",
        "  sentence = BeautifulSoup(sentence, 'lxml').get_text()\n",
        "  sentence = re.sub(\"\\S*\\d\\S*\", \"\", sentence).strip()\n",
        "  sentence = ' '.join(e.lower() for e in sentence.split() if e.lower() not in stopwords)\n",
        "  return sentence\n",
        "\n",
        "df_books_users_processed['review_text'] = df_books_users_processed['review_text'].apply(processing)"
      ],
      "metadata": {
        "id": "OX5fuEiACSZL"
      },
      "execution_count": null,
      "outputs": []
    },
    {
      "cell_type": "markdown",
      "source": [
        "*Finding Tf-idf score for review_text*"
      ],
      "metadata": {
        "id": "TOj_4bopHvcs"
      }
    },
    {
      "cell_type": "code",
      "source": [
        "vectorizer_review = TfidfVectorizer(max_df= 659408, min_df= 500, stop_words='english')\n",
        "vectorizer_review.fit(df_books_users_processed[\"review_text\"])\n",
        "tfidf_review = vectorizer_review.transform(df_books_users_processed['review_text'])\n",
        "tfidf_review.shape"
      ],
      "metadata": {
        "colab": {
          "base_uri": "https://localhost:8080/",
          "height": 0
        },
        "id": "8pogE8maOtRW",
        "outputId": "37b2e9f2-5a82-4393-8bd6-cb5e836f8a17"
      },
      "execution_count": 26,
      "outputs": [
        {
          "output_type": "execute_result",
          "data": {
            "text/plain": [
              "(5422294, 19320)"
            ]
          },
          "metadata": {},
          "execution_count": 26
        }
      ]
    },
    {
      "cell_type": "markdown",
      "source": [
        "*Saving necessary data*"
      ],
      "metadata": {
        "id": "SHpG3cOTH2Q7"
      }
    },
    {
      "cell_type": "code",
      "source": [
        "with open('/content/tfidf_title.pkl', 'wb') as p:\n",
        "    dump(tfidf_title, p)\n",
        "with open('/content/vectorizer_title.pkl', 'wb') as p:\n",
        "    dump(vectorizer_title, p)\n",
        "\n",
        "with open('/content/tfidf_review.pkl', 'wb') as p:\n",
        "    dump(tfidf_review, p)\n",
        "with open('/content/vectorizer_review.pkl', 'wb') as p:\n",
        "    dump(vectorizer_review, p)"
      ],
      "metadata": {
        "id": "l3CGGFbujOHY"
      },
      "execution_count": 27,
      "outputs": []
    },
    {
      "cell_type": "markdown",
      "metadata": {
        "id": "e7PgT43xFP9s"
      },
      "source": [
        "*Label Encoding categorical features*"
      ]
    },
    {
      "cell_type": "code",
      "execution_count": 18,
      "metadata": {
        "id": "JMbj2UXMrA97"
      },
      "outputs": [],
      "source": [
        "le1 = preprocessing.LabelEncoder()\n",
        "le1.fit(df_books_users_processed['book_id'])\n",
        "df_books_users_processed['book_id_mapped'] = le1.transform(df_books_users_processed['book_id'])\n",
        "\n",
        "le4 = preprocessing.LabelEncoder()\n",
        "le4.fit(df_books_users_processed['publisher'])\n",
        "df_books_users_processed['publisher_mapped'] = le4.transform(df_books_users_processed['publisher'])\n",
        "\n",
        "le7 = preprocessing.LabelEncoder()\n",
        "le7.fit(df_books_users_processed['is_ebook'])\n",
        "df_books_users_processed['is_ebook_mapped'] = le7.transform(df_books_users_processed['is_ebook'])\n",
        "\n",
        "le9 = preprocessing.LabelEncoder()\n",
        "le9.fit(df_books_users_processed['user_id'])\n",
        "df_books_users_processed['user_id_mapped'] = le9.transform(df_books_users_processed['user_id'])"
      ]
    },
    {
      "cell_type": "markdown",
      "source": [
        "*Saving necessary data*\n"
      ],
      "metadata": {
        "id": "t2vI6IuZH-fc"
      }
    },
    {
      "cell_type": "code",
      "execution_count": 28,
      "metadata": {
        "id": "l3UKuESkv1Fu"
      },
      "outputs": [],
      "source": [
        "with open('/content/le1.pkl', 'wb') as p:\n",
        "    dump(le1, p)\n",
        "with open('/content/le4.pkl', 'wb') as p:\n",
        "    dump(le4, p)\n",
        "with open('/content/le7.pkl', 'wb') as p:\n",
        "    dump(le7, p)\n",
        "with open('/content/le9.pkl', 'wb') as p:\n",
        "    dump(le9, p)             "
      ]
    },
    {
      "cell_type": "code",
      "execution_count": null,
      "metadata": {
        "id": "2a3lmI_U0iWz"
      },
      "outputs": [],
      "source": [
        "df_books_users_processed.to_csv('df_books_users_processed.csv.gz', index=False, compression='gzip')"
      ]
    },
    {
      "cell_type": "markdown",
      "metadata": {
        "id": "JNnS6XN8GaBP"
      },
      "source": [
        "*Extracting useful features for model training*"
      ]
    },
    {
      "cell_type": "code",
      "execution_count": 29,
      "metadata": {
        "id": "PMB23-mS1891"
      },
      "outputs": [],
      "source": [
        "df_books_users_numeric = df_books_users_processed[['book_id_mapped', 'publisher_mapped', 'is_ebook_mapped', 'user_id_mapped', 'publication_year', 'ratings_count', 'book_average_rating', 'num_pages', 'user_rating']]"
      ]
    },
    {
      "cell_type": "markdown",
      "metadata": {
        "id": "GKu-mFER_YgA"
      },
      "source": [
        "*Input and Output data for model training*"
      ]
    },
    {
      "cell_type": "code",
      "execution_count": 30,
      "metadata": {
        "id": "cy-6_saD2ltc"
      },
      "outputs": [],
      "source": [
        "x = df_books_users_numeric.drop(columns=['user_rating'])\n",
        "user_rating = df_books_users_numeric['user_rating']"
      ]
    },
    {
      "cell_type": "markdown",
      "metadata": {
        "id": "DhYFgMzA_qRq"
      },
      "source": [
        "*Normalizing Data*"
      ]
    },
    {
      "cell_type": "code",
      "execution_count": 31,
      "metadata": {
        "id": "bCg_ft3R-J7S"
      },
      "outputs": [],
      "source": [
        "norm = MinMaxScaler()\n",
        "norm.fit(x)\n",
        "x_normalized = norm.transform(x)"
      ]
    },
    {
      "cell_type": "code",
      "execution_count": 32,
      "metadata": {
        "id": "y2FGIa1gxGG9"
      },
      "outputs": [],
      "source": [
        "with open(\"/content/norm.pkl\", \"wb\") as p:\n",
        "    dump(norm, p)   "
      ]
    },
    {
      "cell_type": "markdown",
      "metadata": {
        "id": "HwdG7Tqn_uRa"
      },
      "source": [
        "*Stacking all features*"
      ]
    },
    {
      "cell_type": "code",
      "execution_count": 33,
      "metadata": {
        "id": "Ha8tU5GX_x5g"
      },
      "outputs": [],
      "source": [
        "data_x = hstack((x_normalized, tfidf_title, tfidf_review))"
      ]
    },
    {
      "cell_type": "markdown",
      "metadata": {
        "id": "QPl64c_WGp7Q"
      },
      "source": [
        "*Saving the prepared training dataset*"
      ]
    },
    {
      "cell_type": "code",
      "execution_count": 35,
      "metadata": {
        "id": "-6zWLTHPUTyi"
      },
      "outputs": [],
      "source": [
        "scipy.sparse.save_npz('/content/data_x.npz', data_x)\n",
        "with open('/content/user_rating.pkl', 'wb') as p:\n",
        "    dump(user_rating, p)"
      ]
    },
    {
      "cell_type": "markdown",
      "metadata": {
        "id": "HrhCXH1aHAN2"
      },
      "source": [
        "*Loading the dataset*"
      ]
    },
    {
      "cell_type": "code",
      "execution_count": null,
      "metadata": {
        "id": "sTsZzcztUgLo"
      },
      "outputs": [],
      "source": [
        "data_x = scipy.sparse.load_npz('/content/data_x.npz')\n",
        "with open(\"/content/user_rating.pkl\", \"rb\") as p:\n",
        "    user_rating = load(p)  "
      ]
    },
    {
      "cell_type": "markdown",
      "metadata": {
        "id": "kEFuZQfqjICa"
      },
      "source": [
        "*Train-Test split*"
      ]
    },
    {
      "cell_type": "code",
      "execution_count": 36,
      "metadata": {
        "id": "JsQfjXhAXs73"
      },
      "outputs": [],
      "source": [
        "X_train, X_test, y_train, y_test = train_test_split(data_x, user_rating, test_size=0.30, random_state=42)"
      ]
    },
    {
      "cell_type": "markdown",
      "source": [
        "***GridSearch on Logistic regression to find best suited parameters for model***"
      ],
      "metadata": {
        "id": "qDAQeaWf2EUx"
      }
    },
    {
      "cell_type": "code",
      "source": [
        "lr = OneVsRestClassifier(LogisticRegression())\n",
        "param_grid = {'estimator__penalty':['l1','l2'],'estimator__class_weight':[None, 'balanced']}\n",
        "gs_lr = GridSearchCV(lr, param_grid, cv= 2, scoring='f1_macro', verbose=2, return_train_score=True, n_jobs=-1)\n",
        "gs_lr.fit(X_train, y_train)"
      ],
      "metadata": {
        "colab": {
          "base_uri": "https://localhost:8080/",
          "height": 0
        },
        "id": "FQNoE6AbP6fC",
        "outputId": "7f4fa217-0fa9-4113-80aa-6b7b9c0db8bd"
      },
      "execution_count": 59,
      "outputs": [
        {
          "output_type": "stream",
          "name": "stdout",
          "text": [
            "Fitting 2 folds for each of 4 candidates, totalling 8 fits\n"
          ]
        },
        {
          "output_type": "execute_result",
          "data": {
            "text/plain": [
              "GridSearchCV(cv=2,\n",
              "             estimator=OneVsRestClassifier(estimator=LogisticRegression()),\n",
              "             n_jobs=-1,\n",
              "             param_grid={'estimator__class_weight': [None, 'balanced'],\n",
              "                         'estimator__penalty': ['l1', 'l2']},\n",
              "             return_train_score=True, scoring='f1_macro', verbose=2)"
            ]
          },
          "metadata": {},
          "execution_count": 59
        }
      ]
    },
    {
      "cell_type": "markdown",
      "source": [
        "*Finding best parameters for model*"
      ],
      "metadata": {
        "id": "-S73Jc2Ibv2D"
      }
    },
    {
      "cell_type": "code",
      "source": [
        "best_params = gs_lr.best_params_\n",
        "print('Best parameters are: ', best_params)"
      ],
      "metadata": {
        "colab": {
          "base_uri": "https://localhost:8080/",
          "height": 0
        },
        "id": "mEjYgqScQt1O",
        "outputId": "20eb387b-56a9-4710-bf9b-c0de54e09075"
      },
      "execution_count": 60,
      "outputs": [
        {
          "output_type": "stream",
          "name": "stdout",
          "text": [
            "Best parameters are:  {'estimator__class_weight': None, 'estimator__penalty': 'l2'}\n"
          ]
        }
      ]
    },
    {
      "cell_type": "markdown",
      "source": [
        "*Training model with best obtained Parameters*"
      ],
      "metadata": {
        "id": "QPIWSnEvb1O3"
      }
    },
    {
      "cell_type": "code",
      "source": [
        "clf_lr = OneVsRestClassifier(LogisticRegression())\n",
        "clf_lr.fit(X_train, y_train)"
      ],
      "metadata": {
        "colab": {
          "base_uri": "https://localhost:8080/",
          "height": 0
        },
        "id": "v8VT7E5dvbH3",
        "outputId": "5c479eb6-21c2-4143-dbfb-67914114f8c1"
      },
      "execution_count": 37,
      "outputs": [
        {
          "output_type": "execute_result",
          "data": {
            "text/plain": [
              "OneVsRestClassifier(estimator=LogisticRegression())"
            ]
          },
          "metadata": {},
          "execution_count": 37
        }
      ]
    },
    {
      "cell_type": "markdown",
      "metadata": {
        "id": "FWD6vdyPYJy4"
      },
      "source": [
        "*Evaluating scores obtained on trained model*"
      ]
    },
    {
      "cell_type": "code",
      "source": [
        "original = y_train   \n",
        "predicted = clf_lr.predict(X_train.tocsr())\n",
        "score = precision_score(original, predicted, average='macro')\n",
        "score"
      ],
      "metadata": {
        "colab": {
          "base_uri": "https://localhost:8080/",
          "height": 0
        },
        "id": "lhNf0JZ7vfab",
        "outputId": "4f5c2537-ae5a-4b8c-bdec-2a6431ddc885"
      },
      "execution_count": 38,
      "outputs": [
        {
          "output_type": "execute_result",
          "data": {
            "text/plain": [
              "0.5273979916514735"
            ]
          },
          "metadata": {},
          "execution_count": 38
        }
      ]
    },
    {
      "cell_type": "code",
      "source": [
        "original = y_test   \n",
        "predicted = clf_lr.predict(X_test.tocsr())\n",
        "score = precision_score(original, predicted, average='macro')\n",
        "score"
      ],
      "metadata": {
        "colab": {
          "base_uri": "https://localhost:8080/",
          "height": 0
        },
        "id": "Zvle55wEvgaY",
        "outputId": "3303152d-db93-4726-9871-5479ee66d756"
      },
      "execution_count": 39,
      "outputs": [
        {
          "output_type": "execute_result",
          "data": {
            "text/plain": [
              "0.5135025202751425"
            ]
          },
          "metadata": {},
          "execution_count": 39
        }
      ]
    },
    {
      "cell_type": "markdown",
      "metadata": {
        "id": "ddtJIfXLYJy5"
      },
      "source": [
        "*Confusion Matrix for Precision Score*"
      ]
    },
    {
      "cell_type": "code",
      "source": [
        "figure, axes = plt.subplots(1, 2, figsize=(25,10))\n",
        "plot_confusion_matrix(clf_lr, X_train, y_train, values_format='.3g', ax=axes[0], normalize='pred', cmap='gist_gray')  \n",
        "plot_confusion_matrix(clf_lr, X_test, y_test, values_format='.3g', ax=axes[1], normalize='pred', cmap='gist_gray') \n",
        "axes[0].set_title('Train Precision score')\n",
        "axes[1].set_title('Test Precision score') \n",
        "plt.show()"
      ],
      "metadata": {
        "colab": {
          "base_uri": "https://localhost:8080/",
          "height": 587
        },
        "id": "LntIlPFJv-MY",
        "outputId": "07c313f5-9e8e-418c-f7d4-f5e6ae564102"
      },
      "execution_count": 40,
      "outputs": [
        {
          "output_type": "display_data",
          "data": {
            "text/plain": [
              "<Figure size 1800x720 with 4 Axes>"
            ],
            "image/png": "[encoded data removed]"
          },
          "metadata": {
            "needs_background": "light"
          }
        }
      ]
    },
    {
      "cell_type": "code",
      "execution_count": 81,
      "metadata": {
        "id": "16V9oudpRm0s"
      },
      "outputs": [],
      "source": [
        "with open('/content/clf_lr.pkl', 'wb') as p:\n",
        "    dump(clf_lr, p)"
      ]
    },
    {
      "cell_type": "markdown",
      "metadata": {
        "id": "HWWEgBk-HEJB"
      },
      "source": [
        "***GridSearch on DecisionTree to find best suited parameters for model***"
      ]
    },
    {
      "cell_type": "code",
      "execution_count": null,
      "metadata": {
        "colab": {
          "base_uri": "https://localhost:8080/"
        },
        "id": "rHHW90XEgWkM",
        "outputId": "5e9453f8-de61-43dc-d8c1-2b5a6bb5aeb0"
      },
      "outputs": [
        {
          "output_type": "stream",
          "name": "stdout",
          "text": [
            "Fitting 2 folds for each of 2 candidates, totalling 4 fits\n"
          ]
        },
        {
          "output_type": "execute_result",
          "data": {
            "text/plain": [
              "GridSearchCV(cv=2, estimator=DecisionTreeClassifier(), n_jobs=-1,\n",
              "             param_grid={'max_depth': [15, 20], 'min_samples_split': [20]},\n",
              "             return_train_score=True, scoring='f1_macro', verbose=2)"
            ]
          },
          "metadata": {},
          "execution_count": 12
        }
      ],
      "source": [
        "clf = DecisionTreeClassifier()\n",
        "parameters = {'max_depth':[15, 17],'min_samples_split':[20]}\n",
        "clf1 = GridSearchCV(clf, parameters, cv= 2, scoring='f1_macro', verbose=2, return_train_score=True, n_jobs=-1)\n",
        "clf1.fit(X_train, y_train)"
      ]
    },
    {
      "cell_type": "markdown",
      "metadata": {
        "id": "JRxOPV2qHWSA"
      },
      "source": [
        "*Finding best parameters for model*"
      ]
    },
    {
      "cell_type": "code",
      "execution_count": null,
      "metadata": {
        "colab": {
          "base_uri": "https://localhost:8080/"
        },
        "id": "XGvfGgISdRng",
        "outputId": "e2ab1f40-8c00-4c1a-c6e5-4f1033049515"
      },
      "outputs": [
        {
          "output_type": "stream",
          "name": "stdout",
          "text": [
            "Best parameters are:  {'max_depth': 20, 'min_samples_split': 20}\n"
          ]
        }
      ],
      "source": [
        "best_params = clf1.best_params_\n",
        "print('Best parameters are: ', best_params)"
      ]
    },
    {
      "cell_type": "markdown",
      "metadata": {
        "id": "qL5UJW3Luus3"
      },
      "source": [
        "*Training model with best obtained Parameters*"
      ]
    },
    {
      "cell_type": "code",
      "source": [
        "clf_best = DecisionTreeClassifier(max_depth=20, min_samples_split=20)\n",
        "clf_best.fit(X_train, y_train)"
      ],
      "metadata": {
        "colab": {
          "base_uri": "https://localhost:8080/",
          "height": 0
        },
        "id": "_PDVfYMAwMsZ",
        "outputId": "9fb1ca9e-ff24-4178-9a47-46971ae7ccdc"
      },
      "execution_count": 41,
      "outputs": [
        {
          "output_type": "execute_result",
          "data": {
            "text/plain": [
              "DecisionTreeClassifier(max_depth=20, min_samples_split=20)"
            ]
          },
          "metadata": {},
          "execution_count": 41
        }
      ]
    },
    {
      "cell_type": "markdown",
      "source": [
        "*Evaluating scores obtained on trained model*"
      ],
      "metadata": {
        "id": "dp21lMWnJk2t"
      }
    },
    {
      "cell_type": "code",
      "source": [
        "original = y_train   # max_depth=20, min_samples_split=20\n",
        "predicted = clf_best.predict(X_train.tocsr())\n",
        "score = precision_score(original, predicted, average='macro')\n",
        "score"
      ],
      "metadata": {
        "colab": {
          "base_uri": "https://localhost:8080/",
          "height": 0
        },
        "id": "3MVUTtUIwRLj",
        "outputId": "fa7e0190-4ea2-4ad6-a0fe-c5292eee3bfd"
      },
      "execution_count": 42,
      "outputs": [
        {
          "output_type": "execute_result",
          "data": {
            "text/plain": [
              "0.5175566440366828"
            ]
          },
          "metadata": {},
          "execution_count": 42
        }
      ]
    },
    {
      "cell_type": "code",
      "source": [
        "original = y_test   # max_depth=20, min_samples_split=20\n",
        "predicted = clf_best.predict(X_test.tocsr())\n",
        "score = precision_score(original, predicted, average='macro')\n",
        "score"
      ],
      "metadata": {
        "colab": {
          "base_uri": "https://localhost:8080/",
          "height": 0
        },
        "id": "7HjQSfUmwR4m",
        "outputId": "7793eefc-6562-47db-81b4-4743896edade"
      },
      "execution_count": 43,
      "outputs": [
        {
          "output_type": "execute_result",
          "data": {
            "text/plain": [
              "0.45547828856406075"
            ]
          },
          "metadata": {},
          "execution_count": 43
        }
      ]
    },
    {
      "cell_type": "markdown",
      "source": [
        "*Confusion Matrix for Precision Score*"
      ],
      "metadata": {
        "id": "oGLWAD8SKGyT"
      }
    },
    {
      "cell_type": "code",
      "source": [
        "figure, axes = plt.subplots(1, 2, figsize=(25,10))\n",
        "plot_confusion_matrix(clf_best, X_train, y_train, values_format='.3g', ax=axes[0], normalize='pred', cmap='gist_gray')  \n",
        "plot_confusion_matrix(clf_best, X_test, y_test, values_format='.3g', ax=axes[1], normalize='pred', cmap='gist_gray') \n",
        "axes[0].set_title('Train Precision score')\n",
        "axes[1].set_title('Test Precision score') \n",
        "plt.show()"
      ],
      "metadata": {
        "colab": {
          "base_uri": "https://localhost:8080/",
          "height": 587
        },
        "id": "6N_yL6xUwVVd",
        "outputId": "7b5ffe2e-4d19-45a4-bcd7-428f136942cd"
      },
      "execution_count": 44,
      "outputs": [
        {
          "output_type": "display_data",
          "data": {
            "text/plain": [
              "<Figure size 1800x720 with 4 Axes>"
            ],
            "image/png": "[encoded data removed]"
          },
          "metadata": {
            "needs_background": "light"
          }
        }
      ]
    },
    {
      "cell_type": "markdown",
      "metadata": {
        "id": "xfxDsLyFMWJa"
      },
      "source": [
        "***GridSearch on RandomForest to find best suited parameters for model***"
      ]
    },
    {
      "cell_type": "code",
      "execution_count": null,
      "metadata": {
        "colab": {
          "base_uri": "https://localhost:8080/"
        },
        "outputId": "13249e16-2c52-450b-9158-471ecd69468a",
        "id": "mcHkaKW4MWJb"
      },
      "outputs": [
        {
          "output_type": "stream",
          "name": "stdout",
          "text": [
            "Fitting 2 folds for each of 2 candidates, totalling 4 fits\n"
          ]
        },
        {
          "output_type": "execute_result",
          "data": {
            "text/plain": [
              "GridSearchCV(cv=2, estimator=RandomForestClassifier(), n_jobs=-1,\n",
              "             param_grid={'max_depth': [15], 'min_samples_split': [20, 25]},\n",
              "             return_train_score=True, scoring='f1_macro', verbose=2)"
            ]
          },
          "metadata": {},
          "execution_count": 18
        }
      ],
      "source": [
        "clf = RandomForestClassifier()\n",
        "parameters = {'max_depth':[15],'min_samples_split':[20, 25]}\n",
        "clf1 = GridSearchCV(clf, parameters, cv= 2, scoring='f1_macro', verbose=2, return_train_score=True, n_jobs=-1)\n",
        "clf1.fit(X_train, y_train)"
      ]
    },
    {
      "cell_type": "markdown",
      "metadata": {
        "id": "9pTI_i7gMWJc"
      },
      "source": [
        "*Evaluating scores and best parameters for model*"
      ]
    },
    {
      "cell_type": "code",
      "execution_count": null,
      "metadata": {
        "colab": {
          "base_uri": "https://localhost:8080/"
        },
        "outputId": "20377f01-c46e-4e8f-86ce-0737caf77379",
        "id": "gm6KhfGqMWJd"
      },
      "outputs": [
        {
          "output_type": "stream",
          "name": "stdout",
          "text": [
            "Best parameters are:  {'max_depth': 15, 'min_samples_split': 25}\n"
          ]
        }
      ],
      "source": [
        "bestScore = clf1.best_score_\n",
        "best_params = clf1.best_params_\n",
        "print('Best parameters are: ', best_params)"
      ]
    },
    {
      "cell_type": "markdown",
      "metadata": {
        "id": "67suxDjBMWJd"
      },
      "source": [
        "*Training model with best obtained Parameters*"
      ]
    },
    {
      "cell_type": "code",
      "execution_count": null,
      "metadata": {
        "colab": {
          "base_uri": "https://localhost:8080/"
        },
        "outputId": "df42d081-eb0c-45dd-b176-96670f4ea9de",
        "id": "87Icw2wdMWJd"
      },
      "outputs": [
        {
          "output_type": "execute_result",
          "data": {
            "text/plain": [
              "RandomForestClassifier(max_depth=15, min_samples_split=25)"
            ]
          },
          "metadata": {},
          "execution_count": 20
        }
      ],
      "source": [
        "clf_best_rf = RandomForestClassifier(max_depth=15, min_samples_split=25)\n",
        "clf_best_rf.fit(X_train, y_train)"
      ]
    },
    {
      "cell_type": "markdown",
      "metadata": {
        "id": "kab2sZMWMWJe"
      },
      "source": [
        "*Finding Score of trained model*"
      ]
    },
    {
      "cell_type": "code",
      "execution_count": null,
      "metadata": {
        "colab": {
          "base_uri": "https://localhost:8080/"
        },
        "outputId": "6705a326-c27e-4c17-f71a-06dfd71cb532",
        "id": "zTwwOHHGMWJe"
      },
      "outputs": [
        {
          "output_type": "execute_result",
          "data": {
            "text/plain": [
              "0.2561621638240441"
            ]
          },
          "metadata": {},
          "execution_count": 21
        }
      ],
      "source": [
        "original = y_train   # max_depth=15, min_samples_split=20\n",
        "predicted = clf_best_rf.predict(X_train.tocsr())\n",
        "score = precision_score(original, predicted, average='macro')\n",
        "score"
      ]
    },
    {
      "cell_type": "code",
      "execution_count": null,
      "metadata": {
        "colab": {
          "base_uri": "https://localhost:8080/"
        },
        "outputId": "33da50f7-8ac3-43a7-fdf4-9292ff831abd",
        "id": "0IMUJpnvMWJf"
      },
      "outputs": [
        {
          "output_type": "execute_result",
          "data": {
            "text/plain": [
              "0.27420091170709243"
            ]
          },
          "metadata": {},
          "execution_count": 22
        }
      ],
      "source": [
        "original = y_test   # max_depth=15, min_samples_split=20\n",
        "predicted = clf_best_rf.predict(X_test.tocsr())\n",
        "score = precision_score(original, predicted, average='macro')\n",
        "score"
      ]
    },
    {
      "cell_type": "markdown",
      "metadata": {
        "id": "HAP0hFerMWJf"
      },
      "source": [
        "*Confusion Matrix for Precision Score*"
      ]
    },
    {
      "cell_type": "code",
      "execution_count": null,
      "metadata": {
        "colab": {
          "base_uri": "https://localhost:8080/",
          "height": 587
        },
        "outputId": "56e69bd2-4cf1-40a8-e54d-d6a1bece2ad0",
        "id": "nJ7qZM_WMWJf"
      },
      "outputs": [
        {
          "output_type": "display_data",
          "data": {
            "text/plain": [
              "<Figure size 1800x720 with 4 Axes>"
            ],
            "image/png": "[encoded data removed]"
          },
          "metadata": {
            "needs_background": "light"
          }
        }
      ],
      "source": [
        "figure, axes = plt.subplots(1, 2, figsize=(25,10))\n",
        "plot_confusion_matrix(clf_best_rf, X_train, y_train, values_format='.3g', ax=axes[0], normalize='pred', cmap='gist_gray')  \n",
        "plot_confusion_matrix(clf_best_rf, X_test, y_test, values_format='.3g', ax=axes[1], normalize='pred', cmap='gist_gray') \n",
        "axes[0].set_title('Train Precision score')\n",
        "axes[1].set_title('Test Precision score') \n",
        "plt.show()"
      ]
    },
    {
      "cell_type": "markdown",
      "metadata": {
        "id": "vj87tvGnEy6w"
      },
      "source": [
        "***Regression Algorithm***"
      ]
    },
    {
      "cell_type": "code",
      "execution_count": null,
      "metadata": {
        "colab": {
          "base_uri": "https://localhost:8080/"
        },
        "id": "SiIPHJxgEkco",
        "outputId": "314fb22b-c994-43c2-8b45-bd0a7bd07c10"
      },
      "outputs": [
        {
          "name": "stdout",
          "output_type": "stream",
          "text": [
            "Fitting 2 folds for each of 9 candidates, totalling 18 fits\n"
          ]
        },
        {
          "data": {
            "text/plain": [
              "GridSearchCV(cv=2, estimator=DecisionTreeRegressor(), n_jobs=-1,\n",
              "             param_grid={'max_depth': [15, 20, 30],\n",
              "                         'min_samples_split': [20, 23, 25]},\n",
              "             return_train_score=True, scoring='neg_root_mean_squared_error',\n",
              "             verbose=2)"
            ]
          },
          "execution_count": 85,
          "metadata": {},
          "output_type": "execute_result"
        }
      ],
      "source": [
        "regressor = DecisionTreeRegressor()\n",
        "parameters = {'max_depth':[15, 20, 30],'min_samples_split':[20, 23, 25]}\n",
        "regressor1 = GridSearchCV(regressor, parameters, cv= 2, scoring='neg_root_mean_squared_error', verbose=2, return_train_score=True, n_jobs=-1)\n",
        "regressor1.fit(X_train, y_train)"
      ]
    },
    {
      "cell_type": "code",
      "execution_count": null,
      "metadata": {
        "colab": {
          "base_uri": "https://localhost:8080/"
        },
        "id": "YfeGAlPrUrCt",
        "outputId": "c9b696ff-7120-4f6c-ecf8-f36967f7bf15"
      },
      "outputs": [
        {
          "name": "stdout",
          "output_type": "stream",
          "text": [
            "Best parameters are:  {'max_depth': 15, 'min_samples_split': 25}\n"
          ]
        }
      ],
      "source": [
        "best_params = regressor1.best_params_\n",
        "print('Best parameters are: ', best_params)"
      ]
    },
    {
      "cell_type": "code",
      "execution_count": null,
      "metadata": {
        "colab": {
          "base_uri": "https://localhost:8080/"
        },
        "id": "gfyMUl0gDTAc",
        "outputId": "22383580-a288-4e31-ffb6-28ffc55ed65a"
      },
      "outputs": [
        {
          "data": {
            "text/plain": [
              "DecisionTreeRegressor(max_depth=15, min_samples_split=25)"
            ]
          },
          "execution_count": 88,
          "metadata": {},
          "output_type": "execute_result"
        }
      ],
      "source": [
        "regressor_best = DecisionTreeRegressor(max_depth=15, min_samples_split=25)\n",
        "regressor_best.fit(X_train, y_train)"
      ]
    },
    {
      "cell_type": "code",
      "execution_count": null,
      "metadata": {
        "colab": {
          "base_uri": "https://localhost:8080/"
        },
        "id": "nrW3QvjkEHx7",
        "outputId": "43776789-8f54-47ce-b526-8482c383fd4e"
      },
      "outputs": [
        {
          "data": {
            "text/plain": [
              "1.3875038919223877"
            ]
          },
          "execution_count": 92,
          "metadata": {},
          "output_type": "execute_result"
        }
      ],
      "source": [
        "original = y_train   # max_depth=15, min_samples_split=25\n",
        "predicted = regressor_best.predict(X_train.tocsr())\n",
        "score = mean_squared_error(original, predicted)\n",
        "score"
      ]
    },
    {
      "cell_type": "code",
      "execution_count": null,
      "metadata": {
        "colab": {
          "base_uri": "https://localhost:8080/"
        },
        "id": "WO0Vno8PEISp",
        "outputId": "cf0c66a1-87ae-4264-a218-7577becd68f3"
      },
      "outputs": [
        {
          "data": {
            "text/plain": [
              "1.409782510258032"
            ]
          },
          "execution_count": 93,
          "metadata": {},
          "output_type": "execute_result"
        }
      ],
      "source": [
        "original = y_test   # max_depth=15, min_samples_split=25\n",
        "predicted = regressor_best.predict(X_test.tocsr())\n",
        "score = mean_squared_error(original, predicted)\n",
        "score"
      ]
    },
    {
      "cell_type": "markdown",
      "source": [
        "*Observation:*\n",
        "\n",
        "\n",
        "*   Of all the different algorithms we used for training purpose, Logistic Regression classifier gives best performance\n",
        "*   We will use Logistic Regression trained model for predicting the ratings\n",
        "\n"
      ],
      "metadata": {
        "id": "2m0hZ_rPlh47"
      }
    },
    {
      "cell_type": "markdown",
      "metadata": {
        "id": "gj8jEUPB2GXz"
      },
      "source": [
        "*Recommendation to users*"
      ]
    },
    {
      "cell_type": "code",
      "execution_count": 80,
      "metadata": {
        "id": "X3ofOy4r2B4c",
        "colab": {
          "base_uri": "https://localhost:8080/",
          "height": 963
        },
        "outputId": "eaa7102f-0e63-41ce-a8e3-91c4979dea14"
      },
      "outputs": [
        {
          "output_type": "stream",
          "name": "stdout",
          "text": [
            "Enter user_id: fcddf0227aafbf744a7714ac4409d373\n",
            "Books highly rated by given user: \n",
            "\n",
            "1 .   Sweet Deception (Veiled Seduction, #2)\n",
            "2 .   Persepolis: The Story of a Childhood (Persepolis, #1)\n",
            "3 .   The Big Trip Up Yonder by Kurt Vonnegut, Science Fiction, Literary\n",
            "4 .   Saga, Vol. 5 (Saga, #5)\n",
            "5 .   Everything I Need To Know I Learned From a Little Golden Book\n",
            "6 .   The Legend of Wonder Woman Vol. 1: Origins\n",
            "7 .   Maus I: A Survivor's Tale: My Father Bleeds History (Maus, #1)\n",
            "8 .   Deadpool Kills the Marvel Universe (Deadpool Killogy, #1)\n",
            "9 .   Collected Articles of Frederick Douglass\n",
            "10 .   Howard the Duck #4\n",
            "11 .   Would You Rather Be a Princess or a Dragon?\n",
            "12 .   Stonewall: Breaking Out in the Fight for Gay Rights\n",
            "13 .   Men Explain Things to Me\n",
            "14 .   Getting Away with Murder: The True Story of the Emmett Till Case\n",
            "15 .   Sundiata: A Legend of Africa\n",
            "16 .   I Remember Beirut\n",
            "17 .   The Five Fists of Science\n",
            "18 .   Pretty Deadly, Vol. 1: The Shrike\n",
            "19 .   Brokeback Mountain\n",
            "20 .   The Simpsons Treehouse of Horror: Fun-Filled Frightfest (Bart Simpson's Treehouse of Horror, #3)\n"
          ]
        },
        {
          "output_type": "execute_result",
          "data": {
            "text/plain": [
              "<pandas.io.formats.style.Styler at 0x7f2ada955d90>"
            ],
            "text/html": [
              "<style type=\"text/css\">\n",
              "</style>\n",
              "<table id=\"T_2a743_\" class=\"dataframe\">\n",
              "  <thead>\n",
              "    <tr>\n",
              "      <th class=\"blank level0\" >&nbsp;</th>\n",
              "      <th class=\"col_heading level0 col0\" >book_id</th>\n",
              "      <th class=\"col_heading level0 col1\" >title_without_series</th>\n",
              "      <th class=\"col_heading level0 col2\" >book_average_rating</th>\n",
              "      <th class=\"col_heading level0 col3\" >book_url</th>\n",
              "      <th class=\"col_heading level0 col4\" >cover_page</th>\n",
              "    </tr>\n",
              "  </thead>\n",
              "  <tbody>\n",
              "    <tr>\n",
              "      <th id=\"T_2a743_level0_row0\" class=\"row_heading level0 row0\" >660113</th>\n",
              "      <td id=\"T_2a743_row0_col0\" class=\"data row0 col0\" >22017381</td>\n",
              "      <td id=\"T_2a743_row0_col1\" class=\"data row0 col1\" >101 Nights: Volume One (101 Nights, #1-3)</td>\n",
              "      <td id=\"T_2a743_row0_col2\" class=\"data row0 col2\" >4.370000</td>\n",
              "      <td id=\"T_2a743_row0_col3\" class=\"data row0 col3\" ><a target=\"_blank\" href=\"https://www.goodreads.com/book/show/22017381-101-nights\">Goodreads</a></td>\n",
              "      <td id=\"T_2a743_row0_col4\" class=\"data row0 col4\" ><a href=\"https://images.gr-assets.com/books/1398621236m/22017381.jpg\"><img src=\"https://images.gr-assets.com/books/1398621236m/22017381.jpg\" width=60></img></a></td>\n",
              "    </tr>\n",
              "    <tr>\n",
              "      <th id=\"T_2a743_level0_row1\" class=\"row_heading level0 row1\" >486095</th>\n",
              "      <td id=\"T_2a743_row1_col0\" class=\"data row1 col0\" >81109</td>\n",
              "      <td id=\"T_2a743_row1_col1\" class=\"data row1 col1\" >The Energy of Money: A Spiritual Guide to Financial and Personal Fulfillment</td>\n",
              "      <td id=\"T_2a743_row1_col2\" class=\"data row1 col2\" >3.980000</td>\n",
              "      <td id=\"T_2a743_row1_col3\" class=\"data row1 col3\" ><a target=\"_blank\" href=\"https://www.goodreads.com/book/show/81109.The_Energy_of_Money\">Goodreads</a></td>\n",
              "      <td id=\"T_2a743_row1_col4\" class=\"data row1 col4\" ><a href=\"https://images.gr-assets.com/books/1320496045m/81109.jpg\"><img src=\"https://images.gr-assets.com/books/1320496045m/81109.jpg\" width=60></img></a></td>\n",
              "    </tr>\n",
              "    <tr>\n",
              "      <th id=\"T_2a743_level0_row2\" class=\"row_heading level0 row2\" >202899</th>\n",
              "      <td id=\"T_2a743_row2_col0\" class=\"data row2 col0\" >25497774</td>\n",
              "      <td id=\"T_2a743_row2_col1\" class=\"data row2 col1\" >The Ensign, May 2015</td>\n",
              "      <td id=\"T_2a743_row2_col2\" class=\"data row2 col2\" >4.810000</td>\n",
              "      <td id=\"T_2a743_row2_col3\" class=\"data row2 col3\" ><a target=\"_blank\" href=\"https://www.goodreads.com/book/show/25497774-the-ensign-may-2015\">Goodreads</a></td>\n",
              "      <td id=\"T_2a743_row2_col4\" class=\"data row2 col4\" ><a href=\"https://images.gr-assets.com/books/1430980076m/25497774.jpg\"><img src=\"https://images.gr-assets.com/books/1430980076m/25497774.jpg\" width=60></img></a></td>\n",
              "    </tr>\n",
              "    <tr>\n",
              "      <th id=\"T_2a743_level0_row3\" class=\"row_heading level0 row3\" >202900</th>\n",
              "      <td id=\"T_2a743_row3_col0\" class=\"data row3 col0\" >1098049</td>\n",
              "      <td id=\"T_2a743_row3_col1\" class=\"data row3 col1\" >Self-Portrait in a Convex Mirror</td>\n",
              "      <td id=\"T_2a743_row3_col2\" class=\"data row3 col2\" >4.090000</td>\n",
              "      <td id=\"T_2a743_row3_col3\" class=\"data row3 col3\" ><a target=\"_blank\" href=\"https://www.goodreads.com/book/show/1098049.Self_Portrait_in_a_Convex_Mirror\">Goodreads</a></td>\n",
              "      <td id=\"T_2a743_row3_col4\" class=\"data row3 col4\" ><a href=\"https://s.gr-assets.com/assets/nophoto/book/111x148-bcc042a9c91a29c1d680899eff700a03.png\"><img src=\"https://s.gr-assets.com/assets/nophoto/book/111x148-bcc042a9c91a29c1d680899eff700a03.png\" width=60></img></a></td>\n",
              "    </tr>\n",
              "    <tr>\n",
              "      <th id=\"T_2a743_level0_row4\" class=\"row_heading level0 row4\" >202904</th>\n",
              "      <td id=\"T_2a743_row4_col0\" class=\"data row4 col0\" >16149741</td>\n",
              "      <td id=\"T_2a743_row4_col1\" class=\"data row4 col1\" >Dog Hills</td>\n",
              "      <td id=\"T_2a743_row4_col2\" class=\"data row4 col2\" >3.000000</td>\n",
              "      <td id=\"T_2a743_row4_col3\" class=\"data row4 col3\" ><a target=\"_blank\" href=\"https://www.goodreads.com/book/show/16149741-dog-hills\">Goodreads</a></td>\n",
              "      <td id=\"T_2a743_row4_col4\" class=\"data row4 col4\" ><a href=\"https://images.gr-assets.com/books/1352910782m/16149741.jpg\"><img src=\"https://images.gr-assets.com/books/1352910782m/16149741.jpg\" width=60></img></a></td>\n",
              "    </tr>\n",
              "  </tbody>\n",
              "</table>\n"
            ]
          },
          "metadata": {},
          "execution_count": 80
        }
      ],
      "source": [
        "def content_recommendation():\n",
        "  user_id = str(input('Enter user_id: '))\n",
        "  book_id = set(df_books_users_processed[df_books_users_processed['user_id'] == user_id]['book_id'])\n",
        "  user_books = df_books_processed[(~df_books_processed['book_id'].isin(list(book_id)))].merge(df_final_review, on='book_id')\n",
        "  user_books['user_id'] = len(user_books)*[user_id]\n",
        "  user_books.reset_index(drop=True, inplace=True)\n",
        "  user_books = user_books[user_books['book_id'].isin(le1.classes_)]\n",
        "  user_books['book_id_mapped'] = le1.transform(user_books['book_id'])\n",
        "  user_books['publisher_mapped'] = le4.transform(user_books['publisher'])\n",
        "  user_books['is_ebook_mapped'] = le7.transform(user_books['is_ebook'])\n",
        "  user_books['user_id_mapped'] = le9.transform(user_books['user_id'])\n",
        "  tfidf_title = vectorizer_title.transform(user_books['mod_title'])\n",
        "  tfidf_review = vectorizer_review.transform(user_books['combined_processed_review'])\n",
        "  user_book_numeric = user_books[['book_id_mapped', 'publisher_mapped', 'is_ebook_mapped', 'user_id_mapped', 'publication_year', 'ratings_count', 'book_average_rating', 'num_pages']]\n",
        "  data_scaled = norm.transform(user_book_numeric)\n",
        "  data_scaled = hstack((data_scaled, tfidf_title, tfidf_review), dtype = np.float32)\n",
        "\n",
        "  prediction = clf_lr.predict(data_scaled.tocsr())\n",
        "  user_books['rating'] = prediction\n",
        "  top_50_books_for_user_content = user_books.sort_values(by=['rating'], ascending=False)[:50]\n",
        "  book_title_liked_by_user = set(df_books_users_processed[df_books_users_processed['book_id'].isin(book_id)].sort_values(by='user_rating', ascending=False)['title_without_series'])\n",
        "  print('Books highly rated by given user: \\n')\n",
        "  for count, books in enumerate(list(book_title_liked_by_user)[:20]):\n",
        "    print(count+1,'.  ',books)\n",
        "  return top_50_books_for_user_content[['book_id', 'title_without_series', 'book_average_rating', 'book_url', 'cover_page']].head(5).style.format({'book_url': make_clickable, 'cover_page': show_image})\n",
        "\n",
        "content_recommendation()"
      ]
    },
    {
      "cell_type": "markdown",
      "metadata": {
        "id": "vsqeMPSavuTo"
      },
      "source": [
        "## **Collaborative Filtering**"
      ]
    },
    {
      "cell_type": "markdown",
      "metadata": {
        "id": "MkWbhsceFCzr"
      },
      "source": [
        "*User-User Similarity*"
      ]
    },
    {
      "cell_type": "code",
      "source": [
        "def similar_users():\n",
        "  user_id = str(input('Enter user_id: '))\n",
        "  books_liked_by_user = set(df_books_users_processed[df_books_users_processed['user_id']== user_id]['book_id'])\n",
        "  count_other_similar_users = df_books_users_processed[df_books_users_processed['book_id'].isin(books_liked_by_user)]['user_id'].value_counts()\n",
        "  df_similar_user = count_other_similar_users.to_frame().reset_index()\n",
        "  df_similar_user.columns = ['user_id', 'matching_book_count']\n",
        "  top_onepercent_similar_users = df_similar_user[df_similar_user['matching_book_count']>=np.percentile(df_similar_user['matching_book_count'], 99)]\n",
        "  top_users = set(top_onepercent_similar_users['user_id'])\n",
        "  df_similar_user = df_books_users_processed[(df_books_users_processed['user_id'].isin(top_users))][['user_id_mapped', 'book_id_mapped', 'user_rating', 'user_id', 'book_id', 'title_without_series', 'ratings_count', 'cover_page', 'book_url', 'book_average_rating']]\n",
        "  ratings_mat_coo = coo_matrix((df_similar_user[\"user_rating\"], (df_similar_user[\"user_id_mapped\"], df_similar_user[\"book_id_mapped\"])))\n",
        "  ratings_mat = ratings_mat_coo.tocsr()\n",
        "  my_index = list(le9.transform([user_id]))[0]\n",
        "  similarity = cosine_similarity(ratings_mat[my_index,:], ratings_mat).flatten()\n",
        "  similar_users_index = np.argsort(similarity)[-1:-51:-1]\n",
        "  df_similar_users_refined = df_similar_user[(df_similar_user[\"user_id_mapped\"].isin(similar_users_index)) & (~df_similar_user['book_id'].isin(books_liked_by_user))].copy()\n",
        "  book_title_liked_by_user = set(df_books_users_processed[df_books_users_processed['book_id'].isin(books_liked_by_user)].sort_values(by='user_rating', ascending=False)['title_without_series'])\n",
        "  print('Books highly rated by given user: \\n')\n",
        "  for count, books in enumerate(list(book_title_liked_by_user)[:20]):\n",
        "    print(count+1,'.  ',books)\n",
        "  return df_similar_users_refined\n",
        "\n",
        "def recommendation(df_similar_users_refined):  \n",
        "  all_recs = df_similar_users_refined['book_id'].value_counts()\n",
        "  all_recs = all_recs.to_frame().reset_index()\n",
        "  all_recs.columns = [\"book_id\", \"book_count\"]\n",
        "  all_recs_book_id = list(all_recs['book_id'])\n",
        "  all_recs_new = df_books_processed[df_books_processed['book_id'].isin(all_recs_book_id)]\n",
        "  all_recs_new = all_recs_new.merge(all_recs, on='book_id', how='inner')\n",
        "  all_recs_new['score'] = all_recs_new['book_count'] * (all_recs_new['book_count']/all_recs_new['ratings_count'])\n",
        "  return all_recs_new.sort_values(by='score', ascending=False)[['book_id', 'title_without_series', 'book_average_rating', 'book_url', 'cover_page']].head(5).style.format({'book_url': make_clickable, 'cover_page': show_image})\n",
        "\n",
        "df_similar_users_refined = similar_users()  \n",
        "recommendation(df_similar_users_refined)"
      ],
      "metadata": {
        "colab": {
          "base_uri": "https://localhost:8080/",
          "height": 995
        },
        "id": "ckBU0PrhiFWX",
        "outputId": "3b7192b6-05ec-4022-8384-72dd2a003b0f"
      },
      "execution_count": null,
      "outputs": [
        {
          "output_type": "stream",
          "name": "stdout",
          "text": [
            "Enter user_id: fcddf0227aafbf744a7714ac4409d373\n",
            "Books highly rated by given user: \n",
            "\n",
            "1 .   Pig Girl\n",
            "2 .   Collected Articles of Frederick Douglass\n",
            "3 .   The Good, the Bad, and the Barbie: A Doll's History and Her Impact on Us\n",
            "4 .   The Walking Dead, Vol. 01: Days Gone Bye\n",
            "5 .   Sunstone, Vol. 2\n",
            "6 .   Where Are My Books?\n",
            "7 .   Pretty Deadly, Vol. 1: The Shrike\n",
            "8 .   Monstress, Vol. 1: Awakening (Monstress, #1)\n",
            "9 .   Love and Other Scandals (Scandalous, #1)\n",
            "10 .   Lisa Simpson's Guide to Geek Chic\n",
            "11 .   Bone Black: Memories of Girlhood\n",
            "12 .   The Complete Book of Dragons: A Guide to Dragon Species\n",
            "13 .   Stonewall: Breaking Out in the Fight for Gay Rights\n",
            "14 .   The Legend of Wonder Woman Vol. 1: Origins\n",
            "15 .   The Arab of the Future: A Childhood in the Middle East, 1978-1984: A Graphic Memoir\n",
            "16 .   Getting Away with Murder: The True Story of the Emmett Till Case\n",
            "17 .   Devil of the Highlands (Devil of the Highlands, #1)\n",
            "18 .   Would You Rather Be a Princess or a Dragon?\n",
            "19 .   Amina's Voice\n",
            "20 .   If I Were a Man\n"
          ]
        },
        {
          "output_type": "execute_result",
          "data": {
            "text/plain": [
              "<pandas.io.formats.style.Styler at 0x7f8d8e02e710>"
            ],
            "text/html": [
              "<style type=\"text/css\">\n",
              "</style>\n",
              "<table id=\"T_21a5e_\" class=\"dataframe\">\n",
              "  <thead>\n",
              "    <tr>\n",
              "      <th class=\"blank level0\" >&nbsp;</th>\n",
              "      <th class=\"col_heading level0 col0\" >book_id</th>\n",
              "      <th class=\"col_heading level0 col1\" >title_without_series</th>\n",
              "      <th class=\"col_heading level0 col2\" >book_average_rating</th>\n",
              "      <th class=\"col_heading level0 col3\" >book_url</th>\n",
              "      <th class=\"col_heading level0 col4\" >cover_page</th>\n",
              "    </tr>\n",
              "  </thead>\n",
              "  <tbody>\n",
              "    <tr>\n",
              "      <th id=\"T_21a5e_level0_row0\" class=\"row_heading level0 row0\" >1010</th>\n",
              "      <td id=\"T_21a5e_row0_col0\" class=\"data row0 col0\" >26783530</td>\n",
              "      <td id=\"T_21a5e_row0_col1\" class=\"data row0 col1\" >Re*pro*duct Volume 1: Reproduct</td>\n",
              "      <td id=\"T_21a5e_row0_col2\" class=\"data row0 col2\" >2.170000</td>\n",
              "      <td id=\"T_21a5e_row0_col3\" class=\"data row0 col3\" ><a target=\"_blank\" href=\"https://www.goodreads.com/book/show/26783530-re-pro-duct-volume-1\">Goodreads</a></td>\n",
              "      <td id=\"T_21a5e_row0_col4\" class=\"data row0 col4\" ><a href=\"https://images.gr-assets.com/books/1467451127m/26783530.jpg\"><img src=\"https://images.gr-assets.com/books/1467451127m/26783530.jpg\" width=60></img></a></td>\n",
              "    </tr>\n",
              "    <tr>\n",
              "      <th id=\"T_21a5e_level0_row1\" class=\"row_heading level0 row1\" >1843</th>\n",
              "      <td id=\"T_21a5e_row1_col0\" class=\"data row1 col0\" >26486384</td>\n",
              "      <td id=\"T_21a5e_row1_col1\" class=\"data row1 col1\" >Crystal Cadets</td>\n",
              "      <td id=\"T_21a5e_row1_col2\" class=\"data row1 col2\" >3.070000</td>\n",
              "      <td id=\"T_21a5e_row1_col3\" class=\"data row1 col3\" ><a target=\"_blank\" href=\"https://www.goodreads.com/book/show/26486384-crystal-cadets\">Goodreads</a></td>\n",
              "      <td id=\"T_21a5e_row1_col4\" class=\"data row1 col4\" ><a href=\"https://images.gr-assets.com/books/1444951210m/26486384.jpg\"><img src=\"https://images.gr-assets.com/books/1444951210m/26486384.jpg\" width=60></img></a></td>\n",
              "    </tr>\n",
              "    <tr>\n",
              "      <th id=\"T_21a5e_level0_row2\" class=\"row_heading level0 row2\" >1322</th>\n",
              "      <td id=\"T_21a5e_row2_col0\" class=\"data row2 col0\" >28587971</td>\n",
              "      <td id=\"T_21a5e_row2_col1\" class=\"data row2 col1\" >The One Hundred Nights of Hero</td>\n",
              "      <td id=\"T_21a5e_row2_col2\" class=\"data row2 col2\" >4.490000</td>\n",
              "      <td id=\"T_21a5e_row2_col3\" class=\"data row2 col3\" ><a target=\"_blank\" href=\"https://www.goodreads.com/book/show/28587971-the-one-hundred-nights-of-hero\">Goodreads</a></td>\n",
              "      <td id=\"T_21a5e_row2_col4\" class=\"data row2 col4\" ><a href=\"https://images.gr-assets.com/books/1460907652m/28587971.jpg\"><img src=\"https://images.gr-assets.com/books/1460907652m/28587971.jpg\" width=60></img></a></td>\n",
              "    </tr>\n",
              "    <tr>\n",
              "      <th id=\"T_21a5e_level0_row3\" class=\"row_heading level0 row3\" >1934</th>\n",
              "      <td id=\"T_21a5e_row3_col0\" class=\"data row3 col0\" >25624966</td>\n",
              "      <td id=\"T_21a5e_row3_col1\" class=\"data row3 col1\" >Alex + Ada, Vol. 3</td>\n",
              "      <td id=\"T_21a5e_row3_col2\" class=\"data row3 col2\" >3.860000</td>\n",
              "      <td id=\"T_21a5e_row3_col3\" class=\"data row3 col3\" ><a target=\"_blank\" href=\"https://www.goodreads.com/book/show/25624966-alex-ada-vol-3\">Goodreads</a></td>\n",
              "      <td id=\"T_21a5e_row3_col4\" class=\"data row3 col4\" ><a href=\"https://images.gr-assets.com/books/1464734140m/25624966.jpg\"><img src=\"https://images.gr-assets.com/books/1464734140m/25624966.jpg\" width=60></img></a></td>\n",
              "    </tr>\n",
              "    <tr>\n",
              "      <th id=\"T_21a5e_level0_row4\" class=\"row_heading level0 row4\" >1774</th>\n",
              "      <td id=\"T_21a5e_row4_col0\" class=\"data row4 col0\" >28762820</td>\n",
              "      <td id=\"T_21a5e_row4_col1\" class=\"data row4 col1\" >Rat Queens, Vol. 3: Demons</td>\n",
              "      <td id=\"T_21a5e_row4_col2\" class=\"data row4 col2\" >3.840000</td>\n",
              "      <td id=\"T_21a5e_row4_col3\" class=\"data row4 col3\" ><a target=\"_blank\" href=\"https://www.goodreads.com/book/show/28762820-rat-queens-vol-3\">Goodreads</a></td>\n",
              "      <td id=\"T_21a5e_row4_col4\" class=\"data row4 col4\" ><a href=\"https://images.gr-assets.com/books/1489503059m/28762820.jpg\"><img src=\"https://images.gr-assets.com/books/1489503059m/28762820.jpg\" width=60></img></a></td>\n",
              "    </tr>\n",
              "  </tbody>\n",
              "</table>\n"
            ]
          },
          "metadata": {},
          "execution_count": 72
        }
      ]
    },
    {
      "cell_type": "markdown",
      "metadata": {
        "id": "sSBtEPZnFGfN"
      },
      "source": [
        "*Item-Item Similarity*"
      ]
    },
    {
      "cell_type": "code",
      "execution_count": null,
      "metadata": {
        "colab": {
          "base_uri": "https://localhost:8080/"
        },
        "id": "gV2ZLlbNYYYu",
        "outputId": "4a0d7409-b632-4bb3-812e-2d2f2c60fe73"
      },
      "outputs": [
        {
          "output_type": "stream",
          "name": "stdout",
          "text": [
            "Enter book_id: 23017947\n",
            "Title of book given by customer: Ms. Marvel, Vol. 2: Generation Why\n"
          ]
        },
        {
          "output_type": "execute_result",
          "data": {
            "text/plain": [
              "<pandas.io.formats.style.Styler at 0x7faf79714c50>"
            ],
            "text/html": [
              "<style type=\"text/css\">\n",
              "</style>\n",
              "<table id=\"T_91514_\" class=\"dataframe\">\n",
              "  <thead>\n",
              "    <tr>\n",
              "      <th class=\"blank level0\" >&nbsp;</th>\n",
              "      <th class=\"col_heading level0 col0\" >book_id</th>\n",
              "      <th class=\"col_heading level0 col1\" >title_without_series</th>\n",
              "      <th class=\"col_heading level0 col2\" >book_average_rating</th>\n",
              "      <th class=\"col_heading level0 col3\" >book_url</th>\n",
              "      <th class=\"col_heading level0 col4\" >cover_page</th>\n",
              "    </tr>\n",
              "  </thead>\n",
              "  <tbody>\n",
              "    <tr>\n",
              "      <th id=\"T_91514_level0_row0\" class=\"row_heading level0 row0\" >40</th>\n",
              "      <td id=\"T_91514_row0_col0\" class=\"data row0 col0\" >23017947</td>\n",
              "      <td id=\"T_91514_row0_col1\" class=\"data row0 col1\" >Ms. Marvel, Vol. 2: Generation Why</td>\n",
              "      <td id=\"T_91514_row0_col2\" class=\"data row0 col2\" >4.140000</td>\n",
              "      <td id=\"T_91514_row0_col3\" class=\"data row0 col3\" ><a target=\"_blank\" href=\"https://www.goodreads.com/book/show/23017947-ms-marvel-vol-2\">Goodreads</a></td>\n",
              "      <td id=\"T_91514_row0_col4\" class=\"data row0 col4\" ><a href=\"https://images.gr-assets.com/books/1427559332m/23017947.jpg\"><img src=\"https://images.gr-assets.com/books/1427559332m/23017947.jpg\" width=60></img></a></td>\n",
              "    </tr>\n",
              "    <tr>\n",
              "      <th id=\"T_91514_level0_row1\" class=\"row_heading level0 row1\" >29</th>\n",
              "      <td id=\"T_91514_row1_col0\" class=\"data row1 col0\" >20898019</td>\n",
              "      <td id=\"T_91514_row1_col1\" class=\"data row1 col1\" >Ms. Marvel, Vol. 1: No Normal</td>\n",
              "      <td id=\"T_91514_row1_col2\" class=\"data row1 col2\" >4.120000</td>\n",
              "      <td id=\"T_91514_row1_col3\" class=\"data row1 col3\" ><a target=\"_blank\" href=\"https://www.goodreads.com/book/show/20898019-ms-marvel-vol-1\">Goodreads</a></td>\n",
              "      <td id=\"T_91514_row1_col4\" class=\"data row1 col4\" ><a href=\"https://images.gr-assets.com/books/1413031883m/20898019.jpg\"><img src=\"https://images.gr-assets.com/books/1413031883m/20898019.jpg\" width=60></img></a></td>\n",
              "    </tr>\n",
              "    <tr>\n",
              "      <th id=\"T_91514_level0_row2\" class=\"row_heading level0 row2\" >39</th>\n",
              "      <td id=\"T_91514_row2_col0\" class=\"data row2 col0\" >23546843</td>\n",
              "      <td id=\"T_91514_row2_col1\" class=\"data row2 col1\" >Ms. Marvel, Vol. 3: Crushed</td>\n",
              "      <td id=\"T_91514_row2_col2\" class=\"data row2 col2\" >4.210000</td>\n",
              "      <td id=\"T_91514_row2_col3\" class=\"data row2 col3\" ><a target=\"_blank\" href=\"https://www.goodreads.com/book/show/23546843-ms-marvel-vol-3\">Goodreads</a></td>\n",
              "      <td id=\"T_91514_row2_col4\" class=\"data row2 col4\" ><a href=\"https://images.gr-assets.com/books/1435625362m/23546843.jpg\"><img src=\"https://images.gr-assets.com/books/1435625362m/23546843.jpg\" width=60></img></a></td>\n",
              "    </tr>\n",
              "    <tr>\n",
              "      <th id=\"T_91514_level0_row3\" class=\"row_heading level0 row3\" >3</th>\n",
              "      <td id=\"T_91514_row3_col0\" class=\"data row3 col0\" >15704307</td>\n",
              "      <td id=\"T_91514_row3_col1\" class=\"data row3 col1\" >Saga, Vol. 1 (Saga, #1)</td>\n",
              "      <td id=\"T_91514_row3_col2\" class=\"data row3 col2\" >4.240000</td>\n",
              "      <td id=\"T_91514_row3_col3\" class=\"data row3 col3\" ><a target=\"_blank\" href=\"https://www.goodreads.com/book/show/15704307-saga-vol-1\">Goodreads</a></td>\n",
              "      <td id=\"T_91514_row3_col4\" class=\"data row3 col4\" ><a href=\"https://images.gr-assets.com/books/1486028947m/15704307.jpg\"><img src=\"https://images.gr-assets.com/books/1486028947m/15704307.jpg\" width=60></img></a></td>\n",
              "    </tr>\n",
              "    <tr>\n",
              "      <th id=\"T_91514_level0_row4\" class=\"row_heading level0 row4\" >32</th>\n",
              "      <td id=\"T_91514_row4_col0\" class=\"data row4 col0\" >25066780</td>\n",
              "      <td id=\"T_91514_row4_col1\" class=\"data row4 col1\" >Ms. Marvel, Vol. 4: Last Days</td>\n",
              "      <td id=\"T_91514_row4_col2\" class=\"data row4 col2\" >4.250000</td>\n",
              "      <td id=\"T_91514_row4_col3\" class=\"data row4 col3\" ><a target=\"_blank\" href=\"https://www.goodreads.com/book/show/25066780-ms-marvel-vol-4\">Goodreads</a></td>\n",
              "      <td id=\"T_91514_row4_col4\" class=\"data row4 col4\" ><a href=\"https://images.gr-assets.com/books/1445556603m/25066780.jpg\"><img src=\"https://images.gr-assets.com/books/1445556603m/25066780.jpg\" width=60></img></a></td>\n",
              "    </tr>\n",
              "  </tbody>\n",
              "</table>\n"
            ]
          },
          "metadata": {},
          "execution_count": 171
        }
      ],
      "source": [
        "def similar_item_recommendation():\n",
        "  book_id = (input('Enter book_id: '))\n",
        "  users_who_liked_book = set(df_books_users_processed[df_books_users_processed['book_id']== book_id]['user_id'])   \n",
        "  books_id_remaining = df_books_users_processed[(df_books_users_processed['user_id'].isin(list(users_who_liked_book)))]\n",
        "  ratings_mat_coo = coo_matrix((books_id_remaining[\"user_rating\"], (books_id_remaining[\"book_id_mapped\"], books_id_remaining[\"user_id_mapped\"])))\n",
        "  ratings_mat = ratings_mat_coo.tocsr()\n",
        "  my_index = list(le1.transform([book_id]))[0]\n",
        "  similarity = cosine_similarity(ratings_mat[my_index,:], ratings_mat).flatten()\n",
        "  similar_books_index = np.argsort(similarity)[-1:-51:-1]\n",
        "  score = [(score, book) for score, book in enumerate(similar_books_index)]\n",
        "  df_score = pd.DataFrame(score, columns =['score', 'book_id_mapped'])\n",
        "  df_similar_books_to_recommend = (df_books_users_processed[(df_books_users_processed['book_id_mapped'].isin(list(similar_books_index)))].merge(df_score, on='book_id_mapped'))[['book_id', 'score']]\n",
        "  unique_df_similar_books_to_recommend = df_similar_books_to_recommend.drop_duplicates(keep='first')\n",
        "  final_books = (df_books_processed[df_books_processed['book_id'].isin(set(unique_df_similar_books_to_recommend['book_id'].values))].merge(unique_df_similar_books_to_recommend, on='book_id')).sort_values(by='score')\n",
        "  print('Title of book given by customer:', str(df_books_processed[df_books_processed['book_id']==book_id]['title_without_series'].values[0]).strip())\n",
        "  return final_books[['book_id', 'title_without_series', 'book_average_rating', 'book_url', 'cover_page']].head(5).style.format({'book_url': make_clickable, 'cover_page': show_image})\n",
        "\n",
        "similar_item_recommendation()  "
      ]
    },
    {
      "cell_type": "markdown",
      "metadata": {
        "id": "AzzDVccvj37v"
      },
      "source": [
        "*SVD(Singular-Valued Decomposition)*"
      ]
    },
    {
      "cell_type": "code",
      "execution_count": null,
      "metadata": {
        "colab": {
          "base_uri": "https://localhost:8080/"
        },
        "id": "WrkwtyuOn2eV",
        "outputId": "afa36253-2589-4485-e22e-27e9187bb1fe"
      },
      "outputs": [
        {
          "output_type": "stream",
          "name": "stdout",
          "text": [
            "RMSE: 1.0719\n"
          ]
        },
        {
          "output_type": "execute_result",
          "data": {
            "text/plain": [
              "1.071853713493792"
            ]
          },
          "metadata": {},
          "execution_count": 12
        }
      ],
      "source": [
        "df_svd = df_books_users_processed[['user_id', 'book_id', 'user_rating']]\n",
        "reader = Reader(rating_scale=(0, 5))\n",
        "data = Dataset.load_from_df(df_svd, reader)\n",
        "trainset, testset = model_selection.train_test_split(data, test_size=0.30)\n",
        "model = SVD()\n",
        "model.fit(trainset)\n",
        "predictions = model.test(testset)\n",
        "accuracy.rmse(predictions)"
      ]
    },
    {
      "cell_type": "code",
      "execution_count": null,
      "metadata": {
        "id": "FrrudoVyBive"
      },
      "outputs": [],
      "source": [
        "with open('/content/model_svd.pkl', 'wb') as p:\n",
        "    dump(model, p)"
      ]
    },
    {
      "cell_type": "code",
      "execution_count": null,
      "metadata": {
        "colab": {
          "base_uri": "https://localhost:8080/"
        },
        "id": "CusrlcfjxoX7",
        "outputId": "1e9737cf-8fb1-4560-fbf0-6873bfeb4c62"
      },
      "outputs": [
        {
          "output_type": "stream",
          "name": "stdout",
          "text": [
            "Enter user_id: fcddf0227aafbf744a7714ac4409d373\n",
            "Books highly rated by given user: \n",
            "\n",
            "1 .   Klaus #2\n",
            "2 .   Freedom Over Me: Eleven Slaves, Their Lives and Dreams Brought to Life by Ashley Bryan\n",
            "3 .   The Terrible and Wonderful Reasons Why I Run Long Distances\n",
            "4 .   Ramshackle\n",
            "5 .   Howard the Duck #2\n",
            "6 .   The Big Trip Up Yonder by Kurt Vonnegut, Science Fiction, Literary\n",
            "7 .   Amina's Voice\n",
            "8 .   Love and Other Scandals (Scandalous, #1)\n",
            "9 .   Stonewall: Breaking Out in the Fight for Gay Rights\n",
            "10 .   Stolen Words\n",
            "11 .   The Children's Classic Poetry Collection\n",
            "12 .   Bird in a Cage\n",
            "13 .   People Who Said No: Courage Against Oppression\n",
            "14 .   Klaus #1\n",
            "15 .   Saga, Vol. 3 (Saga, #3)\n",
            "16 .   The Walking Dead, Vol. 01: Days Gone Bye\n",
            "17 .   Moonshot: The Indigenous Comics Collection, Volume 1 (Moonshot: The Indigenous Comics Collection, #1)\n",
            "18 .   American Street\n",
            "19 .   Pig Girl\n",
            "20 .   Lisa Simpson's Guide to Geek Chic\n"
          ]
        },
        {
          "output_type": "execute_result",
          "data": {
            "text/plain": [
              "<pandas.io.formats.style.Styler at 0x7fcf89f26e90>"
            ],
            "text/html": [
              "<style type=\"text/css\">\n",
              "</style>\n",
              "<table id=\"T_b2eb4_\" class=\"dataframe\">\n",
              "  <thead>\n",
              "    <tr>\n",
              "      <th class=\"blank level0\" >&nbsp;</th>\n",
              "      <th class=\"col_heading level0 col0\" >book_id</th>\n",
              "      <th class=\"col_heading level0 col1\" >title_without_series</th>\n",
              "      <th class=\"col_heading level0 col2\" >book_average_rating</th>\n",
              "      <th class=\"col_heading level0 col3\" >book_url</th>\n",
              "      <th class=\"col_heading level0 col4\" >cover_page</th>\n",
              "      <th class=\"col_heading level0 col5\" >rating</th>\n",
              "    </tr>\n",
              "  </thead>\n",
              "  <tbody>\n",
              "    <tr>\n",
              "      <th id=\"T_b2eb4_level0_row0\" class=\"row_heading level0 row0\" >158942</th>\n",
              "      <td id=\"T_b2eb4_row0_col0\" class=\"data row0 col0\" >34228489</td>\n",
              "      <td id=\"T_b2eb4_row0_col1\" class=\"data row0 col1\" >Hello, Sunshine</td>\n",
              "      <td id=\"T_b2eb4_row0_col2\" class=\"data row0 col2\" >3.460000</td>\n",
              "      <td id=\"T_b2eb4_row0_col3\" class=\"data row0 col3\" ><a target=\"_blank\" href=\"https://www.goodreads.com/book/show/34228489-hello-sunshine\">Goodreads</a></td>\n",
              "      <td id=\"T_b2eb4_row0_col4\" class=\"data row0 col4\" ><a href=\"https://images.gr-assets.com/books/1498033007m/34228489.jpg\"><img src=\"https://images.gr-assets.com/books/1498033007m/34228489.jpg\" width=60></img></a></td>\n",
              "      <td id=\"T_b2eb4_row0_col5\" class=\"data row0 col5\" >5.000000</td>\n",
              "    </tr>\n",
              "    <tr>\n",
              "      <th id=\"T_b2eb4_level0_row1\" class=\"row_heading level0 row1\" >362224</th>\n",
              "      <td id=\"T_b2eb4_row1_col0\" class=\"data row1 col0\" >23460945</td>\n",
              "      <td id=\"T_b2eb4_row1_col1\" class=\"data row1 col1\" >Smokejumper: A Memoir by One of America's Most Select Airborne Firefighters</td>\n",
              "      <td id=\"T_b2eb4_row1_col2\" class=\"data row1 col2\" >3.720000</td>\n",
              "      <td id=\"T_b2eb4_row1_col3\" class=\"data row1 col3\" ><a target=\"_blank\" href=\"https://www.goodreads.com/book/show/23460945-smokejumper\">Goodreads</a></td>\n",
              "      <td id=\"T_b2eb4_row1_col4\" class=\"data row1 col4\" ><a href=\"https://images.gr-assets.com/books/1418764581m/23460945.jpg\"><img src=\"https://images.gr-assets.com/books/1418764581m/23460945.jpg\" width=60></img></a></td>\n",
              "      <td id=\"T_b2eb4_row1_col5\" class=\"data row1 col5\" >5.000000</td>\n",
              "    </tr>\n",
              "    <tr>\n",
              "      <th id=\"T_b2eb4_level0_row2\" class=\"row_heading level0 row2\" >243180</th>\n",
              "      <td id=\"T_b2eb4_row2_col0\" class=\"data row2 col0\" >23603597</td>\n",
              "      <td id=\"T_b2eb4_row2_col1\" class=\"data row2 col1\" >How It Feels to Fly</td>\n",
              "      <td id=\"T_b2eb4_row2_col2\" class=\"data row2 col2\" >3.870000</td>\n",
              "      <td id=\"T_b2eb4_row2_col3\" class=\"data row2 col3\" ><a target=\"_blank\" href=\"https://www.goodreads.com/book/show/23603597-how-it-feels-to-fly\">Goodreads</a></td>\n",
              "      <td id=\"T_b2eb4_row2_col4\" class=\"data row2 col4\" ><a href=\"https://images.gr-assets.com/books/1444939564m/23603597.jpg\"><img src=\"https://images.gr-assets.com/books/1444939564m/23603597.jpg\" width=60></img></a></td>\n",
              "      <td id=\"T_b2eb4_row2_col5\" class=\"data row2 col5\" >5.000000</td>\n",
              "    </tr>\n",
              "    <tr>\n",
              "      <th id=\"T_b2eb4_level0_row3\" class=\"row_heading level0 row3\" >242926</th>\n",
              "      <td id=\"T_b2eb4_row3_col0\" class=\"data row3 col0\" >15790862</td>\n",
              "      <td id=\"T_b2eb4_row3_col1\" class=\"data row3 col1\" >How to Steal a Dragon's Sword</td>\n",
              "      <td id=\"T_b2eb4_row3_col2\" class=\"data row3 col2\" >4.430000</td>\n",
              "      <td id=\"T_b2eb4_row3_col3\" class=\"data row3 col3\" ><a target=\"_blank\" href=\"https://www.goodreads.com/book/show/15790862-how-to-steal-a-dragon-s-sword\">Goodreads</a></td>\n",
              "      <td id=\"T_b2eb4_row3_col4\" class=\"data row3 col4\" ><a href=\"https://images.gr-assets.com/books/1352311199m/15790862.jpg\"><img src=\"https://images.gr-assets.com/books/1352311199m/15790862.jpg\" width=60></img></a></td>\n",
              "      <td id=\"T_b2eb4_row3_col5\" class=\"data row3 col5\" >5.000000</td>\n",
              "    </tr>\n",
              "    <tr>\n",
              "      <th id=\"T_b2eb4_level0_row4\" class=\"row_heading level0 row4\" >542609</th>\n",
              "      <td id=\"T_b2eb4_row4_col0\" class=\"data row4 col0\" >363139</td>\n",
              "      <td id=\"T_b2eb4_row4_col1\" class=\"data row4 col1\" >Winter Knight (Black Oak #3)</td>\n",
              "      <td id=\"T_b2eb4_row4_col2\" class=\"data row4 col2\" >3.770000</td>\n",
              "      <td id=\"T_b2eb4_row4_col3\" class=\"data row4 col3\" ><a target=\"_blank\" href=\"https://www.goodreads.com/book/show/363139.Winter_Knight\">Goodreads</a></td>\n",
              "      <td id=\"T_b2eb4_row4_col4\" class=\"data row4 col4\" ><a href=\"https://images.gr-assets.com/books/1364060037m/363139.jpg\"><img src=\"https://images.gr-assets.com/books/1364060037m/363139.jpg\" width=60></img></a></td>\n",
              "      <td id=\"T_b2eb4_row4_col5\" class=\"data row4 col5\" >4.996015</td>\n",
              "    </tr>\n",
              "  </tbody>\n",
              "</table>\n"
            ]
          },
          "metadata": {},
          "execution_count": 31
        }
      ],
      "source": [
        "def recommendation_svd():\n",
        "  user_id = str(input('Enter user_id: '))\n",
        "  book_id = set(df_books_users_processed[df_books_users_processed['user_id']==user_id]['book_id'])\n",
        "  user_books = df_books_processed[~df_books_processed['book_id'].isin(book_id)]\n",
        "  user_books['user_id'] = len(user_books)*[user_id]\n",
        "  user_books.reset_index(drop=True, inplace=True)\n",
        "  user_books['user_rating'] = 0\n",
        "  df_svd_predict = Dataset.load_from_df(user_books[['user_id', 'book_id', 'user_rating']], reader)\n",
        "  NA, test = model_selection.train_test_split(df_svd_predict, test_size=1.0)\n",
        "  predictions = model.test(test)\n",
        "  predictions = [prediction.est for prediction in predictions]\n",
        "  user_books['rating'] = predictions\n",
        "  top_50_books_for_user_content = user_books.sort_values(by=['rating'], ascending=False)[:50]\n",
        "  top_50_books_for_user_content.to_csv('top_50_books_for_user_content.csv', index=False)\n",
        "  book_title_liked_by_user = set(df_books_users_processed[df_books_users_processed['user_id']==user_id].sort_values(by='user_rating', ascending=False)['title_without_series'])\n",
        "  print('Books highly rated by given user: \\n')\n",
        "  for count, books in enumerate(list(book_title_liked_by_user)[:20]):\n",
        "    print(count+1,'.  ',books)\n",
        "  return top_50_books_for_user_content[['book_id', 'title_without_series', 'book_average_rating', 'book_url', 'cover_page', 'rating']].head(5).style.format({'book_url': make_clickable, 'cover_page': show_image})\n",
        "\n",
        "\n",
        "recommendation_svd()"
      ]
    },
    {
      "cell_type": "markdown",
      "source": [
        "## **Observation**"
      ],
      "metadata": {
        "id": "dlR2JYqJjkyp"
      }
    },
    {
      "cell_type": "markdown",
      "source": [
        "For analyzing the recommendations made by model, we make use of below id's throughout this Project \n",
        "\n",
        "*   User-id : fcddf0227aafbf744a7714ac4409d373\n",
        "*   Book-id : 23017947\n",
        "\n",
        "If we look at the top 20 highest rated books by given user(user-id: fcddf0227aafbf744a7714ac4409d373), then we can divide the user preferences as:\n",
        "![Book-Genre.png](data:image/png;base64,iVBORw0KGgoAAAANSUhEUgAABGwAAAI8CAYAAACkrj2RAAAAAXNSR0IArs4c6QAAAARnQU1BAACxjwv8YQUAAAAJcEhZcwAAEnQAABJ0Ad5mH3gAAP+lSURBVHhe7P0BlBTXnR/6/zCLzCKDNUb2MMZmZCJlQd5dxAgjZbGVVbKWjIAwZx1HCv7v4eXpOaMj8ggRRnovT/6HPVbynoRROCTor3l+Ou+QjYkUR3lMBMKSnZUjGa+E0SB2bSEHPVkzWjxgCyMPKxaLZfn/flX3d/tXt29VV/f0zPTMfD/nFFNdXV1161Z10/fX93dr2iVGMGW89ed/Th//2MfcI5gqcN6nJpz3qQnnfWrCeZ+acN6nJpz3qQnnfeqRc/4+Nw8AAAAAAAAAAC0CARsAAAAAAAAAgBYzjSekRAEAAAAAAAAAtJBpP9rzXxGwAQAAmCRO/fIX1P7BD7lHMFXgvE9NOO9T0yfX/V3CKKQAk9+0aUiJAgAAAAAAAABoOQjYAAAAAAAAAAC0GARsAAAAAAAAAABaDAI2AAAAAAAAAAAtBgEbAAAAAAAAAIAWg4ANAAAAAAAAAECLQcAGAAAAAAAAAKDFIGADAAAAAAAAANBiELABAAAAAAAAAGgxCNgAAAAAAAAAALSYaT/a818vuXkAAGgxr//oCdr/c/egpun0/vfPoDmXd9KSTyyiT86e6Za3vl8MHKA/+smwe8Q+vIL+6Sc/5h5APU798hfU/sEPuUcwVeC8T00471PTJ9f9XbpUugU3nYbf+AR97799kg79uI3ePnMZXXDP0Iz3aM7cM7Ro+Y/ols+8Th+f45YDQEuYNg09bAAAJpGL9Ktfnaef/+LH9J2X++jrP3yDhhGSBwAAmJIuvPXb9G/+l/+Btjz4d6jvxXYassEaceEyGj7ZTof+y9+hB7bcSVv3LKDhv3bPAUBLQMAGAGCSOvf2D2jPfz/lHgEAAMBUMfTcarr3gRvph2emuyW1TKeh//Y5+uf/x1IaQtAGoGUgYAMAMIn9augH9MJfuAcAAAAw6Z078ll66PGP0jn3uB4XBj5FD+1ekO2JAwDjBmPYAAC0sHAMmw99YiX9QWc8yfziX52hn/zkB/StE2foolsmil7TKjCGTfNgTIupCed9asJ5n5oKx7A5uZQe+MNP0VtBL5kZ835Ct3UfoU//xhmaM0u+JUyncz9rp4P/+W/TfzoyO13JO0ufvf8/0N//uHsIAOMCY9gAAEwi03+tja6+5u/SzcF391/8hQmEAAAAwCQ1nY78lyVVwZqP/14fPfSH36bblr7tgjXiIs36yE/ps3f9B9r69952y9RsOvjfPurmAWA8oYcNAEALq6eHjQp7q7y/43fprt9od49CF2n47R/T998aoLf+YpjO6fe46TPpwx/spCVXLaJFc2byV8AS3jtDP3rrz+joz96mX/zqguvlM53eP+sKuqp9ES3/2MfoQzkbqtnD5tIwHXr5AP2JTe+a1kZ/a9kttPxy91j89bv0Opeh/9Qp+sX58/Qr/dI6bTrNumwOfWTux+iTH/8NuvrXy+b0Tzz4xX1qwnmfmnDep6bcHjbDn6QHt6ygN9xDMWvpH9O/vOt1muUex11GB//N/0D/7ofuoWj7U7rv/3iRFrqHGb+6gg7tu5GefXE+vTXs/j+d8R51dA7S8t/7AX126VmakS7NOrmUtv6LT9GQe0jXf5t6//FP6MLPPkHf3ruUnvtxGw3/hWzvIs2a9zZv6yCtWvE2zanqYvAJerTns3TEPaJ5P+Dtvk5v/dFn6T/84Eo6J/lc7z9HH//NF+nOf/w6daRrJS6c+Sh9d++n6OAPr6ShZF9M1r3mdbr57/0prehsJJEMYHSghw0AwKRzgYbOZHvUdFxxpZsLnH+D9n//P9H//cM/ox//0gRrxEV3t6n+Pvr/HeqnN99zy6N4n//vs/Rvv/8sfeetIfq5D9aIi/Src6fpxz85SH/0vT76z3+eTdcqRYI1/c9WBWuWX/93s8Gad1+lPd/bR/t/MkBD50ywRly6SOd+dYbe/Omf0f6X/h/aM4heRwAAMLkMv3x1JlgjqU0rVtUK1oj3aMXNr9GcD7xDC5f+Kf39DX30L/+/P4gGa4b/dAVt3fwP6LFnF1SCNeLCZTT0+tXU9+g/pH/2L1bQD0v9N/t+euPJ36d/9pXPUt/LV7pgjZhO506203f//e/Tln9VZhDkWXTk//o8PfZ9F6wRv5pFp9//ngnWTKe3vrOa/vk/X03/Se6Y5ffFeN23fvjb9O/+1f+Htuz4bXoLA/hAC0HABgBgkrh4/jT96Ngz9J133AIxYyF1fcR8KVES3HjpB/R6YSAmdfHccer7wXfp6LtuQcYFev1HT9F/fKtEIObSeXrr9Wfp3/14iH7lFtXG23/1O/QnZ+3WZ9DVn7yZ/tYHzHFdHKJvvfJn9POaX+rERfr5G9+hb52uO3QEAADQsgbfDHrTtv2EusqOQ/Obz9O27f+R7rvrRfrsb5+iK33qVIUMZvwvdn2ShmoENC6c/CT9mz/8LB2p1VnlyE304LNXFg9w/Nan6N/+Pzk/PCneX9/Ll7kHzvveps/eOugeEA3tX0sPfPOjNW9bPnzsRnrgQdwpC1oHUqIAAFpYmBJVl1jKkLh0ir7z/e/Sj+w3pMva6W8t/hRdf8XlNJ0u0vA7P6bvHPszessGdGZdS3/wqd+iD01zj9m5E9+hrx8/7R6J6fSheZ+iz139Mfrwr/GW/uoMvf76i/Ttk8MmoDODrr52Da36SKXDdF5K1C8GnuXlZ9xCMYOuWnQrrZ2XPaiwHHM+fCOt/o20DOLi+VP0/R9+l/ptL52Zv0HrbryOPuweThZIkZiacN6nJpz3qSmeEjWbnn7gH1LfW+6hWPrH1HvX6+7BCP3qE/To/2KDMO/Ror/3LP3B7/2Urnw/0YXTH6Vv776F+n5cCZzM+p1v0b9eXwmaVKVEOVfe+Mf0T9a9Th2ynZ8uoke330Q/tP9fz3qN/tm/fp4WuYdVKVHOx39vH23s/inNCfOxwv2+7ywtX/9t+ofXv02zZkync299gv7D//l36NDP3PPs41/493T/7yE9CsYXUqIAACarGR30u8uClCHn3Imj2WDNjI/RquW/S8vbLqfpEoyZNp3mtF1Lv798BV1tv/Sce5W+89Pz7gG7NETf/4kN1hB9+BO30B8s6vSBEhkI+TcWraR1n2hLHqcu0OvHX6G3avxc8Ku3D9J/zARrZPu/VxWsET8btuWYSZ/4WKUMYvrMdvrMdZ+iq2bMpA9/6Br6W9f+Hv2jZb816YI1AAAwVfH/eWFXlffl9SSVgMc/pp7C6R/Q0yfd6mz4haWZHjNX/t4B+mer0mCNmDH3p3TbpgP02bnpY3Hu+0vpuzVSo2SMnf/tH6XBGjHjo6/RXV8wQR5xbhadrtU1t/NF2viFSLCG/fCZJZkg0W/+wZN0540SrJFHF2nWx1+nO//X5+k3Tcv4rf3L6DU3DzCeELABAJiMLgzRd19+lr5z6l3Ts0UM0w9/GgRBOq+nq3/NPbB+7WN0c6cNtBANnRwg/33t9Bv0o79y8+LXFtLvLIgPiPyhBb9Fn7T7uPAW/ThbjKx3X6Unf/TnmdSpOR030edzBlyeM9MGcc7T0Vf+E/3Rj16lHw+frxw/l2/tirW07re7aPlH5tIcE9ABAACAPLOo/4hNSzpHS68/5eaN952iFTeedQ9EO/3ZD4v+rz1HK26pHmNnxlWnMgMF8//y9Mui7wzsyt8c5LViPkr9r9h0qUHquj6SDz7rNbphiZsX5xbQD7MDAgGMCwRsAAAmq78eph8d20dPDJifty6+TUOZHr5z6OoPzXTz1Wa1dWS/AJ192/eMGXonuA0or3uVSZfKmNZBH7/CzScu0Fu/LPjZ7dwZ+nnYA2f6ZeR+gKvyoQ9/LFvOSxfpFz//M/pWfx/92+f/M+3503469PaZ7EDEAAAAk8Z7NOsDblb9chaVGvu3pivp/80EL2bRtx+M9cr5x7R1/2y3TmrwRNH4M+eqyyw+cpbmudmyPv5xO4Cf8bN2Gsx871lA/25jvOyPZXKsZtHQSfywA+MPARsAgAlEbuv9T3/39uj0T6T3yG/+Fl39625l5+c/eZ5e0FzwX50PvrzNoQ8V3T7i8jb6iJtNDdMv/zKde5e3ZX3oA/HfttSHZ2efHz5X39fI4RNH6Ghel+gPXEdrF7ZJh/Bqf32Bfv6L4/QnP3yWHn0h7Xnz+l/mdRMHAACYiM7RvI6g58hP59JP3ezITKcLDf7gMXym6EvGWerIfslI5aZy5ZuRF1vhctvOwPU4fSYbfAIYDwjYAABMEtNlfJYrr6VV138q6OnyLr12MjvWTGmXmhjY+OsGtmWP49Jp+pPX/zxI8ar40IJb6H/kY1/ywZnxwI1wPW9wa28AAJhs/sZCM+iMOLeQDv3QzWf8hO7q/T+pNzN9m5a6Zyeed+KBH4BJAAEbAIDJ5teupI6gl825X7luMb9+OWXvJzJMvyi6CcK5YTI3TWCVHjkfmpUd/PcXf1EcAPn5u9n7gtfqkUOXddKq5dng069+/gp9v2A3s2YvpN9dupb+yU2/T+uWfIr+1kc76MOXxcI3cmtv0/MIAABggptx/euZgXP5P1I6uHc0blH9Dq39wzDgkzP945+417SKWLAqPm1dlZNmBTCGELABAJhsLr1Lw5Hx9BLT2ujDmd7Jw/T6L7KpTda5M0PZFKoPfoQ+6mY/NDs7IDHxum/m3fnp0hC9lfneM4M65hQEbJI7V91IV//6Qvqdj9nA0LvU/99fpV+4R7neN4M+3LaQlv/Nm2jd7/x9+qc3/T79o67r6KrM3SPepTdPo5cNAABMEu9/nW6+MfgC8Nan6KH/62oarhG0Gf7xRynon2O8TQs+7mYTV9BgeG/uVjXvNH080+Jto6H8AwVoOQjYAABMFpcu0q/+YoC+84OD2bs3sY4rdNC/OfSJudmeMT8feJlejyV4/9Wf03MD2dsyXPXRhZW7ObR9LJt69Vdv0Pdz0ox+Mfhn2TLNXEhLgnhPxhWd/s5VH77quuxdrP7iz+iFk9l7l178q3dp6PSP6YUffof+6OABeiEsxvtm0Jw5v0GfzAx8DAAAMLn85t/7AS0MWnjnXv47tOW+1fSfftBOb5+r9Dq98Bez6Y0XbqR/8y/upC0PfzJz6+uss/Rbi+3dn4iO7B+Nnjuj4QT91m+62cQV9O3/8onKHS8BWtz0DZ9fv9XNAwBAi/nFz39Ex823ir9853V66c0fxaeBV+nwT/+cfn4h6OYybS4t+5t/k+a5oMflH5xN7wwN0Gn9ovXXw3T85Nv0vg98mObNvIzeRxdp+J3XaP/Rw/SmjYt84LdozTXt9OsapHnfFfSR9/2U/vRMpYfOuXd+QsfPX04fvWI2Xf4+3tJfnaHj//271Pfnv6RKqWbQ1Ys+TdfNqnxp/Mtfvk5/+o4ZUfjyBXTjR1wPnPfNoY9NP0n9v3BpXeydX/6K5n98Pn1QynJpiP74T75N3z15kobO/SX95V//iobe5uOZ7Y5H1pGBh08fpRcGfpH5ktbecR0t+sDk+u3i3V/9JX1gZpATB5MezvvUhPM+NT3y5L+jrXktuF//OXXN/xC9cLiNMj9t/Go2vdG/iP74mS7at+/6ZHr62d+ig3/aTj/7i8j/gx8Yok9/9g2a727P+MGr/ore/HYn/Uz/Mx+eT4de/2u6atHP6cpf54UXLqO3fvC36aGH/ja98MMP09t/+Vc08wN8fV5+sTKu3F900He/O58q2cjv0LI1bwS38BZtdHjf3zA9fs7Topt/RNf4O0rVet66RPOvnEEvHmz3//9fGPob9PLbv6Rrr/0FzZbvRlw3rz1zCz34b5fzMc2mv3jvIs2ce44+eFlet2GAsfGHf8hf43+057/iSgQAaFGv/+gJ2v9z96BBH/7ESlrXmU0/+tUvX6EnX/lx9a2z80iK0g0rsj1dxKV36Uc/fIa+czrb46VIrDy/GDhAf/QT0y3mwyvon37yY+4Bu3SaXnjpO9Rvsrfkjll/4Lbzq7cP0v/9wz+nvJtIRX3gt+gPll0bjOkz8Z365S+o/YOT7aigFpz3qQnnfWr65Lq/S5dq/P/99vc/Sw/+0SdqpkLFzOj8U/on/+RFWhRkLg89+/v0L5+8MhsIKvKBn9BdX/02LdWuuSeX0tZ/8SnTk0fGk4kNdvwJerTns1S5y7aMmfMf6TZ/r+9az4em0w93/0P6N98vumNV4OM/oK3//Ah1IB8FxtG0aUiJAgCYxKbThz/+e/T5IDgi3v/B6+j266+jj1/mFhSYPvs36B/EgjVi2uX0yd+8jdZ+dE7+nZnUtJl09aLVVcGaUqbNpd+5+mPkfuhL/OLNV3ya1fuvXEHrrl1IHyr5v1pyTNdNvmANAACAuPJ3vk3/6g//mFbMK3+HxhnzfkJ/f9O/p3/9z6uDNaLjlv9M/9sdP6U5Zf6vnfNT+oebTbBmXF2k31z/H+l//tvvUGYouxwz5v2I/ud7EKyB1oAeNgAALazuHjbTZ9KsX7uMPnhFJ3Vd9Rt09a/XCqNcpHPDA/Tym6/Ta2eH6dwF98WOt/PhD3bSkqsW8Ze2gttkWxeH6fU/f5X6T52in/3lebqY/O8ynd4/6wq6qn0RLf/Yx+hDORuq2cMmcZ76X+6jF0wa/fs7fpfu+o1294j99bv01k+PcxkG6GfnztM58z11+mUz6UMfqPOYJiD84j414bxPTTjvU1OZHjbWhZ9+lL77J5+k/j9tp5OnZ/H/9e6JGe/RnLln6G/89o/plt89TgvnlgzuDF9JB7+9jJ77wTw6eeYy3+NmxgfO0ZXzfkrLf6+fPrvkHZoRBjzGrYdNxYWffYK+vf+36dCrV9LQcOWbwIw552jegtfp5lV/SssXnisV2AEYbdLDBgEbAACASQQNuKkJ531qwnmfmuoN2ADAxISUKAAAAAAAAACAFoSADQAAAAAAAABAi0HABgAAAAAAAACgxSBgAwAAAAAAAADQYhCwAQAAAAAAAABoMQjYAAAAAAAAAAC0GARsAAAAAAAAAABaDAI2AAAAAAAAAAAtZhpPl9JZAAAAAAAAAABoBdMunehFwAYAAAAAYIJ5a+gsfbxjtnsEU8W0+T10YOBl9wgAJjOkRAEAAAAAAAAAtBgEbAAAAAAAAAAAWgwCNgAAAAAAAAAALQYBGwAAAAAAAACAFoOADQAAAAAAAABAi0HABgAAAAAAAACgxSBgAwAAAAAAAADQYooDNv1PE83v4Yn/NpPf7qNEQ26Z94Z7zk17h9PFQ4cqy/rTRS1Nj3EHH0/scYKPrccdk049fJwAAAAAAAAAMKXlB2wkQLKmzz0YKxLAeNDNs13biLrnuAcTzOBg+veqK9O/z7u61MdJYGoL0T73UO17jJc3OUAGAAAAAAAAABNKPGCz91GiZY+5B2NohwlgbLlv4gZrxJtH0r8L5BiGiY7Jg6VEN7hj2vts+leWHe4lOsHT4Tvdsr5KzyIAAAAAAAAAmHKqAzY7eog2uGDDWJL9bnPzEqzZtNA9qCVIoUqmoIdKbjqVeW2tVKVo+lZAAl26vh7LGnmsgSiu12WyHd7+AVfHq7uIOtJZ6ljEj938m2+7GQAAAAAAgCKd9HhnF60smB4ftSae7HsJPVerrQQAdctPiZJ0pF1L3YNRJoGOhoM1JoXK6+PljaYVSbAmkqrkgy3u4YjMIep1vWp6l7tl4u3IfgEAAAAAAFrQ0DX0QOdc2u0eAkBzRQI2LkVnrNKRnnjU9Ojhfd9eNljDNK1o9Z1p8EOmp9amyyRo08jgxEOvVYImT7ltnrjPLeByPmF74gS678qWQYJP8lgDXxIEO8HraI+akE+TYjfVUQ8AAAAAAABsxc4TdGCgv2q6Y4x+iweA5qkO2GwqCCg03RGibbZvHs9vreMuSRogSXqpuDSmZg6UvEZ71CxM9yNTmd4/4YDDmfFsckgvIw1cSQCqK50FAAAAAABopjN9S4KUqWxK07GdbvnOTm6iXZtZ94G+9nQlWX7jbDqYPJhOD93Iz999DZ1JHtfeh/D7iaxTef216XCgXjs9d3e6vi8LwCSVnxI1liRAob1Q5C5JpQfctWPNxNKYGtCxnIg3lTpCtMxtPzPGTREdn4aPJxlgmB/rgMO5PWtsL6O1QZoUAAAAAABAc0ggZN3G6e6RkoBLZBya7XNpZfdM9yB1cOP8muPhlNmHBGvu2Z7OV8g6aYCmbe07tD5ZNpOO2v0NzaGD+2XmIq1YfipZBDBZtUDAxgUoutdVBtzdsKfcWDH2rlKaFuVTokZgk/Sm2VYpj9j2YBq4KQomJYMOa5k02BM+1l47ThisOXGbmwcAAAAAAKiPBFSyvVZ4kp4yiU56JgmkXKR7X3TpUi+epRXJc9Pp1MlkJmP9Xk2rOu0CKES7X+DtLX3VvNZt75Hj1FZqH+108rVkgUnh0u3PpCeTnjMDtGRzsiDdn3Pm0Ky0V8/md+jmMcsMARgf4xywWUp0WAMUc4h6NNhypERqlPZcYTI2TNN7pZiBgWXSXjcbvudmmgDBGgAAAAAAGDMDdEcSHDlKN3e4O0v5tKaIVWfpVj/2TSWAUqzMPk7RvEXpnAaYHug7717XT/evTXvOLP7M+eQvbb/cNf00GES0/jMDyV+Ayay5ARu5Nbf0QumpYxwaq+u2SmCkntSoAy48K0Gc3sgYNh1uLBnRa8q2I3KHqf6n02OQyQ5afJV+Ug3m9/6RMXUKBxyW4I8bI0huNY5gDQAAAAAANFF00OGNleBGZdyYEnd3WvQetbnZepTZx+KNJ+jeVe4Bsz2DfMrV0tNuHZcWdeTydHuZQBLA5NUaY9hYm/SOTKwwNWoO0Ur3LpXgThJkMSlSGVdW0pv8ujzprcStrk9X1l3j1pNJgytbbikelPl5FzDSuzzlDTj8BJfDk9uQm33JVHrMHAAAAAAAgBKOXOvHjfGBHZ+u1CSl93GKbn6kElTas/OiW060++s6ePEpuu7WdLmkRR17IR1PZ8Wtww0FkgAmmtYL2NDCSq+UWqlR0qNFe+QkpKeKGXvmeQ16SHpTMCZNko5lgkOeS4XyZTCkl0zhXaLCAYZ5/0lQiMuVueuTLgcAAAAAABgbZwZnuLnz9HmXduTHhGmScvtwqVI86Z2e2tYerQRt9s8gHU6nbfm5NNizfa4LBFW2CzDZTbt0oveSmwcAAAAAgAniraGz9PGO2e4RTBXT5vfQgYGX3SMlAZA0/Uh6tegYMFWGrqEHCsaskQGG71hq7uC0+XRVOlVmedX2ztPDL16gJ0vsI34nqVR4DJk7SgVlApjMWrCHDQAAAAAAADRdx3G6f68byDeR3snp4cjdmErh7W0wqUyJkvuQHjUHMuulYgEnP/gww2DDMJWghw0AAAAAwASEHjZTU7yHzeTme+OsOkt7kluHA0wN6GEDAAAAAAAALUfvNqWpUxhsGKYaBGwAAAAAAACgtW0+nT82D8AkhZQoAAAAAIAJCClRU9NUTIkCmKrQwwYAAAAAAAAAoMVMGzz8NfSwAQAAAAAAmAAWLPsyfeOlb7lHADBZffGGzyElCgAAAAAAYKJAShTA1LCy83qkRAEAAAAAAAAAtBoEbAAAAAAAAAAAWgwCNgAAAAAAAAAALQYBGwAAAAAAAACAFoOADQAAAAAAAABAi0HABgAAAAAAAACgxSBgAwAAAAAAAADQYqZdOtF7yc1X7H2UaMMR90AsJTp8F1GHezhS/U8TrelzD3Ls2kbUPcc9aAG+TtYSnbgtXdZS3iCa/6CbN1qtHlV4DWy5j2jTQvfA2dFDxMX3RvtYylyX9r0wdIho2WPp4qd6ibrS2QkvWg+R636yHr83TNSzhWife1jkKb42e926sWu5Uf5cjOAzuK7zZI65mccxkenn0Oo7+RwvT5fF1Pr8aNXP4rFir8M8E7GO6v4cdO+xlSWPVb57HOCNFl179arncyXv+KrO5wi/G9Vdj81ivzs147tunZ+hZT9fmm2yvh+nkGnze+jAwMvuEQBMVis7r4/0sJH/PDLBGsGPl/HyfvcQWot8oYsFa8QG/uIwn58fco9b1bbX3IziL1HyJQbGlrz/o41OXjYRriOAViWfxT3cSIJ8Ukc7+LN/0pLggGvMlxH9PtYKhom2Bo391Ve6mQmm33734Lp+iY8NUpP+/QgAMDFkAzYScddGskTWT/TyxH9Xu2W9+LLZcuSXsppf6CTgxuu1tMFsMGDobTcDY8a+/6P4OtqKz4Ax1XWb+xxuYg/HQnP4c172xxN61zTfPm7kogFUrCp4D+OqY7n7DOIp1utFepHIc2PZO6SZng9+oDiA6y8D70cAgHGXDdi8pF1olhLdoN0g+e9Kfiz2NbsRLd1P3ReBcNJumEnvkR6enk6DE8k8T/ZLr/wKpctl2pvzC4l9vUx5v3ZKw9Wul7c9Fe4/tl1dR54Lt6/VntlOmQALl6vXfNnQL05+4scer6fHYcuSIb/+uecyvan4dT1uefR5ZrfpzxlPtepOroEkIBj8sqXX4pa16d+YMufTrhOWOVfBdVm24RxeE5l6MPUZNt78tRH0Zgmvmdj1UXSNlWkk2iCZdEm3x73FLd/HlViml014/DLZ+q/3Gixz/MJeezrVvAbzmOBFMpn3kw9ouylsyITXZqwMZY7Jb8dcDw2/18oIr81RulbFiM6VuU78FO4nKHuZcxKuU/ozw4p8fhy+0z3HbAOomf+/1XrP2TqTbWTqX+suqNfY50Yz3mPh54tMu9z3DBu8t9dSvy2blleY86xTVbmDY/fMa6s+i4LtyjYz5XGrhTLnwbw3kvNresImvV/ztuPKqwF0CfTJ4/C4wnMe+z9wpMJjTh6bXkLb+JjkOVuvZa/ZIplt2POddy5F0XMRcixax/pdQ+o679yGnw8yxd4jVpnPnRhb78lk64Bp/cTOedFzMSN+P/77ynzZc1Lmc8TXnbyP+LnM+zyoD3A66fHOLlrJ0wN97W5ZxZm+JclzK+++hs7IgqFr6IFk/SX0nP1/vKRkezs73aNmqJT/8Vq/Rdet3LZ9HeVNru6q6rIu7fTc3bYco3ncMBlkAzbd3BhNPqyDRumbrXD19GVTNW6SX3/dB3jYKyDWjVP+cwhTPZIvQcGHvvwHEeb1yvaivVjcf0Th/pPtmi9qljwXbn8Nr1t1HFzWWv/ZDvEXf/3SFM2V5se2kam/HN2kX0z4W4kto+8azM/7Bqgco/lyptZweWNfPOT4fF3xf/g+8FdgpSuP/2WLt3vAbeOqnG7WZc/nmCtzTZogaPjrlQaqVvMJ0Pdg7JosSlGKXWPypbrWF0sr7E23Sb/IlQhYyZfF8PiFXDP6Rbiea7Ds8cs1EXufSt2X/ZLcDFLX4bUpZbCNgHrPaUwj77W6jdK1OqJzJZ9JsRRQ2U/O+z/vnIQNiHAduWZj13K9pJfCU+6al3LaayHBy+y+6/3/rcx7zpJtZOqf993Dxx/Wq9RbWEej/h5bEP+MWWPKtmVR+jcMHqgkiJBzLZQS+X9Ptll1bQeqrheuq1Hp3Srli5zz5P/A4L02puq4ZotU1SNfn/64+L2hwYSwN4z//6Pk56H/kZLfm5s+XelN/nykrPLZFn4+CLku8o4t73Mn9p60ynyO3u6CwFU/onBZtO5WuvfJiJR5P/5Ofeek7s8ReR8F78ekPkbjvQVlHdvZRes2TnePoDwJzsynh/a7hwAl1L5LVOYXiGZ8+FvyIcz/MfuIuZvy/vOzPUikMbd3j/sA5/8I9BdN/VK87dnKf2JyDPqfg/9lXAMZ/KHv/4Pgv77HCm9H9+W/aAd26H9YZv9+u7y/vPQRLYPfLq+7z2yD/19K1OrR5HtE8GtvD4M1yny50e116Xnk/fpeLebY7Xn2x2jqQ7e34Xvp35Cv45K9URa4oIz/4sHl1PN6QyRgU/p8Noq3Hbsui65NVfaavEGjEVxe/+WNt63H5b9o8TL9wuevfz5m7ZX0RE55quqF1era3GW+sCZf/PW462gA+M8Lc/y2DPpFuPQ1WPb4+bUa5LOfE/peyrtWR4v/xTJy7I2e05h632uNaPq1OsJztZffR0IG6dTXFgZDHD0ntreLb1yY47Hb9b8yN4G/5tlg5DPK1kW9/7+Vec9lmHX9/zd8/P7Yzevf1P9nmvgekwa5/VyVyX+m8+dQlPk/KPlxgsvjx1Exz/nzy9dCPUECS68xEXsv5zLlCK/JJL3RbEPfu/r2yuDjk+e0bvW86I8yjX73aIYkRUrf10yvBekVXfaarcm83p9Pc1z6mRQGKzS9yQaRc9nrWd6bBcFp4bcd+XwoOrbC/wti+Lkyn6MdXGZdZnsn1xu0Es14P5Y+J1x+3bavG3M9hQEfZetd3xdFn/dQTsdxun+gnw4MHKWbR+s7RF0G6I6kPP10h3t7jZ/z9LArS2Z65Di18bNta49mHo9MKx03tKLigI18EfRRfr6CcoMCYyHcv/3P9pbKf86+0Wn+E7O/ovgR73lb4S8CtseK/U9Kvmj5/yAU/6eTfElmu9aZLwe8Xf2CUvXLhzBlsF/g7TFo74NwXJem4TLq8cSOPfl1V9hjNPXRzWVNxP6ztHVckv3iIcfrv3Dk/LJT9nwKPwYIT9Evxs1UxzXpj5npl7fYFy27zF///FyPu0aiQZiceqmJX9NrvlR6XG4NYNX6cuTHO3ABBPklLdobouQ12Mjx214Bm9y5H8s7u8kXS3+tmeM85hq+DZ3TGHueR9FoXquNnCvtCZqMmcGvlV/0tYGTx54TuUb1nChfdtYj23W6+bNdj31U2ToT9XyWlH3PGdH/b5g/9sh1a43ae6zgmg4bjvbz4imzb6kP35COXHM1mboP38s+CJMj873B/P8eC9A1rNHvHqOtjmu2Fntc9nzqj07RYIWplzI9S2L/39jgdN4PP/JjhgYC83qlq1r/F8SU/hzlZRpgst956gpa1VLH+7H0OeFjSuqMJ6kb6U1UZiBu+7msvYtg5HJSomJpQZVUnTSd557t7uH2ucHzae+bzOuDtCGbTnTM7OvxI3mpQek+db1kiqRiVe2381o65p5rttyUqCPXBmUwdZvU91za7R7u7tYy5qdEVZ+L4Jgy5zCsp9E7fhhb+QGbTLCGPZXzH9KYCRvv/B+efsDLl0f/y4D54NdfBn1KF/9H5tfjSaP8sZ4sC4L/pK5y/zEqO95HuG6H9grh7YdfmvLupJCX+jNawu60NgiiXzDsMUpXVV93pjEQfhFt6E4RXH+L3aw0CPULR16PrkbO55jg/Za9JmNfwGJftAYH3Qwfm+314xuokaDeiO7WoV+m+FtWrKEq6Xvh/kJJg9GVU89JTJlrsPTxm/oU/nodhy7Ti2vUfyPnNGbM7srS7Gt1pOeKP3MkSJO8xry3itQ6Jx5/zmf+nzGfTaNqBP+/ibLvORX9/yY89tBYvMf4Wsnr0Rf+P2t7mIblXsD1mSj5XsoTXjf+//YcYRlHQ6PfPUZdnddskfC4qs4nPx8GK3ygg6/RMoHsJ8z3W+1hYr/z2iCIsEECf3w1/j8s/blj1PP/Q1WvFhMgsQGOhtXxfqznnCRBmvC4itT6bIJmkgBBLNVpd3eZcW7SwIMP5qj9s2ldLHjAy+/x+zpPS9wllJWTQiSBIhO0kWBN1X5pJt0zhkGLJLjSPdM9UtPpoRsbGSMoDb5Unws5ptj2ZD9hPfG6DY2xA60mHrCpCta4SHjT8TvTd+c1E+5OUo79cvaE+8WnCi/XL/C2gZf5NYTX8b+MlfhlajTor7zStVg/WX1Pn7GWc102+9r0v8DyFxYZwK+eXwdHHX+5sgPu+l+W5XrJ+eVRyBcx32DUeoz12mHNvga1N1WmR5F84eQvhaMxGOdU0uxrdSTnaodpAGo3+Vo9H1qB7cXTzIZ9Pe+5kWrWe8ynQthJy8zHkvv/GYATBitq/dCTYT7D8khPGv0NQWhPtsxnDV+rSVClmUHLOoS9WmyApJ7v7M16P5Y5J9K+sEGaZN85PxDBiBzcON/0tEinMmPOnBxw62w+7dKATtC9q2TBdHromxIgOUU3P9JPD2+WZcytJ6k8Z/qucL1HLtK9L7oUooHTtD5ZNpPuifSKWbHzhFvv1ejvI9Ft7j2fLKHtV6SBi6Fr6MkkWGPSmHQdmkEn6w6WCAmMZOuveHDmTnpG6zev7pIUNK0PovV7ZZ34cdORuT74kq4XbO+rkUDMqrO0xx3/np0X02X7Z9ErDR0/tJLqgM2YBWtG6srKB7zNp7eTNq597xj+Tyy2Xqwrd9hzJBx42f7SFq5b9MtfM/n/rJn84lP1hZn/k7W9YTKNK/tryLOuAcSPbbd8e4x+rIxgalZKhg0+aVny6q6R8zkm6rgmEzzPbc9Er46ZwMdk69T/ssjHHA0iNavnm+21EPnyaa+Fol9J9dfBpCFdq2wlrsFGjt93U+fJpwgEX77H05id02YapWu17nPF16kGdOUzqem3EubPn8wXG7O/EeHPYt9I4fqpeX7r+Cyp6z3XJK3wHrP/Z4RfRn0vBb4mR1IfYeqK7d0yXlrhu0dUvf//FQiPK3Y+fWqjBBT4/ywNwJT5occGT4vExpqxadZ2vKQRj53n1PU5yp+/2utNxpCqK2g1CsqcE3+NcrnleFqyfTG1zet0DX2X6rRy58wkQJMEDDYOpM9FtdMrz6QBixU7T5oxcQboVg0ebL88+C/1PH1+7Sk3H1cJIL1T2ebSV10Aw42948fieZUWa4pQVU+XUTZ0Gb2ezFyke7+g9ZQGt2rXXbVjL7jybz5txrXh7X3JBaIigZj1X6qMp9O2/BytcPMw8QUBG/4Pxw/ix+oN1tR7K8ERMY29cADGpNHJk355jOYl819toGo+sg2AbNhT2ab8gqn/8XimAWPXtV/Mm5JDXMT8Zy3kC7MeezKZYE3YuBL+1xD+z1VUldceoxlQ0ndnrdEduB627kVR3ZU9n8J2vS3dmOD6sF2Rwyn3i1kd16Tyd0ty5yD8ouV7NsgXIHNcTX+vmbLrL+Z2skHcMl+IfRdtZgfwDNW6BksfPz+nZbXnP9a4KTofY2HMzmlEbHDJZOL3SS1Nu1brOFdFfMoCr+sHi2+QLztbY+rCD6JaDz7+qs8P81lsx/fI1cBnSdn3XMOadN5E9Do0dVQmRdj+n2HPmdSR9jjy16gJJtj/y6Ln19R9JgjFx1wqfWO0NfO7R+xadVPdn0MNXLN57HFFz6fje+bqeeHH+vWgiAY2NGgQTlq/frwYvq71+4WtF3vtl033qqXe/x/8+nxM9QStrGa8H1Xpc8LP6/XQz+/Juj9noZZKz5XK5HtdFJDBdH3vGaGBG55itwqvmEmnXI+QqxdkgzBtCy64uXq100n3NlzRqT1mYszYLTfOpoNu6cjEBh0uGJz55Ay33ws0r9Tnb5GC4553IScQc5Ha57lZmHSyAZvwQ7PqQ7zEl/qx5Ae/NV86tGFpB3vzUX/m8+75b9Uv+vyFwwdAzDbzvqRtMl1G/Zce/U+Ot9P0X38j5NeeTPf0GH7+cKTXSRgkiaU3+LxtroPk+Ex9lGp4lGUDBqwo97v0+RwHZa9JZRuKouqLFj/W82vHBdAvZk3JU3fKDLAaOwbLB9PM8ft0jYia12DZ489Zzwea+P3YrN5gIzaG57SZmnatjuRcmc8JH6De0oQv+6ZM9rOu6NptCB9b2V4GZT9L6n3PNWwk560eZbfD62yN/P9k68jXNa/r+5yXOL++7pn/HsTHvFqvkUbZwBFft7LdoiCG9ibVa10DZa3w3SOm3v//ckVeH/u/PfxMKtOzRAJA+pmUt74GHeRaSX6g4etHvxtmfhjTOo+UrWE577Pc/x94fb6UKricpeu5jLLvR6fWObHP63urJQKhYC3eaIIUPrVI0qzmFnQ6PU/tSboO0euD2cDOmcEZbi6w6gIVxxhO0Tx3yRwcyO8xc6ZvXnX6kCn3mPCBlEZTsKyC4/aBIZhKsgEb/6vDRMH/UdlfQ5R0xw2/sGzi9arGOeDHYRdyCYDY274K2Z7/Mm/l7F++mIxlWk7SPZ3/N481tpNUprxu8uZLiHzhiN0CMsnbjmxbtlu24VGW7wrMav1CVPZ8jrk6rskEr++vLS5/7IuWnN/wmkyCcLyfpn4x4/Mv49ZU1asjPe5qNQTkeglfL6/zX0DDruglrsGyxx9dj431+7GMMTunzdTEa3Uk50pem3l/cVnsZ1ThLXMLyHbDa1c+58L3cqOSz+J6rsOSnyV1v+dGYCTnrYx6t5P3/1Ped4CwLp+KvDYhdR88J+dv60jfnPbzzinqlWQDR8KnaOVcG+P+WVfymq1Frt/MNuQ9ztde1f/tvD+7XpmeJX5we5a3vg0qaE++JBWKj6NKXtlGoOznqPIBJlYmaFVWQ9dTrXPCj8Njk/eWfobZnoIwDkxPFR1vRtKPSo0HY4IMG+eZsV7s2C7v1j2OfyVFy41XI/ydkdK7Kvm0qVVn6Vb3X59PKRorHe/R1cmMjvWT8neuqnPwX5ualrlD19fdca06R9eNa3sHxtK0Syd6L7l5AIApghv185/lL45N/qINAJOX9M7QHh/1pozD6JBUIW7vp4GT8QxWjSNJ/dZeKq1wXeKcjIlp83vowMDL7pGSOyqlt42WlKj7g/Fh/B2gZHDaR45TmwQ+khQiGdDXpfvIbanzxn+RwXTdWCzhXZnS/c30+68mKUbpALtV5UhXYJXyS0+ZdOyWyrIq+vqiMvtji227WuUuWZXyxsSOofLaavnHI+V7h07dGJZNgmeRu2MlzPmKnUORtxwmnJWd1+fcJQoAYDKTMT5GfYwpAJiQdLwQmWzKku+dwQ1RBGvGX5n0pknPjuHVAtclzsnEJz1qXjxbPU6KCdaIxRsrdzuqGKA7BswdpFRy16T84Eexgm1qsIfLnB2fR4ItlTsqHTxUNPZO88j4P9V1JwETGyDi4ymVrpUOWFw17pAEiIrG0oFJCT1sAGBqSX4lfxu//AFAnO2xECMpPs1OCYbybE+nBLeEplxvSRkIeUt2/C5JLRqvsdpwTsZcvIcNAEw26GEDAFNPMu4FgjUAkCM2lp2SRjGCNa3lKQQGkiDieAVrYnBOAACaBj1sAAAAAAAAJgj0sAGYGtDDBgAAAAAAAACgBSFgAwAAAAAAAADQYqYNHv4aUqIAAAAAAAAmgAXLvkzfeOlb7hEATFZfvOFzGMMGAAAAAABgosAYNgBTA8awAQAAAAAAAABoQQjYAAAAAAAAAAC0GARsAAAAAAAAAABaDAI2AAAAAAAAAAAtBgEbAAAAAAAAAIAWg4ANAAAAAAAAAECLid/We0cP0TY3L3bxg+457sEIhNuN+gxPL6SzT/USdaWzTdX/NNGaPvegwGjsX+tgy31EmxbyzBtE8x9Mnqq5v6rXtrJaxzVM1LOFaB/Phsdjz0/43N5HiTYc4Zm1RCduS5eNtqFDRMse45mlRIfvIupIF4+MqZ9EHcdT5jqoeY0381gmKnMOws84f52x8Dmt/9V3Eq3sT9eT+d7l6fPN5M9j0fURXksRzfoML828v8d8342qUY+xczySz2Q5t71Xjs51AwAAk1r8tt6d9HjnXNrNcyt2nqD7155KFztn+pbQuo3TiVadpT2PHKc2txwAWlf8tt76BdTawF+89/IXcICm4QbcYjd77G034zxvAg3bXnMzgq/BA64RvWVR+nei2hE0DFdzw21McT0ue5RoyD2ckrjOV7vZN+01aK4zccBeg9yo18/HlRPoGsRn+Mjte4xofpPeMxIQLPOjAQAAAABMadmAjfQk0MaI9Io4wdOupenjTKOlQZvcNpPpPreQ6b6S6XfcwlHUdZvZH0/clknIr6R2+Wj07tE6aPkeMmPgprXp3322sWwaxIlB00Di9eQXe3HVWAc4Rolec6P2K7v0pHHXnJ/0vXeE6Amu7ylrDtFK9/lmg4ZD/Fmn15mw1+eQmV/Qgr1GpDdL5lzzpJ9vG77nZqCmzP9JPB2+0z3B75mt/P+kwuc5AAAAAIyibMCmgxuN+gVVgxVvul+aF49TA1l+iZzf46bYr5vSjV2fl+lpt7wJpMu63faOoHErvZF0uc5LGY/yF3qd79f5YL1wWwlJI3DPy9RjGgZFMnXEU9lf0n2ZdbJ1Z+q1nx9m1o2ch5rnKaJDr6m+dB+i3wUGV691vR/4+nvJHY9vLHMj+wbTWA6PI6w3LZssl6CkXTd2HjLbK7ieGro+tqd/NSi17cH0sa3jou00BTcutREfKnMthevEznemDnPWEVXbCurbny95ffD+yF3XTLXqbMGC9O8+PgFavpfcxbjFBRTt9emvQX6uKqDL+4rt2x9jeC2Z4xnN3i8aGFWZOnXLRNVyczz2+oy9dsSCupMprBP7Pgjfe+G64bVQ9P4qQ/5vfEoDzOZaiW2z1nUor9F0u6TXDj/25Y/UQ3TbJd4PIqyn6HkL9xnZTtX7lCd9TwAAwMQ0dA090NlFKzuX0HOZ7wPhckm1ksdd9PiRdnru7nQ+mXZ2Ji+RdCu/rPNaOpYsNfw2K9Pj7r/ClN1HZX7l3dfQGbcGwFSVP+iwfjFMGpb8RXU8fkHs5S+J+sU2wfPLzJfJpIzhmAPcuGpGY0K+oIZd1qVxHQuiyHJtgK/mVtxH3LyUd42MfeLcVKMO13ArOvPLPr+2VtDGfvlXkv5Qq1Eir8v0ZBFSd5Ev62vCdYPzIHVVdZ7C8xLhAzZs0DVYBgfTv4sXVXo/aLqKNqSJG9nJ2CuuoREeR9IIihyHLE/GojHk3NnGXlW9cJ2ErxENXx+/4WbGE9eblsf2VCpzLVWdayHn27znoteWrGPPiWtsVm0r7/0rrw/eH7Ku1rd8FsTOU3h+Q/4a5O3rPjVIfdWnK4EtvT41Xa8qhY2vzfCzSPfdfYtbwK+1jVzfkycIQDZbbpnrUOszYCSSoEJQdyLvc0zqNXzvybpat7Froar8DejSFDg+dg0ihxq9DhPyeRapB3ltVT3UeD+I2GdU8jrz/irzf2j0Pc/WxN6nAAAwme3unk8P7XcPxPa59MDdbmwcbybd4wI5Ignm3DibDrrHand3Fz3Q1+4eVezuTsfhEStuHcZYOzDllbxLFH+BG49f0/Zxw1x7/Oivm74s/OV3q/tibNMAkhQu/nL5ROSLflnyJTb5gsrb8ukkvA/p8SGN/lhdaBf6MLVFBqrUstVMseJj1HX9r7k5+xPS0EkaIeZ1mu6y7dn8L9NyfOHrfP3aFCQVW0/PA9ezfpm3KWXa0C1kenokQRk+pzp2iAS3tPeDjmOjDWkdv2YvH2PCnidN9+HyxRp7/lpx51Noup+vFxZbT43o+uCV5K8et9bZaKTfJbicy7ixan8Z9w00Ppc6GGypa0nPtTlumyqSrMPnUH9W8XVozok2Wvu/V2ls+vQTrWvelk07Ufa9pKma2tvB9nwJ1ylKBerga0nPbxKU4WNM6oFfK0GUq9w2kmvEHFs4fs0+LnPutWWu8+fNNel78tziApBNIIGLzLnmKTke1jOStLuiz4CR4Drt5e0Ie351HxKsKHo/+WuLad0+oQGTWJlH4srKec1T5jqUNCpdpscs70P9PIt9jobjfImi90P0c9m8v5L/H7nuy/wf6j9387YDAACt5uDG+ZneLDJlgyoNkgGLB/rpwMAJundVuujgfqJ7X5Rl/fTw5nQZbb/cfWXqpGd0v5tPJ+vItGfnxWTRwY3zsr17EufpYbdeOHAywFSUH7DR9Cj9ojsev6bt+rSbYf7XTcVfYLXBZxsp+iU1M1htnfyXbt6Wb+zyPnR/ttEl5ItzXoO7nkbSU+YuMF187No4CPentDeKNJz0+H1jnMue9yuwT33j/SW/sPLrigbALDoPmsIkDdzbTQ+iTaYhVUQbxHK+fI8DvuakPv2+JIhkGstJrxB+rMGdXetMg5fLoI2XqmuAt+vvVsN/tQeP8j14gvW28vm1mnl9jJekwWuut1LXEtdtct3I3aX4GGWdqt4EXF86mLS+L/fy+Upex5PWq/b6kEagrxt+rsd93ti0E2XfSzcEFWrT65KyP8374nLqdZ7LlFeCKz4lj7cv15TuJxnHxnzmVI1fU+Pa0rQkf01y/elnVa2edyPVjKBg4WfxCNheRlvN+S36/Mu8n0wwLGE+JzJl5msgs94oafg6ZLqe9GaVXi3yeg22xRS9H/xnFNer/1zm67JXyuH2Ufb/UP8ZzZ8H8vwOfl1mOwAAMFVUeryconn6dWDVObrOfQ9f/Jnz6Yw6crnrLXOeHt44kMyJtrXv0PpkbjodPJTtZbNi52n/1QwAyvSwKdMNfLQUDerpv5COAt94HU987LU+rfSXz7rxedSxD2Ld90OlBlfVNKU6+YYG1/kTLmDi7wCljTE+zie0RwY3HpL0kYLGs/bMCZVNCam1XktcH2VxfWlvGA1kibARXPZaknSnpGGnwZyITfoLvGMbg8kpNo3qcPBomyaXwWUvur7sGCMJE3iqlVZoB7/WQJL2oPE9cHj5Dg228Pph8KPWNeMDELwdqQMfGGpyME97SvieT2wkwWs1WgMs+8/x8POj4POvcDy1gs+FETPbzjOS61CD5zJp0CRXjfdDbr0aZf8PlUCSDXZp4EammmleAAAwHuS23tqbJezVMhJXL4j0eFn0Xm7a0pnBGenMqgs0L51zzlO766EDAMWyARv9VS82/kersQ073z3eTjV+zSziG/z8xbtquzyFvyrmNiBqfKkO6TgZCdOozaO/fNqu8Xbyv/gH9u6pNDy07hpNGfDnQXrBuNl6+NdzA2Wba6TYRrz/ddc1pH0DhNfRoECm3lijARU/AG2NhkzTro8cmfSHEtdBWbbhFY6pUeZa8mlTLBYY8Hhd/QVeJhso6pVGq2mMZ26nzUYSiM3c/c308CpKKxS2V4Qen2/sm7LqNdjQWDC8He11I8GyMDDUbJnAAe8rGizg95t9z45mEDxP7udHo9d9wefCSPn64fNYNOZQQ9chl1XTk+znig2U1KPM57Jfh9X6P1TSuHS5/b8Cdx4DAJgEptOpk25WnJxRNd5Mo9oWXEhn9s8guwsZ5+aUHQvHiAaFAKawbMDG93bgL/jamLPjhIzmwJh1M1/Mk0agoz0Aag26W8Q24HyjlrenvyoWNf5Gwn75tWN85KVM+ACDaQj4X2kLUti0N4X9dV8bkPXydcXbfMLU+Y6CHhgZ5jwmguss7OrvG8umIb1hjzlWLoMfu6HOxnD0vNuGlDPa14cNGNnroBls7xdbb2WuJR8I4wabBgN9Gpky9aB1I4EiP8aGOzabZuE3wev78Uz4vNcT7KwKNvN7xjaWixrvtuGa4OOzl114l6VG75in17IccxIYMvU4GiRw4Oudz6u/Vg1fL6bux5L9/LDjFpX5/Iuynwv289QEGxvC17X2Riy6Nhu+Dvl9ocfrU7l4n42WOfdz2b03kwAer1Pz/1Aur/bG1P9T5bryQZsGA/UAANBSXh/UtKR2eu7rM918E8y7QCuSmXAg4itcqtRFWrEcARqAItmAjfwqq7/oaRqDb/wWDYzJX+SSL6k8xRoFo4K/mPvxLviLtO4/+YLLjRQ7nkq9YvWgKSDNTmHI4AaTHoeOKVO0PzvOg9wFRV6njYqi8+VTQMJ6awTXsx8zhuuo7u3xebTjfYSNITsorLA9Evw4OXyN+rFkNFDEx1jv+ArR885/w4DJaF0fPjAQuQ6ahuvbj8ljGnNlriUb0NXyVaVumOvBpkLpetoY7V5XvT9f1/x6O55JGfZOTLpPey0UBka4zLxrLwz0hWO2NDrmjL1uRL0BxUbYetYAhn1PFV3nzWKvAzslAQCuS238288jve4zYxyVdLte3/Z9NFg55jL8NamTXks1rs16r0M95h08r9dG+JnSEPM+jH0uJ+PflPk/1Kxjt+PPT9H3AgAAaGkdw7RCBw72gxQHd4EaqY7jtEFTsbbPrRoAecXOk3Qz/h8BKFQ9ho29g4WS9IdWHFxQfumrSsngsh++a+RfImP1II3x8C5QzfQU17NtVNTcH3+ZltQT/aKvpJFTdL7sL+8J/kJu7/xR71hFtgdFQs6B+VW5Fp9ixKpSRPgY7VgWmXEp+Bili37s+BtNiZPzntke100s7Wc0ro+q88LkvRce30hJ4ED343u4lLiW5HWZ1Dk5z+Y1Oi6OXA+Z9Rw5Ft9gdfuL1WEyqLF7XJpcC8H7JyHXdolrQXv8iKqAjOmJIMc8ks8W21tntAcbTnA9+wAdN7KTIInUffj+zLnOx4Jc97YXipI0nUb+35HrNHMscp3yNWU/RxqRfK7UujZLXoc2kKbCsZ9kf3oc+/hNWm9PFnkfRv9/5HrVIFiZ/0Oj67Ba/88AAECLO0U3P3LaDf6rztPDL551vWKao23tUTpQtc2LyZ2lcBcogNqmXTrRe8nNAwDAaJKUGeltNNrB36lMUnq2yYwNPEgvUNdjJRM4BAAAmHimze+hAwMvu0cAMFmt7Ly+xF2iAABgZHRcEE0NG63BhsH0YuK6rkqVXNpiY7EBAAAAAORDwAYAYCxJKgl6eIweSeGJpeSFqT4AAAAAAC0OKVEAAAAAAAATBFKiAKYGpEQBAAAAAAAAALQgBGwAAAAAAAAAAFrMtMHDX0NKFAAAAAAAwASwYNmX6Rsvfcs9AoDJ6os3fA5j2AAAAAAAAEwUGMMGYGrAGDYAAAAAAAAAAC0IARsAAAAAAAAAgBaDgA0AAAAAAAAAQItBwAYAAAAAAAAAoMUgYAMAAAAAAAAA0GIQsAEAAAAAAAAAaDE1AjZvEM3vSad+t6hhw0Q9blt50w7eX6vZMdZlK1nnY14uAAAAAABoeUPX0AOdXbQynHZ2uhXGmC/PEnpuyC2LKbteCWf6lvjjfvyIW6hM/VQ9N2Y66fFxLwNMBMUBmx0Pupkxso33hwAEAAAAAABA3Y7t7KKVN86mg+5xxva5tLLzWjrmHk4Vu7un3jHD5JEfsOl/mmibm2+2LfcRnejNTruWps9te5ZohBFVAAAAAACAqUR6ldyzPZ1fsfMEHRjo99PDm9PlRDPpnvHqaVNLx3G6PynvUbq5wy1rihY+ZoAacgI2bxCt6XPzY+SGLjcT2PtoJUUomfixDejY1KDMuk+nzw8dMst4yqQZmfQjnXp4/TzhtvYOuydUZHuxHkNVx+TKmsfut1YPJAm02W2jxxIAAAAAwCTXSc9snJ7MSbDm/rWnknm1eKML2mw+TQc2DqQLbQrSEZNGpcGNSGrVA33t6XPMpx3dfQ2dOXJtZr2iNJ+kF5Bf1/R+yU2Jaqfn7rav4aneAMz2K0qlWdlUqnQqU754elO4LVt3AGXFAzZ7n03/7roz/TsWXtJIygIijahKYGND+G7nx8uCoI2QdKrMun1EPbzessfcY2eNBkckuBJJ+drH68eCHMe4TsJtbdhiAkA52wvTvCTAVHVMXNbcoA2/VvcrPZM2LUznY6S+wkCb7L8oCAUAAAAAABPbkctpdzJzkVYszwZrlARtfLAmYzo91F1Jo1r/GV5HghOR1KqDG+dXBx72z6Z13TPdg9Tu7niA4uBXu3wvoNRMukcCPu5RNQmGzKeH9ruHStK7SgVtuD5WyV8+xq8W7ScNCq1zQa8KLp8GaDqG/bYOHrKBqyvSul91lm51SSMSlAq3JXU3buMIwYRVHbCR3hxJQGEtUfeV6bJmkyCC7QUikwYxdn06/SuBimQZX/WHXdrUYQ0g8fKqCKlZT9Or9vF6u7aly57i40n0pUGWobfTh/Z1uk4sLUu29ZRb78R9biF73gVjNMhl0722pIvomNuX1K2mmWm5/La4XNEeOy4ItJqPvShY48+bOZ4TvI/VvEiCUEUDGAMAAAAAwCRwgeY1kk606iztcelTd3Bz4tg302BNJbXqBN2bBCuIDg5kgzMiut7GucHYMdN5m5X97Nl5MV28fxa9UtW2S/lgCF2ke19MX3dg7/lkSbleMxfo8185Sytkdv9s2pXXy+XIXB8UWr/X7ccfiwZ7TtF1t6ZlPvjMHBf8aadXnnE9m24dpjaZOXKtC0qdp4fdsR4YOE3rZVHJnj4AKgjYDBNtdb05nrot/TtWJCAhQYbuOW7BQhd0uIuoQwIXPdU9XKzVXZWeOQsWuBn+tLnBba9rUfpXdWgw6ghvV4JGj/IyPma/T/e0kvL5rC0umwZjVDe/Rl4rQRVNeQrHAPJBIgmGhcdpj91Zoz12+Di2LnfzOfy29Xhk4kLuc4s1sAQAAAAAAFNDkKqUTtWD8K7/0vE02OAkvXEG+pPUqjSFKdLLRa06Sxt8CtYpulkDJDSDTgbBCbuftuXn3Hr5Tg64Xiqb36mMa7P0VRcEKTnWTcdx+rwbw6c6iJQ69oILQm0+nQSsUnwsX3LBIRdUalv7Thp40SDT0Bw6mNRLpWfTmcEZyd+0d47W+VwXeMr2zgGoJRuw2bsnbeBLL5GcIWWawvdCMT1V9vXzBe/mlY5PE0s1Ci2O9QYy6VVVFpoeO8IGOiLpSdHtG3acmaqUJ2dwMP27ut6eS7y9rTXSmnTbAAAAAAAwRVUHSRpiAj3ZFKaRuEjt89xsKe108rV0bkWnC5w0aPFG18NFgihfnZXMVRTsZ96FIKg0QEuS4E8aeDlzaFaaNrbqHF3n2p0+yATQBCZgM0x0wAUafMqSCZSs4cdNHwvFBk0kYGICJfYuVZo+lAmwNEHH8krvFk0fSsTSk4qYnknSe0a3GfbC0Z4/+7Q3TC28LT3mWmlNvleR2b+ditKpAAAAAABg4lr6rgtITKeHvmnGSfG9UUwKUpUwkNJJj+uYND5VqpLqVGX/DDrpZpvrFM1zSRKxNKz6DNAdmkq1X1KzrIL9nJxRNY7P4s+k2zn4zFx6xqVD2Z5D8zpdPZs0MzuFA0IDFIkPOjyWJGhix5fRAXp9jxGTPuQHJm4CfzclHcCY99FrgjZvlg2qCF5XU4/sGDxhSpRPw7IBIf7b43rmhIMdS1qa1I+OydNbEDCLbtulksmEMWwAAAAAACapAbpVAzLRAXkrd5Gqaegyet3N+kCET/2JmUlP+rFh2um5r+pgxQ2Op2P44Icd+8XcvaroblRVlp7ODTpV9jPXbJOP5esauKr0oPHBsf0zaXdSJ+dpiU+jImpbcCGd2T+bntFt5d5hCqCYCdhIwCLsmWFSlmTA3d68cVRMYKCunilO122V3ig64K+/zXdfZdt5qUaN6Pq0C85Izx63fT/mC7/jbq+nRwqvq+WXO0cl24qkcUnwpWo9/ltrn923pH+ll01e/Ua37cqQGX8HAAAAAAAmm7a1R9NbdwsJ2rigRjrpGCps87u02M1G+bshpXd7Sl4fuWOUldwBKdlPZayb9XtfLd5PCW06Zoz0HLoxKIu5K1M5dnydrLa1J30wxx+zP5aLdO9X7Bg/Jjgmwvo0gaGq+rNj8QCUMP49bNQmDQ4dScdryfS8EfxulLsfaVBixIPougCVbs+T/UQGHa5lk02pYjJOj09nMuPzbOJ9Zo5LSBpT0T4XVl6z4Xvp3xjZtvbGURKsyQ20AQAAAADAZJEOFqzjtQQ2n07TcqK39rZO0c2PZLeR3AXK353p8uzAvZL682I2ECJ3WqoM3jsSA3QHl9kHopQcyyPZgZJL6ThOG6KpYXLMkbSxJK2penBjO2Bychv0jHRb0TLXrHuArGmXTvRecvMAAAAAAADQwqbN76EDAy+7R+PnTN8SWidpVhLUaCR4AgCFVnZe30I9bAAAAAAAAAAAIIGADQAAAAAAAABAi0HABgAAAAAAAOoigxwnY+IgHQpg1CBgAwAAAAAAAADQYhCwAQAAAAAAAABoMdMGD38Nd4kCAAAAAACYABYs+zJ946VvuUcAMFl98YbP4bbeAAAAAAAAE0Wr3NYbAEYXbusNAAAAAAAAANCCELABAAAAAAAAAGgxCNgAAAAAAAAAALQYBGwAAAAAAAAAAFoMAjYAAAAAAAAAAC0GARsAAAAAAAAAgBYTCdi8QTS/JzI9SjTkVmnIMFGP29YO3keo/2m3H/47UQ0dKl9Xe3kdWw87CuqmGXT70Wmk57aGeuolyl2TPbwdodeKrSupT388Mk3g6wgAAAAAoInO9C2hlZ1dVdPjR9wKY+zYTleGnZ1uSZwv993X0Bm3rDHt9NzdetzX0jG3VFXqp/q5MTN0DT2QlGEJPTeabTOYUKoDNkNvuxkYNRI82TBOn45RXJZlXKa9w+5xi9FrcvGV6d/BwfTvTQvTv9H67EPQBgAAAACmuE56vLOL1m2c7h5n7e7uqhk0mXxm0j1T7phhosoP2Gy5j+hEr5nuIupIn4IJrOq8biNa7Z7bsKfBHjCj7KX+9O9VErAZJjogwZml7np8g4gPIbGLZ5Jj4mNM9LVuEAoAAAAAYFRJr5K5tDuZv0j3vthPBwZ0Ok3rk+Vs+9xx62lTS9vao2l5HzlObW5ZU7TwMQNY1QEb7b2QNI5bgUuHsZNvhJs0K9sw9+kxNgXHbMe1/6vTaIKUHZum5FOKzDqZNKMyvTlceTXAsO3B9LVaHuVTiNxUFXQI62QkPUnmEPVqgIM/tV5y+7LHbkWXm/OgU63ULp8Cx1M0qGKOUXvPbNjCj3naJw942TI+F8++ljyVBHBu4GNJ8LWrQag30WMMAAAAAKagI3Ppof0yI8Gao3Rz5sf3AbrDBW3W7+2nO/irtLCpSn7epOhUlulkU4jS3jyy/PEjNgWJp6KUJp8KlE4P9LW7JwpSoo5cW9l2MtWfRrT762XSrCrHpJMtX6UcQSpVNL0pqBOkPkEJQcCGG85J7wWWNI5dg1nHDhlrSaP+QffAkLIlAQFuoK90ny4HtOFujkEa9fom8Klea4m6+I8Ea6rSaFwQIHzjSGBFgyyr+cXyYSeBC12W6OPXPubmR+DYs9XbkePVoE4SzAnrRNJ/IuUubSER7yLh67EsCazwi5MgiiF1lhe0kWNYw2UW0iumWwMtDfit21yvGtsDjM+1lqdlAo8AAAAAAGPn2Asz05lV5+i6aKaEBG0qwZqM7XPpnu1u3r1egjV+mTeT7omM+7K7e74LFjn7Z9O62Pgwr11BD9w4mw66h+LgxvmFvV+SIE63OzZvOj10Y8kAyKqLtEL+cpl22eBLKAnGaA+lCimfTyNb+q7rqTSTjpoyH/umO6bN77hAmQR+gjpJyjx+4wjBxBAEbExD19r3WHODNtqzxE7agPeGiXrdstV3ukY5T0+tTZfJNiSIcYNEX9g+DcgEx/C8CxpoWs2WRfwPL0uCNfzpdNht9zDvI8HLY2/0p9x6vcvTgIMGa3waDv/VXh25pDcLr6vBEU1PcoeQ2Mf713351B6WHAfXyVYXzPH75WmXfMry657ICZCUcVXsk7qEvc+6GVOX/hzxc2FdSt1pQEqOPzdYszDdlp4XvQZ028nx56Tp7dCAFq87kmAQAAAAAMBEt+i9htKJpOeNT0cauoaeTII15+lhTavaez5Zj2gGnaxqP8XWm0lPhgGS/dPpat2PSdPa/ULeGDOd9IyOx7P5tHvdCbp3lSyYTg99s8TYNIveoQ07LyazBzfOywnytNNzX9eA11naEx6LT6kaoCWbkyWmzJ101AW21n9mIPl7bKcL/PgyV7ZVrqcPTFXZgI3thaLBAG0wS9BmLMcDGXrNBV6WEm1dnixKdH26EhiRIEbHIve4Lw3g9LseIqtdAOKYHJPpdZMMVOuCAUmDn7chAaOi3jESLLBBFQ3+ZAIC/HerBn1GILMv0/MlYYJRtgeU9hTaVm/vmCZ40+17yy2V4ElXrNeL4HXXaD1z3W2Sc1FDOODw8y6ItyAnEGN7Pj3F5QAAAAAAAK86rYmncBDeVWfpVvt7bsdxuj8JNLxKizXdp6qXS8X6vbyem6elr9LDLqhxcCB4TWY/leBHrqHL6PVk5iLd+4U0GEJ0im5+xAVBNuqyYm1r33HBoZwgz9AcOqjpZF8x4+csPe2CQ5UAzeIvnE177Gy/PO1BdORy1yvnPC1Jjq2dTmozbfvcSp1r/e2fRa+U6RkEU1I2YNOx3DW0TUPXB0RYs8YDqRr4liftOaF88GhB0Ojnhrp/9wt+rGlREsDRBv3KW9Jy7+tPt6XBH92WH38mTC+qw+pRSLfRwESMr5NRoIGXugzzJ76brTv1iM9T4Tg3LpCmPa+0V5YGY9bIubNpYFwWOz6Q9MCxQTYAAAAAgKnotcua0IPDjL8SpDCNSL29f07OcPu+QPNiPe1LG6A7TG+ZXc+ks17ufk7RPEnYsDqGaUUSxEnTonwq2uZ3XbN1Jp3KpEIBlJcN2PhBeFvgdsgdGgAYNI1yYYIEStOiJAUneW4pL1voAjv8rtnq0nZ0/BkZG8c27CVg5FOiIsIgyoIF6V+fhjVGfJ0wnzZlp0Z7lJg6XRl8AiU9lFRY9yZ4VjaYJz2IilKmGiLBmi2V3kdSN0iFAgAAAIApbPFnXEBi/2x6xvw2u3ij643iU4kigkDKmb55fvwVnyrlU52qvT5YMDbMSMy7kPZmiaZh1cn2/Nkf3PY8dz+mt4x3iq67NU2x2v3CtS4dyvYAOk/trp5X7Dzh6t5O4YDQABXZgI0GPuztkH1qEkvSicaID05IwMWMn9P/very+F5AvK48p4GZm1xgQMaFERqM0Dth2ZQmn+ZUgi+bqScJGuj4MqOG96u9nXpNneTd0amsHRrskEBXEOiwQSlb90rHvrHBF3uXq0y18rqS3iYpU0mqF5+XJ/LKzOfWj+HD50kCUhro8T20XMqVLz+TYA161gAAAADAVGfTd7ojg9v6u0jVdnLABTRMCpPvSRJxcOPcyu+8R671gxWv6MwP8pTS8R5dncxkU5l8mlfR3agifDpTyO7nq2abps50fBrRtvycS4uamaZDZQZ6rvTKsfWSewcsAKM6JSppSDMdI8UOEJvbEHbpKzI1bZwbbrBrA13Gz9Hta4pMpjwmLUpoj5gu21vEBCNsYEq3W3XHqAKxeordKakWTfMpXWdc/p5InSS9hfj4bi8RUIsN+Ox7G61LAyBCg122jqoGhmbdt7gZrr9lbj29ZsKxf6zbXY8mHTw6RlPAkoGimQbabODQDgAtklQpMzUaxAIAAAAAmNBkbBczkG+3C2roZMagscGHGNtbZ517ffUdoyy5e1Swn1VnacPaU+l8wwboVjdgsB0PRsuy/ktmvJkyOo77AYizTMqUOWZ/LJtPZ++uxdv5vBl/Z8Wtw5lyVAJDlXpZ5wZPrrvMMKVkAzZiU6+765AhwZEyA8Q2WzJ4rfayMKQXRVgeTVMSvkHPfzWwor1uhARcMmPm8PHKHY50Xb2zVBGpJ10/wdsrSquyNkWOqSypk6r9SPlz7phUCpddeqzYNCLZT3gdSPpY5pgF17G8Nlwu14zcUSuPnAPdvu0tZGnARsfHScbZ4dfY46ynZxQAAAAAwJSS3ro7L31J05uit/a2lr5KezKBDbkLVOXuTAcPZVOgZLuabpSQOy3J3abcw5FoW3uUDrwY9oy5SPe+WOI4ItrWnoynhvEx2ztXqaTOIoMb+6AWl2XF8iAwlQzaHN9WI2WGqWPapRO9l9w8AAAAAAAAtLBp83vowMDL7lEr6aTHO9PbVyMQATByKzuvj/SwAQAAAAAAAACAcYWADQAAAAAAAABAi0HABgAAAAAAAEbIjZdTZkwcACgFARsAAAAAAAAAgBaDgA0AAAAAAAAAQIuZNnj4a7hLFAAAAAAAwASwYNmX6Rsvfcs9AoDJ6os3fA639Z5q3ho6Sx/vmO0ewVSB8z414bxPTTjvUxPO+9SE8z41te5tvQGgmXBbbwAAAAAAAACAFoSADQAAAAAAAABAi0HABgAAAAAAAACgxSBgAwAAAAAAAADQYhCwAQAAAAAAAABoMQjYAAAAAAAAAAC0mPhtvYcOES17zD1gq+8k6l3uHozAjh6ibW4+12d4eiGdfaqXqCudbaq9jxJtOOIeRITHq+Xech/RpoXpsoYNE/VsIdrnHubJq/MRlgW3f5yacN6nJpz3qQnnfWrCeZ+acN6nplq39T7Tt4TWbZzuHonz9PDAq7TYPSrr2M4uumc7z2w+TQc2DqQLJ4jqOgisOkt7HjlOpOu5x23u6XLa6bm759OpL/XTHUvlcSc93jmXdvPc+r26DKBx8dt69z+dDdaIffx4xxvuwRQgxzuf6wEAAAAAAGCCkCBLdaBiJt3TuYSeG3IPoQkkODOfHtrvHgKMkqCHjen9sWsbUfecNICzpo8XLCU6fBdRR7JiE7xBNP/BdDbTkyZveRP5HjZriU7cli5T/njZaO3f8r2Zml2/cfglZmrCeZ+acN6nJpz3qQnnfWrCeZ+a8nvYVHp4rNh5gu5feyqzbCL2lGlUpYdNY72LakNvGhh91T1shl5zqTp8xd0wJ1lEXbcRnejlafSDCVESXOEPpXTi+arIsAR49HmZRtgzpmuRm2GDw+lfSUOSbYe9jHS5TD2H0uBL8jhWznqYY+o387KPqrLYdSXg5uZ1fQAAAAAAmPyGLqPX3ezVCyRYIwbo1p0X09nXLqMz6VxCghorO7vMdC0dc88J6a2TLN/Z6Zakwtc90NfunhESyEiXP37EbCOZYr18KuvrlN2ekNQju07zegv5Y7n7mkzdFJZr6Bp6QINgbHe3PC91lz12q1Zdp9uU5XJs4fEG68KUEgRs3nYzC4heMoGS8Wr492pPGMXzy0xAJgmQuN44Xh8vG0HApP81N2OCVjE6loySNKowlawZ1pjjW2mCSTFrgrFxkNoFAAAAADA1dAzTilXpbCWIQNS29igdGOinA2aMlvzUqeLgQOx1BzfOrwrqCClDMgaON50eutFsPwh8KNleJWgjQZAw9Ui2Ux0UaZpS5SorDb6UT1OTYwuPl9etCijBVJEN2AwOupm+bKBEGv7jEbTZt8D17uHpqbVuIZetX/4OE211ARJJ39L1dkl/NC77E0FvmCgJ7riglE4+HaqgR5EEijRY4/fNf1e7ZU0laVvu2CRFrZBZ19bXXtdTCAAAAAAAJqlTdPNXztIK9ygNCqS9NDLBjaFr6EkXSJHUqSSYM3Ca1idLZtKTeUGJI9e6AIykGclrzOu2XxEJPpj19p53y2bSUVeWY9+cTQeTucp6e1xvoIMb5yaBnWM7TTpXsK3dXy8TxKjUQWUq7qFTs1wdx+l+X19pStSBvLSrI3N98CVdT6YTdG8SWJtOD301cgwyAHKwX9o/i15pUq8imFjyb+utgQht+EvQJgmUjKFdn3YzzKYqJd6u9CbZsKUScNFA0zbtKdOgNQU9U3xPJK4bH0Thv1vvdPNNZOuglqfMeDySysbVknhTywsAAAAAAJNWEkzop4c3u8dO0uNGe8GcnOEDEp9PxrkRA3SHCxKkY99UOzM4w83ZIIj2RJlOBw9lAz0rdp6uBDGWvusDHKl2Oumaa3Y93xsoCYBU1qHtcysBl+6Z6bJRCWKUKVd5x15wZd182oxzc4pu/pILYEWOYf2XKj2h2pafMwE4mIqyAZsFC9yMHcMmMqbLWFlQ0KPEB01GwvRI8dN97rm+6jFrlPZEWn1l+hcAAAAAAKBFLN6YBl8qvTmY6wXjAy+rLtC8dK6UkwNhWk+xyjg6MTPplOt5kr9eZZ3G2d5AOh2lm3PHZi1TrrJM8KdTexg58y7kBGIuUns9JwUmvfweNq2uwwRL5G5OVYGX4O5PpS10aVXsWE5QSANb+8ag50pR0Co01gE1AAAAAABoCZWBbe04NKfo5kc0fWc6nTpJ1LbgQvKI9s8gfljavE6XnmNSduyU1zMn7jy1u0DS64N548JU1qmkbtmpKPDSqDLlKusUzXN9Hw4OuJ42yvdyAiiWDdj43jRmDJiyg/COuSsrY8b0mvF18u7oVNow0QGb5Bnhg0V2fBj+q2PqjJcN33MzTG5PruPsXIWeQAAAAAAAk1klfSY7Ds2Zvitc2pLrveF7d9j1zJ2JIgMIi0qgZzY9o82lzN2N3LJSTDDDjVeTOHKtCzrJ9uLr5N/ZqRnKlMstK8EHubbPNeMIcV1/3QVwVp2j68bjTswwYQQ9bBZWxqzZ9mB2EN4tt+QPwmtvLT1mA9zOIeox4+vo/pMgxVKi2/lYauJj09f5ydxpqWe5mwl08HIdH8aPnyMLfGLiODHHo+dt9Z0lBisGAAAAAIAJreM4fd6NXZPcuSkJMJg7FG1+J+2REl1P70x0ke79wkDyXJWlp316VXoXKp5udAP06rbrsPgLOkCyGRNHx6dx24uto8djx3pppjLlstK6iAdy2taerK4zW9dfGZ1jgMmjOiVKBqv1dxhyttxHtKlMAGSMSVkPhwP9LuVlBXd4KkW20cvbdw9jNvHzGrQRUkdbi14wBiQ1zJZJgjW9OUEnAAAAAACYVGTsGn9nISNJKdpYCcQkY9z4OzcpGe+lKM1I0quqBzRO7uBktl1aMkCyGWPHyZQ1uCOTkjsuVQbxbbIy5ZJBmqvqLyats6pzkqSVjUZKF0w20y6d6L3k5qEsua33Mpf+ZINZex91d6mSwYwbHUOnXtK76cF0VgI2NWJGbw2dpY93zHaPYKrAeZ+acN6nJpz3qQnnfWrCeZ+aps3voQMDL7tHADBZrey8fgIPOjyeOhZVxs/R1DGZ9JbiW3QsIAAAAAAAAACA+iFg05A5RL3bKkEbq1XTxwAAAAAAAABgwkDApmEStJHbhwfTmAdreH+673EeQgcAAAAAAAAAmgMBGwAAAAAAAACAFoOADQAAAAAAAABAi5k2ePhruEsUAAAAAADABLBg2ZfpGy99yz0CgMnqizd8Drf1BgAAAAAAmChwW2+AqQG39QYAAAAAAAAAaEEI2AAAAAAAAAAAtBgEbAAAAAAAAAAAWgwCNgAAAAAAAAAALQYBGwAAAAAAAACAFoOADQAAAAAAAABAi8ne1nvvo0QbjrgHEbu2EXXPcQ9G4g2i+Q+6ebblPqJNC92DJhg6RLTsMZ5ZSnT4LqKOdHHT+HpaS3TitnRZ3Uwd5B3/jh4irvLS+xnt4wYAAAAAgHEVv613Jz3eOZd2u0cxK3aeoPvXnnKPJio5ziuo/cWjdLO0dYauoQdunE0H6SLdq8sAJonxu613/2tuxtn2LL/Z3PyUsZBoi5vdFtRH4g0XrGFbFrkZAAAAAACA+h3cOJ8e6Gt3jyYgCc7UCEoBTDbZgE33XUQnerOTBhWkl0dTetew5/vSv1vuJFotM0eIXhpOFjVFx3JX/lHqZbJgQfp39ZXp30bdxHWa4Prod7PKB7WWEt1esvfRaB83AAAAAAC0NOlJc2CgPzM9vDl97uDGuXQsnZ0cOo7T/ckxoncNTE7FPWz6n3a9PCTFptHUn5DpOXLTcqKVvG1xIOxlIilDPenUP0zU4+Zl2sHPCUlN0mXzuaxKUoOSZfy89tzRdXv4Of+8m3R7ntl3bJ0OF6hZbAI24TbD18R0mZ4zzwfralBrdVcl+JI5XpnMMYvYcScix7M3EiALtx9bBwAAAAAAJpTFnznv5gJJr5UuWmmmxzMjZEgKki5vp+fuNuvu7EzWONO3pLKs89qqgNCxneY1VevY7YfrLqHntE1z5FpamaQ+ien00I38/N3X0BlffrNuIiirTK68ABNJQcCGG+u9Lmiwa13zemz4niNribr4zw3yD9vXHwQZjDVb+Hk3L7Y9SNTzaDDeDpe1VoBE7HvMjfNiyPZ8cEKCG2Z8HSXr6Pa1J4uOO+PHjglkthuTlxbF+9Gg1koJ6vA2JGBVNb4QH3NVcCaQBHEix7OBd2zLJuPlhNuXdcrUKQAAAAAAtKxjL8xMZ1ZdoHnpXBpo8UGQit3dXdHUqd3d8+mh/e6B2D6XHrh7Ca3bON0tEDPpHhMYkQDMPdvdA4/XiQR2ZL/ZdSUwU71ebRIECsoquLwI2sBEkx+w2bvHBUmamAolfDqU613SwX81LeqJnODA6jtdqs82ty6Tsh2WZTxFgx4FZPDkcHvaw2fvs+lfGQg4Wcds/9jbbiYwpMtlcGD3ml2u59CG76V/88TSomw61A1c9/28DQ1YPeW278vO9bb1UPJU1BMaSCoom+9JZdY5wccvpuT4QgAAAAAAE5OMVZPpWcKTBkLWf+k4tSVznfSMBlo2n/apU3t2XkwWHdw4L+ixwladpT3Jeifo3lXpooP7ie59MZt2RdsvT4MsQ9fQk8l+z9PDbvsH9mpPnxl0sqqNEVtvJh2V35SXvkoHXjxLK5JlMsAwr/OIHkvWmb4r3Dg3bj27ve1XVB8XQAvLCdgMEx1wvS12fTr92xSm58hNOi7LnEpaVF7AJellInjdxW7Wpgr5oEcZvK4PQJl9Kx3HR3rPaIqQljmPpkglPV4knehpMx5QjVSyLq5fDRppWlSYDuWDXPelvZISXPYed9y5vZP4PGpI2p7HsGyDg+lfX36ZtFcOXwfNHF8IAAAAAADGlgvK3KFNnyOXu6DGeXp440AyJ9rWvkPrk7npdPBQtpfNiluHXYDkFM3T5tmqc3Sda5NVpV358WVepcWautTtevpErNh52jf1aOm7rhz1Ozmggah3KuPaSMAnKQvGuoGJJR6wGXrN9ehwPTyaxd4dao0GBnjyqTiml4m1IFIGO35MPWoNFGzHoqlKQcohKVJP2aCRCXzImDmFTNAoCViZoFYPb9cGXa4Kyu4DRXnervTMidWherPkcQIAAAAAQEvzgw77HilMe704ZwZnpDMmRSp1ntpd75nQ1QsitwRf9F60l0vKjCMTSb0KRbdft3Y66ZqcKzpzxu0BmEDiAZuXXNTE9mIZseHKmDhFwsF3xxSXcWskhUhToop03VZZX9OJhIyZEwtCWTqOjwR6dmhQi/efLJ5T6VX0ZpCS5VOx8lxZ6b0zWNBL5ioXMPKpZ8HUzJQ4AAAAAAAYfdLDxaQW3SOD9LpHbQsupDP7Z9DJdM6ZSafCsV8adKZvnh9HZv3eIDVp1FR6/xwcyO/NAzBRRAI23LDXdKhGe7HE+F47zI8hYyYdV2Vcx0wxPVJ8CpHp8ZLH311J79q0kI/JBG2KgiXCj+PDtrmglo7xIzSgIoMY++CPCYDlBtZMsMeOpSNj1iTldQMW623KbXAp945TAAAAAAAwISx91Y9LQ/tn0y4dTHjeBdf7JjtIsB3/ZcXykfV48alJq87Sra454wc/HkXzOt3x2vFqzN2wsnfBAmhtkYCNCVqEKTi53nCNe57y7oqkvXby0qx8LxN+B43bmCnmrk1yh6TkmCJ3WAp13+JmTCqUf50dMycPPx+OpePH+GHd6yoBHZ9KxuXTtLWtkjqV4/Y73Ywp2xoNCnG5JdBjx9HR7etdr3QdAAAAAACYcNrWnqwMErxxbpoa1XGcNmggR+6e5IIZesenFTtPjnisFz+mzf7ZtM5tv/qOUY1wt/WO3GlKtJlxeNL1eNKULBM8ApgIcgYddorGPamL6bWT1xvE9jLROzaNh03bKuUQMtDvYRf0yB3cV3rUBK9LSFpVjUGHlQ9YCU2HUnweek0vJJWkMN1VHFBJbkEeKZv0ctLbkuv2NVil5Nj9OgAAAAAAMPGcopu/ouPZVHrUtK09mh3nJpHeWen+tU0YT8b27knIXaD0DlPVgxrXZINMhQbojgFz1yolAy/n3FkKoFVNu3Si95KbBwAAAAAAgBY2bX4PHRh42T0CgMlqZef1NXrYAAAAAAAAAADAmEPABgAAAAAAAACgxSBgAwAAAAAAAADQYhCwAQAAAAAAAABoMQjYAAAAAAAAAAC0mGmDh7+Gu0QBAAAAAABMAAuWfZm+8dK33CMAmKy+eMPncFtvAAAAAACAiQK39QaYGnBbbwAAAAAAAACAFoSADQAAAAAAAABAi0HABgAAAAAAAACgxSBgAwAAAAAAAADQYhCwAQAAAAAAAABoMQjYAAAAAAAAAAC0mHjAZkcP0Xwz7XjDPTFCut1mbW+iGzrk6vhRnnfLivQ/XTknfip47V5+ztZ1K9S/lClTfj6mVqVl7eHzVBrXrR5bv1s0Usl5i5znquuh4FoYdw3Wy4T8zHDHqteNnqfoMWi9BOdOr71mXUMAAAAwyXXS451dtLJgeqCv3a07kclxLqHn9HvT0DX0QHJ8ZtmoCOp3Z6dbXkbltY8fcYtKOrYzZ39HrqWVd19DZ9xDmLyqAzbSQNrm5tW2BydYg2kSkvOyps89sPhdvyzSGJT1N9T5iTDaomXiY2rpQMM4k6CevB9XdxF1pIsS0qCvuh7ctYBG/vgaejv9u/jK9O/gYPr3poXpX2+YqIc/W2Nu4PMt1rRwQBMAAAAmlIMb50/soE0SnJlLu93DMXXk8ux+t18xygGifGf6ltDK7pnuEUx22YCNNg7FLp450ct/l6aPtz2LRvV4kcZ5eF502uKWS1BtLzcAW9YbkWO4zy04QvQEAoJRTzyW/l25KP2b4PN8wAW+tnAdJnXJdbo6XUS99fQIgqZ7yUXMrpKAjZ4r/hy1Abekdx2/efe5x6EOPt/J+exDAA4AAADqsmLnCTow0J+ZHt6cPndw41w6ls5ODh3H6f7kGI/Szfa7VpMde8EFSDafpXtXycx0OnhoMvRYglaXM4YNNy5umJPO6i+9Y05TBcxkAxI+HST4BTqaZiS/ZJvtlO7RESmD7cmS2Ve4j8gv45rekfd8FO9Pe6VIoKPbnRe1yQRtNnyP/3Hl0OCIBHJkf2Gjz5fdTVXBnvDYC+q532wrryeW9joQC/QYFlYCgsfM86JM6lR4DDLZ47ApTeG6VeUMjreoR1nmPMpU4lzGylq0jwQ/n5xH835McF1pQz8JCgh+vmdtOrsvqMvYdVzzfPM0kms9c/7kNW55qOo8F6ybUeKY9DyF9RxbXnVOy5ZDmfLo+3UDvzF9UIaXLXPblM+uZS4Qt9pd/1X4fK50zyEABwAAACO0+DPn3VzApxRVpmzajk3naafn7jbrujSdpMeHLuu8tiog5NN6outk04Wy65o0J0kBunE2HUweTKeHbuTnJSUoNyUqKKtMdaUxWZ10dHs6t/4zx+m6Wy8m8wefmRNNScrWRzxVKy/VKTcFypHn122cnj7YP5vW8bqTI9UN8mQDNh3a+ON3y0uu8aO/FtOC7C/EoykJxkRSBaQBpI2sLu1xEPwCrT0SttziyisNKW00KWk8ccOq8JdreV2kDNH0MNleuA8ulx37RBqEGkRJ8PPaaCvS/5qbCRvtxu13upnBco3MY89W71vqVusjaZyHx87ljTZi+djXmG1VpX04vscAWyMNW9fI774r7SHSuzx9LKSuoqlTJjAgZYzVnxxH2HDfx+uF62Z6JEXOtTwfSymrOo8iKFsor6y1ekX5cx++97iO+TATSVDAnZeu21xvG/6roueSZeqpyde6BGEydSeviWy/aj0h68auM6PM50M9oudUylFwTkdsbXquevjc5lngnqsKwAEAAADUx/cQWXWB5qVzaWDBB0EqdnfHgwC7u+fTQ/vdA7F9Lj1w95JKACExk+4xwQYJMNzjgh0VvE4ksCP7za4rgZnq9WqTIFBQVsHlbSho49OhztMSbpK1LT9HK+Th/ln0SvCdVeo0Wx9yDOOUxgWTQtDDhhuCh13jP2kIasOZr8zDphE4qrgR2csNQLGay5I0QHl6yvUekEZkElgwjdbntZHGf7XhpYGDHa5h51NHzLaKfrne+2z6175O9xf2BhG2rNprZB8XVN7E0mjWcvl0IP6rAYxSCgJmNtA2NIePy5RVy287Su3j9Z5yZfVpSSypR67/rS64YNOvkmPi1z0RaRDbY8/tkMXl2qqBJSFBDgnc8GQDZ9G60jLyazTIoIG5WH2+GTk/sfUOuICInuvkOnfHoe8Dy5fNNbZl0mupKFjmexeZ1+k1kvSKyqFjn6zW82tsMuctCS64ugwDQFpPRftu5rUu70ENwsS25+l6sTrn5bkBm7KfD2Xx9vRbQNH1VhN/3thj0LJpuZJt35W+h5PAWonPU/++LhmIBQAAAGAyVk2lh0c6aSBk/ZeOU1sy10nPaGBh82mfOrVnp+s9snFedc+QVWdpT7LeCZcWxOvtJ7r3xWzaFW2/PP16NXQNPZns9zw97LZ/YK/29JlBJ6u+38TWm0lHk6+Mr9KBF8+mgRK6mO7zET2WrDN9V7gAiVvPbq+BsWcq6VDv0mL52zFMK1xa1EPftAGgeJ36emmCxRsr50jPx/1rT6WPYVKqTonyPWosfpdoj5vRNsSN6OTXe27IbTW9Lro+XWloa4BGe5Zscw1v3yOBG0lJ4MA0xqQhpwECHazVNzIjtOfHJm6IadpG0ljP0WPKGqaR+TrlcvmUpjCAMYakMemLaAJfCW6ga+8JDdrJpI1wrWvLHnuRDl5P6jRsvEuPG+0ZYYMbvq5cY1gmXSapYPo4SWfhjWZ6fVhBvWuqSYKvET8ejPbKYlJWDUYoLb80tpOeK7zf6EDQAd/w5nWT+nyay+Our6KG+5uuXDp4bYark7CMcs58bxcbjOD3jwr33cxr3fYIu523pzIBJqHnVIIYfO5ln2V6nNXz+VAKXw/J/7xMr/e9XN9J2Xjy101J4YDDz7vrw6cB1iETiHWzAAAAAI1wAYQ79Kuj6TXy8MaBZE60rX2H1idz1WO0rLh12AVITtE8TXZYdY6uc9+fq9Ku/Pgyr9JiTV0qGCx3xc7T/msZLX3XlaN+Jwc0aPJOZVwbCfgkZal3rBubDqX1dMqnRfnglPB1epHu/UKlThdvPN3wsQBUDzoc/uqtvxBv2DM2jQbfYA97lJiGlQoH5tTG0Rb9BDHBh3ppg1wmDVbk4voq88aP9ZQorUwPjpLliAYAHL+tUaTBFtvbRQe1LupVYvkxjHgqCi6IsvXux4PJM0x+7JYywQUlgR7fE0do4IYnm0rUCB984WmLWyYpYEmM0Fz/RQGD0bjWy6RQJoE2mSLpTXnq+Xwoa5O5DoUNVMbi11Eu6KQBPA0Q67WZpAHWSPUCAAAAaAI/6LDvkcJsYIGdGZyRzpgUqdR5ane9Z0JXL4j05Fj0XrSXS8qMIxNJvQpFt1+3djrpfj9c0Zkzbk89zN2hJGVLeyxV0p5cD6AMrtNS35cBassGbLQniL2FsB8rhq/Esehlk5sGYHoLeNxI094Sz3MDPmkc8WP/yz5vSxtiPt3BTvLrvns+g/elaUE2lUQbxPUayVgUZerfp72UaCTX4uuf+bQpO4U9Qko24P3gsnZcED5/vdrzgo9PznepuuLGsTaMfVpM0OguzTT0Y6lU1t49lQCI1k0mEFPAjy8jk+lt4oMrdfDBqiAAYAMPg3KtmOs/eRzT5Gu9bBqPHIMGM/S9GUtDC9X1+eBk0rpi68l1qOeGJ9trCQP+AgAAwEQlPVxMatE9Mkive9S24EI6s38GnUznnJl0Khz7pUFn+ub5cWTW703TgyqpTqOl0vvn4MBIb33dTs99vfY2dr/g0qLmXXABsli6V47XLjMDF1eCTQAqG7DxjWXTiPQpDqyRbv31smkAW01jqf97lcayHdhWUzK2aQPeBJtsY9yOFaLBg9zeDdzA0335VJI3Kg3Mevlj4jL6MTFsQ7kIH6sfc4Rb0eGgqnbAVJv20jDTyLeNVe0N0cigrsKnztg6YHb8GDlveXWlPVtk/7YXkKbn+FSZBlzl6tfeut73NjM0RcmmlGmvriJVwSpJBzJBm7xgipYrHEfGBvGeMOfDvkeS92rO9Z8J+IzWtR6UTceSUtqTyqarRdMxA/V+Pggb/LPrJbiMSV3wpNeb9FryY/MEdZ/LnlMX+NJgnh/LJy9AnKPennMAAAAAoaWvVsY82T+bdulgwj64kB0k2I7/smL5yHq8+NSkVWfpVv1aq+PBjKJ5nZquZMarMXfDyt4Fq8DQnGSMHhG7VbqvV91Px3t0dbIgO7bNsZ0Fgw7bgNmRudUDJcOUlw3Y+IYgS7rw82R7MmgjtUqk0VPEjidjpySAwg0fbehI4Eif03JI48eWQ9JNtrh5sdIcg/B3UOLX67a0IZ479gqXQbfp0yPqSNsI2TL67fHfsgEGaUDq68O604a11EtsvA1dv8x5SfA2/O2hTf0n++FPWjsuST2idcCTngsdP6awrtz+q+44xVM9KUqhbt53gsuig/fGtndTXr3U4LdvrkF/PfE288ZJye1txHWgAYXY2Ez2vRq7/v17Seq8ydd6XtnCerIBPF2nZjqW4O2X/XzQ8xU7ds+UN3ZdahArr1eTpQEWTcnUoFTendNqyU3/AgAAACivbe3JyiDBG+emnY07jtMGH3CYW5Xqs2LnyTrHeqnmx7Rxt5+W7VffMaoR7rbekTtNiTYzDk+6Hk+akuWDR5XbiefdFvvMoVkujSsevPJ3i/Lj/QzQrZE6jR1zZbwfuWOWK2PB+D5RWq+N3PkKJoxg0GFuWMgvwdxuyZAGoL3t8mhL0kf012pD0lBkYNSQb5jxuy+89bUEAPK2lRuAYuG4FtIQ1JSNosGK88i4LZl65TKXSQFR8vro+nzMMt5QWC9Vg7zWQeq/al+ynzp7CITkGLRxbElKjC2/rFeVasSPfQ8FPsc+lcqRbehrYgMjF5LrPtienO+wrFIvmWVSJr1OuIGfmzIo2w+up4S8PkwxM3wANZJeJEG8qjpiUm77Xk2u/8i+bZ03+1q3PVQScu0E9SvlypRf1jHvkaKBg8t+PlSdLybHHX6+5dWlrFvPoMMaYNGxkJIeWbz/Rt8zGvDxY3IBAAAANOIU3fwVHc+m0qOmbe3R7Dg3ifTOSk2585Dt3ZOQu0DpHaaqBzWuyQaZCg3QHQORuzPJwMs5d5aq1k6vPKM9hCoDK2f4u0URHXxmTpLaJHWaPWapz8igw1V1k/biKXNHKRuAg8lv2qUTvZfcPAC0Gk15qzd4AM0naXLL+kceuCxLz32t4DIAAABMKdPm99CBgZfdI2icDIo8nw7eegK3xoaWtLLz+rCHDQC0FE1pOoARyMadDO6dGSNrNOk4QmsRrAEAAAAYDcmYMSMfqwdgNCFgA9DKdEyfRlKToHmkd822tWOXGqqDcTdlIHEAAAAAyErvALV+79ERj9UDMJqQEgUAAAAAADBBICUKYGpAShQAAAAAAAAAQAtCwAYAAAAAAAAAoMVMGzz8NaREAQAAAAAATAALln2ZvvHSt9wjAJisvnjD5zCGDQAAAAAAwESBMWwApgaMYQMAAAAAAAAA0IIQsAEAAAAAAAAAaDEI2AAAAAAAAAAAtBgEbAAAAAAAAAAAWgwCNgAAAAAAAAAALQYBGwAAAAAAAACAFhMP2OzoIZpvpn63vFn6n85uf/6jREPuOUvW6znkHkxCe/m45fj9Mb5RqZO669y8Nm9q9nmsqeTx6PW2g9cfD1XXo0w512Q9al6/IznfeYZ5n3Z7o7GPgF7HeZPWwUjOc12vlWMucf7C8z4W11/42ZpMTbjW6hG93u0UlKfqc6oOdZ238NoFAACA8jrp8c4uWsnTA33tblnFmb4lyXMr776GzsiCoWvogWT9JfRcA99Dku3t7HSPmqFS/sePuEVNU27bvo7yJld3VXVZl3Z67m5bjtE8bpgMqgM28gV7m5tXa5r4JVq+/K/pcw8UX53Lgn1E14MRkfO4lxtFUCHXe/Q6c9dko434cbl+JVCxhWifezgVDR3iOnjQPSjCdRWen6uudDOjICkXX0/hZ2vCXWst896U8gRBm1GHaxcAAGCiOLazi9ZtnO4eQXkSnJlPD+13DwFKyAZspFGRNCiWEh3uJTrBE3+HTqx52s2MBDdIDrjQ4Zb70u2f4B2uThdRbwO/4EK1XVynSd3qZOr4wGtupoVscuXctNAtGCMSVNEGdFhnet1v48b/qDWk+Xh1f11u0YS2NluHOvUuT58er/Ncy1OuXN1z3IJme4No2WNuPqijw3e65WzDnjEOkpjPeT/x53KCP6efcMHK7rvS5/Q8AgAAwMTXcZzuH+inAwNH6eYOt2xcDdAdSXn66Q7+ijK+ztPDriyZ6ZHj1MbPtq09mnk8Mq103NCKsgGbl7SLywJ+E7vZ27VBMdiExsTblV9Q/a/Z3Ejq4UaM2MfPC+n1sMEFdvZxQ0d+mbaNZu2i76cgmKS/Zidd+/l10s0+b11RlBqh+7LpAH77PNlyhd3/7Xqx9cuKlaEuXMcr3SeA1nHyi7YrU7+Z9/swy5IpJ2Cnx1xrPWXrROspt95Knr/M9SDP22NLV6nG6+g1JsGasLEuwQUN2mz4Xvo3U650USJcXuv69SLlrPfYVfI607NEelPVrKvgOBKmTLX2Wa/wPKt6z5+vIzdp3cr72AdGuP6l10rsPZO834vqKqwDnsLzZ4/Fvwdi9cn2PutmJFhzm5t3Opa7oI0ET+6qfO6K8Dhl0nL4OgvPj7lmGvmskSCiXvcq7/MnLJ+cq7xzLPLOW+G1GzkXDX8OAgAAgJeTEhVLC6qk6qTpPPdsdw+3zw2eT3vfZF4fpA3ZdKJjZl+PH8lLDUr3qeslUyQVq2q/ndfSMfdcs+WmRB25NiiDqdukvufSbvdwd7eWMT8lqvpcBMeUOYdhPY3e8cPYqmPQYb6CYo2RupjGwAae0QZOFzdikl93g8ZMFdcY0caw11fZVgavt4z3k+lmz+vaL/zSGAlTI6RXha5zg+v6sI9bI7p9H9hib2oAhMum74qb+DilEeIbj4Ycd0MNqZHg/fmeTYvSv9Ya01hayc+HDahEpI6lcaY9VDxZL2xEKm58aZ1ID6uaPS1Knr/M9SD7D8se0a89jbihfENOz4qmBivrVeLY69Ub1pXsw5yrsue9meo9f8eerX5fyXsqFthpRBjMUbKPWBBCPiv0PbCaPyuqfqGq8d4TErQ5EQnWFH1+dN/iFnB92WMf4us6uWYKrutCfIx6PEUpYrHySaCl6vPAaei8SbAmci4kCBo7FwAAADAiEiCIpTrt7i4zzk0aePDBHLV/Nq2LBQ94+T1+X+dpSbR3SU4KkQSKTNBGgjVV+6WZdM8YBi2S4Er3TPdITaeHbmxkjKA0+FJ9LuSYYtuT/YT1xOs2NMYOtJpswGbBAjdjGgE2ODHYhEDDJu1yL6TB6H41tUEM6d2wy71rV3OjWYI50gOi/3uVBqymMfh0H97W1khjVl8vk25Tgy/S6Egai7zcpwa47UmjQA69gxtZun19c7zpGmBim2v4+4bS2jS95QnXOPGpNlpO5oM8JdWbkiANocyv0vxYyiZ1EQ2SmDSNbn64NSw7T0nd8XE/4RpKUnf8dOa1T7meUtEAh2l85ZYjouj8yTa1se9T7Hjiwy3P9CYLdWiD1Zz7MvKu33oVHnsgafSb91by/ggCoPv4WHV7/lzpe53ff2XOeyEJttjrTqaiYE8D528fr+/f++Z4n+dtSeDXpxhxueU9HXvPJAHiWF1xHfTyMQhb91pXEpxJ6iqg5an1/qxnjJyanx8m+C3HrvTzesst+de1x3Wpn79+0gAJH3PRNavli77/I4rOW961O6Sfk+5c2n1se7a+9yQAAMAUcnDjfNPTIp3KjDlzcsCts/m0SwM6QfeukgXT6aFvSoDkFN38SD89vFmWMbeepPKc6bvC9R65SPe+6FKIBk7T+mTZTLon0itmxc4Tbr1XabFbZkW3ufd8soS2X5EGLoauoSeTYI1JY9J1aAadbOj7ggRGsvVXPDhzJz2j9ZtXd0kKmtYH0fq9sk78uOnIXB98SdcLtvfVSCBm1Vna445/z86L6bL9s+gVfF+a8LIBm65PVxoFSbd0njK/fjcDNzTki7c2QJUEGWr1HnjeNaakcefH/OBGhU+pijRme0wjSnvLKN8gsA0XLocGhZKGEG9f04mSxzwlgQpeltSVC074hpL7FV0a7XKc0uhJ0gTMdseLBKFivXt28Xn3uE60nDbwo9eBBqiSRpYcozSs+LzJOkWD7PpePFxvW2s0bK1S54+3ebsJAGWCghNY0bE3wp7nrrC3R8nz3kyNnD8JpPiqMEGLZrC9U+w1aj8XbXBEZMpTD34fZtLd3KTvzzKfHzdp8ELPDZdNz5f08muUD2Dl4TLqz1WZa4pfk3c+GjlvNmCafD4/yst4H8nnTtAjCQAAAEZsXqdr6LtUp5U7ZyYBmiRgsHEgfS6qnV55Jg1YrNh50oyJM0C3avBg++VBb5fz9Pm1p9x8XCWA9E5lm0tfdQEMN/aOH4vnVVqsKUJVPV1G2dBl9Hoyc5Hu/YLWUxrcql131Y694Mq/+bQZ14a39yUXiIoEYtZ/qTKeTtvyc7TCzcPEF6REceOg1/ySK3bpL9ZsAT/fLNprRCb98q69WqJMIyH8pdp/sQ/xFV70pX5w0M3UoI1laRhpKo2kPySBHG5MvMRl0143WjY7Lk4S4BlDtoeEThogqzWwqW9E12IanLHUjVxcT7GeUFE1zp8va0EvmZoK0p1sQKHh7TdqFPZZ9P4tfd6LmN4WfipoWDdy/hbX0UulXrnl4XqL/vxRp3p61pX5/PCBJNdLyn82lQ0i8TWmPVdsAD0MSlXh49DgUdn/Exo6bwtNjymhgRuZ8tIuAQAAoNJzpTL5XhcFZDBd33tGaOCGp9itwitm0inXI+TqBdkgTNuCC26uXu100n21WdGpPWZizNgtN86mg27pyMQGHS4YnPnkDLffCzRvxN/fC4573oWcQMxFap/nZmHSiYxhI0Eb0+C6wS1uRgPSN0KCNIlNJkiUm3ZlGk1hw6fRxqZPAYs1NHnStB2fFsUNo14X5JGxXvT1B/a4RhXXUTJuBDd4tLeJT60wxzge/JgX3OgJAxS20WWDXz6FwU7ul/e9fMzaaNP1ilIipI618VUYmKuDL2tB0CWP72HiAm4xPu0jbMAHddiUYMc4K3vem2kk52805JbHBItDNQMR/N7SHnqZNB77ORv2KCr7+WG2LUEW7YEon031kgC6Bs5r3hmNj7nm53WT+J58YR3wsRaWEQAAABqxeKMJUvjUIkmzmlswHsx5ak/SdYheH8wGds4MznBzgVUXqDjGcIrmua80Bwfye8yc6ZtXnT5kyj0mfCCl0RQsq+C4fWAIppJswEZTW2TSBrU2WqMDatbJNpKfML/i2rFpin6xvUobPnYsCf7S7sedqLOMvoFmv/xzucI6sA0jGYtBAzN6PMkypvu3DXhNa/HpFuPED7Jbi2mM2dush3d/0R5F9td8bTDGPMUNfml86S/5zbiFuz9/wfW0Q9Oviiw0vY64pRoOYmoHVM6kjDm+oWquvwmt5HlvphGdv1Fgy2N7gdnPp0ZSjWywdFlkTB9/Fymnns8P3/uP6yy5XtemaVSNsIHzwp54vH0Nnusd1IQE5PU90wxVAX7er+0BWu9YYAAAAFDA9FTR8WYk/ajUeDAmyLBxnhnrxY7t8m7dHZYrKVpuvBrh74yU3lXJp02tOku3uq/2PqVorHS8R1cnMzrWT8rfuarOwX9talrmDl1fd8e16hxdN9J2OUwY2YCN70nCdAwb/QJux9Oowo2t5Is1T4W/eppGsjQw9DX212Rt/CvpjSHrSIOxe111+fzYDrzdesZGERJA0F+V/bgdrrEYliUzhoj2uODj0dcL/WU7Vo91pQ0F8m6rm8eOQaJTUR1ncKPIjwnk6l6m5DrgOtaxRnT8jKp1atDGq7xuxL+Q51xPx9yyWsJeBfp6eywyXpI2gO159XXMf4sCcfb6HUvJdRcJDuQqed6baoTnr5AER2R79aTOcHm0l5itA33vZMbOqgdv16f2aLnM5McJ4+OWQHA9nx/2M0zk3YmqFN73VlPOJwquWX8HNa4bPY41g5Vyj4Reux2a8mXrTN9vo3VNAgAATFVmjBSTCuXHg7HjyCi3nqRLLd6oA+rKHYvca/1trM/Tw3WO4yLa1r5TvU1Ne3IBmsWfcWVO7kaVrlN9x6jRZsfqqdSdlsOOL6PS23rHBzJuW3vSDTCs68mkd4G6SPd+pXp7MHnVHsNGvhjLOAcNNVQipJEcS52RxpC9y4oNznhSPi6LNvJUkjZQMFZGEXtHHyXbC+/44n99Z7ZRpIELbWwlpJxBmoOMK+PvcFK2t0uThXWcJ3O3HSXXgaljWSdTb3xsPmWBG1h5aUa2UWx/nW+UXE+2HMm50x4NJcj5rzpWIcfLz2XuZhU5rzbVy4pev6PN1G0jypz3Zhvp+QvZXlyNCO8gpSRNrOydzWI0tSdaNnet+c+wOj8//GcQG8lgw8LWnwTR8lIXZb3MtSLHwOVveKyf2LXrPu9tQCrh9jVa1yQAAMBUJT1qXjxbPU6K3PnIBFwqwRlrgO4YMHeQUsldk3LuhlRTwTYfcUELLnN2fB4Zf6ZyR6WDh4rG3mkeGf+nuu7Su1tVBg7m4ymVrpUOWFw17lByJ6iCsXRgUpp26UTvJTcPMMFIzy7TI0qDUZJKkfSKQMOuteH8NYX0wJNeOrFA82jxKYP2HJnzKQGmRlOzAAAAoNC0+T10YOBl9wgAJquVndcjYAMTnB1rJjSWDVhoDM5f48K6G8sgiQ+qxSDQBgAAMJoQsAGYGiRgE7lLFMAEIilNVSkTDI39iQHnrznsWEtjQVLHoul3CNYAAAAAADQLetgAAAAAAABMEOhhAzA1oIcNAAAAAAAAAEALQsAGAAAAAAAAAKDFTBs8/DWkRAEAAAAAAEwAC5Z9mb7x0rfcIwCYrL54w+cwhg0AAAAAAMBEgTFsAKYGjGEDAAAAAAAAANCCELABAAAAAAAAAGgxCNgAAAAAAAAAALQYBGwAAAAAAAAAAFoMAjYAAAAAAAAAAC0GARsAAAAAAAAAgBZTHLDZ+yjR/B6iHW+4BUb/0+lzOsXWGRHent2+THuH3XOWrMflHHIPSzPb73eLRpXZX3gcWs+x53a45T2H3IJRMMTbTvbfSD0CAAAAAMD46qTHO7toJU8P9LW7ZRVn+pYkz628+xo6IwuGrqEHkvWX0HMNfP9Ptrez0z1qhkr5Hz/iFjVNuW37OsqbXN1V1WVd2um5u205RvO4YTLID9hIQGZDzlUjz63pcw+cbQ82L2iTBBB4e6ENW7L7yFuvJV1JtNrNvvm2mxHDRAdMPR94zc0IPtZtbnblIjcDAAAAAAAwPo7t7KJ1G6e7R1CeBGfm00P73UOAEuIBG+nVEQZkvGGiXvfclvuITvQSPbU2fbzt2eb00HhJu7zwdmX7Mu1ami5q1j7G3Byile4YjpmAzdBrRPvcvNhnnzPzC/j1AAAAAAAAI9VxnO4f6KcDA0fp5g63bFwN0B1JefrpDtdkGj/n6WFXlsz0yHFq42fb1h7NPB6ZVjpuaEVBwGaYqKfH9ergK0Z7hFg+wMDP374wWURdn3brHmlOMOVN1+Nk9ZXpX9F9i5tx+5BePsseSxfJsmVB2pBP8zFT2dQnm6IkUyZNKUil0pSlZKqRUrRgQfp3H79Q19Pg1BYX9KK+Sjl9wIaf63KzIrNPnsJ0KX1eeiP5dU3ZMq/neowyx6nTaKZlAQAAAADA2MhJiYqlBVVSddJ0nnu2u4fb5wbPp71vMq8P0oZsOtExs6/Hj+SlBqX71PWSKZKKVbXfzmvpmHuu2XJToo5cG5TB1G1S33Npt3u4u1vLmJ8SVX0ugmPKnMOwnkbv+GFsxXvY7NpGdGKde1CnwWAMlkbc5IIX+x5LAwVJwGRhpbeNDV7ESMDFB3OMNbqtAhLMCFPBwlQsJdvTlKUEv25ZXgCEdWgAitfTN68Gp676NBHvJqF1+LzryeQDVy6IktknS+opsl9JU9N1V3OlSfRcji/zet5HVV3JfiKpZrKfpo9VBAAAAAAA400CBLFUp93dZca5SQMPPpij9s+mdbHgAS+/x+/rPC2J9i7JSSGSQJEJ2kiwpmq/NJPuGcOgRRJc6Z7pHqnp9NCNjYwRlAZfqs+FHFNse7KfsJ543YbG2IFWEwRs5hD19hJ1F6Tf+F4fC9IAQCgzPkuDum6rBC+EBEzCHh6yzuE73QN+hx/mcvcu5/k3KgEXTdmyKVUb9lSCJSHptZMEM0wq1gnehoimYpn1NC3M9pAJdSyq9FpKgjJc1mR/XLYbuM6vcmVMxrHh5/UTRsev2ctlSLjjteWT/caCKU+59aRupNeRBmuSoJw8x3/DnlT+HJv9NDvtDQAAAAAAmu7gxvmmp0U6lRlz5uSAW2fzaZcGdILuXSULptND35QAySm6+ZF+enizLGNuPUnlOdN3hes9cpHufdGlEA2cpvXJspl0T6RXzIqdJ9x6r9Jit8yKbnPv+WQJbb8iDVwMXUNPJsEak8ak69AMOtlQu0UCI9n6Kx6cuZOe0frNq7skBU3rg2j9Xlknftx0ZK4PvqTrBdv7aiQQs+os7XHHv2fnxXTZ/ln0CtptE17+oMPjbVOvCcg4SU+SGmlH/Tpo71rehkvZEjal6qWcXjaDg26mLw0QJZP2NIm8bten3QzrKjMo8Bzy70oJymhZtffLDa7rUDKODU86tk0yfg3vWwcn3rXOBMv4GP34PnrszmquP9sbyY4N5INy/HdrUM+2J5Ckmkmdd9zmAjx3mX0DAAAAAMBkMK/TNfRdqtPKnTOTAE0SMNg4kD4X1U6vPJMGLFbsPGnGxBmgWzV4sP3yoLfLefr82lNuPq4SQHqnss2lr7oAhht7x4/F8yot1hShqp4uo2zoMno9mblI935B6ykNbtWuu2rHXnDl33zajGvD2/uSC0RFAjHrv1QZT6dt+Tla4eZh4qs/YOMb84PxwMlVZtyZkepY7oIEpoeHBBGeKEjL0aCLHf8mwY9jY/JYmp5UViMDAft0r7crKU/ag8b3wJHeMibwlARdwgCOoWPjlFVVN6GFQbBMAzcyFaR8AQAAAADAuKr0XKlMvtdFARlM1/eeERq44Sl2q/CKmXTK9Qi5ekE2CNO24IKbq1c7nXTNoRWd2mMmxozdcuNsOuiWjkxs0OGCwZlPznD7vUDzRvzDdsFxz7uQE4i5SO3z3CxMOk3qYVMQTKjbGy4wwJMdb0ZSoLQnib3LUsgP7BuuY8qYR1OSpGeKBorsVJQqVpYPePVV0pN8nfFf7YGzzQVzfHDFBJzCcYJ8z6DA4iAwk1s3ETZYlkmb4nLVGgcIAAAAAAAmnMUbTZDCpxZJmtXcgvFgzlN7kq5D9PpgNrBzZnCGmwusukDFMYZTNM/9pn1wIL/HzJm+edXpQ6bcY8IHUhpNwbIKjtsHhmAqaaCHjfYCMT1dfBrSUn7ezTZsYWX8mg3fczOC96Vj04SBCMsGROyYLnb8FxkvJsYHNB6rjEPj7zZVIxWrLF8+pT1oHO2Bo/yxmmBOZhweUy9b3Ls7j60bH3Thv1uDQYdlLJ/MMfO+e03QphnjFAEAAAAAQIswPVV0vBlJPyo1HowJMmycZ8Z6sWO7vBsfr6VAJUXLjVcj/J2R0rsq+bSpVWfpVv1tX1OKxkrHe3R1MqNj/aT8navqHPzXpqZl7tD1dXdcq87RdSNuc8NE0UAPG26897iggtyFSBr2a1xvkC23FARshvl1rudMrTsN3a7pOLzdJHAgk44lw+9EvZ24x1dykrLzNO9/uRnTxZVPJg1qZMZ/CfjbkzO5A5S8Tu+gVHhs9TABKREGWcKxcG4yx7pJBxjW45VJ64XPiR2zJ0bqxgfDeCZ5Pf8Nex7Z27T7/eh6sfoHAAAAAICJy4yRYlKh/HgwdhwZ5daTdKnFG3VAXbljkXutv431eXq4znFcRNvad6q3qWlPLkCz+DOuzMndqNJ1qu8YNdrsWD2VutNy2PFlVHpb7/hAxm1rT7oBhnU9mfQuUBfp3q9Ubw8mr8ZSoiQ9yY8p48gdmWoFDMpK0nE0OGHxPu2gtzY4Y3XzOuGAxXrHo8K0JulJwuvYgIpo5rEJTb0SNiCTuNKkH/F6mQ9GXldSlGLlO8HnpAwZzDnzeq7TqrrKqYekDjHoMAAAAADApCM9al48Wz1Oitz5yARcKsEZa4DuGDB3kFLJXZNy7oZUU8E2H3FBCy5zdnweGX+mckelg4eKxt5pHhn/p7ru0rtbVQYO5uMpla6VDlhcNe5QcieogrF0YFKadulE7yU3DwAAAAAAAC1s2vweOjDwsnsEAJPVys7rmzXoMAAAAAAAAAAANAsCNgAAAAAAAAAALQYBGwAAAAAAAACAFoOADQAAAAAAAABAi0HABgAAAAAAAACgxUwbPPw13CUKAAAAAABgAliw7Mv0jZe+5R4BwGT1xRs+h9t6AwAAAAAATBS4rTfA1IDbegMAAAAAAAAAtCAEbAAAAAAAAAAAWgwCNgAAAAAAAAAALQYBGwAAAAAAAACAFoOADQAAAAAAAABAi0HABgAAAAAAAACgxRQHbPY+SjS/h2jHG25BoP/p9PmeQ27BCOn2ak07XLmatd8iO4J9y7R32D3paD3VKs8QP59sg9cfcst0+3l17PHzuv9+t2gs+HNiyjxSvh7sxPvJGKfjtcqe15rMsUSn8Nibja/XHt7PWNVjmfdMWSN6zzQqrK8WuBYBAAAARuDYzi5a2ZmdHuhrd8+mzvQtSZ+7+xo645bFxNbz29/Z6ZbkGLqGHkj2v4Sea1bbokH+OHKmsH6ar5Meb4F6gNaWH7CRhvqGI+5BhDSk1vS5B5OQNhS3ucfWhi383Gg3sicpaWwve8w9sPhakvputGE/ocmxj9b1JMEGvl73uYejaVK8Z8awvgAAAABGmwuQ3LPdPTYObpxPKzuvpWPuMWRJ/Yxa0CY5L3Npt3sIkCcesJFGdVEwRnoeRBvdI9R1G9GJ3srE7abElvuyy69yy0fNMNFWPb612X3vWuqWc/3U+wt/x3K3nbt43i1rdR1XupkFIy+zBAG1Mb+LZ3y98vlVG/bwB5ibH2/dfJ6kfL183prlKT1mNx2+0z3B19OEDlaN0numJSysHEuXWwQAAADQ8trpua/OpoPJ/Hl6eKCfDrhpz86LyVKimXRPrV4xgba1R9PtPHKc2tyyCW3VWdpj6kamhzenTx3cOBcBLRhXQcDGpQIkjWpuZK1OFmZJMCfpeZPz/Jgz6QoyVTUI3TH5dUqk9vR/z/3Czsd4+LZkkSeNeAkkSRBpEzfkqhSUJ5bekUfTcYrWt6khOm/XzWyDp0xAwJRT0jz862Uy29CAzWoN3IjgGGWqmTbE++51QUCpu+456XyC6zEJXEh91wpmRfYdnnNfzwXriMwxyxTUc15KVFXqXvC6enQsqryP3nzbzYjIcUYDOuF6phdLUg8PugdsjT5vXtNv5lf/724+7Alj3kN5QaVG3zPhNTqSXjjheYmd86J6LVVf6VNerfJn3vOmHmPrAgAAADTTkbn00H6ZuUj3vvgqLU4WpiTokgQlNp+mAxsH0oUZkq5jUoRMUKds6pTIpmLFevNU9vP4EbNPv+12eu5ufb1MQQpRJsUqXLfx3kOLP3Pezc2gk9H9VabHY0kpR67NrJNJFZPnbtRA2nR66EZ+Xo7XHssRs5917m9Vfdu6c4tg0on3sEl6P6xzDyKSHi/cCLPv+nHBrSfbwBLb+LFvVEpDi1uKmfQGvpqXcWOpaCyK511gYXVXPHiwqTcnWFOrPCVJIzCTjiZlDrZryT6054qW2QfWDElLiTVipWGqr0/I/rQx6XoX+F4mUqeRsux7LKeB7Ay9VjkPN0XqLul9VCZYE9m3HL/uWxrIsd5f4XmQ+skcs7DHnUPOTVXvM3mdNMjdw3r4QAe7ygXFksBD5DjD8xcGGBJctnoCSGvM6/8njRzxNuz7w5+7pUQ32ECbUfd7xgUvqtIu6yy/ip0XOec22BatLyb1Wu97tO7yyzUSfhbxuiMeHwkAAAAg7tgLM9OZVefousj3s8Ub+3OCNbNoV5ius31u3elBEqzJpmLNpHt8oKLa7u7KPlfcOkxtSUBivgs6qTTAUR2gkOXhury/EkGlau303Ndd3dEFmufqLglURcq/uzs73k2yXre+3uH6KxPgSvGxdFf2s/5/PEsrZGb/LHrFfsc8crmrr/O0hL+mw+QUBGy4MdbLDatM74dAbrBiHOzjd6pPreG/2t48wA1MscM1zmxK1VNr02W9JRpKi22vkhJqlacUbpBrI9CWm9t6hTTVRgIrPvXIpqbwtsS2ZyONSbOe1k/YaFdD2gtEelIEr4luO8SvKwzKFNjL2xexejnmyuXLZ45JU3I2fC/9K41tDbf78+XqR447t/EeOzd6nnn5EyaYkifptWEmH2Tg8ibvO9639kRafafbB0++jvmaTs4Lr6cpSDa9LDlWV5YkCKbHxZJrJOj9Yuup+7cq9fm8OZaX3IWw5Zba567se8YGqnyamKnLrXUEMiQQk5wXc03qtiSQqNfxE5GULXttlKovp5Hy2/Op+93Hhas3OAUAAABQj0Xv1Ze6tH860c4TLj3oBN27Kl188Jk55YMfQ9fQky5YsyKyrbhK2tb9a0/RsZ0ugCO9gNzyA3vTni+7vx4JfpjUJp/yFQY5YvbPpnXamyWZKoGfFTtPuz4KnfTMRq4XYcqj+zm4cV7a84ePe1eynvRqcmXW4+b9PJN8ZX2VDrzogjC6XpheZo7ljt8bphVJvU2ng4cqgSENyFXKCJNR/qDDE4I2cgX/XekaQQnTKJdGbthAHpWGUlF5SurX4A6/9nYTGNtkGpIhaQjasTUGB90MH6sPDmjPAv6UeCkISOz6tJthXYvcTA4/pg1vR3oqSW+CDh17qFYPmRHSMWUkYKipKNxGzvDl02N/uvI63/jmc6OfaslguLzeXn6dNqbzApY2WOXPDa8rQU4tVyOS4I8rm+3NslV7NbEuPkcaAEyCKVwWDRjoMcikAaVtJYOE9tyLmzQwpK83QapYz6hGaY8cOXZ/7XJd9rj91/P+9OdFr0mZuE60fpL6Mp8H9pirro2SGil/jzmfN9g3LAAAAEArOU+fX3vKzZ+i627V8W7KO3Nolh87x27r5q9ooKJaNvDQTif166j0TtFgivZciQRi1n+pEvRoW34udz/lpIEUCRwlTG+Wh02vpLa179D6ZM4FU07OyKY6BQGg3S+UGy/IHos9Bz5o5gNiF2nFcq1fmIwmdsAmM65KyDRoG6W9NsoqLE+9RjDI75uugV3WgpwARRQ32v1AucI2kmukEyV4/UYDZX48EJ40iBCSXhK+l5AwQSubfrJJe0M4NuihPTJCPjAwgnPje2OYyQZ6cvfB58iGzv16TeYDQ1xvUg8aQAyDgnlKvWdM8ETTwJQPuNXBByiLcLn086Cu6z2mkfIvbfyaAQAAABiJ1y6rLy1o1QWa52ZHrOFtzaRTmfSmWi5Se6OFjgw6fGDgKN1svrudGZyRzlQdz3lqN72G/HpN5gNDLlDlA2Kb38mUEyafCd7Dpgg3nLRBblNG/FTQG0R7GeT9yi/jn4zW2BO+wceN0LKBjTAN5SrXs8emYNipKOWtDH+3K5ls4IMb+XnpRHZwXZtuozQYkxcssSlANqVli1tkZe42Znom2fQY2zNGJn8nI5aXLtfIualX7j5MkEDYwEAsCFS2x0hV8IIfa88wOU/ak2RljZ5Xdb1neB8afMoMtMwaCUQtWOBmzHVhpyQgxvWl199gzjVaWpPLDwAAADAK/MC5OWlByYDADY3xUlvbggvpzP4ZdDKdq+nqBbanSCUQUkmpyg+ojLb848kGlvx60hOnqsw8RccMCsWCTwO0JLlzlfTk6aRXnknTs9Z/psz2YCKbxAEb06jyY5cwTaUpCrj4XgbSeyToNSKvlzScWoPsNso3xHnfT5jt63g8ZWgD1gYofO+U2ICodfB34tHtcD33mqBN2ID1eD1NFwkHAJa0Gx0oeE1e+Xi72kPCp7Tw6+RcWHp+fW8fbqzboE3SWOfXJevwpOWQ1Bg/rkjOMeSeG7etZgTx7D7sOCh2zJQkNckEIGyAScsykmtT03XkPCX1y+etVpCv3veMBhX9mDyCz4Ufv4fLUPY/YV9nNmBoznGy/ZzPg6rruaRmlh8AAABgNCw97caMkfSc7B2TZGDcZEBgGb+lztt6lzLvgktJmklP+gF57W3GazlF89zvhfbW2vXcoaqpzPHY26Cf6bvCpUq51KTocTfnbk4agJP6SFKsVp2lW81vzjA5jVHAhhsyejvb0Qhy5LldU3e4EaWNN02lseNJVOHG3dbIa+3rpRE7KoMv8zY1cGDH3gkDE0XseCc6yK0GRMoMHFsk0zB32/bjhXC57bg7Ien5oj1ibAqSvXPPrnU55ePtVr3WvE518/El7HnT9TTwYOo4Nv5LOK6LV+PcFF5TZfE+NKVLAhy6Dx17yY+ZYgJgdr2kLDnnIbkWSgQmpAcVV4u3pUbvmkSd75luPs/hNWqvIzt+Ty22vOG1YVO5Yp8Hvl4j74ui+mpm+QEAAABGhR0zZibd44IGMq3TAXSDMVmapuM4fT7pESIBhvluv+FdnIot/kJ12bXc2TFexgAfzwYdyNiMqaPlWbHzZNrjJ3rcbvDkaIBFx7opcQtyH4BLpXfSgsluEvewYeFdX5SkkGgjLo+m/diGq7KDxI4G29sjwfOHI8eRixvPku4Tll3KPeIgU862kzIWpJmpTfzazBg4Sl7PzxX15AjHnZHj0W35VBw+vkyallqbPWdSx5mxbhxJnysqg7yuqvyu7LWuqbKSlK6c69aeP1kvWhZ7Hnj92HHWoilOouxgw3W9Z9x1lLnOWZLGV+I6Csl1FduWvx09S8oXuTbknPt6LVtfTS4/AAAAwGjoOE73D/TTwy6IkJHc7ejVzDCJzSS3Dc/u9zw97O+OVEJS9tNuUN+K9Xv76Y7gK9hYaFt71NzdSQWDEzM5bn+XKiXj5Ng7QdkAUGl2AGgMNjxVTLt0oveSmwcASEkak/SMCYMeAAAAADCups3voQMDL7tHMJXIuENJKpsE20ajZxS0lJWd10/yHjYAUB8dA0fTmGoNNgwAAAAAAKOonZ67O03BSoI1DIMNTx0I2ABAnKQxjfSOYgAAAAAA0DRy16zxSAmD8YGUKAAAAAAAgAkCKVEAUwNSogAAAAAAAAAAWhACNgAAAAAAAAAALWba4OGvISUKAAAAAABgAliw7Mv0jZe+5R4BwGT1xRs+hzFsAAAAAAAAJgqMYQMwNWAMGwAAAAAAAACAFoSADQAAAAAAAABAi0HABgAAAAAAAACgxSBgAwAAAAAAAADQYhCwAQAAAAAAAABoMQjYAAAAAAAAAAC0mOKAzd5Hieb3EO14wy0w9Dk/Pe2eGKGq7QZTzyG3orPDLY+Vsawy22jGfppJy2OnvcPuSQAAAAAAmDKGrqEHOrtopU47O90TFcd2muc7l9BzQ+6Jpuqkx0dt201w5FpTB266+xo6456uxddhpH4BRkN+wKb/aaINR9yDgAQLqp7ro6YFbYrse2xs9tOqhg6lwZlt7rG1YcvUrhsAAAAAACDafjkdc7OpTjq63c2OliRoNJd2u4etpZ2eu7uLVnbPdI+N/bNpXWcXPZ7T9AUYT/GAjQRk1vS5B6E3KsGCXTxzopen+9wCfk3Tenmsdds201O8LMH76Xezm9xzmxa6BaNkrPZTiOt262NuPqifXUvdcq6bVukFBAAAAAAA42AmHbUBiCOXt2ggZWyc6ZtHD+1P59fv7acDA2568SytSBfT7u5rgyBXtcUb3es2DrglAKMrCNgME/Vo742lRKuThVn9r7kZfv6GOW7+ysq6b77tZkZB1yI3wwZdYChMVdIeKPMf5bLqfOx5N5UNMBXtZ8jVm99umV4uvB2/vptqBVr6v0e0T2a47g/flizyuu8i2sJ/t9wXBJVK7semWEnaWeb43DpCel7pejLVKjMAAAAAAIyZFasuJn9fH2xP/opjL6Q9S/S5xM8qaVRh75IzfUuCdCFJdXLpQDrZVCJJNbpxNh1MHkynh27MPu+356YH+ipls9t+/IjZT/dSt34YSHG9Zfi57HbydNIzG6cncyt2nqA79Hdu0XGc7t97nmfO08MDr9JiWebTy5bQc0dMqtnOzkhKlC17pVx2neyxVweFiusGprp4D5uk58w69yDQdZvr1XEXX+BuGb3tAgnsqivdzCiIBovy8KfOGu2Nwm5amAYhlpllQtKIYulFpfF+lvE29PgTfdVj7WRIEOVBN29s42VFAZDnXa+n1V2m7g3pBVQVrCmxHwnW2DqQtLOwnoSMLxT2vJJtFR4rAAAAAACMlatvPZf0Gjn4zBwXMGmnk0kz6iKtuPVCsiTxkeP0+c3p7O4X7Jgs7fTKMy7AceswtSVBiUiqk6QSlRjLRYIc61zARB3cOD86Dszu7sp+Vvyjv6T1yVzQW2hoDh1Mesvw8Sw/lSwq5HsX5ay/9FU6oMGajOn0ULcGoYjWf6a4V83u7vm+F09i+1x64O4lwbHPpHvMcddTNzA1BQGbOUS93OjvrhUMCezQoMDa+l+bqy/bk0MmDRY8ZYNFBVbfWUkZ6uLHT0TSiXya1QjY/Whq0r7+bM8Ua++z6V/pDaOvk94x4liJHkqLSwbFyuxHglgarPEpbvw37F0l6yXjFknvHrctXU8CPJqiBgAAAAAA42fBMK1YxX/3z6JXpD2iAY5V5+i6BbJCxeLPSO8SZse88QGR8/T5taf48WX0evLERbr3RZcSlPRKYduvSAcYlqCHTy9y6z1ynNqOXEv3JGPnSA8W99qB02kgRl+bUVnv/rWv0ZJIQOnMoVlpEGXzO3RzmTahd4Hm1bU+W3WW9rjyZHrmxPh1T9C9Uv9M6lHr7GF3LL6u664bmIryBx0uy/bOeCpI0xkta0oOrNuz3M2IN0xg4tNuhkmPIQ1iNMru5waJDNUg6UsS8JDeMHpXLC1bM5XZz5AGiGywjf9uvdPNO3496VHkAmjzTc+i5wt6BgEAAAAAwBg5RdfdKqlP0+ngoXYf4Eh7ywSWvlvVi+XYN12vks3vpr1OOt6jq+WvpjpJqtA86ZUiAYajhUGTM4Mz3NxMusen/WgvmrR81oqdpzM9XaoDSpX0plo9Xpph/ZeOV9dZjkr9nqJ5OpKHBMlc/fhjceqtG5iaRhCwsePdMOmdUSJWUV4wqG4ymcGNRzJ2yoJm9QISS8v19rH8+DA85d2Jq0iZXjiizH4GB9O/q2v02tH1AAAAAACgpbUtSFOfDj4zl55x6U1XL4ilDw3QrTvTcW3SXix6N6mLdO8XNCAyQHeYwXkrgRuZigfqPTmQTfep29LTrreKCyhpetOqs3RrrR4vVWbQyVHstRKt30Xv5QZ8Rlw3MCU0GLCRYI3pXfFUbxNToYosrKQc1QxahIEUMzCyDlg8LnjfsTs9lenlc5NL38pLt5LeTn48mZL7WeD6Re6rUZ+6XjSQxtO43j0LAAAAAAA87TmzfybtdulNS3ICHG3L0zFvkl4sPiBS6RmSkMF5fdpOJeVHAilPFgySO6/TDXJsUovsdL+kXBnVQQ/tLZQGlPzgybHeQnl8L6KcXisyYLL0GqpqX12k9nludhTUWzcwNTUWsNkRBGua2rOmyDDRgQZ6pCTmkO9ft+F7bobJXY9GIx0p19uVuvOpWSZdq0gXr58EnbgOlgVpYZLyJNuQ8WSS3kcl99OhPWv6eBsayLLBHie6Hm9Pe/BgDBsAAAAAgBYx4Md/SWh6U0yHG/NGUnO604BIJhUoCWhIbxoNapyimx8x47QMpK+J0Z4+MkDxM9qMs3dhKtHjpRJQmuvHfEnG1imt0otIBvTN3BFLypIcs/Qaqn1b72ZqRt3A5Fd/wMYOUivWuAa7TrmpStzI11tfl0pnigw6bMdMyYxPU9LtOi6L2XZ416NRt7DSy0XuUJWUI3Inpyg7tkxQPz7laa3r7VJyPx1cj1XryYIgBB9dz21PBl0es6AdAAAAAADUYsdMKR7v5RTd/CU7vkrQG8enJdlUKL0jkk2dUrretXTMv1buouReq7f/LjtocEflblYJG3yqCibFta09WV0OWxa2fm/sTlGjqBl1A5Ne/QGbl8a7KwV/eshdihoJEEjQ4XAwmK6MvaOBiLGyifdp78Ikd3HSchXdXUrIMUgKUqzMyd2gzMDPZfcjtwO325P1tkYqWNbTlDQlwZreBoJnAAAAAAAweuZd8Hdtqpna49OGWFVvHOlRY+5y5MndoMygwx3HaYPryVKR89rNp+nAxvKDBpcPPuVJy+HvbpWR3qWp5l2gmq45dQOT27RLJ3ovuXmYiqTH1DKX/iSBGh2LRlKskl47MmbNGN39CwAAAAAACk2b30MHBl52j5pEUnGS3h1BEKZFnOlbQuvk7lAy3ovcLtwtTyRln0UrWrDcACOxsvP6kdwlCiaFjkWVXjjbHnSpTibFaovekw4AAAAAACYVTSnSVJxwsOFxdmxnmiqUBGtYbLDh5DbkLVZugGZBwGbKm0PUG6ROKdvjBgAAAAAAJrHz9HDYe6WVbD5dfeekoWvoye0tXm6AEUBKFAAAAAAAwAQxKilRANBykBIFAAAAAAAAANCCELABAAAAAAAAAGgx0wYPfw0pUQAAAAAAABPAgmVfpm+89C33CAAmqy/e8DmMYQMAAAAAADBRYAwbgKkBY9gAAAAAAAAAALQgBGwAAAAAAAAAAFoMAjYAAAAAAAAAAC0GARsAAAAAAAAAgBaDgA0AAAAAAAAAQItBwAYAAAAAAAAAoMUUB2z2Pko0v4doxxtugaHP6RRbpxE7zDZjU79bb9zwcTajLP1Pu+1wPQ65ZYlhoh63/arnzL738npaV82q+0Jm37YM9dLrpueQW1Cg5vHZuuL6DPlrNPJc09mymGncr9cWkvnMCK/t0dCk92ot8l4ucz0ncq6TMXkPt4oxOi8AAABTSic93tlFK3l6oK/dLas407ckeW7l3dfQGVkwdA09kKy/hJ5r4DtZsr2dne5RM1TK//gRt6hpym3b11He5Oquqi7r0k7P3W3LMZrHDZNBfsBGGiEbcq4aaXiFz217cGwaHWsmyZf8jivdDNej/ZAceo1on5uX514yQZF+fi6xlOiGOW5+DAxxY3Q+n9/Qhi0t1NDsG7+yJME3rgt/3gy5Xks35iczvo4P2M8Mnn9iEgQp5LNwDV97ZSTvo5zrRD4/xySIBQAAADAyx3Z20bqN090jKE+CM/Ppof3uIUAJ8YCN9GzIbYRwI0uDNbu2EZ3oJXpqbfp4mwYUmmDLfem2/cT7Wu2e650EDeCORZXjGTRBmZeCaNSbb7sZNjjoZhbw693sWPBl4vOs52PX0nTRtmfra2R235W+vne5W9BE0ugd82Aevx/0vbL6zkr9yMRt88S+x7hhb87xVOQDkXzd7BqFz4uohZVz0eUWjRu+TpbxdZAw7yOZDvN1k+DP1WVj0RtsvLXSeQEAAJiiOo7T/QP9dGDgKN08lu2KXAN0R1KefrrDNTPGz3l62JUlMz1ynNr42ba1RzOPR6aVjhtaURCwcd31t8k8XzEaUMgwX7a7XS8PDSSs1l4jo4H3tdJdxftMEMN2r0+mnAZPJh0jsl7y67csl1+5g22W6rnh6s6/rtav5Xw8i93sAW24ml4IWyKN2jf1uUXpX8uX302xAEGYbla254fu157f7lvcDD+X6SEUlEMmWxY9D+G+y5S/jFLBvPCaie3PrFMUBNr7rJvh8xUGoTa5IKMENvW9ompdj3n1FC63122/qUO9Zmudj0RQH/J8rf3bdcvQoN9qbqF36/Xbl1O3dZSnKoXS1mPkHNr6GuLtZt6zeZ8JZrKfBbJvDV5LUE6ez6sPe52cuM3NOx183figDdeJbsOmBGbqXcqerpKwdeNTLd1k69euZ7en64SvjX3uVdV3UBZRq96K3luZ45Qp75zIfmucPwAAAMiXkxIVSwuqpOqk6Tz3bHcPt88Nnk9732ReH6QN2XSiY2Zfjx/JSw1K96nrJVMkFatqv53X0jH3XLPlpkQduTYog6nbpL7n0m73cHe3ljE/Jar6XATHlDmHYT2N3vHD2Ir3sEl6zqxzD4q4L95Jo2Up0dZR6DXh8b60caSBg+TLe5iqww2eTCPCfakPU7iq1lO83rJgm9JzI2woZkg9hKkOsh3eb7RB6lwVBqD4r/ZCuF0btYOujLyPJJDGrgoCY8e4Meh/vXckXcnv250nfb1KGpklGjk3ueBRplEa+ZVczkdYDiFlKWrYx14nrwnLW2S11iVvp2hfSaM0vGZYQ+ldvB8fYIsE0SQo12sCm4l6r8eyeHtrTB3exOen1PmQayOoD3m+qnzMBihUqXoz9bRS6onLxi9LPB++ts7yVF0jUo9lGu68vWW83cx7ll+r7/O8upPPgqLrK6rWdcIkaKN1YnvVCdln5vil7Hzs4WeLXPthz0hJyQvLK+v57fF7W96/EigJXxt+7kXrW8pi6rvheuPn6v6cLjh/AAAAUDcJEMRSnXZ3lxnnJg08+GCO2j+b1sWCB7z8Hr+v87TEfZXPykkhkkCRCdpIsKZqvzST7hnDoEUSXOme6R6p6fTQjY2MEZQGX6rPhRxTbHuyn7CeeN2GxtiBVhMEbGINzLL4C7Qdb2Wk5Au+/+VUJn6seiQwxPva6hoGmpolU5Kqw2V5wjUE+79X+VL/lFvHp1fxelsjX/Btaoum/kgjJy/4ssOVzaZxaZpYUY+PGzTS4YIyOkaN9EKQMW60jFKvQ9qI4/KE49fs43X8sXEZlDaG/a/7/NrD4XrcyKnV4O66rdKYFNKAlnMSNo6eCM+H1jMLG6GWvs6mimj9lbX4lsq52rAn0sATXI+9rlFqz7FP6ePz6M9xnWkbYRAtTyPXY1n2mKTMZc5H7NrwvT0MCXTxy7PpPO4aqpUWZ9Oh9NrVIGD42rLlkcBAWB5/zWiQs4bo+5wvAHmtf7+Z7fvri8+h2GSW6bZqfXYWXScawD0Wea/E3t+xz5bYudbyWn49fm9LXSaBElPn+nr/ucfvHf3G419rPkM0GFOm3mKa9jntzh8AAMAUdnDjfNPTIp3KjDlzcsCts/m0SwM6QfeukgXT6aFvSoDkFN38SD89vFmWMbeepPKc6bvC9R65SPe+6FKIBk7T+mTZTLon0itmxc4Tbr1XfeKBFd3m3vPJEtp+RRq4GLqGnkyCNSaNSdehGXSyoe8FEhjJ1l/x4Myd9IzWb17dJSloWh9E6/fKOvHjpiNzffAlXS/Y3lcjgZhVZ2mPO/49Oy+my/bPolfwvWjCyx90uBTXqNUGlTTk84IaTeEaAUkDmhsG+gVfAwgy6S+0mkr0vGugSzDFN7y5UdXjGndVX/D5E8f2FOpeV2n42LFmPNOQsUEm/bW6qAFhBx6WoIyWNemFwGXUFDBpXPuGUGT8Gmm4+GMzvRcSvF39dX8XH4t/La+njZwyY4lI4zRsOEtjzv76LevI+ZFGa5I6wQXRc5TrDdfwZrs+7WZYGCQqw6ZpPREJQtnAgT3HXbxfPcdVPT6arO7rsQ5JINMocz58mh3XnV4b0ttDrw3lx0/i8us17oOo7vrNY9OhdB9d2tMkeG3Z8sgyOTYNONj3XFm2vnzw1PHvTT3ep7ke3fhLYUrTaMtcK/y+1cBUJjWUyeeADxjx3636fg0DWPx6G1jyny1c99JzJzlec60k7wleX79R6OftXq6jpD7cNSYarbdG3hdF5w8AAADqNq/TNfRdqtPKnTOTAE0SMNg4kD4X1U6vPJMGLFbsPGnGxBmgWzV4sP3yoLfLefr82lNuPq4SQHqnss2lr7oAhht7x4/F8yot1hShqp4uo2zoMno9mblI935B6ykNbtWuu2rHXnDl33zajGvD2/uSC0RFAjHrv1QZT6dt+Tla4eZh4hthwMaxA+g2q8Fre6v4yXzh942MIiaYEv6y7RsWI8XlqBmUyGOCK29+zwUu+F2pvRC0ESIBFd+giaRULC46FlO+BaaRJhYscDMl+UYyT743AzfyNDhix8DQIEw9wvLVzTRmJXh2IJ31coNevN9oeLsORT2IvLG4Ho2a56OgPCENpNSN96EBwyTA58pje8zZMZzKlkfW1fFLYik4NfH7LHMNBORa99e40AAETyNJuym6TrSOC9/Po8AH42rQMZmUDZS7mFxj9dbI+6LG+QMAAJjCKj1XKpPvdVFABtP1vWeEBm54it0qvGImnXI9Qq5ekA3CtC244Obq1U4n3VfEFZ3aYybGjN1y42w66JaOTGzQ4YLBmU/OcPu9QPNG/P2k4LjnXcgJxFyk9nluFiad+gM2vhE4kvE2msB+kfdd6O0kwR3TEA8bSrkBH2401XVcXA5txPhUATvdVdyw0DSIbS4gY4MJ9tdqbXDXbMiGTPnCHkKlGmpvVBpcdgwK6QGjvR6SFA5er+puSUEDL6qgfI2wPXMkVczy9Rn2ODANxrrw9aW9oKK9lHi7ElTwKWcNXI9hL4rcwEnYgC1zPgrKE9Lr1Kah2Mn22LBsqkse33uijvLs3VPZrr7/M4GCJpBryR/jfW4hK0qPjKp1nTCf4sXC93gsRSomvFbyhIPD+8At158/XjNtWuie5+OQlFldbns92fSsuuut4LyXCswDAABAsyzeaIIUPrVI0qzmFnxdPk/tSboO0euD2cDOmcEZbi6w6gIVxxhO0Tz3O/XBgfweM2f65lWnD5lyjwkfSGk0BcsqOG4fGIKppP6AjU1l8D0rTKNMBjsdE6ahbxsLSeqHaST7gIgdn4Qb0n4sk67qgIrdnm0YRnuAmMaGHaPB3pGlSNjLJdODxvTAUXX3QrHls2O7cP1o+ljeQKgJU4bMGBTm9dIjwDasNFXBpyAVyak/P2ZKA27XVJCAD9hwue2YGCO5fn0aFl9P4bnewRUn25VrT4NddV+PJrhkG/W1lD0fvjxmLBk/pomh16ltdGsqUlHwVnuGRYMB2pg3nyVly6OBK5sO6PfVBP5uRXwdJvi6sMGHeoOL9joJ60uOz/cS4noKg1+ZQAfXkw/EBYEX2bYPqvJfHeMrlkZp2cCwfz3vJzl+npJ9m8e6jqQ6adBGg0WN1lsjn9MAAADQRKanio43I+lHpcaDMUGGjfPMWC92bJd3/Vf+siopWm68GuHvjJTeVcmnTa06S7e6rxM+pWisdLxHVyczOtZPyt+5qs7Bf21qWuYOXV93x7XqHF2H70VTRgMpUfwFXL+ky5dr+XJuf8nXxlMV/vKtKQx1340nhhs1fnwDbphoYyJp0HL5bncNbzsGjdwxJVnPNaRlvdidrez2fFCDGx15x+YDBFwP4evCcUVCPgDmhAEDHZw1wfO59Vtgk2kY+zEq+NwleJv+F/QcsePzr3d1bdPitJ7LpqrEtl/veCRWbMyTBJdTe2HYc6z7ypzjsMGaJ2ebMmlwRd4X2ggvez36MTnMOasn9afs+bDj/tj96F23lB3nJ9yeHW8mg+tQ6yAaFOS640NPaM+TsuUJ71wmU6MBvphMgMVt375nYkEVWSf3s42P1Y8BZd+HPPnzwsd4WHoGRvhrxbzvYp9dPk1Jryn2VM42lbxf9Dz417v9+M90Lr++p2Jjhun4U/XWm2rkcxoAAACayIyRYlKh/HgwdhwZ5daTdKnFG3VAXbljkXutv431eXq4znFcRNvad6q3qWlPLkCz+DOuzMndqNJ1qu8YNdrsWD2VutNy2PFlVHpb7/hAxm1rT7oBhnU9mfQuUBfp3q9Ubw8mr8bGsJFfVsP0A2ns9o7xl2rpel91Bxlp9Ng0JG4gSDf+sAGfpHbE0pXk9dzy08aDkGMrCmokY7toUMSQVI2aARbTUygWkLGpX1W/qJfFZZceDdz+yUjGCarRmBN5xyfl9XUo9RysIyliep0UDWws2w/Po7w2LG89bAPQStI1cs5VrcBVnmSbwTWj5Dgy74uS16PUSew9Fg1ExZQ9H3JtBOtJXax0854rd+wayqs3veuZyOu55AOS3MBPAmMlyyN1nqkLuRb1HBwpHgS5FClH7JzKfsx7Ju86i0neR5E6FMl7MfZ5xOS5zLUgn1GRdeUaCt9HpT6DmAxQHbsm7bUb+9wXcl35QEzJeqtS8n0BAAAAo0d61Lx4tnqcFLnzkQm4VIIz1gDdMWDuIKWSuybl3A2ppoJtPuKCFlzm7Pg8Mv5M5Y5KBw8Vjb3TPDL+T3XdpXe3qgwczMdTKl0rHbC4atyh5E5QBWPpwKQ07dKJ3ktufmrzaQk5jSGAyUhSWLSXhG/cS2+4LWnvhqKAzGhotfKMJ0nv3MZ/ax2z1lkYYAEAAIBJadr8Hjow8LJ7BACT1crO65t0lygAmJjs7ZCrUlHYmI1J5bRaeQAAAAAAAMYJAjYAU1ksHU2VTadpplYrDwAAAAAAwDhBShQAAAAAAMAEgZQogKkBKVEAAAAAAAAAAC0IARsAAAAAAAAAgBYzbfDw15ASBQAAAAAAMAEsWPZl+sZL33KPAGCy+uINn8MYNgAAAAAAABMFxrABmDqQEgUAAAAAAAAA0GIQsAEAAAAAAAAAaDEI2AAAAAAAAAAAtBgEbAAAAAAAAAAAWgwCNgAAAAAAAAAALQYBGwAAAAAAAACAFlMcsNn7KNH8HqIdb7gFMcNEPbyOrLeX50dK9zn/abfA8M/x1HMoXbbDPS4s4zjSMvfLA60rXjaUPGuYekzWBQAAAAAAKKOTHu/sopUF0+NH3KpNJ/teQs9VtW8AYKTyAzb9TxNtKPGu3ruHaJ+bH00S+NDyrL6TqHd5Ot/q3pQyLyXqkAdvp3W1uss9NnZsGZt6BAAAAAAAaIaha+iBzrm02z0EgOaKB2yk18qaPvegwNChckGdkZqowRp6g2ib/F2QBmj6X5MHRIuvTP8meB3pVZOsBwAAAAAA0LgVO0/QgYH+qumOpW4FAJgwgoCNS8tJggf8jl6dLMzB6259zM2PItvTp55gjaZK+cmmWLkgiUyZ9KOc5VXbiqU0GT5160G3oC99rEGwbbxcUrgk4KXrrMYnKAAAAAAAjL4zfUuClKlsStOxnW75zk6iI9dm1n2grz1dSZbfOJsOJg+m00M38vN3X0Nnkse19yH8fiLrVF5/LR1LFznt9Nzd6fq+LACTVLyHza5tRCfWuQc5+r+XpvBsubNGYGcEJFijQY56gzVVPVYkaBIZF6eW6LaOEC1rYFtRS4kO9xJt7XKPAQAAAAAARocEQtZtnO4eKQm4RMah2T6XVnbPdA9SBzfOrzkeTpl9SLDmnu3pfIWskwZo2ta+Q+uTZTPpqN3f0Bw6uF9mLtKK5aeSRQCTVRCwmUPU20vUzX8LveECKUuJbl+ULmo63r5Ny9r3WNAbJof0WkkCLGuJTvCxyPQUzycGi3vGVBnmTxI3mwSxZHv3uQVctrxBlrvvStfd4h4/Ja/j1yeBLVeuTQuJOpbzPK8bjmcDAAAAAADQAAmoZHut8CQ9ZRKd9EwSSLlI977o0qVePEsrkuem06mTyUzG+r2aVnXaBVCIdr/A21v6qnmt294jx6mt1D7a6aQbLaKSwqXbn0lPJj1nBmjJ5mRBuj/nzKFZaa+eze/QzWhHwSSXP+hwkR0ujWfXutEPNqxeW+nBs6ZEr5YkCCIBkttcypFJRarbHKLFbnbDlnRbe6902+epMLClwZ6laR0N8SdSMuCwHb8GAAAAAABgrAzQHUlw5Cjd3OHuLOXTmiJWnaVb/cgNlQBKsTL7OEXz3O/+GmB6oO+8e10/3b827Tmz+DPnk7+0/XL3O7oGg4jWf2Yg+QswmdUfsJE0JenBIilKNXvijNCW+4h6byPayvtK9KVjvxRy4/BIcGVZE8bY2aQ9YxwN3MiU1+MnGcNG7/ok6VOmLNJTSF7bqrchBwAAAACACSs66PDGSnCjMm5Mibs7LXqP2txsPcrsY/HGE3TvKveA2Z5BPuVq6Wm3jkuLOnJ5ur1MIAlg8qo/YPO8662igQcfmGBJMKNZY7usTdOGhPSa4U0nZMDeotQoe5vxJBWJJ58SFTFo0pqG3nYzlksT0141u8wnQ+8hNwMAAAAAANDijlzrx43xgR2frtQkpfdxim5+pBJU2rPzoltOtPvrOnjxKbru1nS5pEUdeyEdT2fFrcMNBZIAJprGUqLGwyYdO4YVpUa96cKx0gNIx/HVIFPMmyZI80TYI8fcNUrHq5HxaTRosy8W4GF2nWTsG+2lw8tkgGEJ/GgwCgAAAAAAYAycGZzh5s7T513akR8TpknK7cOlSvGkd3pqW3u0ErTZP4N0OJ225efSYM/2uS4QVNkuwGRXf8Bmk+ltkkwmZSgJTtzmHoRMqlJD6UALTe+WgtSom1xvGt8DiCcuVhZvy/bYKVpP92lTofQ247s+nf6NSQJH/NobJG3s7bTXz+ouDDAMAAAAAADjwgc/aCbd4wIm1XdzaoS7rXfntXSy1D4G6FYXnLGpULreip2n/VCi1HGcPm/Hztn8buU5gElu4vSwEd3rKsGhbc/G7/jUdZsJ7Ai5K5MGlY4QveR6yoRj0yS9X0wvHiW9ZWIpVRKcyh3Dh/eRjIq1wA047HriLMaAwwAAAAAAME46jtP9e91Avon0Tk4PR+7GVApvb4NJZUqU3If0qDmQWS8laVQ66LDygw8zDDYMU8m0Syd6L7l5AAAAAAAAaGHT5vfQgYGX3aOp4UzfkrT3zaqztCe5dTjA1DCxetgAAAAAAADAlKB3m/KpUhhsGKYYBGwAAAAAAACgtW0+XZUqBTDZISUKAAAAAABggpiKKVEAUxV62AAAAAAAAAAAtBgEbAAAAAAAAAAAWsy0wcNfQ0oUAAAAAADABLBg2ZfpGy99yz0CgMnqizd8DmPYAAAAAAAATBQYwwZgaljZeT1SogAAAAAAAAAAWg0CNgAAAAAAAAAALQYBGwAAAAAAAACAFoOADQAAAAAAAABAi0HABgAAAAAAAACgxSBgAwAAAAAAAADQYooDNnsfJZrfQ7TjDbdADRP18HJ5Lpz63SojxvsMt72X99vqtM7m898ht8waOlT/8exw61edhxLs/pLpafdEDfq62D79Mda5zZbhrq0ePkbRz+UPjzU8xrAeknOSc44BAAAAAMbL0DX0QGcXrQynnZ1uhTHmy7OEniv67lx2vRLO9C3xx/34EbdQmfqpem7MdNLj414GmAjyAzbSiN2Qd/W8TbTPzY6GJFjwoHtgbNjSWNBiLN3Q5Wa47l6KBGRe0ojWUl53jpsfJVKPyx5zD1Qf122JAMsT7nU3LUz/KglUVF0Xss0JFLwY4utXLL4y/Ts4mP7VY5VgTXiM2/h6tNfeTWv5H15nqwv6AAAAAACMs2M7u2jljbPpoHucsX0urey8lo65h1PF7u6pd8wwecQDNtIoX8ON8Dza4F19J9GJ3uyk8YqR8EENbhTrdnctTRdte7a1AwMdi7he3PyB19yMGuZlLhCw5RZeN50dNRp08efpvvSxBFiKekJJoGebzHD9Z87nG24528UzmW3ycT3R4sE0pdfXVRKw0XPC11dyPvgYNFijx/iUBGfYNnM+u/g8i328LfSyAQAAAIBxJr1K7tmezq/YeYIODPT76eHN6XKimXTPePW0+f+3d34hVlzZv98iDpKgpDH82r6CHcIEYl6MjphwnQTyEqejYsNwiTgPPoShQ4RG4ui8JCAkL6NjEMGQZsiDcEcShoEW7ekxL4FMGpLgdCdciAP+8KYFab2MGJQEGZHctXbttc+qXbvq7Dp/uk93fz9QnKo6dar2XnvXn/09a61qxsBV85Yt7zfmpY6Ok3q4zgA0IRBsaPDKoU52UE4DWBEeQkIPhU7znRsw71b7H37ZzdB3eoBcCPmhqRBqRIPw8HsJeZGwGEHCj/xUN9xnrTFDTlwKB/NzNOAXzyTtuRIeMyxTqxxyYtfY9mxZ2s2LEyWIoHHEiRKC/z2xUbyDqB4ipl1R3zMptsyFHvH3qq20qJTUzlWo/Yogwx5bG2iybULrtrGXENXHClE0Dbs6igeO7o9cb/rpohKqAAAAAADAEmXQXBpdaedYrHlr7y07L2wadaLN4dtmcnQ2W6lDkGZUGJWIG5HQqnfP92ffET7s6I2nzJ2ZZ3LbVYX5WC8gv63yfikNieo3n76hf0NTXQHm5GNJYVY6lCqbUsoXD28K96VtB0AqcQ8b61mw3y1E+Mx533CYiB9A1xU2KrDhJsTFD7N924G5GkiL10c05IfggbgfzPNAPQiv4u9j4V4sMIgHiScxhEhTFhalPYfsJk5ECI9p691BezJcN7HVGWrbUsGGyiteQNYDRaG9h/aoNh9+PWsXEYaYFFsWQo/4+0goXFI7dwPXPraMW4w5purHPFEiVAEAAAAAADCfzDxqztqZh2bH9rxYI7Bo48WaHCvN8eFGGNWBF2gbFicioVVToxuKwsPEGrN/eLVbyDg7HBcopt7Z6r2AMlabN1nwcUtFWAzZYI5PuEWBw7uSRBuyxy7+pDq+U3WcTBTa70SvBlQ+EWgG7vp9TX2lhavHMtvvumd2yvDgdHFfbLsFyyMEFi2BYLOWBt3KsyAKDZCjQYAtCBtlbH3FeS84rCcEDZxDz5OPRYBggYnFHPoUQeE7N4ge/yT75AH3ZSf4XH7NrVPoMCARhiQUxlyn791sCtGwKCWEiOdKrGw6bKlb+XoKoVoaspt4AXkvGoGWj2nbcZuzcENT6A3T1JZUNxFrjlCdZTvd7kJKOzfFCX7S9hImJuWy+369QsiisoY5iTZuzD4vQrABAAAAAAC9wAOzvpVwol33zDkXPrWPhiZX/pKJNY3QqhvmqBUrjJmazYszTHS70XXBsHEl7bNxnHOnH2arJx4xX5eMtbwYYh6ao19kv5scv2/XpHnNPDC/fvue2cGzE2vMmTIvl5l1XhQ6MO6O4+siYs8t8+zOrMxTl9Y68afffH3JeTbtvGv6eGbmGSdK3TfvubpOzt42B3hVoqcPAEJ50uFSZEDfZZGBw3lCYcV6nnDYiluWkB8WmGz4DY32w2TIEl6lc8YMbKcBupM/BV5n6/JKJjiwCFGVx6cSKs+IEwIkLKoQDqUEnJzHC33n8/VUCSs1sbZyQgfbsaydmoVNiZ1CYYU9bmSfKbbUx3mV7eE4JH1JkdLOqYThfOItVhCnmEDkYeFQC1MD4oFUU9ADAAAAAABgPghClbKpmIT3wG+vZmKDw3rjzE7b0KoshCni5SLsumcO+hCsW+YlEUjMKnMzeEbWx+nb/qPbrpybs85L5fD3jbw2W751IkhirpuBq+bXLodPUUTKuPIPJ0Idvm0Fqwyqy2+dOOREpb6932fCi4hMc2vNlLVLw7PpzvVV9jPzzhGbr3PCU947B4BmtCDYuEFszhuB1tFY1tLJ8BA/8KfJe2jMNHKGyOuYebIeHSHKGygM7ylA28qrymPhN3WRpLTimSHhUOzZYcOhRPgiQrFAPDc6Dh1H8uu0KwaJiKK9XXxC6ARbesGG6trsQtu0nVOgPsO/F+FIwvlkfzbES4mBGu0x9VmHBEkAAAAAAAA6TlEkaQkl9ORDmNrhoelf72aT6Dc33ZBlx6ATTlpk06jzcGER5Z1H7FyDiuOsfxCISrNmsxV/MuHlzlePZGFju340z7oxjReZAOgA9QUbP3guGdy2jRtY86Tzk3CYVC65LW0ng2//FiQlHljW0tnpZpuFzoyfawgoF0KRqBWUiDX5ecObZkiEnMcbZb2u6slIktu2KLFjO/gEwTr0jWw8pt4UxX0ixZbJ3ikp7dxB/k+3+zcAAAAAAAAdZssPTpBYaY7/ReVJ8d4oKgSpQCikDJqPJCeND5VqhDoVmFhlbrrZznLLrHdDp1gYVj1mzT4JpZrg0CxNxXFurirk8dn0QrafqUvrzCUXDqU9h9YPOjurMDM9hQmhAaiivmCjPUfE04UH1eKp4AWJVlFCx8HP3QxDx5CcJxzOot9YNLI9+9RhR4IkhtWvA+cwnTDpsH8zlXjAEBIu0yo+eTLtx5aLyvKceNMoMengOSUOqHqGb2mqRcyOCfv2QgptFwoWPpky1UeLQDoXDyvLKbbUx/H9iDgVJB1ObeemsGeYCEvULlpE8jl0Xjfm5Uj/nib7yfH0273qeAkBAAAAAADQNWbNThFkogl5G2+Rasrcz8x/u1kvRPjQnxirzV99bph+8+k7kqy4xXw6Ci9+6Nwv6u1VVW+jKrDldqno1DjOOrVPqsufRLhqeNB4cWxitTlrbXLfbHZDTqZv44NsZmKNuST7Kn3DFADVtBYS5XOsyFui3CCbB+ilCYtVmEyzPDev0n4sNMi3+1fHkJwnhTcW0RQLv9GvA9+mttutziomfDMVT4Xwmxp1YLy45di9NT+w9/laVNl8Pak8h5Q4kCOxHAU7BjaMUuH5wyFqXgSiGbtPmrwI5PIEJdky1o9ouhK0S2o7p3h+icAiYpV4MmkRJlYu7eEjAhQTfd03AAAAAAAA80/f3m+yV3czLNo4USObJIcKcfgH/79xFP82pOxtT/b3kTdGaewbkOxxGrluDox/W32cBPokZwx7Dj0flEW9lSkNnV8nT9/em17M8XX2dXlojr6tc/wocYwJ7amEoYL9dC4eABJoQbAh+DXOYYgLD2b1a53bweauiSSftZ4RkjtHh+I4+E0/Ui6fo4UG4OG+OExnyM0LOuTKwseS0JuZ4huCkqBjH3GzTMH7iMtGZdHbMNbjg8rTLlE7ahvGILtKnptYGBnnrsnZycG2F4Ep1Zbcj/R2tg+JwCaktnMCIthIPiPrCUTHD20R69/cJmH/Fk+itr3KAAAAAAAAaJ8sWbDkawk4fDsLy4m+2ltzy7z0fn4f9i1Q/u1Mj+YT93Lozxd5IYTftNRI3tsOs2YfldkLUQLX5f18ouQkBq6ag9HQMK5zJGzMhjUVkxvrhMn2Neg5sn1Fy9zU9gDkWfHTjbGf3PzShPOuiAcICzXWQ4I9VI5kYS48EC/1ZCmB31RkWvjdYoFDxqwXCwstHRCOolwzOc8sEUPYU8Z6tNAV/nKVsBTBlnu6/u9aQvpQC+UEAAAAAACgRVZsGDGTs/90SwvHnfObzX4Os2JRoxXxBABQydDgL1r0sFlM+LwrhITU6NdC58JhEmBR4AR91v3dYsKHPp03uddYdxSynz0GoUOnfPhRED6Wwse0n1Z+1wqSR2e+jgcAAAAAAAAAYFmx9AUbFh8uSy6XAO9xUwMWBTgkp+7vFhuS/6abr7Hm8CoRbTSthNdZIW1v/d+1CvcDRhIhAwAAAAAAAAAAHWTph0QBAAAAAAAAwBKhV0KiAADdZXmERAEAAAAAAAAAAAAsMiDYAAAAAAAAAAAAAPQYK65f/iNCogAAAAAAAABgEbBx2+/Mn7/8u1sCACxVfvPcr5DDBgAAAAAAAAAWC8hhA8DyADlsAAAAAAAAAAAAAHoQCDYAAAAAAAAAAAAAPQYEGwAAAAAAAAAAAIAeA4INAAAAAAAAAAAAQI8BwQYAAAAAAAAAAACgx4BgAwAAAAAAAAAAANBjVL/We/wDYw7OGHPk98YcetKtFK4Zs+EPbp7Za8yNV9x8G0z/zZg9591CBb+h6c80RcvWJr4MW4y5/LoxA9lqY+4aM3LEmIs8H36n7HHmhDHDa7P5Mua+MmbbhzSj9iP23v2aMWPb7WYFYr+bD06NGEPVijPPZbEoe18YM2ZrNluJ2LesvN62REobMmKXlvphnXNI9b3U+uYIjxVQ1ed6Ad92AS3ZYj5oYm+mZ8sOAAAAgF4m/lrvQfPR4DpzluZ2nL5h3tp7K1vtuHN+s9k/utKYXffMufevmj63HgDQu1S/1ptFi9gAieGBbWEwcp4GlLR+KTDwuJuh+s+5WWbuX06sYei7L2kQLUzTd5YtxjyXMNBfUpAtto3QoFrZoxd5TkbHQdsJX067mflow9iAns6hDXTexTglQmGXuPghHfuDfH/vCdhO1LfKrkV76LtTtM1ihMve6+cMAAAAAAAAYMGICzbsNVDl5fKx80Jgr4IbY8Zcfi1b5kGfjHlbZesr2T5lonGqRY4l0/9w67vBwNPG7Hbz19WAyg/oHd/9280Q16+7mY3d9TQZ2O5sMN8eLY6wHW6caNjq4LkeHPArdLtOisAmUDtPOlHgyMvdt+34J26GvWrYjmRXC513uUG8EyxKvZtagD07dBvK+ctC1rFeEl3JDiMiarFXlC632Is4Qdu0e93pJuytpe2tz5lCPwQAAAAAAACAjECw4QGSDA5pgCSDihw0gJTB44suBMSLCDQthIu/9fihcstU+Nfa1ctv08yTYK0xm9ysH1DRPvyAngbZzAk12PpOvns6+5SBtp5a8QRg8UyX2ddV1UG24f2zZ5Qcj6eCLYJy8fccbsLzLXlIka3GZPBMNsh5roQ2iHmPJNpJyminZu1XBpV1iPo1c5FG+Hof2ntK+jXj7e+mjniRqb505pfZp6FjnnFlEyFQe7Ltdt/FaKv9CD5/L7g+HdolZ3eelO3FNoXjqjYVIaWwH/VdGdOfuzZhsSYUKMleItrEQosKxwv6nrZZeP1o2v9oasszRvdDamt9/NAmupxCeI4vVg8jAAAAACw8c0+Zdwe3miE1feQeUzM41ErWN+aH3njK/N/zm/38FZm327mfqt/K9O75fvcdU77vO24LAJY7cQ8b+4/wfrcQMCdeJTTguK4HDrHB+Dxw5ZNG3hHh4BE18OHBYxhOQlcRDuGpGjA+oQZUFvqUweOrIspcd4NXOoaIWE9wOBUfMwx3IdgToM7gigdrIp6l5Ijh/YeeUQVbBOXi78vCTZKhwTPtxiIClxYbPBzyQ3XygkCindgOuTJy+0V+l0JZWJT3ntrrBv9cNuoj0q6CDR3qcl+/In2O4bYfM+ZYl5XQrdKnlV0KdmfY9q4NXxXPOrKdFnl8eKCzZXQ/xB7dFyJ85vrybtpJtO+zaBOKNVR2FmcLxwv7noPbM7x+cP/TggwLU+H++LxpWSihfXvxl+zOgpmcP5/pfarthlz7sC3Dc5zL2xEhEQAAAADLCc5rM/T8GjPlloWzw6GwknF2OMuRw+zYedc85ubNxBrzJufHsdw3m3kYNfOMGXI5dTRToxvM0OlBt9Qg3Ddy7ACQEQg27C1BA6CqZKtesKGBxEE9cOAB0QKINhepHD7EQ4VJyMDnlBvY61Ae8SYYqxjk+IG9E2VkEGoHj4877yM6Ng9utYjFuU8k3EUfUwZkucF4BXqQe6FG+FOVLXwYjhMBeDsfDtMmInBZyCbH3CBYh4NYDxKq08dBeSrtRNuKHWLb1SUaFhUMoJmYrXTYUlteDVQ3ERA3Rs41EQmt51pC2w/TNly+tpIGS58WxO6xvkLr+ZzwtqRlLX6J0CLeQ977TNqP+oT8TvpCFZskp1QC3iuH8OeCOl4s5Mv3UdmOkL7B3iy0uhG6xpPrByeoj1QJTgKLO17Y5omWuYyc6FkSVb/orknaa897fdF3fE1mETRsEylzJ8JRAQAAALAksKKIeKu4ySYczjFoLsm6w7fN5Oy0nc6dfmhXTY2uN58WnnPum/fcdmFSY050nO3jW7PJ9JtP/7Q6+4KTHLvfTI7fz9adXBd48TDl+wZgOVOedDgFGYD5gRwN1NoKFWgBHvT4f9iVp4eFynLFzfK/0DJgkn+oQ88AjU48zINRGYTaf7pp8CQhDRy+4gUbl79GBtA8GGPhhY9pB32J8OBLixQ5D4IKKm1B+IGzytHCooCE4nQMJUjowarUSQalKXbSyZxfdYNb5pCIJ3Whthtxg2Np/0I4lBJwzuxv2IptKrbSA+slCdXVCgIsGF3L2ib0RNHngfassm1I6yVxs4h5cg6eov7BwrC0fV3CMDW7Tyf8yHmaO28ibe5xYohF1Ufwualov/54TgQOhaq68Hku10vv4UTHEeHF5wpz32mxnD0EbVno/JK+m/POAQAAAACoYOZR59Fy37w3OmvnmL6935sDdm6lmfoq72Wz4/RtnzUiz33zay2yzK01UxM889AcfVu9kWrLbXN0VzZ79h95L5vyfQOwvKkv2Hghg/A5bOSfdkIn4p0PKv99V8JBbahuNBayfPd5cRAqHjg8cPeDRBlY0aBVBnciUrQKD3JT/zmvtIUSr2zYVocRMYjxA8sm1LJTB5M5h+E/Eg7lBS/Vb0IPmI1UjrYh+8v5opNaC7u70D5NiZwrXhgRgSLC8MvZpwghYkstCrIwJ+cSo8XTFIE31Sutqo/r65amma11v26VQtJhmkT484m6lRhohRea5JojQqUXjwAAAAAAyml4uzQm8ZwR7lxflc3semDWZ3OO+6bfiSotc3OVC7Oifeee32+Z9fIYDgBIoj0Pm55HDYxjg6Zm4SbeM8AJMlo08ANA+s4OrAg7SKRBo4QD6TAKPWBNgcsrv6kK3UpmbSORcsdFNTVQZg8kPTgO30hkp1foi0Q7+X1JvqBOoMS4yc8b3jSSJ6RKUOnmoFnEgTohQJ0iDOvzoUCEnDvR8DmxJYtf1xq21ImbmUPS9jRJSCJzkOxfhoQJheE+fl9ULmknS0UfTxURQ+QawGKelF9PVeGjVYjQxXaTfq1F4FwIZjbbEAvV+aKnVryVAAAAALAs6dv4IJuZWGVuZnOO1eaW9Y4p8vONJaFKoeiz/oHZYWdo37nn935zs8RJvXTfACxzWvCwoUGtDJJESCh7w86CowZwemAo4TfNEnWG3hT+DVCMGvQL1huDBoZiC/8GIPm3PBEeHPJAUMJ+OpWfwgtQKveGz4vRBqfIELbObrCvBQ8tNonHhg1fSbSTF2yojB/z7xySm6hVvBhwPig7o/uNflU5Hd+HqrXz9wDtX0JvfL9Ude+GB1QldGwJdxKBwAtTZCcRJcLX2gtiy4PUJmzLXGje3SwJsG93gl/d70WbCiFuK/UL6Ud76Pfh4XW+GkGHX/ntqQxjTnQtTWBcglwD9DnoPcPoOlJW9mb4UD+Fv7ZSWSVsc0TlJdIisfdMIpvaskTsAwAAAABQhhdVVps3VRLgO+cfc6FSD82O7S2KKAP/MT+3MyvN8XfUG59m1pnjTgw68EIjDAsAUE4LHjY0eDvm/mnnQQwPFPxgTw/UQiIDt/lA3mSjc1DIoFsPhmL40BlHKEbJQNVC87buSsjx+VtaFRdoXxImsacDCZ31v/qSA4PbruqV0SE6nEUmERp8vhfqIz5niOsjfjs6lg3xSLWTsoE+dkEAq9m/wrYNB/I+R46ylS8f1a3UmyGxHL4tpF+qfdf12kgVIAUWP+wxZZJjk52PuXPCJ92OnDchWlhhvKcSo/qCbj8RJHToVAH6rX9lPBGWW78tSc7NYeqDWuSx21L/ElFO6pdKKBrx/uR6V1l2RSHpME1S9tw1U9nKQvP6eqrfJhWeM5XXXgAAAACAgIGr5qCESZ1cV0hOvOP0TfNSnT+5csyafZJgeGKN2S/Jj4ddIuLDt82+GsMPAJYzrYVE8cAhDI/gAUNbb6npEvZNO5EEtRyq03SAozxFwsETo0N/dC6MQyfU7whOgCr2KiQ9bYIfgNIALyXfRyU0qA1twXYYcvMtQ7bhkAwtNLAXRSGEhq7M+vXkqXbiHCgi2lh4P5E2rYUSjJicyMCwrahOehvGJtrmkK52ibSFtWMn9t0Ctl6qbfi80aFL1ubKHrkEt9TuPlkvfXpPJUe0LxB8zKZhPK4dcmVRSMidFj04oXGuvxB8fUp541YBt79YP2g3BIn3EV4ztZAY8+LicLBY3Xrx2gsAAACAnqZv7zdm8ot7ztNGeGiOftGBNzVt+dZMzt52CYwbHBifNpMqyTEAoJoVP90Y+8nNg6VO7lXhMshljxAajbIHQicGoQsNh12ZJVCPxQbbnb2elkIfWkg43Mp68LBA1orABAAAAIClzooNI2Zy9p9uCQCwVBka/MVSTzoMcvgwF6IQLkL0VP6hFuDBLosGi70eiwYV/iUharB9a3CSZ7ZjmEsIAAAAAAAAsGyBYLOciIWyCUkhYj3OxzTY5TcaLfZ6LFZg+w6xFyFOAAAAAAAAAIREAQAAAAAAAMBiASFRACwPEBIFAAAAAAAAAAAA0INAsAEAAAAAAAAAAADoMVZcv/xHhEQBAAAAAAAAwCJg47bfmT9/+Xe3BABYqvzmuV8hhw0AAAAAAAAALBaQwwaA5QFy2AAAAAAAAAAAAAD0IBBsAAAAAAAAAAAAAHoMCDYAAAAAAAAAAAAAPQYEGwAAAAAAAAAAAIAeA4INAAAAAAAAAAAAQI8BwQYAAAAAAAAAAACgx6gWbMY/MGbDiDGnrrkVxPTfsnVlk962FU7p/dHx59x6Ye4r9T1N7R5vPvBljtSnLajure4zZ+ey6X835qfd7zqN9LERslFHYJsEZZa6Loa+Mt/EzueOtUUNunaOJBA7F8bvui9rEqtH1/sflXWE9u/P0cg5sBDIuV3WpvpanmrvxXwux+6nVci5KbbJ9dOITRfjvbFrfZX3W9LvmhG7HhQmaptu98WO3xuJsMyL+XzqNrg3dtYGsXp0o4+H8DF0/15OfX7uKfPu4FYzFE6nB90G84wvz2bzaVVfTt0ugTvnN/t6fzTjVgrKPoXv5o1B89GClwEsBsoFG75QH1zo3kPH/zJ4kP9yIUcgPYS9+f3BLQBQFzfI33PeLSsufpg90Cz1U00eIE+4Zc3BI/QdXQN7Hnro3EBlvegWe4nntrqZyHWc8dfyLbTtWje/RKl9PyV7jfG5WWYb3BtLwb0RtAXujUvGBizOLPg4ZmG4cnqrGXp+jZlyyzlOrjNDg8+YK25xuXB2ePnVGSwd4oINX+RiF2pm6yvG3BjLT2foodJCn68+6eY7xOS/3AxDN5HJ5Xnx7TiHdBv+3q0kLuj1/9OtXORIXQ91uG8uZsbPNQb5us0vv+ZWEnvmUbAY2O7K8DrNu3Vdha4lx+jB07K3UX+e/PWMroGL8l846udSF9FMFoKBp43Z7eZz13FGXcuPvDxPbb5AVN1Py5j+PDs/d1MDltkG98bukHRvpOegpQDujUWW/b2R6DUbdJJl0OfZq+TNk9n8jtM3zOTstJ/eO5ytN2a1eXOhPG2aMXDVvGXL+415qaN9vofrDEATAsHGqer2H2catMjDdhX8b5Yo2Bc6eEPZ7QZNF/+dfTJz9IBqbyJlZeN/m6n8eipztRe3SJlCl0ztquldOd0UDuJkWz1V/fuQO3bsptekHvxv7TYZbJLtt9H3Uv5uupjm6knzBVfFsNwt3NC9rXn/rj9W7a9pmQixd9huuh1y7RzsJ3QLLtsPrw+3jfW/Qn8J6lXWhrH1Yd/kqanIQN/LOXuGTnY9qOeHwwt7aYZFjGBQEjtWrp/Tfv36oO2kTLm6q3qX2T7lnC7Yk6Zm//7JgJivJZeDeg7TdewIfR6hwVr4UNes7erQrF9ZKupvbaY8Cfbw91we3Q7ZV55mbZhrh4Tzr5K1xgzJdZwOotvVX8uJF5WNm12XC5TVNbJen6exfhjaJrRdUntpnP3q3E+Fz5zAM/R09qlp6d5IpNq22Xb6OhTaLLRJrL9V2S3XLtwH3XpNVfmq7o2+/er24wTCehau++G5VFK3SoI+nbNDZH9Ny0Toc0JTOD+CYwvNzok6fYXJHZenoK38PoL6RterMssU9uUC9JtFc28M+xRNoU1j5YrZPUe3bFCDpGttVf3dd/baS5yg+yR/r8+bFFuVtiEtNjv/FoxBc2l0pZ1jseatvbfsvLBp1Ik2h2+bydHZbKUOQZpRYVQibkRCq9493599R/iwozeeMndmnsltVxXmY72A/LbK+6U0JKrffPqG/g1NdQWYk48lhVnpUKpsSilfPLwp3Je2HQCpxD1s+CJ9Y79baMLH7uGIBzcd/TeXdsaDJv6XWy6ac+4B9UjkQPYCH3GD5tCG3IXZXXTlQi5YN8/g4YDh9f4B0MEXf3n44ZtszOVyT8kF/Fh4bKpf+MCZVI95ZiysJ81vCx8qwnJT3Vq+kfH+qc4yqLMEtirYnn8TsV0Mvtnqdoi1M8PHCP8d5/aPPfjx+nBbbjd/03cPEYX+0qKd2OaxMuv+GWNa/pmnwV0s3MJ60QUPY2yH2LFYJIgda0/QdtZmYXtRvav6dLRPEWzTVs8/QQbEZR4M/C9cTqzpcNul9KuU+tehVhvyudTk/EuhLCzKh+/Qg7/dpOZ1uR3YzmE/5L4Z2kb/g1znOhBS535qIVuIHTbGwqFq3huTbVuzDZrdG+ten5rdY+azj9ThyifFeuau+1zu8FziulFd/DY14XM2Z4fAVjHbc5lC28UoXFOpn8WuQ3XOiWZ9pdPXV2vzSJm5HFX3nMVyb4z2KYL3Jb/r5eeDKpL6VUL961C7DZucfwvJzKPmrJ15aHZsz4s1Aos2XqzJsdIcH26EUR14gbZhcSISWjU1uqEoPEysMfuHV7uFjLPDcYFi6p2t3gsoY7V5kwUft1SExZAN5viEWxQ4vCtJtCF77OJPquM7VcfJRKH9TvRqQOUTgWbgrt/X1FdauHoss/2ue2an+1+FRalwX2y7BcsjBBYtgWBDF+cxGqgMxx4SI7C4YC9a1DM7HQrFvMhKPvGZuwDLIOvF8F9HuqDaeH9i92t0M3Euj/afAIIv4vJgNE4PVxYq82W3nXd7LrlJ2gdu3o4+Qxf/79xNlgWr3Da0/uNwX7ytKp+EXvh/nxPrwTdM75rq6jG2PVtk7wD+jSx3iosbi+XxAwYqt4SXeFvRZOsXs0Mi2gYFW9E+5QHH254muoc3hR9kbL8lYm0r8Hb2GLqvuO34wU/6lMa7D0ufIqT/eq8Owm8nx6XjHIs86FYhgzQd0iN2OkjHagq1aZJHXImt/bHOuTZR+LZTduW6ix2lnU7Iw2EEEYOr6lfr/Iuw6XE304ROtl1qv2pWf+sqr/qZLVfwIO1ppw3VdqGnTDOiYVF0vfDhUO5a3sp1uWXUMXy9qDxyLQivb61cByw176eCP6/peGXnZ/K9kUi1bafvjXWvT5X3GCKlfFX3RjvQ5N+UnSMtwn2n6rp/iu7bjD7vpH5jNa/5HmXTmK1i1w6/XRVU5th1IryvtnJOVPWVrt0bVfmk/ieoHzW9hvX4vTF2LoT16+XngzJS+1XT+rtrr9hSyhXTs1sqv7Jp7PzrCR6Y9UntF7Drnjnnwqf2kQmu/CUTaxqhVTfMUStWGDM1mxdnmOh2o+uC3DEraZ+N45w7/TBbPfGI+bqkr3gxxDw0R7/Ifjc5ft+uSfOaeWB+/fY9s4NnJ9aYM2VeLjPrvCh0YNwdx9dFxJ5b5tmdWZmnLq114k+/+fqS82zaedf08czMM06Uum/ec3WdnL1tDvCqRE8fAITypMMpyENit3IQbHUPn/bGRRdVum7bC2V40dXu4MeUULH1l40bon14UgOFM/tVmZ9sXJwLN0k6nn/gpk9x8ReekN/RQxn/+3eKbpJ8o+ALeSxGdkSVz//77EiuxwJwhsogSLt4qM7ysMX/4rEdeJKbYNWDRxVVttL/Ammx8BDdcJuhH2R02x6TB32H347qwf+G2npR/aSuYVvwg5gvJpVJHhYEf75QGf12dNwRd8OvPRgWsYH2a8v2t4Zg18lBibc1lVP36WE67y1knzABqg/loPptcrPam0UGnKXQ/uQOr/teWL+651+rdLLtkvpVYv1TaaUNq86/ZCI2KoRDtXJdbgPdDzfSoMRCx5F/k8PrW93rQLv441UMmFLvjcm2baUN6HhV98a616fKe8w895E6VF73qdxyHss1iifxIKh7zRcqbSX9gchtRzbPlS2C73tk06r7au1zoklf6dq9Ucr3Aa2j+tu+R32w7Lyqy4LcGwn/R4V69vaCpKtfLz8flJHar1Lqn0or5a88/3qUIFQpm4pJeA/89momNjisN87stA2tykKYIl4uwq575qAPwbplXhKBxKwyN4PzVx+nb/uPbrtybs46L5XD3zfy2mz51okgibluBq6aX7scPkURKePKP5wIdfi2FawyqC6/deKQE5X69n6fCS8iMs2tNVPWLg3PpjvXV9nPzDtHbL7OCU957xwAmtGGYKMeCnQOgo5CNxwrVNAN55S7qO6Wm5Ci9AFX3RAttJ1c+ENXc//gHhA7noZvgPohSD+UFVwp6eyvuqgk12MBiLrmO3y5O0kTW3kqBjVlXL+efTZrW9kulUpvDfXg/kSwnX+wqomPJxfkwYympNAVql/KQ3CpvWhZhMSQWH9J9WaxVJyrmlrnX4QrKX23w22X1K8S659K7TZMPf8S8A+07sFXwqH8QLeirmXX5XaI9sOK60jd68C8IO3W5N6YbNsW2qDZ9bPu9amyn89zH6lD5XVNlbuTVNpKkbqdUPoMElD3nKjsK124Nxp6JtUJcnMCQEroCtWvZ++NFfbS9PLzQRlJ/Sqx/ql0qg17jqJI0hJK6MmHMLXDQ9O/3s0m0W9uutvcjkEnnLTIplHn4cIiyjuP2LkGFcdZ/yAQlWbNZiv+ZMLLna8eycLGdv1onnXXTi8yAdABWhdstCpd+FevU9BFUf6JOUE3GyaWhNHf1MMbjLqwW9QF+Dp9p6n7AKI5xKq+m/QNMsntVJFcjx5DP1R5d2Y9dfDfHKHUVgnIA75O2hnDDwSoTQt1oqmWBwf1ZRHdvguOWyZ4heWTf5U0/l8lntS/oFWhGuEAOsTmUfqgYddSe9FyNwYjlopzNaSV80/+xSz755ZzHPmH2hbaroqkflWj/iksSBsKVB8R1SapTcRTwl/LK+pa57qsf9tJEbmj14FOkXhvTLZth9ogpJXrU5Qula/rqHLrcGE/1fQGSKLCVs1Iva8u9L2R7126fLHtbMiolIlsLzZh4aJMzF8U98YKe4UstueDpH5Vo/4pLEgbdpEtPzhBYqU5/heVJ8V7o6gQpAKhkDJoPpKcND5UqhHqVGBilbnpZjvLLbPedctYGFY9Zs0+CaWa4NAsTcVxbq4q5PHZ9EK2n6lL68wlFw6lPYfWDzo7qzAzPYUJoQGoonXBRlxYm/3L1i45V3x6QI0lQfMPGXSD0bHOOi7aegGpC30uLvVaI3xHciokQTczyVIv8f18g/SDxiYPPSHJ9eg11AOijskvy8bfCbStPlb7l3wBVfjf6gc3+vSveXZEt6Njyb9UtQYchA7f8b+l/fq8Rcot2qL6D8d2i0ebwInybFnkH0PqG/qhrPRhnbaTMIJcckyCj2Pd9cmukkRP20G3pY4jj52XbaHPVSW82IdFrjM/MFL9Wj3/fJihqqfAdmVb80Ot7Ld221WQ1K9S6u/WpbAgbajwAhkd317L9PF0Xdu4LuuHd5/DowN0+jrQDH+8JvePlHtjsm071Aaalq9PMbpQvnlBl1udx2KbJE+HupQck68d4T0kxPc9smnVfbXT50Qr11fff9R2QuE6STYZU6JN6UB/MdwbCW8vzteSzdryafsvxueD1H6VUv9UFqoNu8as2SmCTDQhb+MtUk2Z+5n5bzfrhQgf+hNjtfmrzw3Tbz59R5IVt5hPR+HFD537Rb29quptVAW23C4VnRrHWaf2SXX5kwhXDQ8aL45NrDZnrU3um82uazJ9Gx9kMxNrzCXZV+kbpgCopkXBhi6k4vGR7MpJvwkHVynopJWlgyK6wcggjQdZctGWOHEdF+1jsfmG47bzbxOgfdT9Z0hirHUohj+uiq9NokY9PFIPd/Ps6oNgGcoOutz24ZCuXt1ISK0fKrTtmz2QMvzPGz2HWHzOHV6hrrRMdDvXV3J5CxIZ3t/oy/yWATmuDGAlb5EfiKk+GnuDgY+xpv5h98WT6stVyU6jZQmOc+GV7JPtELO1DJRyOSU6yKvi0q7qlzu32jn/6Lc+Z5G2H01SL309SG27FFL7VdP6Z7MeWy4ZoAR0vA1rXs/DOP/wWt7ydZnWiy3rXgdS6fR1oBl+AEG2qHqgS7o3Eqm27ei9kWjn+hSjdvlkO3dv9IN4GcDOE7HzWM47nSeqk1RdOyohG8auE1fcOmGh7o26z+t7t/yhJeQE+cj+qp5JFsO9UedXkfpJ+cT+i/H5ILVfpdRfI+XyIpBiodqwi/Tt/SZ7dTfDoo0TNbJJcqgQh3/w2m4U/zak7G1P9veRN0Zp7BuQ7HEauW4OjH9bfZwE+iRnDHsOPR+URb2VKQ2dXydP396bXszxdfZ1eWiOvq1z/ChxjAntqYShgv10Lh4AEmgv6TDTiRjSSuimImdAlThkXT/lgU7BITq5BzmaZ9dKuSkILIa0ErrDx83FSjt4f3UfcJnUeuibTC8QtQOV73I3XL4dnL8kZwM+XsR2MTiMRvcBbq9jkadM3i60Mz8QtPQWLurLnBA3tj/tGs9tq0N7GC5fob25L6t/DT3026Z92ZUlPI6Ff0/faXOwraPtS9vVHXilwnaI1Y9DC+RcaOf8s/un8ofXAqZwPUhsu1RS+lVK/bkPRNswwkK0oYfKqe1cCN+h71u9Lh8KbcR1ot91ko5eB5qhbFXphUJtlnJvTLZtG20QhfcX6b9J16cYieXrtXujPY8j/ZHv6ZFbTkfgY4bnOl83QtvFCO+rtp/LAFmxEPdGu11oS+pPheua21+hvrT/ps8k7re9fG+sOhe8/ds5/xbQBkn9KqX+hBd5m7Cg98bukCULlnwtAYdvZ2E50Vd7a26Zl97P78O+Bcq/nenRfLYGDv35Ii+E8JuWGsl722HW7KMyeyFK4Lq8n0+UnMTAVXMwGhrGdY6EjdmwpmJyY50w2b4GPUe2r2iZm9oegDwrfrox9pObB2B5wK6z8m8M3+Bl8MveSfZflZQHGgCADXs06hwCnYG9QdgjomuiEAAxOPxEeTRI35P+mCR4AADmgxUbRszk7D/d0sJx5/xms5/DrFjUaEU8AQBUMjT4iw542ACw2NBu1TEX2J7MhQBAj8HC5wn67Mm8WoscCem4OF0dFgVAR6FzWbwWYmHZdXJ1AQAAAKAjQLAByxB29425ChPa4wYAUA4n9uUwi26FdSxr6Bpl8zPNxN/UAkC34JCUMNSEgbcXAAAAsCAgJAoAAAAAAAAAFgm9EhIFAOguCIkCAAAAAAAAAAAA6EEg2AAAAAAAAAAAAAD0GCuuX/4jQqIAAAAAAAAAYBGwcdvvzJ+//LtbAgAsVX7z3K+QwwYAAAAAAAAAFgvIYQPA8gA5bAAAAAAAAAAAAAB6EAg2AAAAAAAAAAAAAD0GBBsAAAAAAAAAAACAHgOCDQAAAAAAAAAAAECPAcEGAAAAAAAAAAAAoMeAYAMAAAAAAAAAAADQY1QLNuMfGLNhxJhT19wKhXwn08hX7osOckrtf8Pf3MoeYY7qa8tFdphz63qNsI3KbMjbxdq469ylfkPlmnaLAAAAAAAAgBYYNB8NbjVDFdO75/vdtosZrudm86mMv+aeMu/a+ql1XSGw7+lBtz6Fxm8/mnGrErlyuuR4M8+YoTeeMnfcIli6lAs20zS4P1jSo3iAH3538cMOizbXjDnhZi3n6bg0wAdpsNhVaD+yYSgwRbebD6h9NxyhfuMWAQAAAAAAAF1janTD4hZtrDizzpx1i/PKzKP54558rMsCUTl3zm82Q8Or3RJY6sQFGx7E76HBfRQaaMsA/8jvjbkxZsyFvdkyizad8paY/peboX2f2ZLNTsq6HmBge1b3G6/TvFvXMyix6wzN2HJSW1mo7T5eCG8aAAAAAAAAQLfZcfqGmZydzk3vHc6+mxpdZ65ks0uDgavmLVvHb8xLXRyTXfmHE0gO3zNHd/HMSjP11VLwWAK9TiDYuBAVO9jfYsxuu7KcF5/MPrc+nX12ks+cYHSE9v3c1mz+4nQx/EjCpjikJxcC5MJ/fOiSm0JBiT2J9PdhaJDev8yzl8o3ZSFRzoayP/ltiN+XTDpcibaX9Vze3Lbh8SLM/dvNEBvXuhlqKxG+rvD3uq2JE39oHE/syB5T2qZiu2Y2s6g62EnVz7YJHU/YE3wPAAAAAAAA6BibXrjv5gJ8SFFjyoft6HCefvPpG2pbF6ZjPT5k3eAzBUHIh/VEt8mHC+W3VWFOHAL0/BozZRdWmuPP0/ccElQaEhWUladaYUyaQfPNyWzuwAtXzbM7H9r5qUtroyFJeXvEQ7XKQp1KQ6Ac/P3+0ZXZwsQas5+2XRqhbqCMuIeN9crY7xZCHm8IOZ+5gbr3htnSIW8T2q8ICSwKDTztjkln8ZclYVEsOORCe84bM/KBMds+dMuOPUoYYDEi9CTi/cRCu3i9lGn3VmP+y83nYJEiEubDv9WiBgswsi8PhytFRAsWM3LbUh23NRE3vL0ILYYMv55524xtz5abwR5T3qZ7jWHdLMVmoSBj4frRb5uJTQAAAAAAAICO4j1Edj0w67O5TFjwIkiDs8NxEeDs8AZzfMItMCfXmXff2NwQECyrzZtKbGCB4U0ndjSgbSLCDh83vy0LM8XtmsMiUFBWhsrbkmjjw6Hum8003O3b/qPZwYsTj5ivg7EN2zRvD67DAoVxgSVBINispcE8DeiHxSsjBm/jwmt4oM7eEzKAv9Ch8CAdDmWda+iYQ8475ODn2WcB+v4yh/7QJJ4kF2caIUEStsXCAXuKsKhgxQj1uxu0LQsdZaFdF9x2ZYLH+CduRu1TjnuCvuMTmo9rBRhab4+ptjHXI4JGbDtXh1LIXsdec/MMiyUs3NDkf+fa+ohblPA258zk8SFVryTa7C4d24lk/rc02Tah3358jfoIh5NJiBZh7Ur7BwAAAAAAALQF56ppeHhkkwghB3571fTZuUFzSYSFw7d96NS50857ZHR90TNk1z1zzm53w4UF0XYTxhz9Ih92ZU4+moksc0+Zv9rj3jfvuf1PjounzypzszDuiW232nxjhx/fmskv7mVCiXmYHfN9qUueO+cfcwKJ207vr4XcM41wqB/MJv4cuGt2uLCo43/RAlDcpt4uHWDTaKONpD3e2nsrWwZLkvKkw1V4QSVAPG7aRYdDCRIWVSZWsNeLiEUbN7qZLfQ7Jz6FYVs+bIiuANucmKG9Y8K67H6tKGaEfMdXE+LIy42ybH3FiRZOzPK5b5wAogWvGGd+6WaIOqFnchwRZAT2uImGMMXYmxfvkmxG28jyQfpOhCLx1DnRQ3mIAAAAAAAAWA44AWEf/4fKKK+R90Zn7RzTt/d7c8DOFXO07Nh51wkkt8x6GZbs+tE868Y9hbArn1/mW7NJQpcqkuXuOH07E0SYLT+4ctTn5qyIJt838tqw4GPLUjfXjQ6HEjvd8mFRXpxivE0fmqP/q2HTTaO3W64LAC0INjQo9x41LDzQdNl5c7DHTaXnRwq0f+uBQogHD086tCkmDG163M1oNjaEk5Dr191Mp7hr/Nn6RKwsgspxE4ZrxfA5aFrkkGsj8YRhxNunLik20/lzAAAAAAAAAPOKTzrsPVIILSwQd66vymZUiFTGfdPvvGdCfr4x4snx9H+iXi4ZKo9MJPQqJLr/2vSbm+7/4R2DJXl76qDeDsUhW+Kx1Ah7ch5AOcimtUQhAMqpL9gUwpUInTOlXS8bH1ZUQSe8NLwXjgo50tMhl1BZiApCmrW0jZv9rkK0GD/X8EARwcuHOnUInyhY57rhECj1pqgUwWZ3UOcUmw2o30j9chNCnwAAAAAAAOg67OGiQove5CS9bqlv44NsZmKVuZnNOVabW2Hulxa5c369zyNzYDwLD2qEOnWLhvfP1Gy7r77uN5/+qfk+zv7DhUWtf+AEsli4Vwn/+plKXNwQmwAQ6gs2fkB+3phxlwB4jnqWiBCV3iXNoP1NOomSQ5DCwb548uhjt0qsHvrNRq14Cj3hfAy1B4uEPck+JWxKh1hJCFin0OFj2k46x04rqm+SzWgbEe/GqO6CftsWAAAAAAAAoPts+baR82RijTkjyYS9uJBPEqzzv+zY3p7Hiw9N2nXP7HTDJJ8PpousH5RwJZWvRr0NK/8WrArm1tocPUzsVenernKcgf+Yn9sV+dw2V05XJB3WgtnMumKiZLDsaUGwUd40kqPEh/YEOU9y0ABfQoHKBu1a+BmK5GvRx55sU37kHC+S38XnWnFvNkrJVxNj+GU3Q1cByfEitpF9vui8aThJrz0mTRIC1imidaNJ8sjoHDuChJ9VCWFJNqP2HymrI12pXw08lxj7Jiu8QQoAAAAAAIBO07f3ZiNJ8Oi6LDRq4Ko56AWHdYVQnx2nb9bM9VLE57Rxr5/m/RffGNUK7rXekTdNMX0qD0+2HU0SkuXFo8brxMtei33nq0dcGFdcvPJvi/L5fmbNzohNY3Vu5PvhN2a5Mlbk94kidm3lzVdg0dBCDhsOrRlzb/3RcJhMm+EuX4pbC+1bkgXnoHXytqiLtG27A3zO7xLWg4WH1NdeF3gy8wQSUUPgNzDJPjkJce6YbDfJLzNT/tryusTqxvCbm3S41yH1tqYUUmzGdfTeUAL95rJ+ixiVodOhYAAAAAAAAICAW+altyWfTcOjpm/vN/k8N5bszUodefOQ9u6x8Fug5A1TxaTGTdEiUyWzZt9s5O1MnHi55M1SRfrN15fEQ6iRWDmHf1uUMVOX1trQJrZpvs5sz0jS4YJtMi+elDdKaQEOLH1W/HRj7Cc3DwAAAAAAAACgh1mxYcRMzv7TLYHW4aTIG8zUzht4NTboSYYGf9GKhw0AAAAAAAAAALCIsTlj2s/VA0A3gWADAAAAAAAAAGAZkb0B6sD4N23n6gGgm0CwAQAAAAAAAACwjLhlXnp/2uyLpPwEoJeAYAMAAAAAAAAAAADQY0CwAQAAAAAAAAAAAOgxVly//Ee8JQoAAAAAAAAAFgEbt/3O/PnLv7slAMBS5TfP/Qqv9QYAAAAAAACAxQJe6w3A8gCv9QYAAAAAAAAAAADoQSDYAAAAAAAAAAAAAPQYEGwAAAAAAAAAAAAAegwINgAAAAAAAAAAAAA9BgQbAAAAAAAAAAAAgB4Dgg0AAAAAAAAAAABAj1Et2Ix/YMyGEWNOXXMrFPKdTON33RdtckrtMzZNu+0Y2TZWvnaY+6p43Nhx/HZkizm3row62wIAAAAAAABAMoPmo8GtZqhi+mgmv122XI875zebodODbsmYK6fd/tU6AEDnKBdspv9mzMGSs5jFmvC7g0c6J9pUsWckL9p0GhaBtn3oFgJO/MGYDWQXAAAAAAAAAFhGsDizf3SlWwIAzAdxwYZFiz3n3ULItYZYc2HMmBs0ndmSLR881znvkSO/z/btpxPG7HbfjX2VfR5y3x16MltuFxai6DCWMzSjj3/ErTdkF/G0Gdjuvn+d5rNVAAAAAAAAALBQ7Dh9w0zOThemfXbINmv25ZbbY9Oo2//orFsDAOgkgWBz15iRESda0BksAolm+l9uhr4XkWL4ZTcz08Vwn7XGDLmrysV/Z59lIVG5cC32iKHvZbnUO0cJUSzWDNPxNCwOsWjDQpIIRLEwJ10mmefv/5/7HgAAAAAAAAAWhLKQqH7z6RsuvEkmH+aUfffmSbd4cp3/fXlIVDFE693z/e67jNxvZ56p3NT4jKYAABJFSURBVBaA5Urcw8Z6l+x3CzW53q2wKCWo7H48+4xRCNc6b8yGP7j5CrQQ9Vwg1ggs2qR683D4lHjr7N5qzH+5eQAAAAAAAADoGVhc2WCOT7hFgYWZVnLTWPFlnTnrFoWp0Q3x/fFxhle7hQzetpUcOwAsNQLBZq0xY2NF7xLNgIgldAZ96cQZL3YQ3znvl3ax+WLEQ4UnJbqMbHczIUrU0SFVPpwphY2dC2+SkLGxsvICAAAAAAAAQOewwojyVrFThfBy5/xjTlx5aI5+4UKcxu/bNebkY+bTuVvmpfenzXuHs1Xm8O2KkKp+8+mfnPiy654558KvGvtbFxViDoy77WZvmwNu3dl/tCAWAbDEKE86XAbnbREBhBMNs5hSmu+m0+zNBJCtbjFkTsQiunq8qjxhDv3ezbQAJ1/OCUc8JSQe3v1aeTkBAAAAAAAAoAe4OesSCR/+3rwkf1xv+dYJKN801qUwt9ZMWU+dh+bo21dNn11JbLltju7KZgtCzK57ZqcXf2bNZhGGAAAtCDaM5HMRjrzWyHfzREW4Uh0KSYd5esV9WYIXbNrxkrneyEcDAAAAAAAAAIuIaNLh0qTA/eamC5bYMei8YNrh5iozZWcemPW58dgts/5pNxvy9H8awg4AIEdrgg0jb2ji6dDjxlx06zdWhFN1Gx+u1YLoslWuIDPGfHzNzRNbX2nUU96GlcKmDglXAAAAAAAAANAVGkLK1Gw+j0xLrH9gdtiZVeZmbjzWEIYAAOm0INhca4QGjbscNuOfZJ8csrSQYUA6v44WXU4lJB02TzYEGc6fE755SufHAQAAAAAAAIAlwPrBh9mMzVeTzZq5p8y7Lv9NreS/A/8xP7czK83xd54yd+w8MbPOJzU+8AJeAQ5AKi0INk8Wc9j412H/MvuM4l4ZztsXxJBOEYguIixdSfSMGX69UbeqpMdHyvz5AAAAAAAAAGDx0Lf3e5fod6U5/rxLUvz8miy0KZdfxuFe6x1/9fas2ScJhifWmP1O9PFvgTp8uyRZMQAgRmdy2DD8RqSqt0vNFyy66NAlTv479rJbSMCGepUkKZa8Oqmv9gYAAAAAAACAnmbW7JtVb4ES+G1Q7zcSB28abbzBqRKbsLi4rX0TVGkuHQBAjBU/3Rj7yc0vAThcy3nCWKHGvU6b3/Rk32S1xZjLr7eRkBgAAAAAAAAAFo4VG0bM5Ow/3RIAYKkyNPiLNpIO9yQqXOvih41wJnnt+O6tEGsAAAAAAAAAAADQ8ywxwYaIhWsx2uMGAAAAAAAAAAAAoIdZYiFRAAAAAAAAALB0QUgUAMuDJRgSBQAAAAAAAAAAALD4gWADAAAAAAAAAAAA0GOsuH75jwiJAgAAAAAAAIBFwMZtvzN//vLvbgkAsFT5zXO/Qg4bAAAAAAAAAFgsIIcNAMsD5LABAAAAAAAAAAAA6EEg2AAAAAAAAAAAAAD0GBBsAAAAAAAAAAAAAHoMCDYAAAAAAAAAAAAAPQYEGwAAAAAAAAAAAIAeA4INAAAAAAAAAAAAQI8RF2xOjRizQU0jX7kvFNN/y29z6pr7ok38fumzCiljp46bDB1P15un8bvuO8eClW2+oXqPdKGuYf+z0wfGzLnv6zJOv+V9xPpxSEfbjvtKG+UuQ+oTTtPu+46j+nyrx5gj2+uy2ik8x2scZ9mcYwAAAAAANZl7yrw7uNUMhdPpQbfBPOPLs9l8WvVcnLpdAnfOb/b1/mjGrRSUfQrfzRuD5qMFLwNYDASCjRuAn3CLwsUP84NdFlX2nHcLjhN/WPqDJzvopHqGHDyCgWMnkEF92P8sdCXbRt+F4livUtZX2sIJGgdLrup7elTAYHFlG11DCtA1hOuzWNoUAAAAAKDHuXJ6qxl6fo2Zcss5Tq4zQ4PPmCtucblwdnj51RksHfKCzdy/jLno5i+MGXODpsuvZcss2th/vWlwNebEmiO/z7a5sDdbPvEJ7SOb7TqHXPkOPelWzANfyt/+VF8+Nk9ntmSrdN0XomwLwlpjNrnZJx53M61yTQ3qlX15kj7IHDxXv48Nv57tZ2y7W7EYYTFVBCDqc5eVfW7QeSiwcNo1T5sWYHFXBLgzNBMrcyttumzOMQAAAACANNir5M2T2fyO0zfM5Oy0n947nK03ZrV5c6E8bZoxcNW8Zcv7jXlpwK3rCD1cZwCakBdstCCx1c0OqIH4dRo0elGHBo2vusHS1l8as5tnZuZPsImGRDgPBD3FwmBi4Rkp//J/5zwbdiubDL/sZlTdC2VT5Zrmgbeb19vkwlxUqIgvK4fWBPUreFME3/NUFgYkZSzbTtchDH/TtnrCCVYb12afTCxkp5mIMP6Jm2Gx5hU37xjY7kQbFipep+VsdbwPEOH6spCosB+U9oHQrmEoTwDby4tPzjNIHzvW/5rZZ/rzxnmnbWCh81AEEBZa5dy1BP2tLEQrbLNm54OuQ6EfCrQPLe4Oqz7CZY61qSZXpqDcZW1f6HtN2goAAAAAYEkwaC6NrrRzLNa8tfeWnRc2jTrR5vBtMzk6m63UIUgzKoxKxI1IaNW75/uz7wgfdvTGU+bOzDO57arCfKwXkN9Web+UhkT1m0/f0L+hqa4Ac/KxpDArHUqVTSnli4c3hfvStgMglbxgI54IesA89283Q+hBeRks6iwIPKiOhKCwZ5Ae1PFAMxaewWFNzQapLzpPIt4nDwbt9jxYdv/25wbKJeyh44gXE8MeESM0yMyFudAgtzAI5oF/UD/7WxECEusv4kMs7C02uOVjhOFvbCsRGKTPSN15wBwL2dkTDLhzkB0n3W+OPJ19hrBoc6NkYN8KsX7A9QrtYoWJ0K4cylNVnwrYPrH+x+FMVf3vM9cGu8nQURu4fpjrg9zWQX8TAUkLRCx+hG1WGeZH66UOLMSUebloj70XI9tUtelY2I+43E3El1g9bFtBtAEAAADAEmfmUXPWzjw0O7bnxRqBRRsv1uRYaY4PN8KoDrxA27A4EQmtmhrdUBQeJtaY/cOr3ULG2eG4QDH1zlbvBZSx2rzJgo9bKsJiyAZzfMItChzelSTakD128SfV8Z2q42Si0H4nejWg8olAM3DX72vqKy1cPZbZftc9s9P9l82iVLgvtt2C5RECi5Z40mEPDSCPuYHZ7teywaAXcDbGB1rfKYFnPvHl4n/snYASC9X62NXHh2fQp/UOIpqVfesrNEB18wwPaln8KPNiicF2DI/Lg1ops+z/BA12Q/xvaZJQLAlVS62/92RR2/nwlJhQREh4nA5j+axkMC9eSBIu5+tJ6z8uEwAUbYdWJSL9QIdfib08qv/rcB5r+4r6cD/xYVzOzjYci7YXQcHbR/ZHpIQGbaphn1NOaNLHkjqOuT7rQ5aUHaSdoyGOVAcRsLg/JoUkUf3qCm0X6foSlpn7Z5knEgtrth6Ebyvpr/S7ZmIsAAAAAMCS4IFZ38ofnLvumXMufGofPbpd+Usm1jRCq26Yo1asMGZqNi/OMNHtRtcFuWNW0j4bxzl3+mG2euIR83XJM7AXQ8xDc/SL7HeT4/ftmjSvmQfm12/fMzt4dmKNOVPm5TKzzotCB8bdcXxdROy5ZZ7dmZV56tJaJ/70m68vOc+mnXdNH8/MPONEqfvmPVfXydnb5gCvSvT0AUCoEGxogDMi/87TWXusx/N/+NAtGhCzBwF7QAzQwNkO3NS/+JL7gsMzbFiF1DER/r3OqcJY75REj4sh8SBR+V+014R48RQI2mB4f0PwYa+mpPrTduLJcoZ+7y/mNOj2uXgCoUiEOgttJ4JSGRIixZ45LGad+rcxY87mtfONcB/kugRT24Pva2pw/0s3Q4SCnKGyS98QcY4nEV1ioloV07I9tbG2hQ6r+7Jm3SQ0SE9WdKP9yB1S2oIn8Za6OJ311+vXs2XriSL7EI+iSHn2yHddvibk2qXE60rjBUuyrQ+9Ihvb/k9TLhwLAAAAAGCZEIQqZVMxCe+B317NxAaH9caZnbahVVkIU8TLRdh1zxz0IVi3zEsikJhV5mYwPtLH6dv+o9uunJuzzkvl8PeNvDZbvnUiSGKum4Gr5tcuh09RRMq48g8nQh2+bQWrDKrLb5045ESlvr3fZ8KLiExza82UtUvDs+nO9VX2M/POEZuvc8JT3jsHgGaUCDb8LzoNUGWwekEJHl4YoIFeTKCYLw+JAjQ4ywkpIlzwpEIidD4WGbTXxYZyuIGg//efjvcxD5SbEAsrq+M1UUpK/ZUAEZZj40Y3E1C3bBwiRV3Ho8WCFKFlvj20qsL8dDhgJxBxROdAstCyiG/NuJJaJtXWVYhHVG3od8dSPcto29i1ooqU8EtNqW0BAAAAAJYTRZGkJZTQkw9haoeHpn+9m02i39x0/3fuGHTCSYtsGnUeLiyivPOInWtQcZz1DwJRadZstuJPJrzc+eqRLGxs14/mWTde9iITAB0gItiokAcJ58jlxYhRIQTMJ1pI0SFHPiSC6iYeBrHQpErYLhHhgb0yxDsleTDdCgmD3qb1V8JAmGvIe1p0APFi4kmHGR383M2EUJ8ZEs8cHYZD68U7R4djheTsTvWKyeY5Kuyg0Qm3fViYnqjt6yCi2MWwnySIKzp/kg4L8rYO+7GqY+7tTDI5EVY8onS4nZ4KnilUDhEGw7KEDDzdKEMshE4SF1ftI5VS2wIAAAAALAO2/OAEiZXm+F9UnhTvjaJCkAqEQsqg+Uhy0vhQqUaoU4GJVeamm+0st8x652gdC8Oqx6zZJ6FUExyapak4zs1VhTw+m17I9jN1aZ255MKhtOfQ+kFnZxVmpqcwITQAVQSCDQ1ec68OVp41gh+EzTQ8SnyoB/0mxS2tG3jPGQlN4sG+GsSy54b2mBhx4Rw6MWolTzY8R3LCA9lAQmQ64ilTgeQdYcbPNcrNIllK/XUYVi5fiqpDWdLfJLj/OFFLcuGwoOVFmxKvLEaHBW2LhJf53DsR9CDdv02pCm0H1ZY+n4ugRA9t+7I3FDXDC0Dn87/VeYWeo7LF8G9iIzhBcShyFOpdUkd5i5LkXfJChxJfREiJhfldoPZkYVBESm2XAlSGEdf27GmV87Ci+kvi4sqE1Ilo2/rjRPojAAAAAMCSZNbsFEEmmpC38Rappsz9zPy3m/VChA/9ibHa/NXnhuk3n74jyYpbzKej8OKHzv2i3l5V9TaqAltul4pOjeOsU/ukuvxJhKuGB40XxyZWm7PWJvfNZvdozPRtfJDNTKwxl2RfpW+YAqCavGCTG/TxwNkNdmSyA6FgEMbrxWvlCA26S0/KuoMn2qc+tp9KBnf61eK+3EdcfegM4leQ63/8edDL28Te2FPGqxJypMumBC55zXm3sLly3HF18lr2gEqpP3NIPFX0dlIHatfaeWY0kb7BU1L/oOP6kK5I35P6alHD5/tR7RG+0aqMWFsWfqvqo21vRZ3U9pa6/C0vdGj7SN1yeYVCqCxjystI+q9MuuzyRqZYHeVYIliGQhBv498AVdFeIrCxXXJCTIDOC6TzAPk+R1TWOxG2beE49Bn2fwAAAACAJUrf3m+yV3czLNo4USObJIcKcfgH/79eFP82pOxtT/b3kTdGaewbkOxxGrluDox/W32cBPokZwx7Dj0flEW9lSkNnV8nT9/em17M8XX2dXlojr6tc/wocYwJ7amEoYL9dC4eABLICzby6uBm5LwmHFWv950XeEA71hi0eegs9p5CwaCX4XARqUuzJLI25Cj4vYV+38lXTkfheiiPGSZn85T6M7Q9h7qE29k3CdUM8YnBfSNMysyk9A8J6RJRIwfXg77TdtbhaAK3Z8EGEfhYYTljv43WJ7RpBC3OaDjHT3R/VLemiXFd24XnniBhWxLCWNZfeTsf5ljSb5q2F30n5SgNdXPEEnVbUuudCB+nYJv5ODcBAAAAAHqDLFmw5GsJOHw7C8uJvtpbc8u89H5+H/YtUP7tTI/mMxBw6M8XeSGE37TUSN7bDrNmH5XZC1EC1+X9fKLkJAaumoPR0DCucyRszIY1FZMb64TJ9jXoObJ9Rcvc1PYA5Fnx042xn9w86EU4PMV6PCSIBAAAAAAAAIAlzYoNI2Zy9p9uaeG4c36z2c9hVixqtCKeAAAqGRr8RdlbogAAAAAAAAAAAADAQgHBBgAAAAAAAAAAAKDHQEgUAAAAAAAAACwSeiUkCgDQXRASBQAAAAAAAAAAANCDrKAJHjYAAAAAAAAAsEj485d/d3MAgKXKb577lfn/MCRWC7aGf0UAAAAASUVORK5CYII=)\n",
        "\n",
        "\n",
        "\n",
        "*   Graphic Novel  -   5\n",
        "*   Historical Fiction - \t4\n",
        "*   Romantic, Adult - \t3\n",
        "*   Fantasy - \t2\n",
        "*   Science Fiction\t-   1\n",
        "*   Children Poetry - \t1\n",
        "*   Mystery, Crime - \t1\n",
        "*   Horror - \t1\n",
        "--------------------------------------------------------------\n",
        "1- We found that Collaborative Filtering(SVD(Singular-Valued Decomposition) recommends best mix of books as per user taste.\n",
        "\n",
        "2- Secondly Collaborative Filtering(User-User Similarity Recommendation) also performs quite good and recommends books only from the category which user has read in past.\n",
        "\n",
        "3- Content Based Filetring models also performs good, taking into the consideration at the data we have(model would have given better choices if we have some more details about user). \n",
        "\n",
        "---------------------------------------------------------------- \n",
        "\n",
        "\n",
        "Analysing our recommendations using Book-id : 23017947, it's very hard to say which model gives best result.\n",
        "\n",
        "1- All models are beating out each other performance, either it's model giving recommendation based on review, collaborative filtering based(Item-Item Recommended model), Model giving recommendations using similar-cover page all provided best match choices.\n",
        "\n",
        "2- Correlation Based model seems to be providing quite logical recommendations, precisely if we look at its recommendation pattern it recommends exactly matching taste but covers larger domain.\n",
        "\n",
        "3- All other models like title based similarity or description based similarity also made best suggestions with the keywords they obtained.\n",
        "\n",
        "\n",
        "------------------------------------------------------------------------\n",
        "\n",
        "\n",
        "\n",
        "\n",
        "\n",
        "\n",
        "\n",
        "\n",
        "\n"
      ],
      "metadata": {
        "id": "bpd-FLTnjpRg"
      }
    }
  ],
  "metadata": {
    "accelerator": "TPU",
    "colab": {
      "collapsed_sections": [
        "qP1ZDcEMAiTK",
        "f7UfPIveYOnd",
        "uascNgh74N5y",
        "HC_Zha8e4Tva",
        "PSkI_ZXP2Avm",
        "q296Z8Tvrgml",
        "Cs-BMSMb76eI",
        "f71EWUrdNpzs",
        "_mN1PCbMcIs5",
        "wMnxBIYEWnMY",
        "CJTvBwodPZ8d",
        "-Og8o4ZzP617",
        "d-nBf1jCTtBw",
        "WK-pdGyjGluX",
        "7fmh9rVXYKCg",
        "rojt4MxTTHDm",
        "jFaHNHcc0tPN",
        "DkbbUQ10J9_a",
        "BQSJ-MiTy0cQ",
        "L6vXi9IHo8-4",
        "KRT6HbO5GFTy",
        "2BM0qYmx8FqX",
        "haAeEMtTXtrx",
        "aHz1BP9G6KC_",
        "vDKxb-p8L9rJ",
        "G0gE7uh0vuXG",
        "vsqeMPSavuTo",
        "dlR2JYqJjkyp"
      ],
      "name": "Book_Recommendation.ipynb",
      "provenance": [],
      "machine_shape": "hm"
    },
    "gpuClass": "standard",
    "kernelspec": {
      "display_name": "Python 3",
      "name": "python3"
    },
    "language_info": {
      "name": "python"
    }
  },
  "nbformat": 4,
  "nbformat_minor": 0
}