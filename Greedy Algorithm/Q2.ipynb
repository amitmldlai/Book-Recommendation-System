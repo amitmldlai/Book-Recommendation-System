{
  "nbformat": 4,
  "nbformat_minor": 0,
  "metadata": {
    "colab": {
      "provenance": [],
      "collapsed_sections": [],
      "authorship_tag": "ABX9TyPcomZ2ak1r5AitGrNs44uf",
      "include_colab_link": true
    },
    "kernelspec": {
      "name": "python3",
      "display_name": "Python 3"
    },
    "language_info": {
      "name": "python"
    }
  },
  "cells": [
    {
      "cell_type": "markdown",
      "metadata": {
        "id": "view-in-github",
        "colab_type": "text"
      },
      "source": [
        "<a href=\"https://colab.research.google.com/github/amitmldlai/Book-Recommendation-System/blob/main/Greedy%20Algorithm/Q2.ipynb\" target=\"_parent\"><img src=\"https://colab.research.google.com/assets/colab-badge.svg\" alt=\"Open In Colab\"/></a>"
      ]
    },
    {
      "cell_type": "markdown",
      "source": [
        "Given an array of time intervals (start, end) for classroom lectures (possibly overlapping), find the minimum number of rooms required.\n",
        "\n",
        "For example:\n",
        "\n",
        " Given `[(30, 75), (0, 50), (60, 150)] `\n",
        " \n",
        " It should return 2.\n",
        "\n"
      ],
      "metadata": {
        "id": "If_RZm-0X59U"
      }
    },
    {
      "cell_type": "code",
      "execution_count": 17,
      "metadata": {
        "id": "cESIVvKpW-Or"
      },
      "outputs": [],
      "source": [
        "def max_overlapping(intervals):\n",
        "    starts = sorted(start for start, end in intervals)  #starting time of lectures\n",
        "    ends = sorted(end for start, end in intervals)  #end time of lectures\n",
        "    current_max, current_overlap = 0, 0\n",
        "    i, j = 0, 0\n",
        "    while i < len(intervals) and j < len(intervals):\n",
        "        if starts[i] < ends[j]:  # previous classroom is acquired yet, another classroom required\n",
        "            current_overlap += 1\n",
        "            current_max = max(current_max, current_overlap)  # to track max no of classrooms required at any instant\n",
        "            i += 1\n",
        "        else:  # previous classroom is free\n",
        "            current_overlap -= 1\n",
        "            j += 1 \n",
        "    return current_max"
      ]
    },
    {
      "cell_type": "code",
      "source": [
        "max_overlapping([(30, 75), (0, 50), (60, 150), (20, 50)])"
      ],
      "metadata": {
        "colab": {
          "base_uri": "https://localhost:8080/"
        },
        "id": "_eMgwnMvvkdk",
        "outputId": "8cb22d20-0c49-4ca2-8d52-9a3a4f64c623"
      },
      "execution_count": 18,
      "outputs": [
        {
          "output_type": "execute_result",
          "data": {
            "text/plain": [
              "3"
            ]
          },
          "metadata": {},
          "execution_count": 18
        }
      ]
    },
    {
      "cell_type": "code",
      "source": [
        "max_overlapping([(10, 20), (30, 50), (20, 30), (50, 58)])"
      ],
      "metadata": {
        "colab": {
          "base_uri": "https://localhost:8080/"
        },
        "id": "5zpg2PyV_7vd",
        "outputId": "aa0c6b69-2370-46f6-b62c-12b2b96dc015"
      },
      "execution_count": 19,
      "outputs": [
        {
          "output_type": "execute_result",
          "data": {
            "text/plain": [
              "1"
            ]
          },
          "metadata": {},
          "execution_count": 19
        }
      ]
    },
    {
      "cell_type": "code",
      "source": [
        "max_overlapping([(5, 40), (15, 40), (35, 60), (25, 50)])"
      ],
      "metadata": {
        "colab": {
          "base_uri": "https://localhost:8080/"
        },
        "id": "jKCp-OEGCbtt",
        "outputId": "23b6f889-60aa-4ef8-dbc5-05d9c902d73e"
      },
      "execution_count": 22,
      "outputs": [
        {
          "output_type": "execute_result",
          "data": {
            "text/plain": [
              "4"
            ]
          },
          "metadata": {},
          "execution_count": 22
        }
      ]
    },
    {
      "cell_type": "markdown",
      "source": [
        "\n",
        "\n",
        "1.   This runs in O(N log N) time, since we have to sort the intervals + while loop will be executed N times will takes O(N), so overall time is O(N log N).\n",
        "2.   We need O(N) space to store the sorted array.\n",
        "\n",
        "\n"
      ],
      "metadata": {
        "id": "Aw5pSraO-4zw"
      }
    }
  ]
}